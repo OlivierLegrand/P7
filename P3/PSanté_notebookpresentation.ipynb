{
 "cells": [
  {
   "cell_type": "markdown",
   "metadata": {},
   "source": [
    "# Concevez une application au service de la santé publique"
   ]
  },
  {
   "cell_type": "markdown",
   "metadata": {},
   "source": [
    "Objectifs: \n",
    "-  Traiter le jeu de données afin de repérer des variables pertinentes pour les traitements à venir. Automatiser ces traitements pour éviter de répéter ces opérations. Le programme doit fonctionner si la base de données est légèrement modifiée (ajout d’entrées, par exemple). \n",
    "- Tout au long de l’analyse, produire des visualisations afin de mieux comprendre les données. Effectuer une analyse univariée pour chaque variable intéressante, afin de synthétiser son comportement. L’appel à projets spécifie que l’analyse doit être simple à comprendre pour un public néophyte. Soyez donc attentif à la lisibilité : taille des textes, choix des couleurs, netteté suffisante, et variez les graphiques (boxplots, histogrammes, diagrammes circulaires, nuages de points…) pour illustrer au mieux votre propos.\n",
    "-  Confirmer ou infirmer les hypothèses  à l’aide d’une analyse multivariée. Effectuer les tests statistiques appropriés pour vérifier la significativité des résultats.\n",
    "- Élaborer une idée d’application. Identifier des arguments justifiant la faisabilité (ou non) de l’application à partir des données Open Food Facts.\n",
    "- Rédiger un rapport d’exploration et pitcher votre idée durant la soutenance du projet.\n",
    "\n",
    "# Sommaire\n",
    "### [I Exploration du jeu de données et sélection des variables](#I-Exploration-du-jeu-de-données-et-sélection-des-variables)\n",
    "__[I.1 Chargement des données](#I.1-Chargement-des-données)__\n",
    "\n",
    "__[I.2 Sélection des variables](#I.2-Sélection-des-variables)__\\\n",
    "[I.2.1 product_name et generic_name](#I.2.1-product_name-et-generic_name)\\\n",
    "[I.2.2 quantity - brands_tags](#I.2.2-quantity---brands_tags)\\\n",
    "[I.2.3 Categories](#I.2.3-Categories)\\\n",
    "[I.2.4 Origins - Manufacturing_places - purchase places - countries](#I.2.4-Origins---Manufacturing_places---purchase-places---countries)\\\n",
    "[I.2.5 labels - stores](#I.2.5-labels---stores)\\\n",
    "[I.2.6 PNNS groups](#I.2.6-PNNS-groups)\\\n",
    "[I.2.7 Variables en lien avec les données nutritionnelles](#I.2.7-Variables-en-lien-avec-les-données-nutritionnelles)\\\n",
    "[I.2.8 Conclusion](#I.2.8-Conclusion)\n",
    "\n",
    "__[Création des dataframes pour chaque idée d'application](#Création-des-dataframes-pour-chaque-idée-d'application)__\\\n",
    "[Première idée](#Première-idée)\\\n",
    "[Deuxième idée](#Deuxième-idée)\\\n",
    "[Troisième idée](#Troisième-idée)\n",
    "### [II Nettoyage des datasets](#II-Nettoyage-des-datasets)\n",
    "__[II.1 Chargement des datasets](#II.1-Chargement-des-datasets)__\n",
    "\n",
    "__[II.2 Nettoyage du jeu de données: valeurs incohérentes et/ou extrêmes](#II.2-Nettoyage-du-jeu-de-données:-valeurs-incohérentes-et/ou-extrêmes)__\\\n",
    "[II.2.1 Valeurs typiques et atypiques des compositions énergétiques totale et par macro-nutriment](#II.2.1-Valeurs-typiques-et-atypiques-des-compositions-énergétiques-totale-et-par-macro-nutriment)\\\n",
    "[II.2.2 Valeurs typiques et atypiques des compositions énergétiques totales par groupe d'aliments (pnns_groups)](#II.2.2-Valeurs-typiques-et-atypiques-des-compositions-énergétiques-totales-par-groupe-d'aliments-(pnns_groups))\\\n",
    "[II.2.3 Traitement des valeurs atypiques: cohérence des variables](#II.2.3-Traitement-des-valeurs-atypiques:-cohérence-des-variables)\\\n",
    "[II.2.3.i Traitement sur la sous-catégorie des carottes râpées](#II.2.3.i-Traitement-sur-la-sous-catégorie-des-carottes-râpées)\\\n",
    "[II.2.3.ii Traitement sur les données générales](#II.2.3.ii-Traitement-sur-les-données-générales)\\\n",
    "[II.2.4 Fusion des catégories Fruits et fruits](#II.2.4-Fusion-des-catégories-Fruits-et-fruits)\n",
    "\n",
    "__[II.3 Traitement des valeurs manquantes](#II.3-Traitement-des-valeurs-manquantes)__\\\n",
    "[II.3.1 Remplissage de fiber_kcal](#II.3.1-Remplissage-de-fiber_kcal)\\\n",
    "[II.3.2 Cas des autres macronutriments: fat, carbohydrates et proteins](#II.3.2-Cas-des-autres-macronutriments:-fat,-carbohydrates-et-proteins)\\\n",
    "[II.3.3 Nettoyage des valeurs aberrantes (bis)](#II.3.3-Nettoyage-des-valeurs-aberrantes-(bis))\n",
    "### [III Automatisation des traitements](#III-Automatisation-des-traitements)\\"
   ]
  },
  {
   "cell_type": "markdown",
   "metadata": {},
   "source": [
    "# I Exploration du jeu de données et sélection des variables"
   ]
  },
  {
   "cell_type": "markdown",
   "metadata": {},
   "source": [
    "## I.1 Chargement des données et sélection des variables"
   ]
  },
  {
   "cell_type": "code",
   "execution_count": 1,
   "metadata": {},
   "outputs": [],
   "source": [
    "import pandas as pd\n",
    "import matplotlib.pyplot as plt\n",
    "import numpy as np\n",
    "from sklearn.linear_model import LinearRegression\n",
    "from sklearn.model_selection import train_test_split\n",
    "from sklearn.metrics import r2_score\n",
    "import seaborn as sns\n",
    "from matplotlib.ticker import AutoMinorLocator\n",
    "import missingno as msno\n",
    "from functions import *\n",
    "from cleaning import *"
   ]
  },
  {
   "cell_type": "code",
   "execution_count": null,
   "metadata": {},
   "outputs": [],
   "source": [
    "# dataset à analyser\n",
    "dataset = \"./en.openfoodfacts.org.products.csv\"\n",
    "\n",
    "# variables retenues pour l'analyse\n",
    "selected_cols = ['product_name',\n",
    "                 'categories_tags',\n",
    "                 'countries_tags',\n",
    "                 'pnns_groups_2',\n",
    "                 'energy-kcal_100g',\n",
    "                 'fat_100g',\n",
    "                 'saturated-fat_100g',\n",
    "                 'nutrition-score-fr_100g',\n",
    "                 'nutriscore_grade',\n",
    "                 'ecoscore_score_fr',\n",
    "                 'ecoscore_grade_fr',\n",
    "                 'fiber_100g',\n",
    "                 'proteins_100g',\n",
    "                 'carbohydrates_100g']\n",
    "\n",
    "# restriction aux pays pour lesquels countries_tags=\"en:france\"\n",
    "restr=\"en:france\"\n",
    "\n",
    "# Chargement du dataset \n",
    "df1 = load_select(dataset, selected_cols, restr)\n",
    "\n",
    "# Restriction aux \"One dish meal\", \"Fruits\" et \"Yoghourts\"\n",
    "selected_groups = ['One-dish meals','Fruits', 'Milk and yogurt', 'fruits']\n",
    "df1 = df1.loc[df_app1.pnns_groups_2.isin(selected_groups)]\n",
    "    \n",
    "###### fusion des pnns_groups \"Fruits\" et \"fruits\"\n",
    "df1.loc[:, \"pnns_groups_2\"] = df_app1[\"pnns_groups_2\"].apply(lambda x: \"Fruits\" if x=='fruits' else x)\n",
    "\n",
    "##### Ecriture du dataframe dans un fichier csv\n",
    "df1.to_csv('./df1.csv', index_label=False)"
   ]
  },
  {
   "cell_type": "markdown",
   "metadata": {},
   "source": [
    "## II.2 Nettoyage du jeu de données: valeurs incohérentes et/ou extrêmes"
   ]
  },
  {
   "cell_type": "markdown",
   "metadata": {},
   "source": [
    "### II.2.1 Conversion des valeurs en grammes en valeurs en kcal"
   ]
  },
  {
   "cell_type": "markdown",
   "metadata": {},
   "source": [
    "Comme notre application consiste en la sélection de produits permettant d'atteindre les ANC, et que ces dernières sont généralement données en % apports énergétiques, on commence par créer de nouvelles colonnes contenant les valeurs en kcal associées aux macronutriments, et renseignées en g."
   ]
  },
  {
   "cell_type": "code",
   "execution_count": 2,
   "metadata": {},
   "outputs": [
    {
     "ename": "NameError",
     "evalue": "name 'df_app1' is not defined",
     "output_type": "error",
     "traceback": [
      "\u001b[0;31m---------------------------------------------------------------------------\u001b[0m",
      "\u001b[0;31mNameError\u001b[0m                                 Traceback (most recent call last)",
      "\u001b[0;32m<ipython-input-2-5a622a81bba3>\u001b[0m in \u001b[0;36m<module>\u001b[0;34m\u001b[0m\n\u001b[1;32m      7\u001b[0m \u001b[0;31m# Conversions et créations des colonnes\u001b[0m\u001b[0;34m\u001b[0m\u001b[0;34m\u001b[0m\u001b[0;34m\u001b[0m\u001b[0m\n\u001b[1;32m      8\u001b[0m \u001b[0;32mfor\u001b[0m \u001b[0;34m(\u001b[0m\u001b[0mnc\u001b[0m\u001b[0;34m,\u001b[0m \u001b[0msc\u001b[0m\u001b[0;34m)\u001b[0m \u001b[0;32min\u001b[0m \u001b[0mzip\u001b[0m\u001b[0;34m(\u001b[0m\u001b[0mnew_cols\u001b[0m\u001b[0;34m,\u001b[0m \u001b[0mstart_cols\u001b[0m\u001b[0;34m)\u001b[0m\u001b[0;34m:\u001b[0m\u001b[0;34m\u001b[0m\u001b[0;34m\u001b[0m\u001b[0m\n\u001b[0;32m----> 9\u001b[0;31m     \u001b[0mdf_app1\u001b[0m \u001b[0;34m=\u001b[0m \u001b[0mweight_to_energy\u001b[0m\u001b[0;34m(\u001b[0m\u001b[0mdf_app1\u001b[0m\u001b[0;34m,\u001b[0m \u001b[0msc\u001b[0m\u001b[0;34m,\u001b[0m \u001b[0mnc\u001b[0m\u001b[0;34m[\u001b[0m\u001b[0;36m0\u001b[0m\u001b[0;34m]\u001b[0m\u001b[0;34m,\u001b[0m \u001b[0mnc\u001b[0m\u001b[0;34m[\u001b[0m\u001b[0;36m1\u001b[0m\u001b[0;34m]\u001b[0m\u001b[0;34m)\u001b[0m\u001b[0;34m\u001b[0m\u001b[0;34m\u001b[0m\u001b[0m\n\u001b[0m\u001b[1;32m     10\u001b[0m \u001b[0;34m\u001b[0m\u001b[0m\n\u001b[1;32m     11\u001b[0m \u001b[0;34m\u001b[0m\u001b[0m\n",
      "\u001b[0;31mNameError\u001b[0m: name 'df_app1' is not defined"
     ]
    }
   ],
   "source": [
    "# Colonnes sur lesquelles opérer les conversions\n",
    "start_cols = [\"fat_100g\", \"carbohydrates_100g\", \"proteins_100g\", \"fiber_100g\"]\n",
    "\n",
    "# Colonnes à créer avec le coefficient de conversion g --> kcal associé\n",
    "new_cols = [(\"fat_kcal\", 9), (\"carbohydrates_kcal\", 4), (\"proteins_kcal\", 4), (\"fiber_kcal\", 1.9)]\n",
    "\n",
    "# Conversions et créations des colonnes\n",
    "for (nc, sc) in zip(new_cols, start_cols):\n",
    "    df1 = weight_to_energy(df1, sc, nc[0], nc[1])\n",
    "\n",
    "    \n",
    "# Calcul de la somme des valeurs obtenues pour chaque ligne et création d'une nouvelle colonne\n",
    "# \"total_energy_from_nutriments\"\n",
    "df1.loc[:, \"total_energy_from_nutriments\"] = df1[[\"fat_kcal\",\"carbohydrates_kcal\",\"proteins_kcal\", \"fiber_kcal\"]].apply(lambda x: np.sum(x), axis=1)"
   ]
  },
  {
   "cell_type": "markdown",
   "metadata": {},
   "source": [
    "### II.2.2 Nettoyage des valeurs aberrantes (1): conversion en kcal des valeurs données en kJ"
   ]
  },
  {
   "cell_type": "markdown",
   "metadata": {},
   "source": [
    "Certaines valeurs renseignées dans la colonne \"energy-kcal_100g\" apparaissent être en fait des valeurs données en kJ. On récupère ces valeurs en sélectionnant les valeurs dans un intervalle ad hoc autour de 4,18 $\\times$ total_energy_from_nutriments, et en leur appliquant le facteur de conversion $0,239=\\frac{1}{4,18}$."
   ]
  },
  {
   "cell_type": "code",
   "execution_count": null,
   "metadata": {},
   "outputs": [],
   "source": [
    "## Calcul du ratio de l'énergie calculée à partir des valeurs de macronutriments sur l'énergie renseignée\n",
    "#calculated_e = df.loc[df_app1[\"energy-kcal_100g\"].notna(), \"total_energy_from_nutriments\"]\n",
    "#actual_e = df.loc[df_app1[\"energy-kcal_100g\"].notna(), \"energy-kcal_100g\"]\n",
    "#ratio  = calculated_e/actual_e\n",
    "col2=\"energy-kcal_100g\"\n",
    "col1=\"total_energy_from_nutriments\"\n",
    "ratio = create_distrib(df1, col1=col1, col2=col2, reverse_cols=False, method=\"ratio\", mask=\"notna\")\n",
    "\n",
    "# on ne garde dans la Series ratio que les valeurs comprises entre 0.1 et 0.4. Les valeurs intéressantes \n",
    "# se trouvent vers 0.25 et ainsi on peut calculer une moyenne et un écart-type raisonnables sur cette \n",
    "# distribution\n",
    "ratio = ratio[(ratio>0.1) & (ratio<0.4)]\n",
    "#sub_ratio = sub_ratio[sub_ratio<0.4]\n",
    "\n",
    "# Moyenne et écart-type de la \"distribution\" ratio\n",
    "mean = ratio.mean()\n",
    "sigma = ratio.std()\n",
    "\n",
    "# cut-off associés\n",
    "cut_off_high = mean + sigma\n",
    "cut_off_low = mean - sigma\n",
    "\n",
    "df1 = joule_to_kcal(df1, \"energy-kcal_100g\", \"total_energy_from_nutriments\", cut_off_high, cut_off_low)"
   ]
  },
  {
   "cell_type": "markdown",
   "metadata": {},
   "source": [
    "### II.2.3  Nettoyage des valeurs aberrantes (2): filtrage par la différence entre énergie calculée et énergie renseignée"
   ]
  },
  {
   "cell_type": "markdown",
   "metadata": {},
   "source": [
    "Certaines valeurs sont simplement aberrantes: l'énergie globale renseignée ne correspond pas du tout à l'énergie qu'on peut calculer à partir des macronutriments. En repérant ces valeurs, on peut ainsi retirer un bon nombre de valeurs incohérentes."
   ]
  },
  {
   "cell_type": "code",
   "execution_count": null,
   "metadata": {},
   "outputs": [],
   "source": [
    "# Remplacement des valeurs nulles par des NaN pour faciliter le traitement\n",
    "for col in [\"total_energy_from_nutriments\", \"energy-kcal_100g\"]:\n",
    "    df1 = replace_with_nan(df1, col)\n",
    "\n",
    "# On arrondit les valeurs de total_energy_from_nutriments à l'entier inférieur, suivant ainsi ce qui semble\n",
    "# être la pratique courante.\n",
    "rounded_val = df1[\"total_energy_from_nutriments\"].apply(lambda x: np.floor(x))\n",
    "df1.loc[:, \"total_energy_from_nutriments\"] = rounded_val\n",
    "\n",
    "# Création de la colonne complete_vars: True si toutes les colonnes target_cols sont renseignées, False sinon.\n",
    "target_cols = [\"total_energy_from_nutriments\",\n",
    "          \"energy-kcal_100g\",\n",
    "          \"fat_kcal\",\n",
    "          \"carbohydrates_kcal\",\n",
    "          \"proteins_kcal\",\n",
    "          \"fiber_kcal\"]\n",
    "\n",
    "df1 = make_mask(df1, target_cols, \"isna\")\n",
    "\n",
    "# On crée la distribution représentant la différence total_energy_from_nutriments - energy-kcal_100g\n",
    "#calculated_e = df_app1.loc[df_app1.e_nn==True, \"total_energy_from_nutriments\"]\n",
    "#actual_e = df_app1.loc[df_app1.e_nn==True, \"energy-kcal_100g\"]\n",
    "#diff = pd.Series(actual_e-calculated_e, name=\"diff\")\n",
    "#col1=\"energy-kcal_100g\"\n",
    "#col2=\"total_energy_from_nutriments\"\n",
    "diff = create_distrib(df1, mask=\"e_nn\")\n",
    "# Ajout d'une colonne contenant la valeur de la différence entre l'énergie calculée  et l'énergie renseignée.\n",
    "df1.loc[:, \"diff\"] = diff\n",
    "\n",
    "# Mise à jour du dataframe\n",
    "Y = df_app1.loc[df_app1.e_nn==True].copy()\n",
    "drop_index = Y.loc[np.abs(Y[\"diff\"]-diff.mean())>diff.std()].index\n",
    "df1.drop(index=drop_index, inplace=True)\n",
    "\n",
    "# Création d'un dataframe ne contenant que les bonnes valeurs\n",
    "df1_no = df1.copy()\n",
    "df1_no = df1_no.loc[np.abs(df_app1_no[\"diff\"]-diff.mean())<diff.std()]"
   ]
  },
  {
   "cell_type": "markdown",
   "metadata": {},
   "source": [
    "## II.3 Traitement des valeurs manquantes"
   ]
  },
  {
   "cell_type": "markdown",
   "metadata": {},
   "source": [
    "On peut essayer d'imputer les valeurs manquantes en remplaçant par les moyennes pour une même catégorie. La colonne \"categories_tags\" va nous servir à cela. Chaque valeur de categorie_tags est en fait une suite de tags. La structure de cette variable est telle que le premier tag est le plus général, et le dernier le plus particulier. En utilisant le dernier tag, on augmente donc nos chances d'imputer avec une valeur la moins \"incorrecte\" possible. On illustre cela en regardant comment les first tags et les last_tags sont peuplés."
   ]
  },
  {
   "cell_type": "code",
   "execution_count": null,
   "metadata": {},
   "outputs": [],
   "source": [
    "Y = df1.copy()\n",
    "# 1. Imputation à l'aide des moyennes de groupe\n",
    "for c in [\"fat_kcal\", \"carbohydrates_kcal\", 'proteins_kcal', 'fiber_kcal']:\n",
    "    Y[c].fillna(round(Y.groupby([\"pnns_groups_2\", \"last_tag\"], dropna=False)[c].transform(\"mean\"), 1)\n",
    "                , inplace=True)\n",
    "    \n",
    "# 1. Mise à jour du dataframe df_app1 avec les valeurs renseignées.\n",
    "#df_app1 = Y\n",
    "\n",
    "# 2. On remplace les valeurs nulles de la colonne total_energy_from_nutriments pour faciliter le traitement\n",
    "#df_app1 = replace_with_nan(df_app1, \"total_energy_from_nutriments\")\n",
    "\n",
    "# 2. Calcul des valeurs total_energy_from_nutriments à partir des valeurs des macronutriments \n",
    "# nouvellement renseignées.\n",
    "#Y = df_app1.copy()\n",
    "Y[\"total_energy_from_nutriments\"].fillna(Y[\"fat_kcal\"]+Y[\"carbohydrates_kcal\"]+Y[\"proteins_kcal\"]+Y[\"fiber_kcal\"], inplace=True)\n",
    "Y[\"energy-kcal_100g\"].fillna(round(Y[\"total_energy_from_nutriments\"], 1), inplace=True)\n",
    "\n",
    "# 2. Mise à jour du dataframe\n",
    "df1 = Y"
   ]
  },
  {
   "cell_type": "markdown",
   "metadata": {},
   "source": [
    "### II.3.2 Nettoyage des valeurs aberrantes (bis)"
   ]
  },
  {
   "cell_type": "code",
   "execution_count": null,
   "metadata": {},
   "outputs": [],
   "source": [
    "# On crée la distribution représentant la différence entre total_energy... et energy_...\n",
    "#calculated_e = df_app1.loc[:, \"total_energy_from_nutriments\"]\n",
    "#actual_e = df_app1.loc[:, \"energy-kcal_100g\"]\n",
    "#diff = pd.Series(actual_e-calculated_e, name=\"diff\")\n",
    "diff = create_distrib(df1, method=\"diff\")\n",
    "\n",
    "# Mise à jour de la colonne diff\n",
    "df1.loc[:, \"diff\"] = diff\n",
    "\n",
    "# Récupération des index à retirer du dataframe\n",
    "drop_index = df1.loc[np.abs(df1[\"diff\"]-diff.mean())>diff.quantile(0.95)].index # utilisation du 95ème percentile \n",
    "                                                                            # plutôt que l'écart-type, trop \n",
    "                                                                            # large à cause des outliers\n",
    "# On enlève les lignes correspondant aux outliers.\n",
    "df1.drop(index=drop_index, inplace=True)"
   ]
  },
  {
   "cell_type": "markdown",
   "metadata": {},
   "source": [
    "## II.4 Traitement du nutriscore_grade"
   ]
  },
  {
   "cell_type": "markdown",
   "metadata": {},
   "source": [
    "Nous allons regarder les deux variables nutrition-score-fr_100g ainsi que nutriscore_grade de plus près, en gardant en tête que le nutriscore_grade est défini de la façon suivante:\n",
    "- \"A\": score entre -15 et -2\n",
    "- \"B\": score entre -1 et +3\n",
    "- \"C\": score entre +4 et +11\n",
    "- \"D\": score entre +12 et +16\n",
    "- \"E\": score supérieur ou égal à 17"
   ]
  },
  {
   "cell_type": "code",
   "execution_count": null,
   "metadata": {},
   "outputs": [],
   "source": [
    "df1[\"nutriscore_grade\"] = df1[\"nutrition-score-fr_100g\"].apply(lambda x: assign_grade(x))"
   ]
  }
 ],
 "metadata": {
  "kernelspec": {
   "display_name": "Python 3",
   "language": "python",
   "name": "python3"
  },
  "language_info": {
   "codemirror_mode": {
    "name": "ipython",
    "version": 3
   },
   "file_extension": ".py",
   "mimetype": "text/x-python",
   "name": "python",
   "nbconvert_exporter": "python",
   "pygments_lexer": "ipython3",
   "version": "3.7.3"
  }
 },
 "nbformat": 4,
 "nbformat_minor": 4
}
