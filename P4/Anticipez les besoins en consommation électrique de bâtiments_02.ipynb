{
 "cells": [
  {
   "cell_type": "markdown",
   "metadata": {},
   "source": [
    "# Modèles d'apprentissage\n",
    "\n",
    "__[III Modèles Linéaires](#III-Modèles-Linéaires)__\\\n",
    "[III.1 Chargement des modèles](#III.1-Chargement-des-modèles)\\\n",
    "[III.2 Baseline: Régression linéaire simple](#III.2-Baseline:-Régression-linéaire-simple)\\\n",
    "[III.3 kNN](#III.3-kNN)\\\n",
    "[III.4 Sélection de prédicteurs avec Lasso](#III.4-Sélection-de-prédicteurs-avec-Lasso)\\\n",
    "[III.5 Feature importance avec RandomForest](#III.5-Feature-importance-avec-RandomForest)\\\n",
    "\n",
    "__[IV ENERGYSTARScore](#IV-ENERGYSTARScore)__\n",
    "\n"
   ]
  },
  {
   "cell_type": "code",
   "execution_count": 522,
   "metadata": {},
   "outputs": [],
   "source": [
    "import pandas as pd\n",
    "import matplotlib.pyplot as plt\n",
    "import seaborn as sns\n",
    "import numpy as np\n",
    "import missingno as msno"
   ]
  },
  {
   "cell_type": "markdown",
   "metadata": {},
   "source": [
    "# III Modèles\n",
    "## III.1 Chargement des modèles"
   ]
  },
  {
   "cell_type": "code",
   "execution_count": 523,
   "metadata": {},
   "outputs": [],
   "source": [
    "from sklearn.model_selection import train_test_split, KFold, GridSearchCV, cross_val_score, cross_validate\n",
    "from sklearn.linear_model import LinearRegression, Ridge, Lasso, LassoCV\n",
    "from sklearn.metrics import r2_score, mean_squared_error\n",
    "from sklearn.preprocessing import StandardScaler, OneHotEncoder\n",
    "from sklearn.decomposition import PCA\n",
    "from sklearn.compose import ColumnTransformer\n",
    "from sklearn.feature_selection import SelectFromModel\n",
    "from sklearn.compose import make_column_selector as selector\n",
    "from sklearn.pipeline import Pipeline, make_pipeline\n",
    "from sklearn import set_config\n",
    "\n",
    "set_config(display='diagram')"
   ]
  },
  {
   "cell_type": "markdown",
   "metadata": {},
   "source": [
    "Chargement des modèles"
   ]
  },
  {
   "cell_type": "code",
   "execution_count": 520,
   "metadata": {
    "scrolled": true
   },
   "outputs": [
    {
     "name": "stdout",
     "output_type": "stream",
     "text": [
      "<class 'pandas.core.frame.DataFrame'>\n",
      "Int64Index: 5944 entries, 0 to 3375\n",
      "Data columns (total 31 columns):\n",
      " #   Column                           Non-Null Count  Dtype  \n",
      "---  ------                           --------------  -----  \n",
      " 0   BuildingType                     5944 non-null   object \n",
      " 1   NumberofBuildings                5944 non-null   float64\n",
      " 2   NumberofFloors                   5944 non-null   float64\n",
      " 3   PropertyGFATotal                 5944 non-null   int64  \n",
      " 4   PropertyGFAParking               5944 non-null   int64  \n",
      " 5   PropertyGFABuilding(s)           5944 non-null   int64  \n",
      " 6   LargestPropertyUseTypeGFA        5944 non-null   float64\n",
      " 7   SecondLargestPropertyUseType     5944 non-null   object \n",
      " 8   SecondLargestPropertyUseTypeGFA  5944 non-null   float64\n",
      " 9   ThirdLargestPropertyUseType      5944 non-null   object \n",
      " 10  ThirdLargestPropertyUseTypeGFA   5944 non-null   float64\n",
      " 11  ENERGYSTARScore                  4546 non-null   float64\n",
      " 12  SiteEUI(kBtu/sf)                 5944 non-null   float64\n",
      " 13  SiteEUIWN(kBtu/sf)               5944 non-null   float64\n",
      " 14  SourceEUI(kBtu/sf)               5944 non-null   float64\n",
      " 15  SourceEUIWN(kBtu/sf)             5944 non-null   float64\n",
      " 16  SiteEnergyUse                    5944 non-null   float64\n",
      " 17  SiteEnergyUseWN(kBtu)            5944 non-null   float64\n",
      " 18  SteamUse(kBtu)                   5944 non-null   float64\n",
      " 19  Electricity(kBtu)                5944 non-null   float64\n",
      " 20  NaturalGas(kBtu)                 5944 non-null   float64\n",
      " 21  TotalGHGEmissions                5944 non-null   float64\n",
      " 22  GHGEmissionsIntensity            5944 non-null   float64\n",
      " 23  SiteEnergyUse_log                5944 non-null   float64\n",
      " 24  TotalGHGEmissions_log            5944 non-null   float64\n",
      " 25  SourceEnergyUseWN                5944 non-null   float64\n",
      " 26  SourceEnergyUse(kBtu)            5944 non-null   float64\n",
      " 27  Electricity_ratio                5944 non-null   float64\n",
      " 28  NaturalGas_ratio                 5944 non-null   float64\n",
      " 29  Steam_ratio                      5944 non-null   float64\n",
      " 30  MainPropertyType                 5944 non-null   object \n",
      "dtypes: float64(24), int64(3), object(4)\n",
      "memory usage: 1.5+ MB\n"
     ]
    }
   ],
   "source": [
    "model1 = pd.read_csv(\"./model1.csv\")\n",
    "model1.info()"
   ]
  },
  {
   "cell_type": "code",
   "execution_count": 521,
   "metadata": {},
   "outputs": [
    {
     "name": "stdout",
     "output_type": "stream",
     "text": [
      "<class 'pandas.core.frame.DataFrame'>\n",
      "Int64Index: 5944 entries, 0 to 3375\n",
      "Data columns (total 29 columns):\n",
      " #   Column                           Non-Null Count  Dtype  \n",
      "---  ------                           --------------  -----  \n",
      " 0   BuildingType                     5944 non-null   object \n",
      " 1   NumberofBuildings                5944 non-null   float64\n",
      " 2   NumberofFloors                   5944 non-null   float64\n",
      " 3   PropertyGFATotal                 5944 non-null   int64  \n",
      " 4   PropertyGFAParking               5944 non-null   int64  \n",
      " 5   PropertyGFABuilding(s)           5944 non-null   int64  \n",
      " 6   LargestPropertyUseTypeGFA        5944 non-null   float64\n",
      " 7   SecondLargestPropertyUseTypeGFA  5944 non-null   float64\n",
      " 8   ThirdLargestPropertyUseTypeGFA   5944 non-null   float64\n",
      " 9   ENERGYSTARScore                  4546 non-null   float64\n",
      " 10  SiteEUI(kBtu/sf)                 5944 non-null   float64\n",
      " 11  SiteEUIWN(kBtu/sf)               5944 non-null   float64\n",
      " 12  SourceEUI(kBtu/sf)               5944 non-null   float64\n",
      " 13  SourceEUIWN(kBtu/sf)             5944 non-null   float64\n",
      " 14  SiteEnergyUse                    5944 non-null   float64\n",
      " 15  SiteEnergyUseWN(kBtu)            5944 non-null   float64\n",
      " 16  SteamUse(kBtu)                   5944 non-null   float64\n",
      " 17  Electricity(kBtu)                5944 non-null   float64\n",
      " 18  NaturalGas(kBtu)                 5944 non-null   float64\n",
      " 19  TotalGHGEmissions                5944 non-null   float64\n",
      " 20  GHGEmissionsIntensity            5944 non-null   float64\n",
      " 21  SiteEnergyUse_log                5944 non-null   float64\n",
      " 22  TotalGHGEmissions_log            5944 non-null   float64\n",
      " 23  SourceEnergyUseWN                5944 non-null   float64\n",
      " 24  SourceEnergyUse(kBtu)            5944 non-null   float64\n",
      " 25  Electricity_ratio                5944 non-null   float64\n",
      " 26  NaturalGas_ratio                 5944 non-null   float64\n",
      " 27  Steam_ratio                      5944 non-null   float64\n",
      " 28  MainPropertyType                 5944 non-null   object \n",
      "dtypes: float64(24), int64(3), object(2)\n",
      "memory usage: 1.4+ MB\n"
     ]
    }
   ],
   "source": [
    "model2 = pd.read_csv(\"./model2.csv\")\n",
    "model2.info()"
   ]
  },
  {
   "cell_type": "markdown",
   "metadata": {},
   "source": [
    "On définit également quelques routines pour automatiser les traitements."
   ]
  },
  {
   "cell_type": "code",
   "execution_count": 586,
   "metadata": {},
   "outputs": [],
   "source": [
    "def modelpreparation(model, targets=None, energy_cols=None):\n",
    "    \n",
    "    if not targets:\n",
    "        # Sélection des cibles\n",
    "        targets = [\"SiteEnergyUse\",\n",
    "                   \"SiteEnergyUse_log\",\n",
    "                   \"TotalGHGEmissions\", \n",
    "                   \"TotalGHGEmissions_log\",\n",
    "                   \"SiteEUI(kBtu/sf)\",\n",
    "                   \"SiteEUIWN(kBtu/sf)\",\n",
    "                   \"SourceEUI(kBtu/sf)\",\n",
    "                   \"SourceEUIWN(kBtu/sf)\",\n",
    "                   \"SiteEnergyUseWN(kBtu)\",\n",
    "                   \"SourceEnergyUseWN\",\n",
    "                   \"SourceEnergyUse(kBtu)\", \n",
    "                   \"GHGEmissionsIntensity\"]\n",
    "    \n",
    "    if not energy_cols:\n",
    "        # retrait des colonnes liées à la consommation d'énergie\n",
    "        energy_cols = [\"Electricity(kBtu)\",\n",
    "                       \"NaturalGas(kBtu)\",\n",
    "                       \"SteamUse(kBtu)\",\n",
    "                       \"ENERGYSTARScore\",\n",
    "                       \"NaturalGas_ratio\",\n",
    "                       \"Steam_ratio\"\n",
    "                      ]\n",
    "\n",
    "    # Sélection des prédicteurs\n",
    "    features = [col for col in model.columns if (col not in targets) and (col not in energy_cols)]\n",
    "\n",
    "    # Séparation des variables en types \"category\" et \"float64\"\n",
    "    # On change le type des variables numériques non catégorielles en float64\n",
    "    cols_to_transform = [\"PropertyGFATotal\", \"PropertyGFAParking\", \"PropertyGFABuilding(s)\"]\n",
    "    model[cols_to_transform] = model[cols_to_transform].astype(\"float64\")\n",
    "\n",
    "    # Les variables int64 et object sont passées en type 'category'\n",
    "    cat_cols = model.dtypes[(model.dtypes==\"int64\") | (model.dtypes==\"object\")].index\n",
    "    model[cat_cols] = model[cat_cols].astype(\"category\")\n",
    "    \n",
    "    return model, features\n",
    "\n",
    "def create_pipeline(model, pca_dict, categorical=True, numeric=True, pca_ncomp=4, regressor=True):\n",
    "    \n",
    "    # One-hot encoding of categorical variable\n",
    "    categorical_transformer = OneHotEncoder(handle_unknown='ignore')\n",
    "    \n",
    "    # Standard scaling of numerical features\n",
    "    numeric_transformer = StandardScaler()\n",
    "    \n",
    "    # ACP sur les variables quantitatives\n",
    "    pca = PCA(n_components=4)\n",
    "            \n",
    "    std_pca_transformer = make_pipeline(\n",
    "        StandardScaler(),\n",
    "        PCA(n_components=pca_ncomp)\n",
    "    )    \n",
    "    \n",
    "    pca_cols, pca_index = pca_dict[\"cols\"], pca_dict[\"index\"]\n",
    "    \n",
    "    preprocessor1 = ColumnTransformer(transformers=[\n",
    "        ('num', numeric_transformer, selector(dtype_exclude=\"category\")),\n",
    "        ('std_pca', std_pca_transformer, pca_cols),\n",
    "        ('cat', categorical_transformer, selector(dtype_include=\"category\"))],\n",
    "                                      remainder='passthrough')\n",
    "    \n",
    "    preprocessor2 = ColumnTransformer(transformers=[('drop_pca', 'drop', pca_index)], \n",
    "                                      remainder='passthrough'\n",
    "                                     )\n",
    "    #preprocessor3 = ColumnTransformer(remainder='passthrough')\n",
    "    #test_pipeline = Pipeline(steps=[('preprocessor1', preprocessor1), \n",
    "    #                      ('preprocessor2', preprocessor2), ('last', 'passthrough')])\n",
    "    \n",
    "    # Création du pipeline comprenant les deux étapes de preprocessing et l'étape de régression\n",
    "    reg = Pipeline(steps=[('preprocessor1', preprocessor1), \n",
    "                          ('preprocessor2', preprocessor2),\n",
    "                          ('regressor', model)\n",
    "                         ])\n",
    "    if not regressor:\n",
    "        reg = Pipeline(steps=[('preprocessor1', preprocessor1), \n",
    "                          ('preprocessor2', preprocessor2),\n",
    "                          ('pass', 'passthrough')\n",
    "                         ])\n",
    "    return reg\n",
    "\n",
    "\n",
    "def crossval_noGS(target, features, df, model, pca=True):\n",
    "   \n",
    "    # Séparation prédicteurs - cible\n",
    "    X = df[features]\n",
    "    y = df[target]\n",
    "    \n",
    "    X_train, X_test, y_train, y_test = train_test_split(X, y, test_size=0.3,\n",
    "                                                        random_state=0)\n",
    "    \n",
    "    if pca:\n",
    "        # colonnes sur lesquelles appliquer l'ACP\n",
    "        pca_cols = [\"PropertyGFATotal\", \n",
    "                    \"PropertyGFAParking\",\n",
    "                    \"PropertyGFABuilding(s)\",\n",
    "                    \"LargestPropertyUseTypeGFA\",\n",
    "                    \"SecondLargestPropertyUseTypeGFA\",\n",
    "                    \"ThirdLargestPropertyUseTypeGFA\"]\n",
    "        \n",
    "        # Récupération des indices correspondant aux variables sur lesquelles on réalise l'ACP dans le tableau\n",
    "        # numpy créé après preprocessing1. Le tableau numpy est en effet réorganisé lors du preprocessing avec les\n",
    "        # colonnes numeriques d'abord, puis les colonnes créées lors de l'ACP et enfin les colonnes catégorielles\n",
    "        X_train_only_numeric = X_train.select_dtypes(include=['float64'])\n",
    "        pca_index = [X_train_only_numeric.columns.get_loc(c) for c in pca_cols]\n",
    "        \n",
    "    else:\n",
    "        pca_cols = []\n",
    "    pca_dict = {\"cols\": pca_cols, \"index\":pca_index}\n",
    "    reg = create_pipeline(model, pca_dict)\n",
    "    \n",
    "    # cross-validation\n",
    "    kf = KFold(n_splits=5, shuffle=True, random_state=0)\n",
    "    cv = cross_validate(reg, X, y, cv=kf,\n",
    "                            scoring=('r2',\n",
    "                                     #'neg_mean_squared_log_error'\n",
    "                                    ),\n",
    "                            return_train_score=True)\n",
    "    \n",
    "    cv_results = pd.DataFrame(cv).sort_values(by=\"test_r2\", ascending=False)\n",
    "    moyenne = pd.DataFrame(data=cv_results.to_numpy().mean(axis=0).reshape(1, -1), \n",
    "                           columns=cv_results.columns, \n",
    "                           index=[\"moyenne\"])\n",
    "    cv_results = pd.concat([cv_results, moyenne])\n",
    "    \n",
    "    #print(\"Scores: \", scores)\n",
    "    #print(\"Score moyen: {:.2f}\".format(np.mean(scores)))\n",
    "    \n",
    "    return cv_results\n",
    "\n",
    "def crossval_GS(target, features, df, params, model_gs, score, pca=True, pca_ncomp=4):\n",
    "    \n",
    "    # Séparation prédicteurs - cible\n",
    "    X = df[features]\n",
    "    y = df[target]\n",
    "    \n",
    "    X_train, X_test, y_train, y_test = train_test_split(X, y, test_size=0.3,\n",
    "                                                        random_state=0)\n",
    "    \n",
    "    # Récupération des indices correspondant aux variables sur lesquelles on réalise l'ACP dans le tableau\n",
    "    # numpy créé après preprocessing1. Le tableau numpy est en effet réorganisé lors du preprocessing avec les\n",
    "    # colonnes numeriques d'abord, puis les colonnes créées lors de l'ACP et enfin les colonnes catégorielles\n",
    "    X_train_only_numeric = X_train.select_dtypes(include=['float64'])\n",
    "    \n",
    "    if pca:\n",
    "        # colonnes sur lesquelles appliquer l'ACP\n",
    "        pca_cols = [\"PropertyGFATotal\", \n",
    "                    \"PropertyGFAParking\",\n",
    "                    \"PropertyGFABuilding(s)\",\n",
    "                    \"LargestPropertyUseTypeGFA\",\n",
    "                    \"SecondLargestPropertyUseTypeGFA\",\n",
    "                    \"ThirdLargestPropertyUseTypeGFA\"]\n",
    "    else:\n",
    "        pca_cols = []\n",
    "    \n",
    "    \n",
    "    # Récupération des indices correspondant aux variables sur lesquelles on réalise l'ACP dans le tableau\n",
    "    # numpy créé après preprocessing1. Le tableau numpy est en effet réorganisé lors du preprocessing avec les\n",
    "    # colonnes numeriques d'abord, puis les colonnes créées lors de l'ACP et enfin les colonnes catégorielles\n",
    "    X_train_only_numeric = X_train.select_dtypes(include=['float64'])\n",
    "    pca_index = [X_train_only_numeric.columns.get_loc(c) for c in pca_cols]\n",
    "    \n",
    "    pca_dict = {\"cols\": pca_cols, \"index\":pca_index}\n",
    "    reg = create_pipeline(model, pca_dict, pca_ncomp=pca_ncomp)\n",
    "\n",
    "    # Nested cross-validation\n",
    "    inner_cv = KFold(n_splits=5, shuffle=True, random_state=4)\n",
    "    \n",
    "    # Hyperparamètre à optimiser\n",
    "    param_grid = {}\n",
    "    for key, values in params.items():\n",
    "        param_grid[\"regressor__\"+key] = values\n",
    "        \n",
    "        \n",
    "    # Créer une regression Ridge avec sélection d'hyperparamètre par validation croisée\n",
    "    regr = GridSearchCV(\n",
    "    reg,            # modèle\n",
    "    param_grid,     # hyperparamètres à tester\n",
    "    cv=inner_cv,    # nombre de folds de validation croisée\n",
    "    scoring=score,   # score à optimiser\n",
    "    return_train_score=True,\n",
    "    refit='r2',\n",
    "    )\n",
    "    \n",
    "    # Optimiser cet estimateur sur le jeu d'entraînement\n",
    "    regr.fit(X_train, y_train)\n",
    "    \n",
    "    # Afficher le(s) hyperparamètre(s) optimaux\n",
    "    print(\"Meilleur(s) hyperparamètre(s) sur le jeu d'entraînement:\")\n",
    "    print(regr.best_params_)\n",
    "    \n",
    "    # Performance en généralisation du meilleur modèle sur le set de validation\n",
    "    y_pred = regr.predict(X_test)\n",
    "    print(\"\\nPerformance en généralisation sur le jeu de test : {:.3f}\".format(r2_score(y_test, y_pred)))\n",
    "    \n",
    "    return regr\n",
    "\n",
    "def print_cvresults(score, regr, param_grid):\n",
    "    \n",
    "    # Résultats de la validation croisée\n",
    "    cv_results = pd.DataFrame(regr.cv_results_).sort_values(\"mean_test_r2\", ascending=False)\n",
    "    \n",
    "    param_keys = [\"param_regressor__\"+k for k in param_grid.keys()]\n",
    "    param_cols = []\n",
    "    for sample in (\"train\", \"test\"):\n",
    "        for i in range(len(score)):\n",
    "            for s in (\"mean\", \"std\"):\n",
    "                param_cols.append(\"{}_{}_{}\".format(s, sample, score[i]))\n",
    "        \n",
    "        # Pour rendre positive l'erreur rmse (négative par défaut avec GridSearch)\n",
    "        try:\n",
    "            cv_results[\"mean_{}_{}\".format(sample, score[1])] *= -1\n",
    "        except:\n",
    "            pass\n",
    "        \n",
    "    param_cols += param_keys\n",
    "    param_cols += [\"mean_fit_time\", \"std_fit_time\", \"mean_score_time\", \"std_score_time\"]\n",
    "    \n",
    "    # Performance sur le jeu d'entraînement\n",
    "    print(\"Performance(s) moyenne(s) sur le jeu d'entraînement:\")\n",
    "    \n",
    "    return cv_results, param_cols\n",
    "\n",
    "def plot_traintestscores(cv_results, score, axis_scale=\"log\", plot_param=\"alpha\"):\n",
    "    \n",
    "    # Affiche les scores sur les jeu d'entrainement et de test\n",
    "    d = cv_results.set_index(\"param_regressor__{}\".format(plot_param))\n",
    "    cols = []\n",
    "    for t in (\"train\", \"test\"):\n",
    "        for s in score: \n",
    "            cols.append(\"mean_{}_{}\".format(t, s))\n",
    "            \n",
    "    sns.lineplot(data=d[cols])\n",
    "    plt.xscale(axis_scale)\n",
    "    plt.show()\n",
    "    \n",
    "#return cv_results[param_cols], cv_results.iloc[0]\n",
    "    "
   ]
  },
  {
   "cell_type": "markdown",
   "metadata": {},
   "source": [
    "## III.2 Baseline: Régression linéaire simple"
   ]
  },
  {
   "cell_type": "code",
   "execution_count": 463,
   "metadata": {},
   "outputs": [
    {
     "data": {
      "text/html": [
       "<div>\n",
       "<style scoped>\n",
       "    .dataframe tbody tr th:only-of-type {\n",
       "        vertical-align: middle;\n",
       "    }\n",
       "\n",
       "    .dataframe tbody tr th {\n",
       "        vertical-align: top;\n",
       "    }\n",
       "\n",
       "    .dataframe thead th {\n",
       "        text-align: right;\n",
       "    }\n",
       "</style>\n",
       "<table border=\"1\" class=\"dataframe\">\n",
       "  <thead>\n",
       "    <tr style=\"text-align: right;\">\n",
       "      <th></th>\n",
       "      <th>fit_time</th>\n",
       "      <th>score_time</th>\n",
       "      <th>test_r2</th>\n",
       "      <th>train_r2</th>\n",
       "    </tr>\n",
       "  </thead>\n",
       "  <tbody>\n",
       "    <tr>\n",
       "      <th>0</th>\n",
       "      <td>0.105437</td>\n",
       "      <td>0.020039</td>\n",
       "      <td>0.556956</td>\n",
       "      <td>0.551783</td>\n",
       "    </tr>\n",
       "    <tr>\n",
       "      <th>2</th>\n",
       "      <td>0.075874</td>\n",
       "      <td>0.018085</td>\n",
       "      <td>0.550877</td>\n",
       "      <td>0.555369</td>\n",
       "    </tr>\n",
       "    <tr>\n",
       "      <th>1</th>\n",
       "      <td>0.086980</td>\n",
       "      <td>0.017681</td>\n",
       "      <td>0.550100</td>\n",
       "      <td>0.556719</td>\n",
       "    </tr>\n",
       "    <tr>\n",
       "      <th>3</th>\n",
       "      <td>0.079802</td>\n",
       "      <td>0.017259</td>\n",
       "      <td>0.545010</td>\n",
       "      <td>0.557658</td>\n",
       "    </tr>\n",
       "    <tr>\n",
       "      <th>4</th>\n",
       "      <td>0.092148</td>\n",
       "      <td>0.017424</td>\n",
       "      <td>0.521285</td>\n",
       "      <td>0.563270</td>\n",
       "    </tr>\n",
       "    <tr>\n",
       "      <th>moyenne</th>\n",
       "      <td>0.088048</td>\n",
       "      <td>0.018097</td>\n",
       "      <td>0.544846</td>\n",
       "      <td>0.556960</td>\n",
       "    </tr>\n",
       "  </tbody>\n",
       "</table>\n",
       "</div>"
      ],
      "text/plain": [
       "         fit_time  score_time   test_r2  train_r2\n",
       "0        0.105437    0.020039  0.556956  0.551783\n",
       "2        0.075874    0.018085  0.550877  0.555369\n",
       "1        0.086980    0.017681  0.550100  0.556719\n",
       "3        0.079802    0.017259  0.545010  0.557658\n",
       "4        0.092148    0.017424  0.521285  0.563270\n",
       "moyenne  0.088048    0.018097  0.544846  0.556960"
      ]
     },
     "execution_count": 463,
     "metadata": {},
     "output_type": "execute_result"
    }
   ],
   "source": [
    "m1, features = modelpreparation(model1)\n",
    "model = LinearRegression()\n",
    "crossval_noGS(\"SiteEnergyUse_log\", features, m1, model)"
   ]
  },
  {
   "cell_type": "code",
   "execution_count": 464,
   "metadata": {},
   "outputs": [
    {
     "data": {
      "text/html": [
       "<div>\n",
       "<style scoped>\n",
       "    .dataframe tbody tr th:only-of-type {\n",
       "        vertical-align: middle;\n",
       "    }\n",
       "\n",
       "    .dataframe tbody tr th {\n",
       "        vertical-align: top;\n",
       "    }\n",
       "\n",
       "    .dataframe thead th {\n",
       "        text-align: right;\n",
       "    }\n",
       "</style>\n",
       "<table border=\"1\" class=\"dataframe\">\n",
       "  <thead>\n",
       "    <tr style=\"text-align: right;\">\n",
       "      <th></th>\n",
       "      <th>fit_time</th>\n",
       "      <th>score_time</th>\n",
       "      <th>test_r2</th>\n",
       "      <th>train_r2</th>\n",
       "    </tr>\n",
       "  </thead>\n",
       "  <tbody>\n",
       "    <tr>\n",
       "      <th>0</th>\n",
       "      <td>0.093441</td>\n",
       "      <td>0.018659</td>\n",
       "      <td>0.714475</td>\n",
       "      <td>0.704079</td>\n",
       "    </tr>\n",
       "    <tr>\n",
       "      <th>1</th>\n",
       "      <td>0.085735</td>\n",
       "      <td>0.017973</td>\n",
       "      <td>0.712549</td>\n",
       "      <td>0.706821</td>\n",
       "    </tr>\n",
       "    <tr>\n",
       "      <th>3</th>\n",
       "      <td>0.075227</td>\n",
       "      <td>0.017531</td>\n",
       "      <td>0.704811</td>\n",
       "      <td>0.708477</td>\n",
       "    </tr>\n",
       "    <tr>\n",
       "      <th>2</th>\n",
       "      <td>0.078708</td>\n",
       "      <td>0.017110</td>\n",
       "      <td>0.699775</td>\n",
       "      <td>0.709332</td>\n",
       "    </tr>\n",
       "    <tr>\n",
       "      <th>4</th>\n",
       "      <td>0.076302</td>\n",
       "      <td>0.019638</td>\n",
       "      <td>0.673911</td>\n",
       "      <td>0.715890</td>\n",
       "    </tr>\n",
       "    <tr>\n",
       "      <th>moyenne</th>\n",
       "      <td>0.081883</td>\n",
       "      <td>0.018182</td>\n",
       "      <td>0.701104</td>\n",
       "      <td>0.708920</td>\n",
       "    </tr>\n",
       "  </tbody>\n",
       "</table>\n",
       "</div>"
      ],
      "text/plain": [
       "         fit_time  score_time   test_r2  train_r2\n",
       "0        0.093441    0.018659  0.714475  0.704079\n",
       "1        0.085735    0.017973  0.712549  0.706821\n",
       "3        0.075227    0.017531  0.704811  0.708477\n",
       "2        0.078708    0.017110  0.699775  0.709332\n",
       "4        0.076302    0.019638  0.673911  0.715890\n",
       "moyenne  0.081883    0.018182  0.701104  0.708920"
      ]
     },
     "execution_count": 464,
     "metadata": {},
     "output_type": "execute_result"
    }
   ],
   "source": [
    "crossval_noGS(\"TotalGHGEmissions_log\", features, m1, model)"
   ]
  },
  {
   "cell_type": "code",
   "execution_count": 465,
   "metadata": {},
   "outputs": [
    {
     "data": {
      "text/html": [
       "<div>\n",
       "<style scoped>\n",
       "    .dataframe tbody tr th:only-of-type {\n",
       "        vertical-align: middle;\n",
       "    }\n",
       "\n",
       "    .dataframe tbody tr th {\n",
       "        vertical-align: top;\n",
       "    }\n",
       "\n",
       "    .dataframe thead th {\n",
       "        text-align: right;\n",
       "    }\n",
       "</style>\n",
       "<table border=\"1\" class=\"dataframe\">\n",
       "  <thead>\n",
       "    <tr style=\"text-align: right;\">\n",
       "      <th></th>\n",
       "      <th>fit_time</th>\n",
       "      <th>score_time</th>\n",
       "      <th>test_r2</th>\n",
       "      <th>train_r2</th>\n",
       "    </tr>\n",
       "  </thead>\n",
       "  <tbody>\n",
       "    <tr>\n",
       "      <th>3</th>\n",
       "      <td>0.066129</td>\n",
       "      <td>0.016165</td>\n",
       "      <td>0.544690</td>\n",
       "      <td>0.543573</td>\n",
       "    </tr>\n",
       "    <tr>\n",
       "      <th>0</th>\n",
       "      <td>0.072605</td>\n",
       "      <td>0.016485</td>\n",
       "      <td>0.543022</td>\n",
       "      <td>0.540629</td>\n",
       "    </tr>\n",
       "    <tr>\n",
       "      <th>1</th>\n",
       "      <td>0.070255</td>\n",
       "      <td>0.016122</td>\n",
       "      <td>0.536114</td>\n",
       "      <td>0.545758</td>\n",
       "    </tr>\n",
       "    <tr>\n",
       "      <th>2</th>\n",
       "      <td>0.065100</td>\n",
       "      <td>0.016460</td>\n",
       "      <td>0.529664</td>\n",
       "      <td>0.545985</td>\n",
       "    </tr>\n",
       "    <tr>\n",
       "      <th>4</th>\n",
       "      <td>0.066733</td>\n",
       "      <td>0.015602</td>\n",
       "      <td>0.512213</td>\n",
       "      <td>0.551291</td>\n",
       "    </tr>\n",
       "    <tr>\n",
       "      <th>moyenne</th>\n",
       "      <td>0.068164</td>\n",
       "      <td>0.016167</td>\n",
       "      <td>0.533141</td>\n",
       "      <td>0.545447</td>\n",
       "    </tr>\n",
       "  </tbody>\n",
       "</table>\n",
       "</div>"
      ],
      "text/plain": [
       "         fit_time  score_time   test_r2  train_r2\n",
       "3        0.066129    0.016165  0.544690  0.543573\n",
       "0        0.072605    0.016485  0.543022  0.540629\n",
       "1        0.070255    0.016122  0.536114  0.545758\n",
       "2        0.065100    0.016460  0.529664  0.545985\n",
       "4        0.066733    0.015602  0.512213  0.551291\n",
       "moyenne  0.068164    0.016167  0.533141  0.545447"
      ]
     },
     "execution_count": 465,
     "metadata": {},
     "output_type": "execute_result"
    }
   ],
   "source": [
    "m2, features = modelpreparation(model2)\n",
    "model = LinearRegression()\n",
    "crossval_noGS(\"SiteEnergyUse_log\", features, m2, model)"
   ]
  },
  {
   "cell_type": "code",
   "execution_count": 466,
   "metadata": {},
   "outputs": [
    {
     "data": {
      "text/html": [
       "<div>\n",
       "<style scoped>\n",
       "    .dataframe tbody tr th:only-of-type {\n",
       "        vertical-align: middle;\n",
       "    }\n",
       "\n",
       "    .dataframe tbody tr th {\n",
       "        vertical-align: top;\n",
       "    }\n",
       "\n",
       "    .dataframe thead th {\n",
       "        text-align: right;\n",
       "    }\n",
       "</style>\n",
       "<table border=\"1\" class=\"dataframe\">\n",
       "  <thead>\n",
       "    <tr style=\"text-align: right;\">\n",
       "      <th></th>\n",
       "      <th>fit_time</th>\n",
       "      <th>score_time</th>\n",
       "      <th>test_r2</th>\n",
       "      <th>train_r2</th>\n",
       "    </tr>\n",
       "  </thead>\n",
       "  <tbody>\n",
       "    <tr>\n",
       "      <th>3</th>\n",
       "      <td>0.062065</td>\n",
       "      <td>0.015784</td>\n",
       "      <td>0.704896</td>\n",
       "      <td>0.698035</td>\n",
       "    </tr>\n",
       "    <tr>\n",
       "      <th>0</th>\n",
       "      <td>0.078858</td>\n",
       "      <td>0.017452</td>\n",
       "      <td>0.704127</td>\n",
       "      <td>0.695979</td>\n",
       "    </tr>\n",
       "    <tr>\n",
       "      <th>1</th>\n",
       "      <td>0.067592</td>\n",
       "      <td>0.017071</td>\n",
       "      <td>0.703155</td>\n",
       "      <td>0.698604</td>\n",
       "    </tr>\n",
       "    <tr>\n",
       "      <th>2</th>\n",
       "      <td>0.059372</td>\n",
       "      <td>0.016099</td>\n",
       "      <td>0.684043</td>\n",
       "      <td>0.702502</td>\n",
       "    </tr>\n",
       "    <tr>\n",
       "      <th>4</th>\n",
       "      <td>0.063909</td>\n",
       "      <td>0.014997</td>\n",
       "      <td>0.666537</td>\n",
       "      <td>0.707308</td>\n",
       "    </tr>\n",
       "    <tr>\n",
       "      <th>moyenne</th>\n",
       "      <td>0.066359</td>\n",
       "      <td>0.016281</td>\n",
       "      <td>0.692552</td>\n",
       "      <td>0.700486</td>\n",
       "    </tr>\n",
       "  </tbody>\n",
       "</table>\n",
       "</div>"
      ],
      "text/plain": [
       "         fit_time  score_time   test_r2  train_r2\n",
       "3        0.062065    0.015784  0.704896  0.698035\n",
       "0        0.078858    0.017452  0.704127  0.695979\n",
       "1        0.067592    0.017071  0.703155  0.698604\n",
       "2        0.059372    0.016099  0.684043  0.702502\n",
       "4        0.063909    0.014997  0.666537  0.707308\n",
       "moyenne  0.066359    0.016281  0.692552  0.700486"
      ]
     },
     "execution_count": 466,
     "metadata": {},
     "output_type": "execute_result"
    }
   ],
   "source": [
    "crossval_noGS(\"TotalGHGEmissions_log\", features, m2, model)"
   ]
  },
  {
   "cell_type": "markdown",
   "metadata": {},
   "source": [
    "## III.3 kNN"
   ]
  },
  {
   "cell_type": "markdown",
   "metadata": {},
   "source": [
    "**Premier modèle**"
   ]
  },
  {
   "cell_type": "code",
   "execution_count": 546,
   "metadata": {},
   "outputs": [
    {
     "name": "stdout",
     "output_type": "stream",
     "text": [
      "Meilleur(s) hyperparamètre(s) sur le jeu d'entraînement:\n",
      "{'regressor__n_neighbors': 7}\n",
      "\n",
      "Sur le jeu de test : 0.734\n"
     ]
    },
    {
     "data": {
      "image/png": "[encoded data removed]",
      "text/plain": [
       "<Figure size 432x288 with 1 Axes>"
      ]
     },
     "metadata": {
      "needs_background": "light"
     },
     "output_type": "display_data"
    }
   ],
   "source": [
    "from sklearn.neighbors import KNeighborsRegressor\n",
    "\n",
    "# chargement du modèle\n",
    "m1, features = modelpreparation(model1)\n",
    "\n",
    "# Valeurs possibles du nombre de plus proches voisins\n",
    "params = {\"n_neighbors\" : [1, 3, 5, 7, 9, 11, 13, 15, 17, 19]}\n",
    "\n",
    "# Choisir un score à optimiser et/ou une erreur à minimiser, ici le R2 et le RMSE \n",
    "score = ('r2', 'neg_root_mean_squared_error')\n",
    "\n",
    "# modèle\n",
    "model = KNeighborsRegressor()\n",
    "\n",
    "# Preprocessing et fit du modèle\n",
    "gspipeline = crossval_GS(\"SiteEnergyUse_log\", features, m1, params, model, score)\n",
    "\n",
    "# DataFrame des résultats de la validation croisée\n",
    "cvresults = print_cvresults(score, gspipeline, params)\n",
    "\n",
    "# Graphe des résultats sur les sets d'entrainement et de test, en fonction de(s) l'hyperparamètre(s) \n",
    "plot_traintestscores(cvresults, score, axis_scale=\"linear\", plot_param=\"n_neighbors\")"
   ]
  },
  {
   "cell_type": "code",
   "execution_count": 547,
   "metadata": {},
   "outputs": [
    {
     "name": "stdout",
     "output_type": "stream",
     "text": [
      "Meilleur(s) hyperparamètre(s) sur le jeu d'entraînement:\n",
      "{'regressor__n_neighbors': 7}\n",
      "\n",
      "Sur le jeu de test : 0.822\n"
     ]
    },
    {
     "data": {
      "image/png": "[encoded data removed]",
      "text/plain": [
       "<Figure size 432x288 with 1 Axes>"
      ]
     },
     "metadata": {
      "needs_background": "light"
     },
     "output_type": "display_data"
    }
   ],
   "source": [
    "from sklearn.neighbors import KNeighborsRegressor\n",
    "\n",
    "# chargement du modèle\n",
    "m1, features = modelpreparation(model1)\n",
    "\n",
    "# Valeurs possibles du nombre de plus proches voisins\n",
    "params = {\"n_neighbors\" : [1, 3, 5, 7, 9, 11, 13, 15, 17, 19]}\n",
    "\n",
    "# Choisir un score à optimiser et/ou une erreur à minimiser, ici le R2 et le RMSE \n",
    "score = ('r2', 'neg_root_mean_squared_error')\n",
    "\n",
    "# modèle\n",
    "model = KNeighborsRegressor()\n",
    "\n",
    "# Preprocessing et fit du modèle\n",
    "gspipeline = crossval_GS(\"TotalGHGEmissions_log\", features, m1, params, model, score)\n",
    "\n",
    "# DataFrame des résultats de la validation croisée\n",
    "cvresults = print_cvresults(score, gspipeline, params)\n",
    "\n",
    "# Graphe des résultats sur les sets d'entrainement et de test, en fonction de(s) l'hyperparamètre(s) \n",
    "plot_traintestscores(cvresults, score, axis_scale=\"linear\", plot_param=\"n_neighbors\")"
   ]
  },
  {
   "cell_type": "markdown",
   "metadata": {},
   "source": [
    "**Second modèle**"
   ]
  },
  {
   "cell_type": "code",
   "execution_count": 548,
   "metadata": {},
   "outputs": [
    {
     "name": "stdout",
     "output_type": "stream",
     "text": [
      "Meilleur(s) hyperparamètre(s) sur le jeu d'entraînement:\n",
      "{'regressor__n_neighbors': 9}\n",
      "\n",
      "Sur le jeu de test : 0.734\n"
     ]
    },
    {
     "data": {
      "image/png": "[encoded data removed]",
      "text/plain": [
       "<Figure size 432x288 with 1 Axes>"
      ]
     },
     "metadata": {
      "needs_background": "light"
     },
     "output_type": "display_data"
    }
   ],
   "source": [
    "from sklearn.neighbors import KNeighborsRegressor\n",
    "\n",
    "m2, features = modelpreparation(model2)\n",
    "\n",
    "# Valeurs possibles du nombre de plus proches voisins\n",
    "params = {\"n_neighbors\" : [1, 3, 5, 7, 9, 11, 13, 15, 17, 19]}\n",
    "\n",
    "# Choisir un score à optimiser et/ou une erreur à minimiser, ici le R2 et le RMSE \n",
    "score = ('r2', 'neg_root_mean_squared_error')\n",
    "\n",
    "# modèle\n",
    "model = KNeighborsRegressor()\n",
    "\n",
    "# Preprocessing et fit du modèle\n",
    "gspipeline = crossval_GS(\"SiteEnergyUse_log\", features, m1, params, model, score)\n",
    "\n",
    "# DataFrame des résultats de la validation croisée\n",
    "cvresults = print_cvresults(score, gspipeline, params)\n",
    "\n",
    "# Graphe des résultats sur les sets d'entrainement et de test, en fonction de(s) l'hyperparamètre(s) \n",
    "plot_traintestscores(cvresults, score, axis_scale=\"linear\", plot_param=\"n_neighbors\")"
   ]
  },
  {
   "cell_type": "code",
   "execution_count": 549,
   "metadata": {},
   "outputs": [
    {
     "name": "stdout",
     "output_type": "stream",
     "text": [
      "Meilleur(s) hyperparamètre(s) sur le jeu d'entraînement:\n",
      "{'regressor__n_neighbors': 11}\n",
      "\n",
      "Sur le jeu de test : 0.824\n"
     ]
    },
    {
     "data": {
      "image/png": "[encoded data removed]",
      "text/plain": [
       "<Figure size 432x288 with 1 Axes>"
      ]
     },
     "metadata": {
      "needs_background": "light"
     },
     "output_type": "display_data"
    }
   ],
   "source": [
    "from sklearn.neighbors import KNeighborsRegressor\n",
    "\n",
    "m2, features = modelpreparation(model2)\n",
    "\n",
    "# Valeurs possibles du nombre de plus proches voisins\n",
    "params = {\"n_neighbors\" : [1, 3, 5, 7, 9, 11, 13, 15, 17, 19]}\n",
    "\n",
    "# Choisir un score à optimiser et/ou une erreur à minimiser, ici le R2 et le RMSE \n",
    "score = ('r2', 'neg_root_mean_squared_error')\n",
    "\n",
    "# modèle\n",
    "model = KNeighborsRegressor()\n",
    "\n",
    "# Preprocessing et fit du modèle\n",
    "gspipeline = crossval_GS(\"TotalGHGEmissions_log\", features, m1, params, model, score)\n",
    "\n",
    "# DataFrame des résultats de la validation croisée\n",
    "cvresults = print_cvresults(score, gspipeline, params)\n",
    "\n",
    "# Graphe des résultats sur les sets d'entrainement et de test, en fonction de(s) l'hyperparamètre(s) \n",
    "plot_traintestscores(cvresults, score, axis_scale=\"linear\", plot_param=\"n_neighbors\")"
   ]
  },
  {
   "cell_type": "markdown",
   "metadata": {},
   "source": [
    "## III.4 Sélection de prédicteurs avec Lasso"
   ]
  },
  {
   "cell_type": "code",
   "execution_count": 467,
   "metadata": {},
   "outputs": [
    {
     "name": "stdout",
     "output_type": "stream",
     "text": [
      "Meilleur(s) hyperparamètre(s) sur le jeu d'entraînement:\n",
      "{'regressor__alpha': 0.00021544346900318823}\n",
      "\n",
      "Sur le jeu de test : 0.541\n"
     ]
    },
    {
     "data": {
      "image/png": "[encoded data removed]",
      "text/plain": [
       "<Figure size 432x288 with 1 Axes>"
      ]
     },
     "metadata": {
      "needs_background": "light"
     },
     "output_type": "display_data"
    }
   ],
   "source": [
    "m1, features = modelpreparation(model1)\n",
    "model = LinearRegression()\n",
    "\n",
    "# Valeurs possibles du paramètre alpha\n",
    "params = {\"alpha\" : np.logspace(-5, -2, 10)}\n",
    "\n",
    "# Choisir un score à optimiser et/ou une erreur à minimiser, ici le R2 et le RMSE \n",
    "score = ('r2', 'neg_root_mean_squared_error')\n",
    "\n",
    "# modèle\n",
    "model = Lasso(tol=1e-4, max_iter=1e5)\n",
    "\n",
    "# Preprocessing et fit du modèle\n",
    "gspipeline = crossval_GS(\"SiteEnergyUse_log\", features, m1, params, model, score)\n",
    "\n",
    "# DataFrame des résultats de la validation croisée\n",
    "cvresults = print_cvresults(score, gspipeline, params)\n",
    "\n",
    "# Graphe des résultats sur les sets d'entrainement et de test, en fonction de(s) l'hyperparamètre(s) \n",
    "plot_traintestscores(cvresults, score, plot_param=\"alpha\")"
   ]
  },
  {
   "cell_type": "code",
   "execution_count": 470,
   "metadata": {
    "scrolled": false
   },
   "outputs": [
    {
     "name": "stdout",
     "output_type": "stream",
     "text": [
      "Meilleur(s) hyperparamètre(s) sur le jeu d'entraînement:\n",
      "{'regressor__alpha': 0.00035938136638046257}\n",
      "\n",
      "Sur le jeu de test : 0.705\n"
     ]
    },
    {
     "data": {
      "image/png": "[encoded data removed]",
      "text/plain": [
       "<Figure size 432x288 with 1 Axes>"
      ]
     },
     "metadata": {
      "needs_background": "light"
     },
     "output_type": "display_data"
    }
   ],
   "source": [
    "m1, features = modelpreparation(model1)\n",
    "\n",
    "# Valeurs possibles du paramètre alpha\n",
    "params = {\"alpha\" : np.logspace(-5, 2, 10)}\n",
    "\n",
    "# Choisir un score à optimiser et/ou une erreur à minimiser, ici le R2 et le RMSE \n",
    "score = ('r2', 'neg_root_mean_squared_error')\n",
    "\n",
    "# modèle\n",
    "model = Lasso(tol=1e-4, max_iter=1e5)\n",
    "\n",
    "# Preprocessing et fit du modèle\n",
    "gspipeline = crossval_GS(\"TotalGHGEmissions_log\", features, m1, params, model, score)\n",
    "\n",
    "# DataFrame des résultats de la validation croisée\n",
    "cvresults = print_cvresults(score, gspipeline, params)\n",
    "\n",
    "# Graphe des résultats sur les sets d'entrainement et de test, en fonction de(s) l'hyperparamètre(s) \n",
    "plot_traintestscores(cvresults, score, plot_param=\"alpha\")"
   ]
  },
  {
   "cell_type": "markdown",
   "metadata": {},
   "source": [
    "**Réduction de la complexité**"
   ]
  },
  {
   "cell_type": "markdown",
   "metadata": {},
   "source": [
    "On commence par afficher les poids des différentes colonnes pour la valeur optimale de alpha déterminée par validation croisée. On sélectionne ensuite un sous-ensemble de ces colonnes: on ne retiendra que celles dont les poids sont supérieurs à 5%"
   ]
  },
  {
   "cell_type": "code",
   "execution_count": 544,
   "metadata": {},
   "outputs": [
    {
     "name": "stdout",
     "output_type": "stream",
     "text": [
      "Poids affectés aux différentes variables par Lasso pour alpha=2.15e-3:\n",
      "\n",
      "                                               coefficient\n",
      "x3_Large Office_Office                        2.751276e-01\n",
      "x3_Low-Rise Multifamily_Multifamily Housing   2.269145e-01\n",
      "x3_High-Rise Multifamily_Multifamily Housing  1.751710e-01\n",
      "F1                                            1.146846e-01\n",
      "Electricity_ratio                             8.901416e-02\n",
      "x2_None                                       7.605647e-02\n",
      "x3_Mid-Rise Multifamily_Multifamily Housing   7.138087e-02\n",
      "x1_None                                       7.000849e-02\n",
      "x1_Office                                     6.463653e-02\n",
      "F2                                            6.043735e-02\n",
      "F3                                            5.174761e-02\n",
      "x3_Other_Office                               5.127190e-02\n",
      "x3_Other_Multifamily Housing                  4.453561e-02\n",
      "x0_Other                                      4.255807e-02\n",
      "F4                                            3.989302e-02\n",
      "x3_Small- and Mid-Sized Office_Office         3.360359e-02\n",
      "x3_Other                                      2.826775e-02\n",
      "NumberofBuildings                             2.395149e-02\n",
      "x0_NonResidential                             1.032729e-02\n",
      "x1_Other                                      9.554682e-03\n",
      "x1_Parking                                    8.682541e-03\n",
      "NumberofFloors                                6.912062e-03\n",
      "x2_Other                                      1.293142e-15\n",
      "x0_Multifamily Housing                        0.000000e+00\n",
      "\n",
      "Sélection des variables dont le poids est supérieur à 0.055:\n",
      "Nombre de variables avant sélection: 24\n",
      "Nombre de variables après sélection: 10\n"
     ]
    }
   ],
   "source": [
    "# chargement du modèle et des variables associées\n",
    "m1, features = modelpreparation(model1)\n",
    "\n",
    "# Préparation des sets d'entraînement et de test\n",
    "X = m1[features]\n",
    "y = m1[\"SiteEnergyUse_log\"]\n",
    "X_train, X_test, y_train, y_test = train_test_split(X, y, test_size=0.3,\n",
    "                                                    random_state=0)\n",
    "\n",
    "\n",
    "# Récupération des positions des variables utilisées lors de l'ACP. Le tableau numpy est réorganisé lors du \n",
    "# preprocessing: par l'ACP on crée 4 nouvelles colonnes placées entre les colonnes numériques et les colonnes \n",
    "# catégorielles\n",
    "pca_cols = [\"PropertyGFATotal\", \n",
    "                    \"PropertyGFAParking\",\n",
    "                    \"PropertyGFABuilding(s)\",\n",
    "                    \"LargestPropertyUseTypeGFA\",\n",
    "                    \"SecondLargestPropertyUseTypeGFA\",\n",
    "                    \"ThirdLargestPropertyUseTypeGFA\"]\n",
    "\n",
    "\n",
    "X_train_only_numeric = X_train.select_dtypes(include=['float64'])\n",
    "pca_index = [X_train_only_numeric.columns.get_loc(c) for c in pca_cols]\n",
    "pca_dict = {\"cols\":pca_cols, \"index\":pca_index}\n",
    "\n",
    "# Utilisation de Lasso pour recherche les valeurs des poids pour alpha déterminé par validation croisée \n",
    "# ci-dessus\n",
    "lasso = Lasso(alpha=2.15e-4, max_iter=1e5)\n",
    "\n",
    "# Création du pipeline constitué d'une étape de normalisation, d'ACP et de l'estimateur. \n",
    "pipeline = create_pipeline(lasso, pca_dict)\n",
    "pipeline.fit(X_train, y_train)\n",
    "coefs = pipeline.named_steps['regressor'].coef_\n",
    "\n",
    "# Affichage des résultats dans un dataframe\n",
    "# Les colonnes de type numérique (non catégoriel) du dataframe avant transformation\n",
    "base_cols = X_train.dtypes[X_train.dtypes!='category'].index\n",
    "\n",
    "# Colonnes correspondant au dataframe transformé\n",
    "onehot_cols = pipeline.named_steps['preprocessor1'].named_transformers_['cat'].get_feature_names()\n",
    "updated_cols = pd.Index([c for c in base_cols if not c in pca_cols])\n",
    "labels = np.concatenate((updated_cols,\n",
    "                         ['F1', 'F2', 'F3', 'F4'], \n",
    "                         onehot_cols,\n",
    "                         ))\n",
    "labels = pd.Index(labels)\n",
    "print(\"Poids affectés aux différentes variables par Lasso pour alpha=2.15e-3:\")\n",
    "print('')\n",
    "print(pd.DataFrame(data={\"coefficient\":np.abs(coefs)}, index=labels)\n",
    "      .sort_values(by=['coefficient'],\n",
    "                   ascending=False))\n",
    "\n",
    "# Utilisation de Lasso pour recherche les valeurs des poids pour alpha déterminé par validation croisée ci-dessus\n",
    "lasso = Lasso(alpha=2.15e-4, max_iter=1e5)\n",
    "\n",
    "# Création du pipeline constitué d'une étape de normalisation, d'ACP et de l'estimateur. \n",
    "pipeline = create_pipeline(lasso, pca_dict, regressor=False)\n",
    "X_train_transf = pipeline.fit_transform(X_train)\n",
    "select = SelectFromModel(estimator=lasso, threshold=0.055).fit(X_train_transf, y_train)\n",
    "X_train_sel = select.transform(X_train_transf)\n",
    "\n",
    "print('')\n",
    "print(\"Sélection des variables dont le poids est supérieur à 0.055:\")\n",
    "print(f\"Nombre de variables avant sélection: {X_train_transf.shape[1]}\")\n",
    "print(f\"Nombre de variables après sélection: {X_train_sel.shape[1]}\")"
   ]
  },
  {
   "cell_type": "markdown",
   "metadata": {},
   "source": [
    "## III.5 Feature importance avec RandomForest"
   ]
  },
  {
   "cell_type": "markdown",
   "metadata": {},
   "source": [
    "Premier essai avec l'algorithme RandomForestRegressor sur les mêmes features que précédemment et un nombre d'estimateurs à 100. Le but est à la fois d'obtenir une première estimation par cet algorithme et une mesure des feature_importances dans le but d'optimiser le modèle."
   ]
  },
  {
   "cell_type": "markdown",
   "metadata": {},
   "source": [
    "Performance de RandomForestRegressor avec les variables sélectionnées par Lasso"
   ]
  },
  {
   "cell_type": "code",
   "execution_count": 553,
   "metadata": {},
   "outputs": [
    {
     "data": {
      "text/plain": [
       "0.7249669328315204"
      ]
     },
     "execution_count": 553,
     "metadata": {},
     "output_type": "execute_result"
    }
   ],
   "source": [
    "from sklearn.ensemble import RandomForestRegressor\n",
    "from sklearn.inspection import permutation_importance\n",
    "\n",
    "\n",
    "rfr = RandomForestRegressor(n_estimators=100, oob_score=True)\n",
    "rfr.fit(X_train_transf, y_train)\n",
    "X_test_transf = pipeline.fit_transform(X_test)\n",
    "rfr.score(X_test_transf, y_test)"
   ]
  },
  {
   "cell_type": "markdown",
   "metadata": {},
   "source": [
    "On reprend le jeu de données initial pour déterminer la valeur optimale de l'hyperparamètre n_estimators"
   ]
  },
  {
   "cell_type": "code",
   "execution_count": 588,
   "metadata": {
    "scrolled": false
   },
   "outputs": [
    {
     "name": "stdout",
     "output_type": "stream",
     "text": [
      "Meilleur(s) hyperparamètre(s) sur le jeu d'entraînement:\n",
      "{'regressor__n_estimators': 500}\n",
      "\n",
      "Performance en généralisation sur le jeu de test : 0.852\n",
      "Performance(s) moyenne(s) sur le jeu d'entraînement:\n",
      "   mean_train_r2  std_train_r2  mean_train_neg_root_mean_squared_error  \\\n",
      "3       0.974413      0.001034                                0.077678   \n",
      "4       0.974663      0.000966                                0.077300   \n",
      "2       0.973404      0.000970                                0.079200   \n",
      "0       0.969753      0.001477                                0.084447   \n",
      "1       0.971786      0.001600                                0.081547   \n",
      "\n",
      "   std_train_neg_root_mean_squared_error  mean_test_r2  std_test_r2  \\\n",
      "3                               0.000833      0.807930     0.018877   \n",
      "4                               0.000728      0.807128     0.019488   \n",
      "2                               0.000792      0.805192     0.018541   \n",
      "0                               0.001312      0.801015     0.017791   \n",
      "1                               0.001519      0.799948     0.021149   \n",
      "\n",
      "   mean_test_neg_root_mean_squared_error  \\\n",
      "3                               0.211958   \n",
      "4                               0.212380   \n",
      "2                               0.213490   \n",
      "0                               0.215818   \n",
      "1                               0.216234   \n",
      "\n",
      "   std_test_neg_root_mean_squared_error param_regressor__n_estimators  \\\n",
      "3                              0.002953                           500   \n",
      "4                              0.003357                          1000   \n",
      "2                              0.002878                           100   \n",
      "0                              0.002313                            25   \n",
      "1                              0.003699                            50   \n",
      "\n",
      "   mean_fit_time  std_fit_time  mean_score_time  std_score_time  \n",
      "3      14.738442      0.546929         0.205223        0.002414  \n",
      "4      29.301669      0.525441         0.391215        0.002896  \n",
      "2       2.948407      0.050073         0.053618        0.000606  \n",
      "0       0.798605      0.030329         0.028717        0.004186  \n",
      "1       1.491310      0.011840         0.035448        0.000629  \n",
      "Scores moyens sur le jeu d'entraînement, avec le meilleur modèle:\n",
      "R2: 0.974\n",
      "RMSE: 0.078\n"
     ]
    },
    {
     "data": {
      "image/png": "[encoded data removed]",
      "text/plain": [
       "<Figure size 432x288 with 1 Axes>"
      ]
     },
     "metadata": {
      "needs_background": "light"
     },
     "output_type": "display_data"
    }
   ],
   "source": [
    "m1, features = modelpreparation(model1)\n",
    "\n",
    "# Valeurs possibles du paramètre alpha\n",
    "params = {\"n_estimators\" : [25,\n",
    "                            50,\n",
    "                            100, 500, 1000\n",
    "                           ]}\n",
    "\n",
    "# Choisir un score à optimiser et/ou une erreur à minimiser, ici le R2 et le RMSE \n",
    "score = ('r2', 'neg_root_mean_squared_error')\n",
    "\n",
    "# modèle\n",
    "model = RandomForestRegressor(oob_score=True)\n",
    "\n",
    "# Preprocessing et fit du modèle\n",
    "gspipeline = crossval_GS(\"SiteEnergyUse_log\", features, m1, params, model, score)\n",
    "\n",
    "# DataFrame des résultats de la validation croisée\n",
    "cvresults, result_cols = print_cvresults(score, gspipeline, params)\n",
    "\n",
    "key_prefix = \"param_regressor__\"\n",
    "\n",
    "mean_scores = cvresults.loc[\n",
    "    cvresults[key_prefix+\"n_estimators\"]==gspipeline.best_params_[\"regressor__n_estimators\"],\n",
    "    [\"mean_train_r2\", \"mean_train_neg_root_mean_squared_error\"]].mean()\n",
    "\n",
    "print(cvresults[result_cols])\n",
    "print(\"Scores moyens sur le jeu d'entraînement, avec le meilleur modèle:\")\n",
    "print(\"R2: {:.3f} +/- {:.3f}\".format(mean_scores[0], cvresults.iloc[0][\"std_train_r2\"]))\n",
    "print(\"RMSE: {:.3f} +/- {:.3f}\".format(mean_scores[1], cvresults.iloc[0][\"std_train_neg_root_mean_squared_error\"]))\n",
    "    \n",
    "# Graphe des résultats sur les sets d'entrainement et de test, en fonction de(s) l'hyperparamètre(s) \n",
    "plot_traintestscores(cvresults, score, plot_param=\"n_estimators\", axis_scale='linear')"
   ]
  },
  {
   "cell_type": "markdown",
   "metadata": {},
   "source": [
    "Feature importances avec RandomForest"
   ]
  },
  {
   "cell_type": "code",
   "execution_count": 608,
   "metadata": {},
   "outputs": [
    {
     "data": {
      "image/png": "[encoded data removed]",
      "text/plain": [
       "<Figure size 720x360 with 2 Axes>"
      ]
     },
     "metadata": {
      "needs_background": "light"
     },
     "output_type": "display_data"
    }
   ],
   "source": [
    "from sklearn.ensemble import RandomForestRegressor\n",
    "from sklearn.inspection import permutation_importance\n",
    "\n",
    "rfr = RandomForestRegressor(n_estimators=500, oob_score=True)\n",
    "target = \"SiteEnergyUse_log\"\n",
    "\n",
    "# chargement du modèle\n",
    "m1, features = modelpreparation(model1)\n",
    "\n",
    "\n",
    "# Séparation prédicteurs - cible\n",
    "X = m1[features]\n",
    "y = m1[target]\n",
    "\n",
    "X_train, X_test, y_train, y_test = train_test_split(X, y, test_size=0.3,\n",
    "                                                    random_state=0)\n",
    "\n",
    "# Récupération des indices correspondant aux variables sur lesquelles on réalise l'ACP dans le tableau\n",
    "# numpy créé après preprocessing1. Le tableau numpy est en effet réorganisé lors du preprocessing avec les\n",
    "# colonnes numeriques d'abord, puis les colonnes créées lors de l'ACP et enfin les colonnes catégorielles\n",
    "# colonnes sur lesquelles appliquer l'ACP\n",
    "pca_cols = [\"PropertyGFATotal\", \n",
    "            \"PropertyGFAParking\",\n",
    "            \"PropertyGFABuilding(s)\",\n",
    "            \"LargestPropertyUseTypeGFA\",\n",
    "            \"SecondLargestPropertyUseTypeGFA\",\n",
    "            \"ThirdLargestPropertyUseTypeGFA\"]\n",
    "\n",
    "X_train_only_numeric = X_train.select_dtypes(include=['float64'])\n",
    "pca_index = [X_train_only_numeric.columns.get_loc(c) for c in pca_cols]\n",
    "pca_dict = {\"cols\":pca_cols, \"index\":pca_index}\n",
    "\n",
    "# Création du pipeline constitué d'une étape de normalisation, d'ACP et de l'estimateur. \n",
    "reg = create_pipeline(rfr, pca_dict)\n",
    "\n",
    "# Fit transform\n",
    "reg.fit(X_train, y_train)\n",
    "\n",
    "# Permutation importance\n",
    "result = permutation_importance(reg, X_test, y_test, n_repeats=10,\n",
    "                                random_state=0)\n",
    "sorted_idx = result.importances_mean.argsort()\n",
    "\n",
    "# Feature importances\n",
    "feat_importances = reg.named_steps['regressor'].feature_importances_\n",
    "\n",
    "# Affichage des résultats dans un dataframe\n",
    "# Les colonnes de type numérique (non catégoriel) du dataframe avant transformation\n",
    "base_cols = X_train.dtypes[X_train.dtypes!='category'].index\n",
    "\n",
    "# Colonnes correspondant au dataframe transformé\n",
    "onehot_cols = pipeline.named_steps['preprocessor1'].named_transformers_['cat'].get_feature_names()\n",
    "updated_cols = pd.Index([c for c in base_cols if not c in pca_cols])\n",
    "labels = np.concatenate((updated_cols,\n",
    "                         ['F1', 'F2', 'F3', 'F4'], \n",
    "                         onehot_cols,\n",
    "                         ))\n",
    "labels = pd.Index(labels)    \n",
    "\n",
    "\n",
    "feature_importances = pd.DataFrame(data={\"feature importance\":np.abs(feat_importances)},\n",
    "                                   index=labels).sort_values(by=['feature importance'],\n",
    "                                                             ascending=False)\n",
    "\n",
    "# Affichage des features par ordre d'importance\n",
    "fig, (ax1, ax2) = plt.subplots(ncols=2, figsize=(10, 5))\n",
    "ax1.boxplot(result.importances[sorted_idx].T,\n",
    "           vert=False, labels=labels[sorted_idx])\n",
    "ax1.set_title(\"Permutation Importances (test set)\")\n",
    "\n",
    "f = feature_importances[\"feature importance\"]\n",
    "ax2.barh(f.index, f)\n",
    "ax2.set_title(\"Feature importances (train set)\")\n",
    "ax2.invert_yaxis()\n",
    "fig.tight_layout()\n",
    "plt.show()"
   ]
  },
  {
   "cell_type": "markdown",
   "metadata": {},
   "source": [
    "## IV ENERGYSTARScore"
   ]
  },
  {
   "cell_type": "markdown",
   "metadata": {},
   "source": [
    "Comme vu lors de l'analyse exploratoire, ENERGYSTARScore est corrélée à SourceEUIWN, GHGEmissionsIntensity, et ces dernières sont corrélées à TotalGHGEmissions via PropertyGFABuilding(s). On va donc créer un modèle basé en premier lieu sur ces variables."
   ]
  },
  {
   "cell_type": "code",
   "execution_count": 639,
   "metadata": {},
   "outputs": [
    {
     "name": "stdout",
     "output_type": "stream",
     "text": [
      "R2 sur le jeu de données: 0.06726279089552156\n"
     ]
    },
    {
     "data": {
      "image/png": "[encoded data removed]",
      "text/plain": [
       "<Figure size 432x288 with 1 Axes>"
      ]
     },
     "metadata": {
      "needs_background": "light"
     },
     "output_type": "display_data"
    },
    {
     "name": "stdout",
     "output_type": "stream",
     "text": [
      "R2 sur le jeu de données: 0.5247095239647329\n"
     ]
    },
    {
     "data": {
      "image/png": "[encoded data removed]",
      "text/plain": [
       "<Figure size 432x288 with 1 Axes>"
      ]
     },
     "metadata": {
      "needs_background": "light"
     },
     "output_type": "display_data"
    }
   ],
   "source": [
    "# prédicteurs\n",
    "escmodel = model1.copy()\n",
    "escmodel.dropna(subset=[\"ENERGYSTARScore\"], inplace=True)\n",
    "\n",
    "features = \"ENERGYSTARScore\"\n",
    "target = \"GHGEmissionsIntensity\"\n",
    "\n",
    "X = escmodel[features].values.reshape(-1, 1)\n",
    "y = escmodel[target].values\n",
    "\n",
    "# Régression linéaire sur les données brutes\n",
    "lr = LinearRegression()\n",
    "lr.fit(X, y)\n",
    "print(\"R2 sur le jeu de données: {}\".format(lr.score(X,y)))\n",
    "coef = lr.coef_\n",
    "intercept = lr.intercept_\n",
    "\n",
    "fig, ax = plt.subplots()\n",
    "ax.scatter(x=escmodel[\"ENERGYSTARScore\"], y=escmodel[\"TotalGHGEmissions\"])\n",
    "ax.plot(escmodel[\"ENERGYSTARScore\"], intercept + escmodel[\"ENERGYSTARScore\"]*coef, '--')\n",
    "ax.set_title(\"GHGEmissionsIntensity vs ENERGYSTARScore\")\n",
    "plt.show()\n",
    "\n",
    "# Régression linéaire sur les valeurs moyennes de GHGEmissionsIntensity pour chaque valeur de ENERGYSTARScore\n",
    "X = escmodel.groupby(features).mean()[target].index.to_numpy().reshape(-1, 1)\n",
    "y = escmodel.groupby(features).mean()[target].values\n",
    "\n",
    "lr.fit(X, y)\n",
    "print(\"R2 sur le jeu de données: {}\".format(lr.score(X,y)))\n",
    "coef = lr.coef_\n",
    "intercept = lr.intercept_\n",
    "\n",
    "indices = escmodel.groupby(features).mean()[target].index.values\n",
    "fig, ax = plt.subplots()\n",
    "ax.scatter(escmodel.groupby(features).mean()[target].index.to_numpy(),  y)\n",
    "ax.plot(indices, intercept + indices*coef, 'r--')\n",
    "ax.set_title(\"Mean GHGEmissionsIntensity vs ENERGYSTARScore\")\n",
    "plt.show()"
   ]
  },
  {
   "cell_type": "markdown",
   "metadata": {},
   "source": [
    "# VI Choix du modèle"
   ]
  },
  {
   "cell_type": "code",
   "execution_count": null,
   "metadata": {},
   "outputs": [],
   "source": [
    "index = [\"mean_test_r2\", \"mean_train_r2\",\"mean_test_neg_root_mean_squared_error\", \"mean_fit_time\"]\n",
    "d = {\"Ridge\":log_ridgebestresult[index], \n",
    "      \"Lasso\":log_lassobestresult[index],\n",
    "      \"kNN\":log_knnbestresult[index],\n",
    "      \"SVM\":log_svm_bestresult[index], \n",
    "      \"SVM Non-linéaire\": log_kernelsvm_bestresult[index],\n",
    "      \"randomforest\":log_randomforestbestresult[index], \n",
    "      \"gradient boosting\":log_grboostbestresult[index]}\n",
    "model_1 = pd.DataFrame(data=d)\n",
    "model_1"
   ]
  },
  {
   "cell_type": "code",
   "execution_count": null,
   "metadata": {},
   "outputs": [],
   "source": [
    "def benchmark(reg):\n",
    "\n",
    "    t0 = time()\n",
    "    reg.fit(X_train, y_train)\n",
    "    train_time = time() - t0\n",
    "    print(\"train time: %0.3fs\" % train_time)\n",
    "\n",
    "    t0 = time()\n",
    "    pred = reg.predict(X_test)\n",
    "    test_time = time() - t0\n",
    "    print(\"test time:  %0.3fs\" % test_time)\n",
    "\n",
    "    score = metrics.accuracy_score(y_test, pred)\n",
    "    print(\"accuracy:   %0.3f\" % score)\n",
    "\n",
    "    print()\n",
    "    clf_descr = str(clf).split('(')[0]\n",
    "    return clf_descr, score, train_time, test_time\n",
    "\n",
    "for clf, name in (\n",
    "        (LinearRegression(), \"Linear Regression\"),\n",
    "        (Lasso(alpha=), \"Lasso\"),\n",
    "        (Lasso(), \"Lasso\"),\n",
    "        (KNeighborsClassifier(n_neighbors=10), \"kNN\"),\n",
    "        (RandomForestRegressor(), \"Random forest\")):\n",
    "    print('=' * 80)\n",
    "    print(name)\n",
    "    results.append(benchmark(clf))"
   ]
  }
 ],
 "metadata": {
  "kernelspec": {
   "display_name": "Python 3",
   "language": "python",
   "name": "python3"
  },
  "language_info": {
   "codemirror_mode": {
    "name": "ipython",
    "version": 3
   },
   "file_extension": ".py",
   "mimetype": "text/x-python",
   "name": "python",
   "nbconvert_exporter": "python",
   "pygments_lexer": "ipython3",
   "version": "3.7.3"
  }
 },
 "nbformat": 4,
 "nbformat_minor": 4
}
