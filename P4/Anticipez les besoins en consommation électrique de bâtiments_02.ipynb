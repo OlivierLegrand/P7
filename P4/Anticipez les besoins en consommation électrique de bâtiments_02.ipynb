{
 "cells": [
  {
   "cell_type": "markdown",
   "metadata": {},
   "source": [
    "# Modèles d'apprentissage\n",
    "\n",
    "__[III Modèles Linéaires](#III-Modèles-Linéaires)__\\\n",
    "[III.1 Régression linéaire simple avec toutes les variables](#III.1-Régression-linéaire-simple-avec-toutes-les-variables)\\\n",
    "[III.2 Ridge](#III.2-Ridge)\\\n",
    "[III.3 Lasso](#III.3-Lasso)\n",
    "\n",
    "__[IV kNN](#IV-kNN)__\n",
    "\n",
    "__[V SVM](#V-SVM)__\n",
    "\n",
    "__[VI Modèles non-linéaires](#VI-Modèles-non-linéaires)__\\\n",
    "[VI.1 SVM à noyau](#VI.1-SVM-à-noyau)\n",
    "\n",
    "__[VII Méthodes ensemblistes](#VII-Méthodes-ensemblistes)__\\\n",
    "[VII.1 Forêts aléatoires](#VII.1-Forêts-aléatoires)\\\n",
    "[VII.2 GradientBoostingRegressor](#VII.2-GradientBoostingRegressor)\n",
    "\n",
    "__[VIII Choix du modèle](#VIII-Choix-du-modèle)__\n",
    "\n"
   ]
  },
  {
   "cell_type": "code",
   "execution_count": 11,
   "metadata": {},
   "outputs": [],
   "source": [
    "import pandas as pd\n",
    "import matplotlib.pyplot as plt\n",
    "import seaborn as sns\n",
    "import numpy as np\n",
    "import missingno as msno"
   ]
  },
  {
   "cell_type": "markdown",
   "metadata": {},
   "source": [
    "# III Modèles\n",
    "## III.1 Régressions Linéaires"
   ]
  },
  {
   "cell_type": "code",
   "execution_count": 12,
   "metadata": {},
   "outputs": [],
   "source": [
    "from sklearn.model_selection import train_test_split\n",
    "from sklearn.linear_model import LinearRegression, Ridge, Lasso\n",
    "from sklearn.metrics import r2_score, mean_squared_error\n",
    "from sklearn.model_selection import KFold, GridSearchCV, cross_val_score, cross_validate\n",
    "from sklearn.preprocessing import StandardScaler, OneHotEncoder\n",
    "from sklearn.compose import ColumnTransformer\n",
    "from sklearn.compose import make_column_selector as selector\n",
    "from sklearn.pipeline import Pipeline\n",
    "from sklearn import set_config\n",
    "\n",
    "set_config(display='diagram')"
   ]
  },
  {
   "cell_type": "markdown",
   "metadata": {},
   "source": [
    "Chargement des modèles"
   ]
  },
  {
   "cell_type": "code",
   "execution_count": 13,
   "metadata": {},
   "outputs": [
    {
     "name": "stdout",
     "output_type": "stream",
     "text": [
      "<class 'pandas.core.frame.DataFrame'>\n",
      "Int64Index: 6209 entries, 0 to 6208\n",
      "Data columns (total 27 columns):\n",
      " #   Column                        Non-Null Count  Dtype  \n",
      "---  ------                        --------------  -----  \n",
      " 0   DataYear                      6209 non-null   int64  \n",
      " 1   BuildingType                  6209 non-null   object \n",
      " 2   PrimaryPropertyType           6209 non-null   object \n",
      " 3   Address                       6209 non-null   object \n",
      " 4   CouncilDistrictCode           6209 non-null   int64  \n",
      " 5   Neighborhood                  6209 non-null   object \n",
      " 6   YearBuilt                     6209 non-null   int64  \n",
      " 7   NumberofBuildings             6209 non-null   object \n",
      " 8   NumberofFloors                6209 non-null   object \n",
      " 9   LargestPropertyUseType        6209 non-null   object \n",
      " 10  SecondLargestPropertyUseType  6209 non-null   object \n",
      " 11  ThirdLargestPropertyUseType   6209 non-null   object \n",
      " 12  ENERGYSTARScore               4739 non-null   float64\n",
      " 13  SiteEnergyUse(kBtu)           6209 non-null   float64\n",
      " 14  SteamUse(kBtu)                6209 non-null   float64\n",
      " 15  Electricity(kBtu)             6209 non-null   float64\n",
      " 16  NaturalGas(kBtu)              6209 non-null   float64\n",
      " 17  TotalGHGEmissions             6209 non-null   float64\n",
      " 18  SiteEnergyUse_log             6209 non-null   float64\n",
      " 19  TotalGHGEmissions_log         6209 non-null   float64\n",
      " 20  Electricity_ratio             6209 non-null   float64\n",
      " 21  NaturalGas_ratio              6209 non-null   float64\n",
      " 22  Steam_ratio                   6209 non-null   float64\n",
      " 23  F1                            6209 non-null   float64\n",
      " 24  F2                            6209 non-null   float64\n",
      " 25  F3                            6209 non-null   float64\n",
      " 26  F4                            6209 non-null   float64\n",
      "dtypes: float64(15), int64(3), object(9)\n",
      "memory usage: 1.3+ MB\n"
     ]
    }
   ],
   "source": [
    "modele1 = pd.read_csv(\"./modele1.csv\")\n",
    "modele2 = pd.read_csv(\"./modele2.csv\")\n",
    "\n",
    "modele1.info()"
   ]
  },
  {
   "cell_type": "code",
   "execution_count": 14,
   "metadata": {},
   "outputs": [
    {
     "name": "stdout",
     "output_type": "stream",
     "text": [
      "<class 'pandas.core.frame.DataFrame'>\n",
      "Int64Index: 6209 entries, 0 to 6208\n",
      "Data columns (total 21 columns):\n",
      " #   Column                  Non-Null Count  Dtype  \n",
      "---  ------                  --------------  -----  \n",
      " 0   DataYear                6209 non-null   int64  \n",
      " 1   BuildingType            6209 non-null   object \n",
      " 2   PrimaryPropertyType     6209 non-null   object \n",
      " 3   CouncilDistrictCode     6209 non-null   int64  \n",
      " 4   NumberofFloors          6209 non-null   object \n",
      " 5   LargestPropertyUseType  6209 non-null   object \n",
      " 6   ENERGYSTARScore         4739 non-null   float64\n",
      " 7   SiteEnergyUse           6209 non-null   float64\n",
      " 8   SteamUse(kBtu)          6209 non-null   float64\n",
      " 9   Electricity(kBtu)       6209 non-null   float64\n",
      " 10  NaturalGas(kBtu)        6209 non-null   float64\n",
      " 11  TotalGHGEmissions       6209 non-null   float64\n",
      " 12  SiteEnergyUse_log       6209 non-null   float64\n",
      " 13  TotalGHGEmissions_log   6209 non-null   float64\n",
      " 14  Electricity_ratio       6209 non-null   float64\n",
      " 15  NaturalGas_ratio        6209 non-null   float64\n",
      " 16  Steam_ratio             6209 non-null   float64\n",
      " 17  F1                      6209 non-null   float64\n",
      " 18  F2                      6209 non-null   float64\n",
      " 19  F3                      6209 non-null   float64\n",
      " 20  F4                      6209 non-null   float64\n",
      "dtypes: float64(15), int64(2), object(4)\n",
      "memory usage: 1.0+ MB\n"
     ]
    }
   ],
   "source": [
    "modele2.info()"
   ]
  },
  {
   "cell_type": "code",
   "execution_count": 15,
   "metadata": {},
   "outputs": [
    {
     "name": "stdout",
     "output_type": "stream",
     "text": [
      "<class 'pandas.core.frame.DataFrame'>\n",
      "Int64Index: 6209 entries, 0 to 6208\n",
      "Data columns (total 26 columns):\n",
      " #   Column                        Non-Null Count  Dtype   \n",
      "---  ------                        --------------  -----   \n",
      " 0   DataYear                      6209 non-null   category\n",
      " 1   BuildingType                  6209 non-null   category\n",
      " 2   PrimaryPropertyType           6209 non-null   category\n",
      " 3   Address                       6209 non-null   category\n",
      " 4   CouncilDistrictCode           6209 non-null   category\n",
      " 5   Neighborhood                  6209 non-null   category\n",
      " 6   YearBuilt                     6209 non-null   category\n",
      " 7   NumberofBuildings             6209 non-null   category\n",
      " 8   NumberofFloors                6209 non-null   category\n",
      " 9   LargestPropertyUseType        6209 non-null   category\n",
      " 10  SecondLargestPropertyUseType  6209 non-null   category\n",
      " 11  ThirdLargestPropertyUseType   6209 non-null   category\n",
      " 12  SiteEnergyUse(kBtu)           6209 non-null   float64 \n",
      " 13  SteamUse(kBtu)                6209 non-null   float64 \n",
      " 14  Electricity(kBtu)             6209 non-null   float64 \n",
      " 15  NaturalGas(kBtu)              6209 non-null   float64 \n",
      " 16  TotalGHGEmissions             6209 non-null   float64 \n",
      " 17  SiteEnergyUse_log             6209 non-null   float64 \n",
      " 18  TotalGHGEmissions_log         6209 non-null   float64 \n",
      " 19  Electricity_ratio             6209 non-null   float64 \n",
      " 20  NaturalGas_ratio              6209 non-null   float64 \n",
      " 21  Steam_ratio                   6209 non-null   float64 \n",
      " 22  F1                            6209 non-null   float64 \n",
      " 23  F2                            6209 non-null   float64 \n",
      " 24  F3                            6209 non-null   float64 \n",
      " 25  F4                            6209 non-null   float64 \n",
      "dtypes: category(12), float64(14)\n",
      "memory usage: 804.7 KB\n"
     ]
    }
   ],
   "source": [
    "df = modele1.drop(columns=[\"ENERGYSTARScore\"])\n",
    "\n",
    "# Sélection des cibles\n",
    "targets = [\"SiteEnergyUse(kBtu)\",\n",
    "           \"SiteEnergyUse_log\",\n",
    "           \"TotalGHGEmissions\", \n",
    "           \"TotalGHGEmissions_log\"]\n",
    "\n",
    "# retrait des colonnes liées à la consommation d'énergie\n",
    "energy_type = [\"SiteEnergyUseWN(kBtu)\", \n",
    "               \"SteamUse(kBtu)\",\n",
    "               \"Electricity(kBtu)\",\n",
    "               \"NaturalGas(kBtu)\", \n",
    "               #\"Electricity_ratio\", \n",
    "               #\"NaturalGas_ratio\", \n",
    "               #\"Steam_ratio\"\n",
    "              ]\n",
    "\n",
    "# Sélection des variables\n",
    "features = [col for col in df.columns if (col not in targets) and (col not in energy_type)]\n",
    "\n",
    "# Séparation des variables en types \"category\" et \"float64\"\n",
    "df[[\"NumberofBuildings\", \"NumberofFloors\"]] = df[[\"NumberofBuildings\", \n",
    "                                                  \"NumberofFloors\"]].astype(\"object\")\n",
    "\n",
    "# Séparation des variables en types \"category\" et \"float64\"\n",
    "#df[[\"PropertyGFATotal\"]] = df[[\"PropertyGFATotal\"]].astype(\"float64\")\n",
    "\n",
    "\n",
    "cat_cols = df.dtypes[(df.dtypes==\"int64\") | (df.dtypes==\"object\")].index\n",
    "df[cat_cols] = df[cat_cols].astype(\"category\")\n",
    "df.info()"
   ]
  },
  {
   "cell_type": "code",
   "execution_count": 16,
   "metadata": {},
   "outputs": [
    {
     "data": {
      "text/html": [
       "<div>\n",
       "<style scoped>\n",
       "    .dataframe tbody tr th:only-of-type {\n",
       "        vertical-align: middle;\n",
       "    }\n",
       "\n",
       "    .dataframe tbody tr th {\n",
       "        vertical-align: top;\n",
       "    }\n",
       "\n",
       "    .dataframe thead th {\n",
       "        text-align: right;\n",
       "    }\n",
       "</style>\n",
       "<table border=\"1\" class=\"dataframe\">\n",
       "  <thead>\n",
       "    <tr style=\"text-align: right;\">\n",
       "      <th></th>\n",
       "      <th>DataYear</th>\n",
       "      <th>BuildingType</th>\n",
       "      <th>PrimaryPropertyType</th>\n",
       "      <th>Address</th>\n",
       "      <th>CouncilDistrictCode</th>\n",
       "      <th>Neighborhood</th>\n",
       "      <th>YearBuilt</th>\n",
       "      <th>NumberofBuildings</th>\n",
       "      <th>NumberofFloors</th>\n",
       "      <th>LargestPropertyUseType</th>\n",
       "      <th>SecondLargestPropertyUseType</th>\n",
       "      <th>ThirdLargestPropertyUseType</th>\n",
       "      <th>Electricity_ratio</th>\n",
       "      <th>NaturalGas_ratio</th>\n",
       "      <th>Steam_ratio</th>\n",
       "      <th>F1</th>\n",
       "      <th>F2</th>\n",
       "      <th>F3</th>\n",
       "      <th>F4</th>\n",
       "    </tr>\n",
       "  </thead>\n",
       "  <tbody>\n",
       "    <tr>\n",
       "      <th>0</th>\n",
       "      <td>2015</td>\n",
       "      <td>NonResidential</td>\n",
       "      <td>Hotel</td>\n",
       "      <td>way</td>\n",
       "      <td>7</td>\n",
       "      <td>DOWNTOWN</td>\n",
       "      <td>3</td>\n",
       "      <td>1.0</td>\n",
       "      <td>Other</td>\n",
       "      <td>Hotel</td>\n",
       "      <td>None</td>\n",
       "      <td>None</td>\n",
       "      <td>0.527995</td>\n",
       "      <td>0.182253</td>\n",
       "      <td>0.289773</td>\n",
       "      <td>-0.229415</td>\n",
       "      <td>0.378345</td>\n",
       "      <td>0.148800</td>\n",
       "      <td>-0.121410</td>\n",
       "    </tr>\n",
       "    <tr>\n",
       "      <th>1</th>\n",
       "      <td>2015</td>\n",
       "      <td>NonResidential</td>\n",
       "      <td>Hotel</td>\n",
       "      <td>street</td>\n",
       "      <td>7</td>\n",
       "      <td>DOWNTOWN</td>\n",
       "      <td>10</td>\n",
       "      <td>1.0</td>\n",
       "      <td>Other</td>\n",
       "      <td>Hotel</td>\n",
       "      <td>Parking</td>\n",
       "      <td>Restaurant</td>\n",
       "      <td>0.467477</td>\n",
       "      <td>0.532542</td>\n",
       "      <td>0.000000</td>\n",
       "      <td>0.175392</td>\n",
       "      <td>-0.187387</td>\n",
       "      <td>0.018060</td>\n",
       "      <td>-0.135515</td>\n",
       "    </tr>\n",
       "    <tr>\n",
       "      <th>2</th>\n",
       "      <td>2015</td>\n",
       "      <td>NonResidential</td>\n",
       "      <td>Hotel</td>\n",
       "      <td>avenue</td>\n",
       "      <td>7</td>\n",
       "      <td>DOWNTOWN</td>\n",
       "      <td>7</td>\n",
       "      <td>1.0</td>\n",
       "      <td>Other</td>\n",
       "      <td>Hotel</td>\n",
       "      <td>Parking</td>\n",
       "      <td>Other</td>\n",
       "      <td>0.680459</td>\n",
       "      <td>0.050730</td>\n",
       "      <td>0.268839</td>\n",
       "      <td>7.214426</td>\n",
       "      <td>3.288951</td>\n",
       "      <td>1.179470</td>\n",
       "      <td>1.017279</td>\n",
       "    </tr>\n",
       "    <tr>\n",
       "      <th>3</th>\n",
       "      <td>2015</td>\n",
       "      <td>NonResidential</td>\n",
       "      <td>Hotel</td>\n",
       "      <td>street</td>\n",
       "      <td>7</td>\n",
       "      <td>DOWNTOWN</td>\n",
       "      <td>9</td>\n",
       "      <td>1.0</td>\n",
       "      <td>Other</td>\n",
       "      <td>Hotel</td>\n",
       "      <td>Parking</td>\n",
       "      <td>Other</td>\n",
       "      <td>0.409077</td>\n",
       "      <td>0.590940</td>\n",
       "      <td>0.000000</td>\n",
       "      <td>0.775598</td>\n",
       "      <td>-0.309767</td>\n",
       "      <td>-0.198389</td>\n",
       "      <td>1.123551</td>\n",
       "    </tr>\n",
       "    <tr>\n",
       "      <th>4</th>\n",
       "      <td>2015</td>\n",
       "      <td>Nonresidential COS</td>\n",
       "      <td>Other</td>\n",
       "      <td>street</td>\n",
       "      <td>7</td>\n",
       "      <td>DOWNTOWN</td>\n",
       "      <td>10</td>\n",
       "      <td>1.0</td>\n",
       "      <td>2.0</td>\n",
       "      <td>Other</td>\n",
       "      <td>None</td>\n",
       "      <td>None</td>\n",
       "      <td>0.603303</td>\n",
       "      <td>0.396722</td>\n",
       "      <td>0.000000</td>\n",
       "      <td>0.051260</td>\n",
       "      <td>-0.053909</td>\n",
       "      <td>-0.725997</td>\n",
       "      <td>-0.528541</td>\n",
       "    </tr>\n",
       "  </tbody>\n",
       "</table>\n",
       "</div>"
      ],
      "text/plain": [
       "  DataYear        BuildingType PrimaryPropertyType Address  \\\n",
       "0     2015      NonResidential               Hotel     way   \n",
       "1     2015      NonResidential               Hotel  street   \n",
       "2     2015      NonResidential               Hotel  avenue   \n",
       "3     2015      NonResidential               Hotel  street   \n",
       "4     2015  Nonresidential COS               Other  street   \n",
       "\n",
       "  CouncilDistrictCode Neighborhood YearBuilt NumberofBuildings NumberofFloors  \\\n",
       "0                   7     DOWNTOWN         3               1.0          Other   \n",
       "1                   7     DOWNTOWN        10               1.0          Other   \n",
       "2                   7     DOWNTOWN         7               1.0          Other   \n",
       "3                   7     DOWNTOWN         9               1.0          Other   \n",
       "4                   7     DOWNTOWN        10               1.0            2.0   \n",
       "\n",
       "  LargestPropertyUseType SecondLargestPropertyUseType  \\\n",
       "0                  Hotel                         None   \n",
       "1                  Hotel                      Parking   \n",
       "2                  Hotel                      Parking   \n",
       "3                  Hotel                      Parking   \n",
       "4                  Other                         None   \n",
       "\n",
       "  ThirdLargestPropertyUseType  Electricity_ratio  NaturalGas_ratio  \\\n",
       "0                        None           0.527995          0.182253   \n",
       "1                  Restaurant           0.467477          0.532542   \n",
       "2                       Other           0.680459          0.050730   \n",
       "3                       Other           0.409077          0.590940   \n",
       "4                        None           0.603303          0.396722   \n",
       "\n",
       "   Steam_ratio        F1        F2        F3        F4  \n",
       "0     0.289773 -0.229415  0.378345  0.148800 -0.121410  \n",
       "1     0.000000  0.175392 -0.187387  0.018060 -0.135515  \n",
       "2     0.268839  7.214426  3.288951  1.179470  1.017279  \n",
       "3     0.000000  0.775598 -0.309767 -0.198389  1.123551  \n",
       "4     0.000000  0.051260 -0.053909 -0.725997 -0.528541  "
      ]
     },
     "execution_count": 16,
     "metadata": {},
     "output_type": "execute_result"
    }
   ],
   "source": [
    "df[features].head()"
   ]
  },
  {
   "cell_type": "markdown",
   "metadata": {},
   "source": [
    "## III.1 Régression linéaire simple avec toutes les variables"
   ]
  },
  {
   "cell_type": "code",
   "execution_count": 17,
   "metadata": {},
   "outputs": [],
   "source": [
    "def print_lr(target, features, df):\n",
    "    \n",
    "    # One-hot encoding of categorical variable\n",
    "    categorical_transformer = OneHotEncoder(handle_unknown='ignore')\n",
    "    \n",
    "    # Standard scaling of numerical features\n",
    "    numeric_transformer = StandardScaler()\n",
    "    \n",
    "    preprocessor = ColumnTransformer(\n",
    "        transformers=[\n",
    "            (\"esc\", \"passthrough\", [\"F1\", \"F2\", \"F3\", \"F4\"]),\n",
    "            ('num', numeric_transformer, selector(dtype_exclude=\"category\")),\n",
    "            ('cat', categorical_transformer, selector(dtype_include=\"category\"))\n",
    "        ])\n",
    "    \n",
    "    # Append regressor to preprocessing pipeline.\n",
    "    # Now we have a full prediction pipeline.\n",
    "    reg = Pipeline(steps=[('preprocessor', preprocessor),\n",
    "                          ('regressor', LinearRegression())])\n",
    "    \n",
    "    X = df[features]\n",
    "    y = df[target]\n",
    "    \n",
    "    \n",
    "    # cross-validation\n",
    "    kf = KFold(n_splits=5, shuffle=True, random_state=0)\n",
    "    \n",
    "    #scores = cross_val_score(reg, X, y, cv=kf)\n",
    "    cv_results = pd.DataFrame(cross_validate(reg, X, y, cv=kf,\n",
    "                            scoring=('r2',\n",
    "                                     #'neg_mean_squared_log_error'\n",
    "                                    ),\n",
    "                            return_train_score=True)).sort_values(by=\"test_r2\", ascending=False)\n",
    "    \n",
    "    # remplace les valeurs de neg_mean_squared_error, par leurs opposées\n",
    "    \n",
    "    #for t in [\"train\", \"test\"]:\n",
    "    #    cv_results[t+\"_neg_mean_squared_log_error\"] = -cv_results[t+\"_neg_mean_squared_log_error\"]\n",
    "    moyenne = pd.DataFrame(data=cv_results.to_numpy().mean(axis=0).reshape(1, -1), \n",
    "                           columns=cv_results.columns, \n",
    "                           index=[\"moyenne\"])\n",
    "    cv_results = pd.concat([cv_results, moyenne])\n",
    "    \n",
    "    #print(\"Scores: \", scores)\n",
    "    #print(\"Score moyen: {:.2f}\".format(np.mean(scores)))\n",
    "    \n",
    "    return cv_results"
   ]
  },
  {
   "cell_type": "code",
   "execution_count": 18,
   "metadata": {},
   "outputs": [
    {
     "data": {
      "text/html": [
       "<div>\n",
       "<style scoped>\n",
       "    .dataframe tbody tr th:only-of-type {\n",
       "        vertical-align: middle;\n",
       "    }\n",
       "\n",
       "    .dataframe tbody tr th {\n",
       "        vertical-align: top;\n",
       "    }\n",
       "\n",
       "    .dataframe thead th {\n",
       "        text-align: right;\n",
       "    }\n",
       "</style>\n",
       "<table border=\"1\" class=\"dataframe\">\n",
       "  <thead>\n",
       "    <tr style=\"text-align: right;\">\n",
       "      <th></th>\n",
       "      <th>fit_time</th>\n",
       "      <th>score_time</th>\n",
       "      <th>test_r2</th>\n",
       "      <th>train_r2</th>\n",
       "    </tr>\n",
       "  </thead>\n",
       "  <tbody>\n",
       "    <tr>\n",
       "      <th>3</th>\n",
       "      <td>0.302934</td>\n",
       "      <td>0.024557</td>\n",
       "      <td>0.652220</td>\n",
       "      <td>0.644086</td>\n",
       "    </tr>\n",
       "    <tr>\n",
       "      <th>2</th>\n",
       "      <td>0.314509</td>\n",
       "      <td>0.024654</td>\n",
       "      <td>0.651217</td>\n",
       "      <td>0.644303</td>\n",
       "    </tr>\n",
       "    <tr>\n",
       "      <th>1</th>\n",
       "      <td>0.304024</td>\n",
       "      <td>0.024919</td>\n",
       "      <td>0.632006</td>\n",
       "      <td>0.648922</td>\n",
       "    </tr>\n",
       "    <tr>\n",
       "      <th>4</th>\n",
       "      <td>0.299130</td>\n",
       "      <td>0.024398</td>\n",
       "      <td>0.631457</td>\n",
       "      <td>0.648667</td>\n",
       "    </tr>\n",
       "    <tr>\n",
       "      <th>0</th>\n",
       "      <td>0.324842</td>\n",
       "      <td>0.025283</td>\n",
       "      <td>0.195388</td>\n",
       "      <td>0.678813</td>\n",
       "    </tr>\n",
       "    <tr>\n",
       "      <th>moyenne</th>\n",
       "      <td>0.309088</td>\n",
       "      <td>0.024762</td>\n",
       "      <td>0.552458</td>\n",
       "      <td>0.652958</td>\n",
       "    </tr>\n",
       "  </tbody>\n",
       "</table>\n",
       "</div>"
      ],
      "text/plain": [
       "         fit_time  score_time   test_r2  train_r2\n",
       "3        0.302934    0.024557  0.652220  0.644086\n",
       "2        0.314509    0.024654  0.651217  0.644303\n",
       "1        0.304024    0.024919  0.632006  0.648922\n",
       "4        0.299130    0.024398  0.631457  0.648667\n",
       "0        0.324842    0.025283  0.195388  0.678813\n",
       "moyenne  0.309088    0.024762  0.552458  0.652958"
      ]
     },
     "execution_count": 18,
     "metadata": {},
     "output_type": "execute_result"
    }
   ],
   "source": [
    "print_lr(\"SiteEnergyUse_log\", features, df)"
   ]
  },
  {
   "cell_type": "markdown",
   "metadata": {},
   "source": [
    "## III.2 Ridge"
   ]
  },
  {
   "cell_type": "code",
   "execution_count": 26,
   "metadata": {},
   "outputs": [],
   "source": [
    "def print_modelresult(target, features, df, params, model_gs, score, axis_scale=\"log\", plot_param=\"alpha\"):\n",
    "\n",
    "\n",
    "    # One-hot encoding of categorical variable\n",
    "    categorical_transformer = OneHotEncoder(handle_unknown='ignore')\n",
    "    \n",
    "    # Standard scaling of numerical features\n",
    "    numeric_transformer = StandardScaler()\n",
    "    \n",
    "    preprocessor = ColumnTransformer(\n",
    "        transformers=[\n",
    "            (\"pca\", \"passthrough\", [\"F1\", \"F2\", \"F3\", \n",
    "                                    \"F4\"\n",
    "                                   ]),\n",
    "            ('num', numeric_transformer, selector(dtype_exclude=\"category\")),\n",
    "            ('cat', categorical_transformer, selector(dtype_include=\"category\"))\n",
    "        ])\n",
    "    \n",
    "    # Append regressor to preprocessing pipeline.\n",
    "    # Now we have a full prediction pipeline.\n",
    "    reg = Pipeline(steps=[('preprocessor', preprocessor),\n",
    "                          ('regressor', model_gs)])\n",
    "    \n",
    "    # Séparation prédicteurs - cible\n",
    "    X = df[features]\n",
    "    y = df[target]\n",
    "    \n",
    "    X_train, X_test, y_train, y_test = train_test_split(X, y, test_size=0.3,\n",
    "                                                        random_state=0)\n",
    "    \n",
    "    # Nested cross-validation\n",
    "    inner_cv = KFold(n_splits=5, shuffle=True, random_state=4)\n",
    "    \n",
    "    # Hyperparamètre à optimiser\n",
    "    param_grid = {}\n",
    "    for key, values in params.items():\n",
    "        param_grid[\"regressor__\"+key] = values\n",
    "        \n",
    "        \n",
    "    # Créer une regression Ridge avec sélection d'hyperparamètre par validation croisée\n",
    "    regr = GridSearchCV(\n",
    "    reg,            # modèle\n",
    "    param_grid,     # hyperparamètres à tester\n",
    "    cv=inner_cv,    # nombre de folds de validation croisée\n",
    "    scoring=score,   # score à optimiser\n",
    "    return_train_score=True,\n",
    "    refit='r2',\n",
    "    )\n",
    "    \n",
    "    # Optimiser cet estimateur sur le jeu d'entraînement\n",
    "    regr.fit(X_train, y_train)\n",
    "    \n",
    "    # Afficher le(s) hyperparamètre(s) optimaux\n",
    "    print(\"Meilleur(s) hyperparamètre(s) sur le jeu d'entraînement:\")\n",
    "    print(regr.best_params_)\n",
    "    \n",
    "    # Performance en généralisation du meilleur modèle sur le set de validation\n",
    "    y_pred = regr.predict(X_test)\n",
    "    print(\"\\nSur le jeu de test : {:.3f}\".format(r2_score(y_test, y_pred)))\n",
    "    \n",
    "    # Résultats de la validation croisée\n",
    "    cv_results = pd.DataFrame(regr.cv_results_)\n",
    "        \n",
    "    cv_results = cv_results.sort_values(\"mean_test_r2\", ascending=False)\n",
    "    \n",
    "    param_keys = [\"param_\"+k for k in param_grid.keys()]\n",
    "    param_cols = []\n",
    "    for sample in (\"train\", \"test\"):\n",
    "        for i in range(len(score)):\n",
    "            for s in (\"mean\", \"std\"):\n",
    "                param_cols.append(\"{}_{}_{}\".format(s, sample, score[i]))\n",
    "        \n",
    "        # Pour rendre positive l'erreur rmse (négative par défaut avec GridSearch)\n",
    "        try:\n",
    "            cv_results[\"mean_{}_{}\".format(sample, score[1])] *= -1\n",
    "        except:\n",
    "            pass\n",
    "        \n",
    "    param_cols += param_keys\n",
    "    param_cols += [\"mean_fit_time\", \"std_fit_time\", \"mean_score_time\", \"std_score_time\"]\n",
    "    \n",
    "    # Affiche les scores sur les jeu d'entrainement et de test\n",
    "    d = cv_results.set_index(\"param_regressor__{}\".format(plot_param))\n",
    "    cols = []\n",
    "    for t in (\"train\", \"test\"):\n",
    "        for s in score: \n",
    "            cols.append(\"mean_{}_{}\".format(t, s))\n",
    "            \n",
    "    sns.lineplot(data=d[cols])\n",
    "    plt.xscale(axis_scale)\n",
    "    plt.show()\n",
    "    \n",
    "    return cv_results[param_cols], cv_results.iloc[0]\n",
    "    "
   ]
  },
  {
   "cell_type": "code",
   "execution_count": 28,
   "metadata": {},
   "outputs": [
    {
     "name": "stdout",
     "output_type": "stream",
     "text": [
      "Meilleur(s) hyperparamètre(s) sur le jeu d'entraînement:\n",
      "{'regressor__alpha': 2.1544346900318843}\n",
      "\n",
      "Sur le jeu de test : 0.353\n"
     ]
    },
    {
     "data": {
      "image/png": "[encoded data removed]",
      "text/plain": [
       "<Figure size 432x288 with 1 Axes>"
      ]
     },
     "metadata": {
      "needs_background": "light"
     },
     "output_type": "display_data"
    }
   ],
   "source": [
    "# Valeurs possibles du paramètre alpha\n",
    "params = {\"alpha\" : np.logspace(-2, 5, 10)}\n",
    "\n",
    "# Choisir un score à optimiser et/ou une erreur à minimiser, ici le R2 et le RMSE \n",
    "score = ('r2', 'neg_root_mean_squared_error')\n",
    "\n",
    "# modèle\n",
    "model = Ridge()\n",
    "\n",
    "# fit et affichage des résultats\n",
    "log_ridgeresults, log_ridgebestresult = print_modelresult(\"SiteEnergyUse_log\",\n",
    "                                                            features,\n",
    "                                                            df,\n",
    "                                                            params,\n",
    "                                                            model,\n",
    "                                                            score)"
   ]
  },
  {
   "cell_type": "markdown",
   "metadata": {},
   "source": [
    "## III.3 Lasso"
   ]
  },
  {
   "cell_type": "code",
   "execution_count": 21,
   "metadata": {},
   "outputs": [
    {
     "name": "stderr",
     "output_type": "stream",
     "text": [
      "/anaconda3/lib/python3.7/site-packages/sklearn/linear_model/_coordinate_descent.py:515: ConvergenceWarning: Objective did not converge. You might want to increase the number of iterations. Duality gap: 0.2834548048480201, tolerance: 0.08448174351897897\n",
      "  max_iter, tol, rng, random, positive)\n",
      "/anaconda3/lib/python3.7/site-packages/sklearn/linear_model/_coordinate_descent.py:515: ConvergenceWarning: Objective did not converge. You might want to increase the number of iterations. Duality gap: 0.10236574445337965, tolerance: 0.0838556798871976\n",
      "  max_iter, tol, rng, random, positive)\n",
      "/anaconda3/lib/python3.7/site-packages/sklearn/linear_model/_coordinate_descent.py:515: ConvergenceWarning: Objective did not converge. You might want to increase the number of iterations. Duality gap: 0.10019086389900167, tolerance: 0.0858819778380159\n",
      "  max_iter, tol, rng, random, positive)\n"
     ]
    },
    {
     "name": "stdout",
     "output_type": "stream",
     "text": [
      "Meilleur(s) hyperparamètre(s) sur le jeu d'entraînement:\n",
      "{'regressor__alpha': 0.00021544346900318823}\n",
      "\n",
      "Sur le jeu de test : 0.350\n"
     ]
    },
    {
     "data": {
      "image/png": "[encoded data removed]",
      "text/plain": [
       "<Figure size 432x288 with 1 Axes>"
      ]
     },
     "metadata": {
      "needs_background": "light"
     },
     "output_type": "display_data"
    }
   ],
   "source": [
    "# Valeurs possibles du paramètre alpha\n",
    "params = {\"alpha\" : np.logspace(-5, -2, 10)}\n",
    "\n",
    "# Choisir un score à optimiser et/ou une erreur à minimiser, ici le R2 et le RMSE \n",
    "score = ('r2', 'neg_root_mean_squared_error')\n",
    "\n",
    "# modèle\n",
    "model = Lasso(max_iter=1e4)\n",
    "\n",
    "# fit et affichage des résultats\n",
    "log_lassoresults, log_lassobestresult = print_modelresult(\"SiteEnergyUse_log\",\n",
    "                                        features,\n",
    "                                        df,\n",
    "                                        params,\n",
    "                                        model,\n",
    "                                        score)"
   ]
  },
  {
   "cell_type": "markdown",
   "metadata": {},
   "source": [
    "# IV kNN"
   ]
  },
  {
   "cell_type": "code",
   "execution_count": 22,
   "metadata": {},
   "outputs": [
    {
     "name": "stdout",
     "output_type": "stream",
     "text": [
      "Meilleur(s) hyperparamètre(s) sur le jeu d'entraînement:\n",
      "{'regressor__n_neighbors': 3}\n",
      "\n",
      "Sur le jeu de test : 0.741\n"
     ]
    },
    {
     "data": {
      "image/png": "[encoded data removed]",
      "text/plain": [
       "<Figure size 432x288 with 1 Axes>"
      ]
     },
     "metadata": {
      "needs_background": "light"
     },
     "output_type": "display_data"
    }
   ],
   "source": [
    "from sklearn.neighbors import KNeighborsRegressor\n",
    "\n",
    "# Valeurs possibles du nombre de plus proches voisins\n",
    "params = {\"n_neighbors\" : [1, 3, 5, 7, 9, 11, 13, 15, 17, 19]}\n",
    "\n",
    "# Choisir un score à optimiser et/ou une erreur à minimiser, ici le R2 et le RMSE \n",
    "score = ('r2', 'neg_root_mean_squared_error')\n",
    "\n",
    "# modèle\n",
    "model = KNeighborsRegressor()\n",
    "\n",
    "# fit et affichage des résultats\n",
    "log_knnresults, log_knnbestresult = print_modelresult(\"SiteEnergyUse_log\",\n",
    "                                                        features,\n",
    "                                                        df,\n",
    "                                                        params,\n",
    "                                                        model,\n",
    "                                                        score,\n",
    "                                                        axis_scale=\"linear\",\n",
    "                                                        plot_param=\"n_neighbors\")"
   ]
  },
  {
   "cell_type": "markdown",
   "metadata": {},
   "source": [
    "# V SVM"
   ]
  },
  {
   "cell_type": "code",
   "execution_count": null,
   "metadata": {},
   "outputs": [],
   "source": [
    "from sklearn.svm import LinearSVR\n",
    "\n",
    "# Valeurs possibles du paramètre C\n",
    "params = {\"C\" : np.logspace(-2, 2, 10)}\n",
    "\n",
    "# Choisir un score à optimiser et/ou une erreur à minimiser, ici le R2 et le RMSE \n",
    "score = ('r2', 'neg_root_mean_squared_error')\n",
    "\n",
    "# modèle\n",
    "model = LinearSVR(tol=1e-3, max_iter=1e5, dual=False, loss=\"squared_epsilon_insensitive\")\n",
    "\n",
    "# fit et affichage des résultats\n",
    "log_svmresults, log_svm_bestresult = print_modelresult(\"SiteEnergyUse_log\",\n",
    "                                                       features,\n",
    "                                                       df,\n",
    "                                                       params,\n",
    "                                                       model,\n",
    "                                                       score,\n",
    "                                                       plot_param=\"C\")"
   ]
  },
  {
   "cell_type": "markdown",
   "metadata": {},
   "source": [
    "# VI Modèles non-linéaires\n",
    "\n",
    "## VI.1 SVM à noyau"
   ]
  },
  {
   "cell_type": "code",
   "execution_count": null,
   "metadata": {},
   "outputs": [],
   "source": [
    "from sklearn.svm import SVR\n",
    "\n",
    "# Valeurs possibles des hyperparamètres\n",
    "params = {\"C\" : np.logspace(-1, 2, 6), \"gamma\":np.logspace(-2, 0, 4)}\n",
    "\n",
    "# Choisir un score à optimiser et/ou une erreur à minimiser, ici le R2 et le RMSE \n",
    "score = ('r2', 'neg_root_mean_squared_error')\n",
    "\n",
    "# modèle\n",
    "model=SVR(tol=1e-3, kernel=\"rbf\")\n",
    "\n",
    "# fit et affichage des résultats\n",
    "log_kerlsvmresults, log_kernelsvm_bestresult = print_modelresult(\"SiteEnergyUse_log\",\n",
    "                                                                 features,\n",
    "                                                                 df,\n",
    "                                                                 params,\n",
    "                                                                 model,\n",
    "                                                                 score,\n",
    "                                                                 plot_param=\"C\")"
   ]
  },
  {
   "cell_type": "code",
   "execution_count": null,
   "metadata": {},
   "outputs": [],
   "source": [
    "## Calcul de la matrice de Gram\n",
    "#kmatrix = metrics.pairwise.rbf_kernel(X_train_std, gamma=regr.best_params_[\"gamma\"])\n",
    "#kmatrix = print_SVR(quant_var, qualit_var, \"SiteEnergyUse_log\", d2015, C, gamma, score)\n",
    "#kmatrix100 = kmatrix[:100, :100]\n",
    "\n",
    "#sns.heatmap(kmatrix)\n",
    "#plt.show()"
   ]
  },
  {
   "cell_type": "code",
   "execution_count": null,
   "metadata": {},
   "outputs": [],
   "source": [
    "log_kerlsvmresults"
   ]
  },
  {
   "cell_type": "markdown",
   "metadata": {},
   "source": [
    "# VII Méthodes ensemblistes"
   ]
  },
  {
   "cell_type": "code",
   "execution_count": 23,
   "metadata": {},
   "outputs": [],
   "source": [
    "from sklearn.model_selection import train_test_split\n",
    "from sklearn.metrics import r2_score, mean_squared_error\n",
    "from sklearn.model_selection import KFold, GridSearchCV, cross_val_score\n",
    "from sklearn.preprocessing import StandardScaler"
   ]
  },
  {
   "cell_type": "markdown",
   "metadata": {},
   "source": [
    "## VII.1 Forêts aléatoires"
   ]
  },
  {
   "cell_type": "markdown",
   "metadata": {},
   "source": [
    "Premier essai avec l'algorithme RandomForestRegressor sur les mêmes features que précédemment et un nombre d'estimateurs à 100. Le but est à la fois d'obtenir une première estimation par cet algorithme et une mesure des feature_importances dans le but d'optimiser le modèle."
   ]
  },
  {
   "cell_type": "code",
   "execution_count": 24,
   "metadata": {},
   "outputs": [
    {
     "data": {
      "image/png": "[encoded data removed]",
      "text/plain": [
       "<Figure size 432x288 with 1 Axes>"
      ]
     },
     "metadata": {
      "needs_background": "light"
     },
     "output_type": "display_data"
    }
   ],
   "source": [
    "from sklearn.ensemble import RandomForestRegressor\n",
    "from sklearn.inspection import permutation_importance\n",
    "\n",
    "target = \"SiteEnergyUse_log\"\n",
    "\n",
    "# One-hot encoding of categorical variable\n",
    "categorical_transformer = OneHotEncoder(handle_unknown='ignore')\n",
    "\n",
    "# Standard scaling of numerical features\n",
    "numeric_transformer = StandardScaler()\n",
    "\n",
    "preprocessor = ColumnTransformer(\n",
    "    transformers=[\n",
    "        ('num', numeric_transformer, selector(dtype_exclude=\"category\")),\n",
    "        ('cat', categorical_transformer, selector(dtype_include=\"category\"))\n",
    "    ])\n",
    "\n",
    "# Append regressor to preprocessing pipeline.\n",
    "# Now we have a full prediction pipeline.\n",
    "reg = Pipeline(steps=[('preprocessor', preprocessor),\n",
    "                      ('regressor', RandomForestRegressor(n_estimators=100, oob_score=True))])\n",
    "\n",
    "# Séparation prédicteurs - cible\n",
    "X = df[features]\n",
    "y = df[target]\n",
    "\n",
    "X_train, X_test, y_train, y_test = train_test_split(X, y, test_size=0.3,\n",
    "                                                        random_state=0)\n",
    "\n",
    "reg.fit(X_train, y_train)\n",
    "result = permutation_importance(reg, X_test, y_test, n_repeats=10,\n",
    "                                random_state=0)\n",
    "sorted_idx = result.importances_mean.argsort()\n",
    "\n",
    "fig, ax = plt.subplots()\n",
    "ax.boxplot(result.importances[sorted_idx].T,\n",
    "           vert=False, labels=X_test.columns[sorted_idx])\n",
    "ax.set_title(\"Permutation Importances (test set)\")\n",
    "fig.tight_layout()\n",
    "plt.show()"
   ]
  },
  {
   "cell_type": "code",
   "execution_count": 25,
   "metadata": {},
   "outputs": [
    {
     "name": "stdout",
     "output_type": "stream",
     "text": [
      "R2 score: 0.8708275058087733\n"
     ]
    }
   ],
   "source": [
    "y_pred = reg.predict(X_test)\n",
    "print(\"R2 score: {}\".format(r2_score(y_test, y_pred)))"
   ]
  },
  {
   "cell_type": "code",
   "execution_count": null,
   "metadata": {},
   "outputs": [],
   "source": [
    "df_importance = pd.DataFrame(data=result.importances_mean[sorted_idx[::-1]], index=X_test.columns[sorted_idx[::-1]],\n",
    "             columns=[\"Importance\"])\n",
    "df_importance"
   ]
  },
  {
   "cell_type": "code",
   "execution_count": null,
   "metadata": {},
   "outputs": [],
   "source": [
    "# seulement les \"meilleures\" features\n",
    "features = df_importance.index[:6]\n",
    "\n",
    "# Valeurs possibles du nombre d'arbres\n",
    "params = {\"n_estimators\" : [100, 200, 500, 1000]}\n",
    "\n",
    "# Choisir un score à optimiser, ici le R2\n",
    "score = ('r2', 'neg_root_mean_squared_error')\n",
    "\n",
    "# modèle\n",
    "model = RandomForestRegressor(oob_score=True)\n",
    "\n",
    "# fit et affichage des résultats\n",
    "log_randomforestresults, log_randomforestbestresult = print_modelresult(\"SiteEnergyUse_log\", \n",
    "                                                              features,\n",
    "                                                              df, \n",
    "                                                              params,\n",
    "                                                              model, \n",
    "                                                              score, \n",
    "                                                              plot_param=\"n_estimators\",\n",
    "                                                              axis_scale=\"linear\")"
   ]
  },
  {
   "cell_type": "code",
   "execution_count": null,
   "metadata": {},
   "outputs": [],
   "source": [
    "log_randomforestresults"
   ]
  },
  {
   "cell_type": "code",
   "execution_count": null,
   "metadata": {},
   "outputs": [],
   "source": [
    "# One-hot encoding of categorical variable\n",
    "categorical_transformer = OneHotEncoder(handle_unknown='ignore', sparse=False)\n",
    "\n",
    "# Standard scaling of numerical features\n",
    "numeric_transformer = StandardScaler()\n",
    "\n",
    "preprocessor = ColumnTransformer(\n",
    "    transformers=[\n",
    "        ('num', numeric_transformer, selector(dtype_exclude=\"category\")),\n",
    "        ('cat', categorical_transformer, selector(dtype_include=\"category\"))\n",
    "    ])\n",
    "\n",
    "# Séparation prédicteurs - cible\n",
    "X = df[features]\n",
    "y = df[target]\n",
    "\n",
    "X_train, X_test, y_train, y_test = train_test_split(X, y, test_size=0.3,\n",
    "                                                    random_state=0)\n",
    "\n",
    "# Nested cross-validation\n",
    "inner_cv = KFold(n_splits=5, shuffle=True, random_state=4)\n",
    "\n",
    "# Hyperparamètre à optimiser\n",
    "param_grid = {}\n",
    "for key, values in params.items():\n",
    "    param_grid[\"regressor__\"+key] = values\n",
    "    \n",
    "    \n",
    "# Créer une regression Ridge avec sélection d'hyperparamètre par validation croisée\n",
    "regr = GridSearchCV(\n",
    "model,            # modèle\n",
    "param_grid,     # hyperparamètres à tester\n",
    "cv=inner_cv,    # nombre de folds de validation croisée\n",
    "scoring=score,   # score à optimiser\n",
    "return_train_score=True,\n",
    "refit='r2',\n",
    ")\n",
    "\n",
    "\n",
    "\n",
    "X_train = preprocessor.fit_transform(X_train)[feature_names2]\n",
    "\n",
    "# Optimiser cet estimateur sur le jeu d'entraînement\n",
    "regr.fit(X_train, y_train)\n",
    "\n",
    "# Afficher le(s) hyperparamètre(s) optimaux\n",
    "print(\"Meilleur(s) hyperparamètre(s) sur le jeu d'entraînement:\")\n",
    "print(regr.best_params_)\n",
    "\n",
    "X_test = preprocessor.transform(X_test)[feature_names2]\n",
    "\n",
    "# Performance en généralisation du meilleur modèle sur le set de validation\n",
    "y_pred = regr.predict(X_test)\n",
    "print(\"\\nSur le jeu de test : {:.3f}\".format(r2_score(y_test, y_pred)))\n",
    "\n",
    "# Résultats de la validation croisée\n",
    "cv_results = pd.DataFrame(regr.cv_results_)\n",
    "    \n",
    "cv_results = cv_results.sort_values(\"mean_test_r2\", ascending=False)\n",
    "\n",
    "param_keys = [\"param_\"+k for k in param_grid.keys()]\n",
    "param_cols = []\n",
    "for sample in (\"train\", \"test\"):\n",
    "    for i in range(len(score)):\n",
    "        for s in (\"mean\", \"std\"):\n",
    "            param_cols.append(\"{}_{}_{}\".format(s, sample, score[i]))\n",
    "    \n",
    "    # Pour rendre positive l'erreur rmse (négative par défaut avec GridSearch)\n",
    "    try:\n",
    "        cv_results[\"mean_{}_{}\".format(sample, score[1])] *= -1\n",
    "    except:\n",
    "        pass\n",
    "    \n",
    "param_cols += param_keys\n",
    "param_cols += [\"mean_fit_time\", \"std_fit_time\", \"mean_score_time\", \"std_score_time\"]\n",
    "\n",
    "# Affiche les scores sur les jeu d'entrainement et de test\n",
    "d = cv_results.set_index(\"param_regressor__{}\".format(plot_param))\n",
    "cols = []\n",
    "for t in (\"train\", \"test\"):\n",
    "    for s in score: \n",
    "        cols.append(\"mean_{}_{}\".format(t, s))\n",
    "\n",
    "log_randomforestresults, log_randomforestbestresult = cv_results[param_cols], cv_results.iloc[0]"
   ]
  },
  {
   "cell_type": "code",
   "execution_count": null,
   "metadata": {},
   "outputs": [],
   "source": [
    "sns.lineplot(data=d[cols])\n",
    "plt.xscale(axis_scale)\n",
    "plt.show()"
   ]
  },
  {
   "cell_type": "code",
   "execution_count": null,
   "metadata": {},
   "outputs": [],
   "source": [
    "from sklearn.feature_selection import SelectFromModel\n",
    "select = SelectFromModel(reg.named_steps[\"regressor\"], threshold=0.001, prefit=True)\n",
    "X_train2 = select.transform(preprocessor.transform(X_train))\n",
    "X_test2 = select.transform(preprocessor.transform(X_test))\n",
    "\n",
    "reg.named_steps[\"regressor\"].fit(X_train2, y_train)\n",
    "\n",
    "pred2 = reg.named_steps[\"regressor\"].predict(X_test2)\n",
    "y_pred2 = reg.named_steps[\"regressor\"].predict(X_test2)\n",
    "print(\"R2 score: {}\".format(r2_score(y_test, y_pred2)))"
   ]
  },
  {
   "cell_type": "code",
   "execution_count": null,
   "metadata": {},
   "outputs": [],
   "source": [
    "feature_names2 = feature_names[importances>=1e-3]\n",
    "importances2 = importances[importances>=1e-3]\n",
    "forest_importances2 = pd.Series(data=importances2, index=feature_names2)\n",
    "\n",
    "fig, ax = plt.subplots(figsize=(16, 15))\n",
    "forest_importances2.sort_values().plot.barh(ax=ax)\n",
    "ax.set_title(\"Feature importances using MDI\")\n",
    "ax.set_ylabel(\"Mean decrease in impurity\")\n",
    "fig.tight_layout()"
   ]
  },
  {
   "cell_type": "markdown",
   "metadata": {},
   "source": [
    "## VII.2 GradientBoostingRegressor"
   ]
  },
  {
   "cell_type": "code",
   "execution_count": null,
   "metadata": {},
   "outputs": [],
   "source": [
    "from sklearn.ensemble import GradientBoostingRegressor\n",
    "\n",
    "# Valeurs possibles du nombre d'arbres\n",
    "params = {\"n_estimators\": [500, 1000, 2000, 4000]}\n",
    "\n",
    "# Choisir un score à optimiser, et/ou une erreur à minimiser ici le R2 et le RMSE\n",
    "score = ('r2', 'neg_root_mean_squared_error')\n",
    "\n",
    "# modèle\n",
    "model=GradientBoostingRegressor()\n",
    "\n",
    "# fit et affichage des résultats\n",
    "log_grboostresults, log_grboostbestresult = print_modelresult(\"SiteEnergyUse_log\", \n",
    "                                                              features,\n",
    "                                                              df, \n",
    "                                                              params,\n",
    "                                                              model, \n",
    "                                                              score, \n",
    "                                                              plot_param=\"n_estimators\",\n",
    "                                                              axis_scale=\"linear\")"
   ]
  },
  {
   "cell_type": "markdown",
   "metadata": {},
   "source": [
    "# VIII Choix du modèle"
   ]
  },
  {
   "cell_type": "code",
   "execution_count": null,
   "metadata": {},
   "outputs": [],
   "source": [
    "index = [\"mean_test_r2\", \"mean_train_r2\",\"mean_test_neg_root_mean_squared_error\", \"mean_fit_time\"]\n",
    "d = {\"Ridge\":log_ridgebestresult[index], \n",
    "      \"Lasso\":log_lassobestresult[index],\n",
    "      \"kNN\":log_knnbestresult[index],\n",
    "      \"SVM\":log_svm_bestresult[index], \n",
    "      \"SVM Non-linéaire\": log_kernelsvm_bestresult[index],\n",
    "      \"randomforest\":log_randomforestbestresult[index], \n",
    "      \"gradient boosting\":log_grboostbestresult[index]}\n",
    "model_1 = pd.DataFrame(data=d)\n",
    "model_1"
   ]
  }
 ],
 "metadata": {
  "kernelspec": {
   "display_name": "Python 3",
   "language": "python",
   "name": "python3"
  },
  "language_info": {
   "codemirror_mode": {
    "name": "ipython",
    "version": 3
   },
   "file_extension": ".py",
   "mimetype": "text/x-python",
   "name": "python",
   "nbconvert_exporter": "python",
   "pygments_lexer": "ipython3",
   "version": "3.7.3"
  }
 },
 "nbformat": 4,
 "nbformat_minor": 4
}
