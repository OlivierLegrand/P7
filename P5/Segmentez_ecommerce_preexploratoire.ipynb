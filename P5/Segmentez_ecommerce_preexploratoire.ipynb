{
 "cells": [
  {
   "cell_type": "markdown",
   "metadata": {},
   "source": [
    "# Segmentez des clients d'un site e-commerce"
   ]
  },
  {
   "cell_type": "markdown",
   "metadata": {},
   "source": [
    "# Mission\n",
    "\n",
    "Vous êtes consultant pour Olist, une solution de vente sur les marketplaces en ligne.\n",
    "\n",
    "__Olist__ souhaite que vous fournissiez à ses équipes d'e-commerce une __segmentation des clients__ qu’elles pourront utiliser au quotidien pour leurs campagnes de communication.\n",
    "\n",
    "Votre objectif est de __comprendre les différents types d’utilisateurs__ grâce à leur comportement et à leurs données personnelles.\n",
    "\n",
    "Vous devrez __fournir à l’équipe marketing une description actionable__ de votre segmentation et de sa logique sous-jacente pour une utilisation optimale, ainsi qu’une __proposition de contrat de maintenance__ basée sur une analyse de la stabilité des segments au cours du temps.\n",
    "\n",
    "### Les données\n",
    "Pour cette mission, Olist vous fournit une base de données anonymisée comportant des informations sur l’historique de commandes, les produits achetés, les commentaires de satisfaction, et la localisation des clients depuis janvier 2017.\n",
    "\n",
    "### Votre mission\n",
    "Votre mission est d’aider les équipes d’Olist à comprendre les différents types d'utilisateurs. Vous utiliserez donc des méthodes non supervisées pour regrouper ensemble des clients de profils similaires. Ces catégories pourront être utilisées par l’équipe marketing pour mieux communiquer.\n",
    "\n",
    "Pour des raisons de confidentialité, Olist ne fournit pas beaucoup de données, à vous de fouiller dans celles dont vous disposez et de créer les meilleures features pour les exploiter.\n",
    "\n",
    "Enfin, votre client, Olist, a spécifié sa demande ainsi :\n",
    "\n",
    "* La segmentation proposée doit être exploitable et facile d’utilisation pour l’équipe marketing.\n",
    "* Vous évaluerez la fréquence à laquelle la segmentation doit être mise à jour, afin de pouvoir effectuer un devis de contrat de maintenance.\n",
    "* Le code fourni doit respecter la convention PEP8, pour être utilisable par Olist.\n",
    "\n",
    "### Livrables\n",
    "* Un __notebook de l'analyse exploratoire__ (non cleané, pour comprendre votre démarche).\n",
    "* Un __notebook__ (ou code commenté au choix) __d’essais__ des différentes approches de modélisation (non cleané, pour comprendre votre démarche).\n",
    "* Un __support de présentation__ pour la soutenance.\n",
    "\n",
    "### Soutenance\n",
    "5 min - Présentation de la problématique, de son interprétation et des pistes de recherche envisagées.\n",
    "\n",
    "5 min - Présentation du cleaning effectué, du feature engineering et de l'exploration.\n",
    "\n",
    "10 min - Présentation des différentes pistes de modélisation effectuées.\n",
    "\n",
    "5 min - Présentation du modèle final sélectionné ainsi que des améliorations effectuées.\n",
    "\n",
    "5 à 10 minutes de questions-réponses.\n",
    "\n",
    "### Compétences évaluées\n",
    "* Mettre en place le modèle d'apprentissage non supervisé adapté au problème métier\n",
    "* Transformer les variables pertinentes d'un modèle d'apprentissage non supervisé\n",
    "* Adapter les hyperparamètres d'un algorithme non supervisé afin de l'améliorer\n",
    "* Évaluer les performances d’un modèle d'apprentissage non supervisé"
   ]
  },
  {
   "cell_type": "markdown",
   "metadata": {},
   "source": [
    "### A propos du dataset et d'Olist:\n",
    "\n",
    "This is a Brazilian ecommerce public dataset of orders made at Olist Store. The dataset has information of 100k orders from 2016 to 2018 made at multiple marketplaces in Brazil. Its features allows viewing an order from multiple dimensions: from order status, price, payment and freight performance to customer location, product attributes and finally reviews written by customers. We also released a geolocation dataset that relates Brazilian zip codes to lat/lng coordinates.\n",
    "\n",
    "This is real commercial data, it has been anonymised, and references to the companies and partners in the review text have been replaced with the names of Game of Thrones great houses."
   ]
  },
  {
   "cell_type": "markdown",
   "metadata": {},
   "source": [
    "### Data Schema\n",
    "The data is divided in multiple datasets for better understanding and organization:\n",
    "\n",
    "![Data schema](./images/schema_datasets.png \"Data schema\")"
   ]
  },
  {
   "cell_type": "markdown",
   "metadata": {},
   "source": [
    "### Segmentation client\n",
    "\n",
    "[**Segmentation RFM**](https://www.definitions-marketing.com/definition/segmentation-rfm/)\\\n",
    "La segmentation RFM prend en compte la Récence (date de la dernière commande), la Fréquence des commandes et le Montant (de la dernière commande ou sur une période donnée) pour établir des segments de clients homogènes.\n",
    "\n",
    "La segmentation RFM permet de cibler les offres, d'établir des segments basés sur la valeur des clients et de prévenir l'attrition en identifiant des segments à risque.\n",
    "\n",
    "Les données RFM restent des données très utilisées, mais une \"simple\" segmentation RFM est de plus en plus rare. Les données RFM sont désormais intégrées dans des procédures de ciblage et de segmentation comportant de plus en plus de variables et de données. Elles dépassent désormais le cadre du marketing direct et peuvent s'appliquer à la publicité display en utilisant une __DMP__ et des procédures de __CRM onboarding__."
   ]
  },
  {
   "cell_type": "markdown",
   "metadata": {},
   "source": [
    "[__DMP__](https://www.definitions-marketing.com/definition/dmp-2/)\\\n",
    "DMP est l'acronyme pour Data Management Platform ou plateforme de gestion des données. Il s'agit d'une plateforme proposée généralement en mode SaaS et permettant de récupérer, centraliser, gérer et utiliser les données relatives aux prospects et clients dans l'environnement digital, voire phygital."
   ]
  },
  {
   "cell_type": "markdown",
   "metadata": {},
   "source": [
    "[__CRM onboarding__](https://www.definitions-marketing.com/definition/crm-onboarding/)\\\n",
    "Le CRM onboarding est la pratique par laquelle on utilise les données offline d'un CRM pour être capable de retrouver et toucher une partie de ses clients dans l'environnement Internet / digital.\n",
    "\n",
    "Dans le cadre d'un processus de CRM onboarding, la base clients / CRM d'une entreprise est uploadée sur une plateforme d'onboarding et les enregistrements sont comparés (matching) à des bases d'individus identifiés par un cookie ou un identifiant mobile. Les individus en commun entre la base CRM de l'entreprise et ceux des bases utilisées par la plateforme d'onboarding pourront désormais être ciblés par l'entreprise dans l'environnement Internet grâce à un cookie ou un autre type d'identifiant numérique. Il s'agit en quelques sortes de \"digitaliser\" les données purement offline du CRM."
   ]
  },
  {
   "cell_type": "markdown",
   "metadata": {},
   "source": [
    "[__Lifetime value__](https://www.definitions-marketing.com/definition/lifetime-value/)\\\n",
    "Lifetime value est le terme anglais utilisé pour désigner la valeur vie d'un client. La lifetime value est donc la somme des profits actualisés attendus sur la durée de vie d'un client. Elle peut parfois être exprimée en chiffre d'affaires, mais c'est généralement moins pertinent.\n",
    "\n",
    "Le principe de la \"lifetime value\" est central dans le domaine des politiques d'acquisition et de fidélisation de la clientèle. La lifetime value espérée est notamment comparée au coût d'acquisition client pour valider la pertinence ou la rentabilité d'actions marketing de recrutement."
   ]
  },
  {
   "cell_type": "markdown",
   "metadata": {},
   "source": [
    "[__Segmentation comportementale__](https://www.definitions-marketing.com/definition/segmentation-comportementale/)\\\n",
    "La segmentation comportementale est une méthode de segmentation basée sur les comportements des clients ou prospects. Ces comportements peuvent être déclarés par les clients ou identifiés et mesurés par le système d'information marketing de l'entreprise.\n",
    "La segmentation comportementale peut être relative entre autres aux :\n",
    "- modes d'achat (lieu, conditionnement...)\n",
    "- volumes d'achat\n",
    "- modes de consommation\n",
    "- canaux utilisés (notamment services d'assurance ou bancaires)\n",
    "- comportements de visites d'un site web ou d'usage d'une application\n",
    "- réactions à la réception des emails\n",
    "- ...\n",
    "\n",
    "Les techniques de segmentation comportementale se sont considérablement développées sur Internet car le canal permet un tracking très précis des actions."
   ]
  },
  {
   "cell_type": "markdown",
   "metadata": {},
   "source": [
    "Les descriptions liées à chaque dataset fournies sur kaggle suggèrent les informations pertinentes à retirer du dataset. On se propose de prendre ces suggestions comme bases pour l'exploration des jeux de données."
   ]
  },
  {
   "cell_type": "code",
   "execution_count": 1,
   "metadata": {},
   "outputs": [],
   "source": [
    "import pandas as pd\n",
    "import numpy as np\n",
    "%matplotlib inline\n",
    "import matplotlib.pyplot as plt\n",
    "import seaborn as sns\n",
    "import missingno as msno"
   ]
  },
  {
   "cell_type": "markdown",
   "metadata": {},
   "source": [
    "On commence par charger les différents jeux de données"
   ]
  },
  {
   "cell_type": "code",
   "execution_count": 2,
   "metadata": {},
   "outputs": [],
   "source": [
    "customers_data = pd.read_csv('./data/olist_customers_dataset.csv')\n",
    "geolocation_data = pd.read_csv('./data/olist_geolocation_dataset.csv')\n",
    "items_data = pd.read_csv('./data/olist_order_items_dataset.csv', parse_dates=['shipping_limit_date'])\n",
    "payments_data = pd.read_csv('./data/olist_order_payments_dataset.csv')\n",
    "reviews_data = pd.read_csv('./data/olist_order_reviews_dataset.csv', parse_dates=['review_creation_date',\n",
    "                                                                                  'review_answer_timestamp'])\n",
    "orders_data = pd.read_csv('./data/olist_orders_dataset.csv', parse_dates=['order_purchase_timestamp',\n",
    "                                                                          'order_approved_at',\n",
    "                                                                          'order_delivered_carrier_date',\n",
    "                                                                          'order_delivered_customer_date',\n",
    "                                                                          'order_estimated_delivery_date'])\n",
    "products_data = pd.read_csv('./data/olist_products_dataset.csv')\n",
    "sellers_data = pd.read_csv('./data/olist_sellers_dataset.csv')\n",
    "category_translation = pd.read_csv('./data/product_category_name_translation.csv')"
   ]
  },
  {
   "cell_type": "markdown",
   "metadata": {},
   "source": [
    "### Métadonnées utiles\n",
    "\n",
    "Les métadonnées qui peuvent aider à explorer ce jeux de données sont:\n",
    "- les clés (pour les jointures)\n",
    "- la présence de date dans les types de variables (voire même les différents types de données\n",
    "- la présence et le cas échéant le nombre de valeurs manquantes\n",
    "- le nombre de lignes et de colonnes\n",
    "- une description succinte du jeu de données récupérée depuis kaggle"
   ]
  },
  {
   "cell_type": "code",
   "execution_count": 3,
   "metadata": {
    "scrolled": false
   },
   "outputs": [],
   "source": [
    "# list of tuples (data, name, (primary key, connected to), (foreign key, connected to))\n",
    "datasets = [(customers_data, \n",
    "             \"customer_dataset\",\n",
    "             np.array([(\"customer_id\", \"orders_dataset\")], dtype='object'),\n",
    "             np.array([(\"customer_zip_code_prefix\", \"geolocation_dataset\")], dtype='object'),\n",
    "             \"\"\"This dataset has information about the customer and its location. \n",
    "                Use it to identify unique customers in the orders dataset and to find the orders delivery location.\n",
    "                At our system each order is assigned to a unique customerid. \n",
    "                This means that the same customer will get different ids for different orders. \n",
    "                The purpose of having a customerunique_id on the dataset is to allow you to identify customers \n",
    "                that made repurchases at the store. Otherwise you would find that each order had a different \n",
    "                customer associated with.\"\"\"\n",
    "            ),\n",
    "            \n",
    "            (geolocation_data, \n",
    "             \"geolocation_dataset\",\n",
    "             np.array([(\"geolocation_zip_code_prefix\", [\"customer_dataset\", \"sellers_dataset\"])], dtype='object'),\n",
    "             np.array([(np.nan, np.nan)], dtype='object'),\n",
    "             \"\"\"This dataset has information Brazilian zip codes and its lat/lng coordinates. \n",
    "                Use it to plot maps and find distances between sellers and customers.\"\"\"\n",
    "            ),\n",
    "            \n",
    "            (items_data,\n",
    "             \"order_items_dataset\", \n",
    "             np.array([('order_id', 'orders_dataset'), ('order_item_id', np.nan)], dtype='object'), \n",
    "             np.array([(\"product_id\", \"products_dataset\"),(\"seller_id\", \"sellers_dataset\")], dtype='object'),\n",
    "             \"\"\"This dataset includes data about the items purchased within each order.\"\"\"\n",
    "            ),\n",
    "            \n",
    "            (payments_data, \n",
    "             \"payments_dataset\",\n",
    "             np.array([('order_id', 'orders_dataset')], dtype='object'),\n",
    "             np.array([(np.nan, np.nan)], dtype='object'),\n",
    "             \"\"\"This dataset includes data about the orders payment options.\"\"\",\n",
    "            ),\n",
    "            \n",
    "            (reviews_data,\n",
    "             \"reviews_dataset\",\n",
    "             np.array([('order_id', 'orders_dataset')], dtype='object'),\n",
    "             np.array([(np.nan, np.nan)], dtype='object'),\n",
    "             \"\"\"This dataset includes data about the reviews made by the customers. \n",
    "                After a customer purchases the product from Olist Store a seller gets notified to fulfill that order. \n",
    "                Once the customer receives the product, or the estimated delivery date is due, \n",
    "                the customer gets a satisfaction survey by email where he can give a note for \n",
    "                the purchase experience and write down some comments.\"\"\"\n",
    "            ),\n",
    "            \n",
    "            (orders_data, \n",
    "             \"orders_dataset\", \n",
    "             np.array([('order_id', ['order_payments_dataset', 'order_items_dataset','order_reviews_dataset']), ('customer_id', 'customer_dataset')], dtype='object'),\n",
    "             np.array([(np.nan, np.nan)], dtype='object'),\n",
    "             \"\"\"This is the core dataset. From each order you might find all other information.\"\"\"\n",
    "            ),\n",
    "            \n",
    "            (products_data,\n",
    "             \"products_dataset\", \n",
    "             np.array([(\"product_id\", \"order_item_dataset\")], dtype='object'),\n",
    "             np.array([(np.nan, np.nan)], dtype='object'),\n",
    "             \"\"\"This dataset includes data about the products sold by Olist.\"\"\"\n",
    "            ),\n",
    "            \n",
    "            (sellers_data, \n",
    "             \"seller_dataset\", \n",
    "             np.array([(\"seller_id\", \"order_items_dataset\")], dtype='object'),\n",
    "             np.array([(\"seller_zip_code_prefix\", \"geolocation_dataset\")], dtype='object'),\n",
    "             \"\"\"This dataset includes data about the sellers that fulfilled orders made at Olist. \n",
    "                Use it to find the seller location and to identify which seller fulfilled each product.\"\"\"\n",
    "            )\n",
    "           ]\n",
    "\n",
    "\n",
    "\n",
    "dataset = []\n",
    "column = []\n",
    "nb_rows = []\n",
    "NaN = []\n",
    "nb_rows_na = []\n",
    "dtype = []\n",
    "primary_key = []\n",
    "foreign_key = []\n",
    "connected_to = []\n",
    "descriptions = []\n",
    "\n",
    "for data, name, pk, fk, desc in datasets:\n",
    "    for c in data.columns:\n",
    "        dataset.append(name)\n",
    "        column.append(c)\n",
    "        nb_rows.append(data[c].shape[0])\n",
    "        NaN.append(data[c].isna().sum() != 0)\n",
    "        nb_rows_na.append(data[c].dropna().shape[0])\n",
    "        try:\n",
    "            data[c].astype(\"datetime64\")\n",
    "            dtype.append(np.dtype('datetime64')) \n",
    "        except:\n",
    "            dtype.append(data[c].dtype)\n",
    "        primary_key.append(True if c in pk[:, 0] else False)\n",
    "        foreign_key.append(True if c in fk[:, 0] else False)\n",
    "        connected_to.append(pk[np.where(pk==c)[0], 1][0] if c in pk[:, 0] \n",
    "                            else fk[np.where(fk==c)[0], 1][0] if c in fk[:, 0]\n",
    "                            else np.nan)\n",
    "        descriptions.append(desc)\n",
    "\n",
    "meta_dict = {\"dataset\":dataset,\n",
    "             \"column\":column,\n",
    "             \"nb_rows\":nb_rows,\n",
    "             \"NaN\":NaN,\n",
    "             \"nb_rows_na\":nb_rows_na,\n",
    "             \"dtype\":dtype,\n",
    "             \"primary_key\":primary_key,\n",
    "             \"foreign_key\":foreign_key,\n",
    "             \"connected_to\":connected_to,\n",
    "             \"description\": descriptions\n",
    "            }\n",
    "\n",
    "metadata = pd.DataFrame.from_dict(meta_dict)"
   ]
  },
  {
   "cell_type": "code",
   "execution_count": 4,
   "metadata": {},
   "outputs": [
    {
     "data": {
      "text/html": [
       "<div>\n",
       "<style scoped>\n",
       "    .dataframe tbody tr th:only-of-type {\n",
       "        vertical-align: middle;\n",
       "    }\n",
       "\n",
       "    .dataframe tbody tr th {\n",
       "        vertical-align: top;\n",
       "    }\n",
       "\n",
       "    .dataframe thead th {\n",
       "        text-align: right;\n",
       "    }\n",
       "</style>\n",
       "<table border=\"1\" class=\"dataframe\">\n",
       "  <thead>\n",
       "    <tr style=\"text-align: right;\">\n",
       "      <th></th>\n",
       "      <th>dataset</th>\n",
       "      <th>column</th>\n",
       "      <th>nb_rows</th>\n",
       "      <th>NaN</th>\n",
       "      <th>nb_rows_na</th>\n",
       "      <th>dtype</th>\n",
       "      <th>primary_key</th>\n",
       "      <th>foreign_key</th>\n",
       "      <th>connected_to</th>\n",
       "      <th>description</th>\n",
       "    </tr>\n",
       "  </thead>\n",
       "  <tbody>\n",
       "    <tr>\n",
       "      <th>0</th>\n",
       "      <td>customer_dataset</td>\n",
       "      <td>customer_id</td>\n",
       "      <td>99441</td>\n",
       "      <td>False</td>\n",
       "      <td>99441</td>\n",
       "      <td>object</td>\n",
       "      <td>True</td>\n",
       "      <td>False</td>\n",
       "      <td>orders_dataset</td>\n",
       "      <td>This dataset has information about the custome...</td>\n",
       "    </tr>\n",
       "    <tr>\n",
       "      <th>1</th>\n",
       "      <td>customer_dataset</td>\n",
       "      <td>customer_unique_id</td>\n",
       "      <td>99441</td>\n",
       "      <td>False</td>\n",
       "      <td>99441</td>\n",
       "      <td>object</td>\n",
       "      <td>False</td>\n",
       "      <td>False</td>\n",
       "      <td>NaN</td>\n",
       "      <td>This dataset has information about the custome...</td>\n",
       "    </tr>\n",
       "    <tr>\n",
       "      <th>2</th>\n",
       "      <td>customer_dataset</td>\n",
       "      <td>customer_zip_code_prefix</td>\n",
       "      <td>99441</td>\n",
       "      <td>False</td>\n",
       "      <td>99441</td>\n",
       "      <td>int64</td>\n",
       "      <td>False</td>\n",
       "      <td>True</td>\n",
       "      <td>geolocation_dataset</td>\n",
       "      <td>This dataset has information about the custome...</td>\n",
       "    </tr>\n",
       "    <tr>\n",
       "      <th>3</th>\n",
       "      <td>customer_dataset</td>\n",
       "      <td>customer_city</td>\n",
       "      <td>99441</td>\n",
       "      <td>False</td>\n",
       "      <td>99441</td>\n",
       "      <td>object</td>\n",
       "      <td>False</td>\n",
       "      <td>False</td>\n",
       "      <td>NaN</td>\n",
       "      <td>This dataset has information about the custome...</td>\n",
       "    </tr>\n",
       "    <tr>\n",
       "      <th>4</th>\n",
       "      <td>customer_dataset</td>\n",
       "      <td>customer_state</td>\n",
       "      <td>99441</td>\n",
       "      <td>False</td>\n",
       "      <td>99441</td>\n",
       "      <td>object</td>\n",
       "      <td>False</td>\n",
       "      <td>False</td>\n",
       "      <td>NaN</td>\n",
       "      <td>This dataset has information about the custome...</td>\n",
       "    </tr>\n",
       "    <tr>\n",
       "      <th>5</th>\n",
       "      <td>geolocation_dataset</td>\n",
       "      <td>geolocation_zip_code_prefix</td>\n",
       "      <td>1000163</td>\n",
       "      <td>False</td>\n",
       "      <td>1000163</td>\n",
       "      <td>int64</td>\n",
       "      <td>True</td>\n",
       "      <td>False</td>\n",
       "      <td>[customer_dataset, sellers_dataset]</td>\n",
       "      <td>This dataset has information Brazilian zip cod...</td>\n",
       "    </tr>\n",
       "    <tr>\n",
       "      <th>6</th>\n",
       "      <td>geolocation_dataset</td>\n",
       "      <td>geolocation_lat</td>\n",
       "      <td>1000163</td>\n",
       "      <td>False</td>\n",
       "      <td>1000163</td>\n",
       "      <td>float64</td>\n",
       "      <td>False</td>\n",
       "      <td>False</td>\n",
       "      <td>NaN</td>\n",
       "      <td>This dataset has information Brazilian zip cod...</td>\n",
       "    </tr>\n",
       "    <tr>\n",
       "      <th>7</th>\n",
       "      <td>geolocation_dataset</td>\n",
       "      <td>geolocation_lng</td>\n",
       "      <td>1000163</td>\n",
       "      <td>False</td>\n",
       "      <td>1000163</td>\n",
       "      <td>float64</td>\n",
       "      <td>False</td>\n",
       "      <td>False</td>\n",
       "      <td>NaN</td>\n",
       "      <td>This dataset has information Brazilian zip cod...</td>\n",
       "    </tr>\n",
       "    <tr>\n",
       "      <th>8</th>\n",
       "      <td>geolocation_dataset</td>\n",
       "      <td>geolocation_city</td>\n",
       "      <td>1000163</td>\n",
       "      <td>False</td>\n",
       "      <td>1000163</td>\n",
       "      <td>object</td>\n",
       "      <td>False</td>\n",
       "      <td>False</td>\n",
       "      <td>NaN</td>\n",
       "      <td>This dataset has information Brazilian zip cod...</td>\n",
       "    </tr>\n",
       "    <tr>\n",
       "      <th>9</th>\n",
       "      <td>geolocation_dataset</td>\n",
       "      <td>geolocation_state</td>\n",
       "      <td>1000163</td>\n",
       "      <td>False</td>\n",
       "      <td>1000163</td>\n",
       "      <td>object</td>\n",
       "      <td>False</td>\n",
       "      <td>False</td>\n",
       "      <td>NaN</td>\n",
       "      <td>This dataset has information Brazilian zip cod...</td>\n",
       "    </tr>\n",
       "    <tr>\n",
       "      <th>10</th>\n",
       "      <td>order_items_dataset</td>\n",
       "      <td>order_id</td>\n",
       "      <td>112650</td>\n",
       "      <td>False</td>\n",
       "      <td>112650</td>\n",
       "      <td>object</td>\n",
       "      <td>True</td>\n",
       "      <td>False</td>\n",
       "      <td>orders_dataset</td>\n",
       "      <td>This dataset includes data about the items pur...</td>\n",
       "    </tr>\n",
       "    <tr>\n",
       "      <th>11</th>\n",
       "      <td>order_items_dataset</td>\n",
       "      <td>order_item_id</td>\n",
       "      <td>112650</td>\n",
       "      <td>False</td>\n",
       "      <td>112650</td>\n",
       "      <td>int64</td>\n",
       "      <td>True</td>\n",
       "      <td>False</td>\n",
       "      <td>NaN</td>\n",
       "      <td>This dataset includes data about the items pur...</td>\n",
       "    </tr>\n",
       "    <tr>\n",
       "      <th>12</th>\n",
       "      <td>order_items_dataset</td>\n",
       "      <td>product_id</td>\n",
       "      <td>112650</td>\n",
       "      <td>False</td>\n",
       "      <td>112650</td>\n",
       "      <td>object</td>\n",
       "      <td>False</td>\n",
       "      <td>True</td>\n",
       "      <td>products_dataset</td>\n",
       "      <td>This dataset includes data about the items pur...</td>\n",
       "    </tr>\n",
       "    <tr>\n",
       "      <th>13</th>\n",
       "      <td>order_items_dataset</td>\n",
       "      <td>seller_id</td>\n",
       "      <td>112650</td>\n",
       "      <td>False</td>\n",
       "      <td>112650</td>\n",
       "      <td>object</td>\n",
       "      <td>False</td>\n",
       "      <td>True</td>\n",
       "      <td>sellers_dataset</td>\n",
       "      <td>This dataset includes data about the items pur...</td>\n",
       "    </tr>\n",
       "    <tr>\n",
       "      <th>14</th>\n",
       "      <td>order_items_dataset</td>\n",
       "      <td>shipping_limit_date</td>\n",
       "      <td>112650</td>\n",
       "      <td>False</td>\n",
       "      <td>112650</td>\n",
       "      <td>datetime64</td>\n",
       "      <td>False</td>\n",
       "      <td>False</td>\n",
       "      <td>NaN</td>\n",
       "      <td>This dataset includes data about the items pur...</td>\n",
       "    </tr>\n",
       "    <tr>\n",
       "      <th>15</th>\n",
       "      <td>order_items_dataset</td>\n",
       "      <td>price</td>\n",
       "      <td>112650</td>\n",
       "      <td>False</td>\n",
       "      <td>112650</td>\n",
       "      <td>float64</td>\n",
       "      <td>False</td>\n",
       "      <td>False</td>\n",
       "      <td>NaN</td>\n",
       "      <td>This dataset includes data about the items pur...</td>\n",
       "    </tr>\n",
       "    <tr>\n",
       "      <th>16</th>\n",
       "      <td>order_items_dataset</td>\n",
       "      <td>freight_value</td>\n",
       "      <td>112650</td>\n",
       "      <td>False</td>\n",
       "      <td>112650</td>\n",
       "      <td>float64</td>\n",
       "      <td>False</td>\n",
       "      <td>False</td>\n",
       "      <td>NaN</td>\n",
       "      <td>This dataset includes data about the items pur...</td>\n",
       "    </tr>\n",
       "    <tr>\n",
       "      <th>17</th>\n",
       "      <td>payments_dataset</td>\n",
       "      <td>order_id</td>\n",
       "      <td>103886</td>\n",
       "      <td>False</td>\n",
       "      <td>103886</td>\n",
       "      <td>object</td>\n",
       "      <td>True</td>\n",
       "      <td>False</td>\n",
       "      <td>orders_dataset</td>\n",
       "      <td>This dataset includes data about the orders pa...</td>\n",
       "    </tr>\n",
       "    <tr>\n",
       "      <th>18</th>\n",
       "      <td>payments_dataset</td>\n",
       "      <td>payment_sequential</td>\n",
       "      <td>103886</td>\n",
       "      <td>False</td>\n",
       "      <td>103886</td>\n",
       "      <td>int64</td>\n",
       "      <td>False</td>\n",
       "      <td>False</td>\n",
       "      <td>NaN</td>\n",
       "      <td>This dataset includes data about the orders pa...</td>\n",
       "    </tr>\n",
       "    <tr>\n",
       "      <th>19</th>\n",
       "      <td>payments_dataset</td>\n",
       "      <td>payment_type</td>\n",
       "      <td>103886</td>\n",
       "      <td>False</td>\n",
       "      <td>103886</td>\n",
       "      <td>object</td>\n",
       "      <td>False</td>\n",
       "      <td>False</td>\n",
       "      <td>NaN</td>\n",
       "      <td>This dataset includes data about the orders pa...</td>\n",
       "    </tr>\n",
       "    <tr>\n",
       "      <th>20</th>\n",
       "      <td>payments_dataset</td>\n",
       "      <td>payment_installments</td>\n",
       "      <td>103886</td>\n",
       "      <td>False</td>\n",
       "      <td>103886</td>\n",
       "      <td>int64</td>\n",
       "      <td>False</td>\n",
       "      <td>False</td>\n",
       "      <td>NaN</td>\n",
       "      <td>This dataset includes data about the orders pa...</td>\n",
       "    </tr>\n",
       "    <tr>\n",
       "      <th>21</th>\n",
       "      <td>payments_dataset</td>\n",
       "      <td>payment_value</td>\n",
       "      <td>103886</td>\n",
       "      <td>False</td>\n",
       "      <td>103886</td>\n",
       "      <td>float64</td>\n",
       "      <td>False</td>\n",
       "      <td>False</td>\n",
       "      <td>NaN</td>\n",
       "      <td>This dataset includes data about the orders pa...</td>\n",
       "    </tr>\n",
       "    <tr>\n",
       "      <th>22</th>\n",
       "      <td>reviews_dataset</td>\n",
       "      <td>review_id</td>\n",
       "      <td>100000</td>\n",
       "      <td>False</td>\n",
       "      <td>100000</td>\n",
       "      <td>object</td>\n",
       "      <td>False</td>\n",
       "      <td>False</td>\n",
       "      <td>NaN</td>\n",
       "      <td>This dataset includes data about the reviews m...</td>\n",
       "    </tr>\n",
       "    <tr>\n",
       "      <th>23</th>\n",
       "      <td>reviews_dataset</td>\n",
       "      <td>order_id</td>\n",
       "      <td>100000</td>\n",
       "      <td>False</td>\n",
       "      <td>100000</td>\n",
       "      <td>object</td>\n",
       "      <td>True</td>\n",
       "      <td>False</td>\n",
       "      <td>orders_dataset</td>\n",
       "      <td>This dataset includes data about the reviews m...</td>\n",
       "    </tr>\n",
       "    <tr>\n",
       "      <th>24</th>\n",
       "      <td>reviews_dataset</td>\n",
       "      <td>review_score</td>\n",
       "      <td>100000</td>\n",
       "      <td>False</td>\n",
       "      <td>100000</td>\n",
       "      <td>int64</td>\n",
       "      <td>False</td>\n",
       "      <td>False</td>\n",
       "      <td>NaN</td>\n",
       "      <td>This dataset includes data about the reviews m...</td>\n",
       "    </tr>\n",
       "    <tr>\n",
       "      <th>25</th>\n",
       "      <td>reviews_dataset</td>\n",
       "      <td>review_comment_title</td>\n",
       "      <td>100000</td>\n",
       "      <td>True</td>\n",
       "      <td>11715</td>\n",
       "      <td>object</td>\n",
       "      <td>False</td>\n",
       "      <td>False</td>\n",
       "      <td>NaN</td>\n",
       "      <td>This dataset includes data about the reviews m...</td>\n",
       "    </tr>\n",
       "    <tr>\n",
       "      <th>26</th>\n",
       "      <td>reviews_dataset</td>\n",
       "      <td>review_comment_message</td>\n",
       "      <td>100000</td>\n",
       "      <td>True</td>\n",
       "      <td>41753</td>\n",
       "      <td>object</td>\n",
       "      <td>False</td>\n",
       "      <td>False</td>\n",
       "      <td>NaN</td>\n",
       "      <td>This dataset includes data about the reviews m...</td>\n",
       "    </tr>\n",
       "    <tr>\n",
       "      <th>27</th>\n",
       "      <td>reviews_dataset</td>\n",
       "      <td>review_creation_date</td>\n",
       "      <td>100000</td>\n",
       "      <td>False</td>\n",
       "      <td>100000</td>\n",
       "      <td>datetime64</td>\n",
       "      <td>False</td>\n",
       "      <td>False</td>\n",
       "      <td>NaN</td>\n",
       "      <td>This dataset includes data about the reviews m...</td>\n",
       "    </tr>\n",
       "    <tr>\n",
       "      <th>28</th>\n",
       "      <td>reviews_dataset</td>\n",
       "      <td>review_answer_timestamp</td>\n",
       "      <td>100000</td>\n",
       "      <td>False</td>\n",
       "      <td>100000</td>\n",
       "      <td>datetime64</td>\n",
       "      <td>False</td>\n",
       "      <td>False</td>\n",
       "      <td>NaN</td>\n",
       "      <td>This dataset includes data about the reviews m...</td>\n",
       "    </tr>\n",
       "    <tr>\n",
       "      <th>29</th>\n",
       "      <td>orders_dataset</td>\n",
       "      <td>order_id</td>\n",
       "      <td>99441</td>\n",
       "      <td>False</td>\n",
       "      <td>99441</td>\n",
       "      <td>object</td>\n",
       "      <td>True</td>\n",
       "      <td>False</td>\n",
       "      <td>[order_payments_dataset, order_items_dataset, ...</td>\n",
       "      <td>This is the core dataset. From each order you ...</td>\n",
       "    </tr>\n",
       "    <tr>\n",
       "      <th>30</th>\n",
       "      <td>orders_dataset</td>\n",
       "      <td>customer_id</td>\n",
       "      <td>99441</td>\n",
       "      <td>False</td>\n",
       "      <td>99441</td>\n",
       "      <td>object</td>\n",
       "      <td>True</td>\n",
       "      <td>False</td>\n",
       "      <td>customer_dataset</td>\n",
       "      <td>This is the core dataset. From each order you ...</td>\n",
       "    </tr>\n",
       "    <tr>\n",
       "      <th>31</th>\n",
       "      <td>orders_dataset</td>\n",
       "      <td>order_status</td>\n",
       "      <td>99441</td>\n",
       "      <td>False</td>\n",
       "      <td>99441</td>\n",
       "      <td>object</td>\n",
       "      <td>False</td>\n",
       "      <td>False</td>\n",
       "      <td>NaN</td>\n",
       "      <td>This is the core dataset. From each order you ...</td>\n",
       "    </tr>\n",
       "    <tr>\n",
       "      <th>32</th>\n",
       "      <td>orders_dataset</td>\n",
       "      <td>order_purchase_timestamp</td>\n",
       "      <td>99441</td>\n",
       "      <td>False</td>\n",
       "      <td>99441</td>\n",
       "      <td>datetime64</td>\n",
       "      <td>False</td>\n",
       "      <td>False</td>\n",
       "      <td>NaN</td>\n",
       "      <td>This is the core dataset. From each order you ...</td>\n",
       "    </tr>\n",
       "    <tr>\n",
       "      <th>33</th>\n",
       "      <td>orders_dataset</td>\n",
       "      <td>order_approved_at</td>\n",
       "      <td>99441</td>\n",
       "      <td>True</td>\n",
       "      <td>99281</td>\n",
       "      <td>datetime64</td>\n",
       "      <td>False</td>\n",
       "      <td>False</td>\n",
       "      <td>NaN</td>\n",
       "      <td>This is the core dataset. From each order you ...</td>\n",
       "    </tr>\n",
       "    <tr>\n",
       "      <th>34</th>\n",
       "      <td>orders_dataset</td>\n",
       "      <td>order_delivered_carrier_date</td>\n",
       "      <td>99441</td>\n",
       "      <td>True</td>\n",
       "      <td>97658</td>\n",
       "      <td>datetime64</td>\n",
       "      <td>False</td>\n",
       "      <td>False</td>\n",
       "      <td>NaN</td>\n",
       "      <td>This is the core dataset. From each order you ...</td>\n",
       "    </tr>\n",
       "    <tr>\n",
       "      <th>35</th>\n",
       "      <td>orders_dataset</td>\n",
       "      <td>order_delivered_customer_date</td>\n",
       "      <td>99441</td>\n",
       "      <td>True</td>\n",
       "      <td>96476</td>\n",
       "      <td>datetime64</td>\n",
       "      <td>False</td>\n",
       "      <td>False</td>\n",
       "      <td>NaN</td>\n",
       "      <td>This is the core dataset. From each order you ...</td>\n",
       "    </tr>\n",
       "    <tr>\n",
       "      <th>36</th>\n",
       "      <td>orders_dataset</td>\n",
       "      <td>order_estimated_delivery_date</td>\n",
       "      <td>99441</td>\n",
       "      <td>False</td>\n",
       "      <td>99441</td>\n",
       "      <td>datetime64</td>\n",
       "      <td>False</td>\n",
       "      <td>False</td>\n",
       "      <td>NaN</td>\n",
       "      <td>This is the core dataset. From each order you ...</td>\n",
       "    </tr>\n",
       "    <tr>\n",
       "      <th>37</th>\n",
       "      <td>products_dataset</td>\n",
       "      <td>product_id</td>\n",
       "      <td>32951</td>\n",
       "      <td>False</td>\n",
       "      <td>32951</td>\n",
       "      <td>object</td>\n",
       "      <td>True</td>\n",
       "      <td>False</td>\n",
       "      <td>order_item_dataset</td>\n",
       "      <td>This dataset includes data about the products ...</td>\n",
       "    </tr>\n",
       "    <tr>\n",
       "      <th>38</th>\n",
       "      <td>products_dataset</td>\n",
       "      <td>product_category_name</td>\n",
       "      <td>32951</td>\n",
       "      <td>True</td>\n",
       "      <td>32341</td>\n",
       "      <td>object</td>\n",
       "      <td>False</td>\n",
       "      <td>False</td>\n",
       "      <td>NaN</td>\n",
       "      <td>This dataset includes data about the products ...</td>\n",
       "    </tr>\n",
       "    <tr>\n",
       "      <th>39</th>\n",
       "      <td>products_dataset</td>\n",
       "      <td>product_name_lenght</td>\n",
       "      <td>32951</td>\n",
       "      <td>True</td>\n",
       "      <td>32341</td>\n",
       "      <td>float64</td>\n",
       "      <td>False</td>\n",
       "      <td>False</td>\n",
       "      <td>NaN</td>\n",
       "      <td>This dataset includes data about the products ...</td>\n",
       "    </tr>\n",
       "    <tr>\n",
       "      <th>40</th>\n",
       "      <td>products_dataset</td>\n",
       "      <td>product_description_lenght</td>\n",
       "      <td>32951</td>\n",
       "      <td>True</td>\n",
       "      <td>32341</td>\n",
       "      <td>float64</td>\n",
       "      <td>False</td>\n",
       "      <td>False</td>\n",
       "      <td>NaN</td>\n",
       "      <td>This dataset includes data about the products ...</td>\n",
       "    </tr>\n",
       "    <tr>\n",
       "      <th>41</th>\n",
       "      <td>products_dataset</td>\n",
       "      <td>product_photos_qty</td>\n",
       "      <td>32951</td>\n",
       "      <td>True</td>\n",
       "      <td>32341</td>\n",
       "      <td>float64</td>\n",
       "      <td>False</td>\n",
       "      <td>False</td>\n",
       "      <td>NaN</td>\n",
       "      <td>This dataset includes data about the products ...</td>\n",
       "    </tr>\n",
       "    <tr>\n",
       "      <th>42</th>\n",
       "      <td>products_dataset</td>\n",
       "      <td>product_weight_g</td>\n",
       "      <td>32951</td>\n",
       "      <td>True</td>\n",
       "      <td>32949</td>\n",
       "      <td>float64</td>\n",
       "      <td>False</td>\n",
       "      <td>False</td>\n",
       "      <td>NaN</td>\n",
       "      <td>This dataset includes data about the products ...</td>\n",
       "    </tr>\n",
       "    <tr>\n",
       "      <th>43</th>\n",
       "      <td>products_dataset</td>\n",
       "      <td>product_length_cm</td>\n",
       "      <td>32951</td>\n",
       "      <td>True</td>\n",
       "      <td>32949</td>\n",
       "      <td>float64</td>\n",
       "      <td>False</td>\n",
       "      <td>False</td>\n",
       "      <td>NaN</td>\n",
       "      <td>This dataset includes data about the products ...</td>\n",
       "    </tr>\n",
       "    <tr>\n",
       "      <th>44</th>\n",
       "      <td>products_dataset</td>\n",
       "      <td>product_height_cm</td>\n",
       "      <td>32951</td>\n",
       "      <td>True</td>\n",
       "      <td>32949</td>\n",
       "      <td>float64</td>\n",
       "      <td>False</td>\n",
       "      <td>False</td>\n",
       "      <td>NaN</td>\n",
       "      <td>This dataset includes data about the products ...</td>\n",
       "    </tr>\n",
       "    <tr>\n",
       "      <th>45</th>\n",
       "      <td>products_dataset</td>\n",
       "      <td>product_width_cm</td>\n",
       "      <td>32951</td>\n",
       "      <td>True</td>\n",
       "      <td>32949</td>\n",
       "      <td>float64</td>\n",
       "      <td>False</td>\n",
       "      <td>False</td>\n",
       "      <td>NaN</td>\n",
       "      <td>This dataset includes data about the products ...</td>\n",
       "    </tr>\n",
       "    <tr>\n",
       "      <th>46</th>\n",
       "      <td>seller_dataset</td>\n",
       "      <td>seller_id</td>\n",
       "      <td>3095</td>\n",
       "      <td>False</td>\n",
       "      <td>3095</td>\n",
       "      <td>object</td>\n",
       "      <td>True</td>\n",
       "      <td>False</td>\n",
       "      <td>order_items_dataset</td>\n",
       "      <td>This dataset includes data about the sellers t...</td>\n",
       "    </tr>\n",
       "    <tr>\n",
       "      <th>47</th>\n",
       "      <td>seller_dataset</td>\n",
       "      <td>seller_zip_code_prefix</td>\n",
       "      <td>3095</td>\n",
       "      <td>False</td>\n",
       "      <td>3095</td>\n",
       "      <td>int64</td>\n",
       "      <td>False</td>\n",
       "      <td>True</td>\n",
       "      <td>geolocation_dataset</td>\n",
       "      <td>This dataset includes data about the sellers t...</td>\n",
       "    </tr>\n",
       "    <tr>\n",
       "      <th>48</th>\n",
       "      <td>seller_dataset</td>\n",
       "      <td>seller_city</td>\n",
       "      <td>3095</td>\n",
       "      <td>False</td>\n",
       "      <td>3095</td>\n",
       "      <td>object</td>\n",
       "      <td>False</td>\n",
       "      <td>False</td>\n",
       "      <td>NaN</td>\n",
       "      <td>This dataset includes data about the sellers t...</td>\n",
       "    </tr>\n",
       "    <tr>\n",
       "      <th>49</th>\n",
       "      <td>seller_dataset</td>\n",
       "      <td>seller_state</td>\n",
       "      <td>3095</td>\n",
       "      <td>False</td>\n",
       "      <td>3095</td>\n",
       "      <td>object</td>\n",
       "      <td>False</td>\n",
       "      <td>False</td>\n",
       "      <td>NaN</td>\n",
       "      <td>This dataset includes data about the sellers t...</td>\n",
       "    </tr>\n",
       "  </tbody>\n",
       "</table>\n",
       "</div>"
      ],
      "text/plain": [
       "                dataset                         column  nb_rows    NaN  \\\n",
       "0      customer_dataset                    customer_id    99441  False   \n",
       "1      customer_dataset             customer_unique_id    99441  False   \n",
       "2      customer_dataset       customer_zip_code_prefix    99441  False   \n",
       "3      customer_dataset                  customer_city    99441  False   \n",
       "4      customer_dataset                 customer_state    99441  False   \n",
       "5   geolocation_dataset    geolocation_zip_code_prefix  1000163  False   \n",
       "6   geolocation_dataset                geolocation_lat  1000163  False   \n",
       "7   geolocation_dataset                geolocation_lng  1000163  False   \n",
       "8   geolocation_dataset               geolocation_city  1000163  False   \n",
       "9   geolocation_dataset              geolocation_state  1000163  False   \n",
       "10  order_items_dataset                       order_id   112650  False   \n",
       "11  order_items_dataset                  order_item_id   112650  False   \n",
       "12  order_items_dataset                     product_id   112650  False   \n",
       "13  order_items_dataset                      seller_id   112650  False   \n",
       "14  order_items_dataset            shipping_limit_date   112650  False   \n",
       "15  order_items_dataset                          price   112650  False   \n",
       "16  order_items_dataset                  freight_value   112650  False   \n",
       "17     payments_dataset                       order_id   103886  False   \n",
       "18     payments_dataset             payment_sequential   103886  False   \n",
       "19     payments_dataset                   payment_type   103886  False   \n",
       "20     payments_dataset           payment_installments   103886  False   \n",
       "21     payments_dataset                  payment_value   103886  False   \n",
       "22      reviews_dataset                      review_id   100000  False   \n",
       "23      reviews_dataset                       order_id   100000  False   \n",
       "24      reviews_dataset                   review_score   100000  False   \n",
       "25      reviews_dataset           review_comment_title   100000   True   \n",
       "26      reviews_dataset         review_comment_message   100000   True   \n",
       "27      reviews_dataset           review_creation_date   100000  False   \n",
       "28      reviews_dataset        review_answer_timestamp   100000  False   \n",
       "29       orders_dataset                       order_id    99441  False   \n",
       "30       orders_dataset                    customer_id    99441  False   \n",
       "31       orders_dataset                   order_status    99441  False   \n",
       "32       orders_dataset       order_purchase_timestamp    99441  False   \n",
       "33       orders_dataset              order_approved_at    99441   True   \n",
       "34       orders_dataset   order_delivered_carrier_date    99441   True   \n",
       "35       orders_dataset  order_delivered_customer_date    99441   True   \n",
       "36       orders_dataset  order_estimated_delivery_date    99441  False   \n",
       "37     products_dataset                     product_id    32951  False   \n",
       "38     products_dataset          product_category_name    32951   True   \n",
       "39     products_dataset            product_name_lenght    32951   True   \n",
       "40     products_dataset     product_description_lenght    32951   True   \n",
       "41     products_dataset             product_photos_qty    32951   True   \n",
       "42     products_dataset               product_weight_g    32951   True   \n",
       "43     products_dataset              product_length_cm    32951   True   \n",
       "44     products_dataset              product_height_cm    32951   True   \n",
       "45     products_dataset               product_width_cm    32951   True   \n",
       "46       seller_dataset                      seller_id     3095  False   \n",
       "47       seller_dataset         seller_zip_code_prefix     3095  False   \n",
       "48       seller_dataset                    seller_city     3095  False   \n",
       "49       seller_dataset                   seller_state     3095  False   \n",
       "\n",
       "    nb_rows_na       dtype  primary_key  foreign_key  \\\n",
       "0        99441      object         True        False   \n",
       "1        99441      object        False        False   \n",
       "2        99441       int64        False         True   \n",
       "3        99441      object        False        False   \n",
       "4        99441      object        False        False   \n",
       "5      1000163       int64         True        False   \n",
       "6      1000163     float64        False        False   \n",
       "7      1000163     float64        False        False   \n",
       "8      1000163      object        False        False   \n",
       "9      1000163      object        False        False   \n",
       "10      112650      object         True        False   \n",
       "11      112650       int64         True        False   \n",
       "12      112650      object        False         True   \n",
       "13      112650      object        False         True   \n",
       "14      112650  datetime64        False        False   \n",
       "15      112650     float64        False        False   \n",
       "16      112650     float64        False        False   \n",
       "17      103886      object         True        False   \n",
       "18      103886       int64        False        False   \n",
       "19      103886      object        False        False   \n",
       "20      103886       int64        False        False   \n",
       "21      103886     float64        False        False   \n",
       "22      100000      object        False        False   \n",
       "23      100000      object         True        False   \n",
       "24      100000       int64        False        False   \n",
       "25       11715      object        False        False   \n",
       "26       41753      object        False        False   \n",
       "27      100000  datetime64        False        False   \n",
       "28      100000  datetime64        False        False   \n",
       "29       99441      object         True        False   \n",
       "30       99441      object         True        False   \n",
       "31       99441      object        False        False   \n",
       "32       99441  datetime64        False        False   \n",
       "33       99281  datetime64        False        False   \n",
       "34       97658  datetime64        False        False   \n",
       "35       96476  datetime64        False        False   \n",
       "36       99441  datetime64        False        False   \n",
       "37       32951      object         True        False   \n",
       "38       32341      object        False        False   \n",
       "39       32341     float64        False        False   \n",
       "40       32341     float64        False        False   \n",
       "41       32341     float64        False        False   \n",
       "42       32949     float64        False        False   \n",
       "43       32949     float64        False        False   \n",
       "44       32949     float64        False        False   \n",
       "45       32949     float64        False        False   \n",
       "46        3095      object         True        False   \n",
       "47        3095       int64        False         True   \n",
       "48        3095      object        False        False   \n",
       "49        3095      object        False        False   \n",
       "\n",
       "                                         connected_to  \\\n",
       "0                                      orders_dataset   \n",
       "1                                                 NaN   \n",
       "2                                 geolocation_dataset   \n",
       "3                                                 NaN   \n",
       "4                                                 NaN   \n",
       "5                 [customer_dataset, sellers_dataset]   \n",
       "6                                                 NaN   \n",
       "7                                                 NaN   \n",
       "8                                                 NaN   \n",
       "9                                                 NaN   \n",
       "10                                     orders_dataset   \n",
       "11                                                NaN   \n",
       "12                                   products_dataset   \n",
       "13                                    sellers_dataset   \n",
       "14                                                NaN   \n",
       "15                                                NaN   \n",
       "16                                                NaN   \n",
       "17                                     orders_dataset   \n",
       "18                                                NaN   \n",
       "19                                                NaN   \n",
       "20                                                NaN   \n",
       "21                                                NaN   \n",
       "22                                                NaN   \n",
       "23                                     orders_dataset   \n",
       "24                                                NaN   \n",
       "25                                                NaN   \n",
       "26                                                NaN   \n",
       "27                                                NaN   \n",
       "28                                                NaN   \n",
       "29  [order_payments_dataset, order_items_dataset, ...   \n",
       "30                                   customer_dataset   \n",
       "31                                                NaN   \n",
       "32                                                NaN   \n",
       "33                                                NaN   \n",
       "34                                                NaN   \n",
       "35                                                NaN   \n",
       "36                                                NaN   \n",
       "37                                 order_item_dataset   \n",
       "38                                                NaN   \n",
       "39                                                NaN   \n",
       "40                                                NaN   \n",
       "41                                                NaN   \n",
       "42                                                NaN   \n",
       "43                                                NaN   \n",
       "44                                                NaN   \n",
       "45                                                NaN   \n",
       "46                                order_items_dataset   \n",
       "47                                geolocation_dataset   \n",
       "48                                                NaN   \n",
       "49                                                NaN   \n",
       "\n",
       "                                          description  \n",
       "0   This dataset has information about the custome...  \n",
       "1   This dataset has information about the custome...  \n",
       "2   This dataset has information about the custome...  \n",
       "3   This dataset has information about the custome...  \n",
       "4   This dataset has information about the custome...  \n",
       "5   This dataset has information Brazilian zip cod...  \n",
       "6   This dataset has information Brazilian zip cod...  \n",
       "7   This dataset has information Brazilian zip cod...  \n",
       "8   This dataset has information Brazilian zip cod...  \n",
       "9   This dataset has information Brazilian zip cod...  \n",
       "10  This dataset includes data about the items pur...  \n",
       "11  This dataset includes data about the items pur...  \n",
       "12  This dataset includes data about the items pur...  \n",
       "13  This dataset includes data about the items pur...  \n",
       "14  This dataset includes data about the items pur...  \n",
       "15  This dataset includes data about the items pur...  \n",
       "16  This dataset includes data about the items pur...  \n",
       "17  This dataset includes data about the orders pa...  \n",
       "18  This dataset includes data about the orders pa...  \n",
       "19  This dataset includes data about the orders pa...  \n",
       "20  This dataset includes data about the orders pa...  \n",
       "21  This dataset includes data about the orders pa...  \n",
       "22  This dataset includes data about the reviews m...  \n",
       "23  This dataset includes data about the reviews m...  \n",
       "24  This dataset includes data about the reviews m...  \n",
       "25  This dataset includes data about the reviews m...  \n",
       "26  This dataset includes data about the reviews m...  \n",
       "27  This dataset includes data about the reviews m...  \n",
       "28  This dataset includes data about the reviews m...  \n",
       "29  This is the core dataset. From each order you ...  \n",
       "30  This is the core dataset. From each order you ...  \n",
       "31  This is the core dataset. From each order you ...  \n",
       "32  This is the core dataset. From each order you ...  \n",
       "33  This is the core dataset. From each order you ...  \n",
       "34  This is the core dataset. From each order you ...  \n",
       "35  This is the core dataset. From each order you ...  \n",
       "36  This is the core dataset. From each order you ...  \n",
       "37  This dataset includes data about the products ...  \n",
       "38  This dataset includes data about the products ...  \n",
       "39  This dataset includes data about the products ...  \n",
       "40  This dataset includes data about the products ...  \n",
       "41  This dataset includes data about the products ...  \n",
       "42  This dataset includes data about the products ...  \n",
       "43  This dataset includes data about the products ...  \n",
       "44  This dataset includes data about the products ...  \n",
       "45  This dataset includes data about the products ...  \n",
       "46  This dataset includes data about the sellers t...  \n",
       "47  This dataset includes data about the sellers t...  \n",
       "48  This dataset includes data about the sellers t...  \n",
       "49  This dataset includes data about the sellers t...  "
      ]
     },
     "execution_count": 4,
     "metadata": {},
     "output_type": "execute_result"
    }
   ],
   "source": [
    "metadata"
   ]
  },
  {
   "cell_type": "markdown",
   "metadata": {},
   "source": [
    "### Customers Dataset\n",
    "This dataset has information about the customer and its location. Use it to identify unique customers in the orders dataset and to find the orders delivery location.\n",
    "\n",
    "At our system each order is assigned to a unique customerid. This means that the same customer will get different ids for different orders. The purpose of having a customerunique_id on the dataset is to allow you to identify customers that made repurchases at the store. Otherwise you would find that each order had a different customer associated with."
   ]
  },
  {
   "cell_type": "code",
   "execution_count": 5,
   "metadata": {},
   "outputs": [
    {
     "data": {
      "text/html": [
       "<div>\n",
       "<style scoped>\n",
       "    .dataframe tbody tr th:only-of-type {\n",
       "        vertical-align: middle;\n",
       "    }\n",
       "\n",
       "    .dataframe tbody tr th {\n",
       "        vertical-align: top;\n",
       "    }\n",
       "\n",
       "    .dataframe thead th {\n",
       "        text-align: right;\n",
       "    }\n",
       "</style>\n",
       "<table border=\"1\" class=\"dataframe\">\n",
       "  <thead>\n",
       "    <tr style=\"text-align: right;\">\n",
       "      <th></th>\n",
       "      <th>customer_id</th>\n",
       "      <th>customer_unique_id</th>\n",
       "      <th>customer_zip_code_prefix</th>\n",
       "      <th>customer_city</th>\n",
       "      <th>customer_state</th>\n",
       "    </tr>\n",
       "  </thead>\n",
       "  <tbody>\n",
       "    <tr>\n",
       "      <th>0</th>\n",
       "      <td>06b8999e2fba1a1fbc88172c00ba8bc7</td>\n",
       "      <td>861eff4711a542e4b93843c6dd7febb0</td>\n",
       "      <td>14409</td>\n",
       "      <td>franca</td>\n",
       "      <td>SP</td>\n",
       "    </tr>\n",
       "    <tr>\n",
       "      <th>1</th>\n",
       "      <td>18955e83d337fd6b2def6b18a428ac77</td>\n",
       "      <td>290c77bc529b7ac935b93aa66c333dc3</td>\n",
       "      <td>9790</td>\n",
       "      <td>sao bernardo do campo</td>\n",
       "      <td>SP</td>\n",
       "    </tr>\n",
       "    <tr>\n",
       "      <th>2</th>\n",
       "      <td>4e7b3e00288586ebd08712fdd0374a03</td>\n",
       "      <td>060e732b5b29e8181a18229c7b0b2b5e</td>\n",
       "      <td>1151</td>\n",
       "      <td>sao paulo</td>\n",
       "      <td>SP</td>\n",
       "    </tr>\n",
       "    <tr>\n",
       "      <th>3</th>\n",
       "      <td>b2b6027bc5c5109e529d4dc6358b12c3</td>\n",
       "      <td>259dac757896d24d7702b9acbbff3f3c</td>\n",
       "      <td>8775</td>\n",
       "      <td>mogi das cruzes</td>\n",
       "      <td>SP</td>\n",
       "    </tr>\n",
       "    <tr>\n",
       "      <th>4</th>\n",
       "      <td>4f2d8ab171c80ec8364f7c12e35b23ad</td>\n",
       "      <td>345ecd01c38d18a9036ed96c73b8d066</td>\n",
       "      <td>13056</td>\n",
       "      <td>campinas</td>\n",
       "      <td>SP</td>\n",
       "    </tr>\n",
       "  </tbody>\n",
       "</table>\n",
       "</div>"
      ],
      "text/plain": [
       "                        customer_id                customer_unique_id  \\\n",
       "0  06b8999e2fba1a1fbc88172c00ba8bc7  861eff4711a542e4b93843c6dd7febb0   \n",
       "1  18955e83d337fd6b2def6b18a428ac77  290c77bc529b7ac935b93aa66c333dc3   \n",
       "2  4e7b3e00288586ebd08712fdd0374a03  060e732b5b29e8181a18229c7b0b2b5e   \n",
       "3  b2b6027bc5c5109e529d4dc6358b12c3  259dac757896d24d7702b9acbbff3f3c   \n",
       "4  4f2d8ab171c80ec8364f7c12e35b23ad  345ecd01c38d18a9036ed96c73b8d066   \n",
       "\n",
       "   customer_zip_code_prefix          customer_city customer_state  \n",
       "0                     14409                 franca             SP  \n",
       "1                      9790  sao bernardo do campo             SP  \n",
       "2                      1151              sao paulo             SP  \n",
       "3                      8775        mogi das cruzes             SP  \n",
       "4                     13056               campinas             SP  "
      ]
     },
     "execution_count": 5,
     "metadata": {},
     "output_type": "execute_result"
    }
   ],
   "source": [
    "customers_data.head()"
   ]
  },
  {
   "cell_type": "code",
   "execution_count": 6,
   "metadata": {},
   "outputs": [
    {
     "name": "stdout",
     "output_type": "stream",
     "text": [
      "<class 'pandas.core.frame.DataFrame'>\n",
      "RangeIndex: 99441 entries, 0 to 99440\n",
      "Data columns (total 5 columns):\n",
      " #   Column                    Non-Null Count  Dtype \n",
      "---  ------                    --------------  ----- \n",
      " 0   customer_id               99441 non-null  object\n",
      " 1   customer_unique_id        99441 non-null  object\n",
      " 2   customer_zip_code_prefix  99441 non-null  int64 \n",
      " 3   customer_city             99441 non-null  object\n",
      " 4   customer_state            99441 non-null  object\n",
      "dtypes: int64(1), object(4)\n",
      "memory usage: 3.8+ MB\n"
     ]
    }
   ],
   "source": [
    "customers_data.info()"
   ]
  },
  {
   "cell_type": "code",
   "execution_count": 7,
   "metadata": {},
   "outputs": [
    {
     "data": {
      "text/plain": [
       "<AxesSubplot:>"
      ]
     },
     "execution_count": 7,
     "metadata": {},
     "output_type": "execute_result"
    },
    {
     "data": {
      "image/png": "[encoded data removed]",
      "text/plain": [
       "<Figure size 1728x720 with 3 Axes>"
      ]
     },
     "metadata": {
      "needs_background": "light"
     },
     "output_type": "display_data"
    }
   ],
   "source": [
    "msno.bar(customers_data)"
   ]
  },
  {
   "cell_type": "code",
   "execution_count": 8,
   "metadata": {},
   "outputs": [
    {
     "data": {
      "image/png": "[encoded data removed]",
      "text/plain": [
       "<Figure size 432x288 with 1 Axes>"
      ]
     },
     "metadata": {
      "needs_background": "light"
     },
     "output_type": "display_data"
    }
   ],
   "source": [
    "customers_data['customer_city'].value_counts()[:20].plot(kind=\"bar\")\n",
    "plt.show()"
   ]
  },
  {
   "cell_type": "markdown",
   "metadata": {},
   "source": [
    "### Geolocation Dataset\n",
    "This dataset has information Brazilian zip codes and its lat/lng coordinates. Use it to plot maps and find distances between sellers and customers."
   ]
  },
  {
   "cell_type": "code",
   "execution_count": 9,
   "metadata": {},
   "outputs": [
    {
     "data": {
      "text/html": [
       "<div>\n",
       "<style scoped>\n",
       "    .dataframe tbody tr th:only-of-type {\n",
       "        vertical-align: middle;\n",
       "    }\n",
       "\n",
       "    .dataframe tbody tr th {\n",
       "        vertical-align: top;\n",
       "    }\n",
       "\n",
       "    .dataframe thead th {\n",
       "        text-align: right;\n",
       "    }\n",
       "</style>\n",
       "<table border=\"1\" class=\"dataframe\">\n",
       "  <thead>\n",
       "    <tr style=\"text-align: right;\">\n",
       "      <th></th>\n",
       "      <th>geolocation_zip_code_prefix</th>\n",
       "      <th>geolocation_lat</th>\n",
       "      <th>geolocation_lng</th>\n",
       "      <th>geolocation_city</th>\n",
       "      <th>geolocation_state</th>\n",
       "    </tr>\n",
       "  </thead>\n",
       "  <tbody>\n",
       "    <tr>\n",
       "      <th>0</th>\n",
       "      <td>1037</td>\n",
       "      <td>-23.545621</td>\n",
       "      <td>-46.639292</td>\n",
       "      <td>sao paulo</td>\n",
       "      <td>SP</td>\n",
       "    </tr>\n",
       "    <tr>\n",
       "      <th>1</th>\n",
       "      <td>1046</td>\n",
       "      <td>-23.546081</td>\n",
       "      <td>-46.644820</td>\n",
       "      <td>sao paulo</td>\n",
       "      <td>SP</td>\n",
       "    </tr>\n",
       "    <tr>\n",
       "      <th>2</th>\n",
       "      <td>1046</td>\n",
       "      <td>-23.546129</td>\n",
       "      <td>-46.642951</td>\n",
       "      <td>sao paulo</td>\n",
       "      <td>SP</td>\n",
       "    </tr>\n",
       "    <tr>\n",
       "      <th>3</th>\n",
       "      <td>1041</td>\n",
       "      <td>-23.544392</td>\n",
       "      <td>-46.639499</td>\n",
       "      <td>sao paulo</td>\n",
       "      <td>SP</td>\n",
       "    </tr>\n",
       "    <tr>\n",
       "      <th>4</th>\n",
       "      <td>1035</td>\n",
       "      <td>-23.541578</td>\n",
       "      <td>-46.641607</td>\n",
       "      <td>sao paulo</td>\n",
       "      <td>SP</td>\n",
       "    </tr>\n",
       "  </tbody>\n",
       "</table>\n",
       "</div>"
      ],
      "text/plain": [
       "   geolocation_zip_code_prefix  geolocation_lat  geolocation_lng  \\\n",
       "0                         1037       -23.545621       -46.639292   \n",
       "1                         1046       -23.546081       -46.644820   \n",
       "2                         1046       -23.546129       -46.642951   \n",
       "3                         1041       -23.544392       -46.639499   \n",
       "4                         1035       -23.541578       -46.641607   \n",
       "\n",
       "  geolocation_city geolocation_state  \n",
       "0        sao paulo                SP  \n",
       "1        sao paulo                SP  \n",
       "2        sao paulo                SP  \n",
       "3        sao paulo                SP  \n",
       "4        sao paulo                SP  "
      ]
     },
     "execution_count": 9,
     "metadata": {},
     "output_type": "execute_result"
    }
   ],
   "source": [
    "geolocation_data.head()"
   ]
  },
  {
   "cell_type": "code",
   "execution_count": 10,
   "metadata": {},
   "outputs": [
    {
     "data": {
      "text/plain": [
       "<AxesSubplot:>"
      ]
     },
     "execution_count": 10,
     "metadata": {},
     "output_type": "execute_result"
    },
    {
     "data": {
      "image/png": "[encoded data removed]",
      "text/plain": [
       "<Figure size 1728x720 with 3 Axes>"
      ]
     },
     "metadata": {
      "needs_background": "light"
     },
     "output_type": "display_data"
    }
   ],
   "source": [
    "msno.bar(geolocation_data)"
   ]
  },
  {
   "cell_type": "code",
   "execution_count": 11,
   "metadata": {},
   "outputs": [
    {
     "data": {
      "text/plain": [
       "<AxesSubplot:>"
      ]
     },
     "execution_count": 11,
     "metadata": {},
     "output_type": "execute_result"
    },
    {
     "data": {
      "image/png": "[encoded data removed]",
      "text/plain": [
       "<Figure size 432x288 with 1 Axes>"
      ]
     },
     "metadata": {
      "needs_background": "light"
     },
     "output_type": "display_data"
    }
   ],
   "source": [
    "geolocation_data.geolocation_city.value_counts()[:20].plot(kind=\"bar\")"
   ]
  },
  {
   "cell_type": "markdown",
   "metadata": {},
   "source": [
    "### Sellers Dataset\n",
    "This dataset includes data about the sellers that fulfilled orders made at Olist. Use it to find the seller location and to identify which seller fulfilled each product."
   ]
  },
  {
   "cell_type": "code",
   "execution_count": 12,
   "metadata": {},
   "outputs": [
    {
     "data": {
      "text/html": [
       "<div>\n",
       "<style scoped>\n",
       "    .dataframe tbody tr th:only-of-type {\n",
       "        vertical-align: middle;\n",
       "    }\n",
       "\n",
       "    .dataframe tbody tr th {\n",
       "        vertical-align: top;\n",
       "    }\n",
       "\n",
       "    .dataframe thead th {\n",
       "        text-align: right;\n",
       "    }\n",
       "</style>\n",
       "<table border=\"1\" class=\"dataframe\">\n",
       "  <thead>\n",
       "    <tr style=\"text-align: right;\">\n",
       "      <th></th>\n",
       "      <th>seller_id</th>\n",
       "      <th>seller_zip_code_prefix</th>\n",
       "      <th>seller_city</th>\n",
       "      <th>seller_state</th>\n",
       "    </tr>\n",
       "  </thead>\n",
       "  <tbody>\n",
       "    <tr>\n",
       "      <th>0</th>\n",
       "      <td>3442f8959a84dea7ee197c632cb2df15</td>\n",
       "      <td>13023</td>\n",
       "      <td>campinas</td>\n",
       "      <td>SP</td>\n",
       "    </tr>\n",
       "    <tr>\n",
       "      <th>1</th>\n",
       "      <td>d1b65fc7debc3361ea86b5f14c68d2e2</td>\n",
       "      <td>13844</td>\n",
       "      <td>mogi guacu</td>\n",
       "      <td>SP</td>\n",
       "    </tr>\n",
       "    <tr>\n",
       "      <th>2</th>\n",
       "      <td>ce3ad9de960102d0677a81f5d0bb7b2d</td>\n",
       "      <td>20031</td>\n",
       "      <td>rio de janeiro</td>\n",
       "      <td>RJ</td>\n",
       "    </tr>\n",
       "    <tr>\n",
       "      <th>3</th>\n",
       "      <td>c0f3eea2e14555b6faeea3dd58c1b1c3</td>\n",
       "      <td>4195</td>\n",
       "      <td>sao paulo</td>\n",
       "      <td>SP</td>\n",
       "    </tr>\n",
       "    <tr>\n",
       "      <th>4</th>\n",
       "      <td>51a04a8a6bdcb23deccc82b0b80742cf</td>\n",
       "      <td>12914</td>\n",
       "      <td>braganca paulista</td>\n",
       "      <td>SP</td>\n",
       "    </tr>\n",
       "  </tbody>\n",
       "</table>\n",
       "</div>"
      ],
      "text/plain": [
       "                          seller_id  seller_zip_code_prefix  \\\n",
       "0  3442f8959a84dea7ee197c632cb2df15                   13023   \n",
       "1  d1b65fc7debc3361ea86b5f14c68d2e2                   13844   \n",
       "2  ce3ad9de960102d0677a81f5d0bb7b2d                   20031   \n",
       "3  c0f3eea2e14555b6faeea3dd58c1b1c3                    4195   \n",
       "4  51a04a8a6bdcb23deccc82b0b80742cf                   12914   \n",
       "\n",
       "         seller_city seller_state  \n",
       "0           campinas           SP  \n",
       "1         mogi guacu           SP  \n",
       "2     rio de janeiro           RJ  \n",
       "3          sao paulo           SP  \n",
       "4  braganca paulista           SP  "
      ]
     },
     "execution_count": 12,
     "metadata": {},
     "output_type": "execute_result"
    }
   ],
   "source": [
    "sellers_data.head()"
   ]
  },
  {
   "cell_type": "code",
   "execution_count": 13,
   "metadata": {},
   "outputs": [
    {
     "data": {
      "text/plain": [
       "<AxesSubplot:>"
      ]
     },
     "execution_count": 13,
     "metadata": {},
     "output_type": "execute_result"
    },
    {
     "data": {
      "image/png": "[encoded data removed]",
      "text/plain": [
       "<Figure size 1728x720 with 3 Axes>"
      ]
     },
     "metadata": {
      "needs_background": "light"
     },
     "output_type": "display_data"
    }
   ],
   "source": [
    "msno.bar(sellers_data)"
   ]
  },
  {
   "cell_type": "code",
   "execution_count": 14,
   "metadata": {},
   "outputs": [
    {
     "data": {
      "image/png": "[encoded data removed]",
      "text/plain": [
       "<Figure size 432x288 with 1 Axes>"
      ]
     },
     "metadata": {
      "needs_background": "light"
     },
     "output_type": "display_data"
    }
   ],
   "source": [
    "sellers_data['seller_city'].value_counts()[:20].plot(kind=\"bar\")\n",
    "plt.show()"
   ]
  },
  {
   "cell_type": "markdown",
   "metadata": {},
   "source": [
    "### Order Items Dataset\n",
    "This dataset includes data about the items purchased within each order."
   ]
  },
  {
   "cell_type": "code",
   "execution_count": 15,
   "metadata": {},
   "outputs": [
    {
     "data": {
      "text/html": [
       "<div>\n",
       "<style scoped>\n",
       "    .dataframe tbody tr th:only-of-type {\n",
       "        vertical-align: middle;\n",
       "    }\n",
       "\n",
       "    .dataframe tbody tr th {\n",
       "        vertical-align: top;\n",
       "    }\n",
       "\n",
       "    .dataframe thead th {\n",
       "        text-align: right;\n",
       "    }\n",
       "</style>\n",
       "<table border=\"1\" class=\"dataframe\">\n",
       "  <thead>\n",
       "    <tr style=\"text-align: right;\">\n",
       "      <th></th>\n",
       "      <th>order_id</th>\n",
       "      <th>order_item_id</th>\n",
       "      <th>product_id</th>\n",
       "      <th>seller_id</th>\n",
       "      <th>shipping_limit_date</th>\n",
       "      <th>price</th>\n",
       "      <th>freight_value</th>\n",
       "    </tr>\n",
       "  </thead>\n",
       "  <tbody>\n",
       "    <tr>\n",
       "      <th>0</th>\n",
       "      <td>00010242fe8c5a6d1ba2dd792cb16214</td>\n",
       "      <td>1</td>\n",
       "      <td>4244733e06e7ecb4970a6e2683c13e61</td>\n",
       "      <td>48436dade18ac8b2bce089ec2a041202</td>\n",
       "      <td>2017-09-19 09:45:35</td>\n",
       "      <td>58.90</td>\n",
       "      <td>13.29</td>\n",
       "    </tr>\n",
       "    <tr>\n",
       "      <th>1</th>\n",
       "      <td>00018f77f2f0320c557190d7a144bdd3</td>\n",
       "      <td>1</td>\n",
       "      <td>e5f2d52b802189ee658865ca93d83a8f</td>\n",
       "      <td>dd7ddc04e1b6c2c614352b383efe2d36</td>\n",
       "      <td>2017-05-03 11:05:13</td>\n",
       "      <td>239.90</td>\n",
       "      <td>19.93</td>\n",
       "    </tr>\n",
       "    <tr>\n",
       "      <th>2</th>\n",
       "      <td>000229ec398224ef6ca0657da4fc703e</td>\n",
       "      <td>1</td>\n",
       "      <td>c777355d18b72b67abbeef9df44fd0fd</td>\n",
       "      <td>5b51032eddd242adc84c38acab88f23d</td>\n",
       "      <td>2018-01-18 14:48:30</td>\n",
       "      <td>199.00</td>\n",
       "      <td>17.87</td>\n",
       "    </tr>\n",
       "    <tr>\n",
       "      <th>3</th>\n",
       "      <td>00024acbcdf0a6daa1e931b038114c75</td>\n",
       "      <td>1</td>\n",
       "      <td>7634da152a4610f1595efa32f14722fc</td>\n",
       "      <td>9d7a1d34a5052409006425275ba1c2b4</td>\n",
       "      <td>2018-08-15 10:10:18</td>\n",
       "      <td>12.99</td>\n",
       "      <td>12.79</td>\n",
       "    </tr>\n",
       "    <tr>\n",
       "      <th>4</th>\n",
       "      <td>00042b26cf59d7ce69dfabb4e55b4fd9</td>\n",
       "      <td>1</td>\n",
       "      <td>ac6c3623068f30de03045865e4e10089</td>\n",
       "      <td>df560393f3a51e74553ab94004ba5c87</td>\n",
       "      <td>2017-02-13 13:57:51</td>\n",
       "      <td>199.90</td>\n",
       "      <td>18.14</td>\n",
       "    </tr>\n",
       "  </tbody>\n",
       "</table>\n",
       "</div>"
      ],
      "text/plain": [
       "                           order_id  order_item_id  \\\n",
       "0  00010242fe8c5a6d1ba2dd792cb16214              1   \n",
       "1  00018f77f2f0320c557190d7a144bdd3              1   \n",
       "2  000229ec398224ef6ca0657da4fc703e              1   \n",
       "3  00024acbcdf0a6daa1e931b038114c75              1   \n",
       "4  00042b26cf59d7ce69dfabb4e55b4fd9              1   \n",
       "\n",
       "                         product_id                         seller_id  \\\n",
       "0  4244733e06e7ecb4970a6e2683c13e61  48436dade18ac8b2bce089ec2a041202   \n",
       "1  e5f2d52b802189ee658865ca93d83a8f  dd7ddc04e1b6c2c614352b383efe2d36   \n",
       "2  c777355d18b72b67abbeef9df44fd0fd  5b51032eddd242adc84c38acab88f23d   \n",
       "3  7634da152a4610f1595efa32f14722fc  9d7a1d34a5052409006425275ba1c2b4   \n",
       "4  ac6c3623068f30de03045865e4e10089  df560393f3a51e74553ab94004ba5c87   \n",
       "\n",
       "  shipping_limit_date   price  freight_value  \n",
       "0 2017-09-19 09:45:35   58.90          13.29  \n",
       "1 2017-05-03 11:05:13  239.90          19.93  \n",
       "2 2018-01-18 14:48:30  199.00          17.87  \n",
       "3 2018-08-15 10:10:18   12.99          12.79  \n",
       "4 2017-02-13 13:57:51  199.90          18.14  "
      ]
     },
     "execution_count": 15,
     "metadata": {},
     "output_type": "execute_result"
    }
   ],
   "source": [
    "items_data.head()"
   ]
  },
  {
   "cell_type": "code",
   "execution_count": 16,
   "metadata": {},
   "outputs": [
    {
     "data": {
      "text/plain": [
       "0"
      ]
     },
     "execution_count": 16,
     "metadata": {},
     "output_type": "execute_result"
    }
   ],
   "source": [
    "items_data[['order_id', 'order_item_id']].duplicated(keep=False).sum()"
   ]
  },
  {
   "cell_type": "code",
   "execution_count": 17,
   "metadata": {},
   "outputs": [
    {
     "data": {
      "text/plain": [
       "<AxesSubplot:>"
      ]
     },
     "execution_count": 17,
     "metadata": {},
     "output_type": "execute_result"
    },
    {
     "data": {
      "image/png": "[encoded data removed]",
      "text/plain": [
       "<Figure size 1728x720 with 3 Axes>"
      ]
     },
     "metadata": {
      "needs_background": "light"
     },
     "output_type": "display_data"
    }
   ],
   "source": [
    "msno.bar(items_data)"
   ]
  },
  {
   "cell_type": "markdown",
   "metadata": {},
   "source": [
    "On agrège les prix des produits inclus dans une même commande."
   ]
  },
  {
   "cell_type": "code",
   "execution_count": 18,
   "metadata": {},
   "outputs": [
    {
     "data": {
      "image/png": "[encoded data removed]",
      "text/plain": [
       "<Figure size 432x288 with 1 Axes>"
      ]
     },
     "metadata": {
      "needs_background": "light"
     },
     "output_type": "display_data"
    }
   ],
   "source": [
    "# On groupe selon les order_id uniquement\n",
    "total_order_values = items_data.groupby([\"order_id\"]).aggregate(np.sum)[[\"price\", \"freight_value\"]]\n",
    "\n",
    "total_order_values[\"price\"].plot(kind='hist', bins=85)\n",
    "\n",
    "# On calcule le prix total d'une commande: produit + livraison, et on arrondit à l'unité - \n",
    "# permettra de faire correspondre toutes les sommes égales à payment_value, arrondit à l'unité près également.\n",
    "total_order_values[\"total_order_value\"] = round(total_order_values[\"price\"] + total_order_values[\"freight_value\"], 0)"
   ]
  },
  {
   "cell_type": "markdown",
   "metadata": {},
   "source": [
    "Exemple sur une commande particulière. Avant groupement et somme sur le prix du produit et de la livraison:"
   ]
  },
  {
   "cell_type": "code",
   "execution_count": 19,
   "metadata": {},
   "outputs": [
    {
     "data": {
      "text/html": [
       "<div>\n",
       "<style scoped>\n",
       "    .dataframe tbody tr th:only-of-type {\n",
       "        vertical-align: middle;\n",
       "    }\n",
       "\n",
       "    .dataframe tbody tr th {\n",
       "        vertical-align: top;\n",
       "    }\n",
       "\n",
       "    .dataframe thead th {\n",
       "        text-align: right;\n",
       "    }\n",
       "</style>\n",
       "<table border=\"1\" class=\"dataframe\">\n",
       "  <thead>\n",
       "    <tr style=\"text-align: right;\">\n",
       "      <th></th>\n",
       "      <th>order_id</th>\n",
       "      <th>order_item_id</th>\n",
       "      <th>product_id</th>\n",
       "      <th>seller_id</th>\n",
       "      <th>shipping_limit_date</th>\n",
       "      <th>price</th>\n",
       "      <th>freight_value</th>\n",
       "    </tr>\n",
       "  </thead>\n",
       "  <tbody>\n",
       "    <tr>\n",
       "      <th>32</th>\n",
       "      <td>00143d0f86d6fbd9f9b38ab440ac16f5</td>\n",
       "      <td>1</td>\n",
       "      <td>e95ee6822b66ac6058e2e4aff656071a</td>\n",
       "      <td>a17f621c590ea0fab3d5d883e1630ec6</td>\n",
       "      <td>2017-10-20 16:07:52</td>\n",
       "      <td>21.33</td>\n",
       "      <td>15.1</td>\n",
       "    </tr>\n",
       "    <tr>\n",
       "      <th>33</th>\n",
       "      <td>00143d0f86d6fbd9f9b38ab440ac16f5</td>\n",
       "      <td>2</td>\n",
       "      <td>e95ee6822b66ac6058e2e4aff656071a</td>\n",
       "      <td>a17f621c590ea0fab3d5d883e1630ec6</td>\n",
       "      <td>2017-10-20 16:07:52</td>\n",
       "      <td>21.33</td>\n",
       "      <td>15.1</td>\n",
       "    </tr>\n",
       "    <tr>\n",
       "      <th>34</th>\n",
       "      <td>00143d0f86d6fbd9f9b38ab440ac16f5</td>\n",
       "      <td>3</td>\n",
       "      <td>e95ee6822b66ac6058e2e4aff656071a</td>\n",
       "      <td>a17f621c590ea0fab3d5d883e1630ec6</td>\n",
       "      <td>2017-10-20 16:07:52</td>\n",
       "      <td>21.33</td>\n",
       "      <td>15.1</td>\n",
       "    </tr>\n",
       "  </tbody>\n",
       "</table>\n",
       "</div>"
      ],
      "text/plain": [
       "                            order_id  order_item_id  \\\n",
       "32  00143d0f86d6fbd9f9b38ab440ac16f5              1   \n",
       "33  00143d0f86d6fbd9f9b38ab440ac16f5              2   \n",
       "34  00143d0f86d6fbd9f9b38ab440ac16f5              3   \n",
       "\n",
       "                          product_id                         seller_id  \\\n",
       "32  e95ee6822b66ac6058e2e4aff656071a  a17f621c590ea0fab3d5d883e1630ec6   \n",
       "33  e95ee6822b66ac6058e2e4aff656071a  a17f621c590ea0fab3d5d883e1630ec6   \n",
       "34  e95ee6822b66ac6058e2e4aff656071a  a17f621c590ea0fab3d5d883e1630ec6   \n",
       "\n",
       "   shipping_limit_date  price  freight_value  \n",
       "32 2017-10-20 16:07:52  21.33           15.1  \n",
       "33 2017-10-20 16:07:52  21.33           15.1  \n",
       "34 2017-10-20 16:07:52  21.33           15.1  "
      ]
     },
     "execution_count": 19,
     "metadata": {},
     "output_type": "execute_result"
    }
   ],
   "source": [
    "items_data[items_data.order_id==\"00143d0f86d6fbd9f9b38ab440ac16f5\"]"
   ]
  },
  {
   "cell_type": "markdown",
   "metadata": {},
   "source": [
    "Après groupement:"
   ]
  },
  {
   "cell_type": "code",
   "execution_count": 20,
   "metadata": {},
   "outputs": [
    {
     "data": {
      "text/plain": [
       "price                 63.99\n",
       "freight_value         45.30\n",
       "total_order_value    109.00\n",
       "Name: 00143d0f86d6fbd9f9b38ab440ac16f5, dtype: float64"
      ]
     },
     "execution_count": 20,
     "metadata": {},
     "output_type": "execute_result"
    }
   ],
   "source": [
    "total_order_values.loc[\"00143d0f86d6fbd9f9b38ab440ac16f5\"]"
   ]
  },
  {
   "cell_type": "markdown",
   "metadata": {},
   "source": [
    "### Payments data\n",
    "This dataset includes data about the orders payment options."
   ]
  },
  {
   "cell_type": "code",
   "execution_count": 21,
   "metadata": {},
   "outputs": [
    {
     "data": {
      "text/html": [
       "<div>\n",
       "<style scoped>\n",
       "    .dataframe tbody tr th:only-of-type {\n",
       "        vertical-align: middle;\n",
       "    }\n",
       "\n",
       "    .dataframe tbody tr th {\n",
       "        vertical-align: top;\n",
       "    }\n",
       "\n",
       "    .dataframe thead th {\n",
       "        text-align: right;\n",
       "    }\n",
       "</style>\n",
       "<table border=\"1\" class=\"dataframe\">\n",
       "  <thead>\n",
       "    <tr style=\"text-align: right;\">\n",
       "      <th></th>\n",
       "      <th>order_id</th>\n",
       "      <th>payment_sequential</th>\n",
       "      <th>payment_type</th>\n",
       "      <th>payment_installments</th>\n",
       "      <th>payment_value</th>\n",
       "    </tr>\n",
       "  </thead>\n",
       "  <tbody>\n",
       "    <tr>\n",
       "      <th>0</th>\n",
       "      <td>b81ef226f3fe1789b1e8b2acac839d17</td>\n",
       "      <td>1</td>\n",
       "      <td>credit_card</td>\n",
       "      <td>8</td>\n",
       "      <td>99.33</td>\n",
       "    </tr>\n",
       "    <tr>\n",
       "      <th>1</th>\n",
       "      <td>a9810da82917af2d9aefd1278f1dcfa0</td>\n",
       "      <td>1</td>\n",
       "      <td>credit_card</td>\n",
       "      <td>1</td>\n",
       "      <td>24.39</td>\n",
       "    </tr>\n",
       "    <tr>\n",
       "      <th>2</th>\n",
       "      <td>25e8ea4e93396b6fa0d3dd708e76c1bd</td>\n",
       "      <td>1</td>\n",
       "      <td>credit_card</td>\n",
       "      <td>1</td>\n",
       "      <td>65.71</td>\n",
       "    </tr>\n",
       "    <tr>\n",
       "      <th>3</th>\n",
       "      <td>ba78997921bbcdc1373bb41e913ab953</td>\n",
       "      <td>1</td>\n",
       "      <td>credit_card</td>\n",
       "      <td>8</td>\n",
       "      <td>107.78</td>\n",
       "    </tr>\n",
       "    <tr>\n",
       "      <th>4</th>\n",
       "      <td>42fdf880ba16b47b59251dd489d4441a</td>\n",
       "      <td>1</td>\n",
       "      <td>credit_card</td>\n",
       "      <td>2</td>\n",
       "      <td>128.45</td>\n",
       "    </tr>\n",
       "  </tbody>\n",
       "</table>\n",
       "</div>"
      ],
      "text/plain": [
       "                           order_id  payment_sequential payment_type  \\\n",
       "0  b81ef226f3fe1789b1e8b2acac839d17                   1  credit_card   \n",
       "1  a9810da82917af2d9aefd1278f1dcfa0                   1  credit_card   \n",
       "2  25e8ea4e93396b6fa0d3dd708e76c1bd                   1  credit_card   \n",
       "3  ba78997921bbcdc1373bb41e913ab953                   1  credit_card   \n",
       "4  42fdf880ba16b47b59251dd489d4441a                   1  credit_card   \n",
       "\n",
       "   payment_installments  payment_value  \n",
       "0                     8          99.33  \n",
       "1                     1          24.39  \n",
       "2                     1          65.71  \n",
       "3                     8         107.78  \n",
       "4                     2         128.45  "
      ]
     },
     "execution_count": 21,
     "metadata": {},
     "output_type": "execute_result"
    }
   ],
   "source": [
    "payments_data.head()"
   ]
  },
  {
   "cell_type": "code",
   "execution_count": 22,
   "metadata": {},
   "outputs": [
    {
     "data": {
      "text/plain": [
       "<AxesSubplot:>"
      ]
     },
     "execution_count": 22,
     "metadata": {},
     "output_type": "execute_result"
    },
    {
     "data": {
      "image/png": "[encoded data removed]",
      "text/plain": [
       "<Figure size 1728x720 with 3 Axes>"
      ]
     },
     "metadata": {
      "needs_background": "light"
     },
     "output_type": "display_data"
    }
   ],
   "source": [
    "msno.bar(payments_data)"
   ]
  },
  {
   "cell_type": "markdown",
   "metadata": {},
   "source": [
    "Payment sequential: a customer may pay an order with more than one payment method. If he does so, a sequence will be created to accommodate all payments.\\\n",
    "Regardons un peu comment ces \"séquences\" se distribuent: min, max, median etc."
   ]
  },
  {
   "cell_type": "code",
   "execution_count": 23,
   "metadata": {},
   "outputs": [
    {
     "name": "stdout",
     "output_type": "stream",
     "text": [
      "Séquences existantes dans le jeu de données:\n",
      "[ 1  2  3  4  5  6  7  8  9 10 11 12 13 14 15 16 17 18 19 20 21 22 23 24\n",
      " 25 26 27 28 29]\n",
      "\n",
      "--------------------\n",
      "Informations générales à propos des séquences:\n",
      "count    103886.000000\n",
      "mean          1.092679\n",
      "std           0.706584\n",
      "min           1.000000\n",
      "25%           1.000000\n",
      "50%           1.000000\n",
      "75%           1.000000\n",
      "max          29.000000\n",
      "Name: payment_sequential, dtype: float64\n",
      "\n",
      "--------------------\n",
      "Quelques exemples pour lesquels la séquence contient au moins deux moyens de paiement différents:\n"
     ]
    },
    {
     "data": {
      "text/html": [
       "<div>\n",
       "<style scoped>\n",
       "    .dataframe tbody tr th:only-of-type {\n",
       "        vertical-align: middle;\n",
       "    }\n",
       "\n",
       "    .dataframe tbody tr th {\n",
       "        vertical-align: top;\n",
       "    }\n",
       "\n",
       "    .dataframe thead th {\n",
       "        text-align: right;\n",
       "    }\n",
       "</style>\n",
       "<table border=\"1\" class=\"dataframe\">\n",
       "  <thead>\n",
       "    <tr style=\"text-align: right;\">\n",
       "      <th></th>\n",
       "      <th>order_id</th>\n",
       "      <th>payment_sequential</th>\n",
       "      <th>payment_type</th>\n",
       "      <th>payment_installments</th>\n",
       "      <th>payment_value</th>\n",
       "    </tr>\n",
       "  </thead>\n",
       "  <tbody>\n",
       "    <tr>\n",
       "      <th>28537</th>\n",
       "      <td>ffc730a0615d28ec19f9cad02cb41442</td>\n",
       "      <td>2</td>\n",
       "      <td>credit_card</td>\n",
       "      <td>1</td>\n",
       "      <td>12.63</td>\n",
       "    </tr>\n",
       "    <tr>\n",
       "      <th>75188</th>\n",
       "      <td>ffc730a0615d28ec19f9cad02cb41442</td>\n",
       "      <td>1</td>\n",
       "      <td>credit_card</td>\n",
       "      <td>1</td>\n",
       "      <td>14.76</td>\n",
       "    </tr>\n",
       "    <tr>\n",
       "      <th>3009</th>\n",
       "      <td>ffa39020fe7c8a3e907320e1bec4b985</td>\n",
       "      <td>2</td>\n",
       "      <td>voucher</td>\n",
       "      <td>1</td>\n",
       "      <td>64.01</td>\n",
       "    </tr>\n",
       "    <tr>\n",
       "      <th>32912</th>\n",
       "      <td>ffa39020fe7c8a3e907320e1bec4b985</td>\n",
       "      <td>1</td>\n",
       "      <td>credit_card</td>\n",
       "      <td>1</td>\n",
       "      <td>7.13</td>\n",
       "    </tr>\n",
       "    <tr>\n",
       "      <th>21648</th>\n",
       "      <td>ffa1dd97810de91a03abd7bd76d2fed1</td>\n",
       "      <td>2</td>\n",
       "      <td>voucher</td>\n",
       "      <td>1</td>\n",
       "      <td>418.73</td>\n",
       "    </tr>\n",
       "    <tr>\n",
       "      <th>55988</th>\n",
       "      <td>ffa1dd97810de91a03abd7bd76d2fed1</td>\n",
       "      <td>1</td>\n",
       "      <td>credit_card</td>\n",
       "      <td>1</td>\n",
       "      <td>36.58</td>\n",
       "    </tr>\n",
       "    <tr>\n",
       "      <th>11583</th>\n",
       "      <td>ff978de32e717acd3b5abe1fb069d2b6</td>\n",
       "      <td>4</td>\n",
       "      <td>voucher</td>\n",
       "      <td>1</td>\n",
       "      <td>7.68</td>\n",
       "    </tr>\n",
       "    <tr>\n",
       "      <th>28611</th>\n",
       "      <td>ff978de32e717acd3b5abe1fb069d2b6</td>\n",
       "      <td>3</td>\n",
       "      <td>voucher</td>\n",
       "      <td>1</td>\n",
       "      <td>0.66</td>\n",
       "    </tr>\n",
       "    <tr>\n",
       "      <th>26914</th>\n",
       "      <td>ff978de32e717acd3b5abe1fb069d2b6</td>\n",
       "      <td>2</td>\n",
       "      <td>voucher</td>\n",
       "      <td>1</td>\n",
       "      <td>10.80</td>\n",
       "    </tr>\n",
       "    <tr>\n",
       "      <th>46828</th>\n",
       "      <td>ff978de32e717acd3b5abe1fb069d2b6</td>\n",
       "      <td>1</td>\n",
       "      <td>voucher</td>\n",
       "      <td>1</td>\n",
       "      <td>30.00</td>\n",
       "    </tr>\n",
       "  </tbody>\n",
       "</table>\n",
       "</div>"
      ],
      "text/plain": [
       "                               order_id  payment_sequential payment_type  \\\n",
       "28537  ffc730a0615d28ec19f9cad02cb41442                   2  credit_card   \n",
       "75188  ffc730a0615d28ec19f9cad02cb41442                   1  credit_card   \n",
       "3009   ffa39020fe7c8a3e907320e1bec4b985                   2      voucher   \n",
       "32912  ffa39020fe7c8a3e907320e1bec4b985                   1  credit_card   \n",
       "21648  ffa1dd97810de91a03abd7bd76d2fed1                   2      voucher   \n",
       "55988  ffa1dd97810de91a03abd7bd76d2fed1                   1  credit_card   \n",
       "11583  ff978de32e717acd3b5abe1fb069d2b6                   4      voucher   \n",
       "28611  ff978de32e717acd3b5abe1fb069d2b6                   3      voucher   \n",
       "26914  ff978de32e717acd3b5abe1fb069d2b6                   2      voucher   \n",
       "46828  ff978de32e717acd3b5abe1fb069d2b6                   1      voucher   \n",
       "\n",
       "       payment_installments  payment_value  \n",
       "28537                     1          12.63  \n",
       "75188                     1          14.76  \n",
       "3009                      1          64.01  \n",
       "32912                     1           7.13  \n",
       "21648                     1         418.73  \n",
       "55988                     1          36.58  \n",
       "11583                     1           7.68  \n",
       "28611                     1           0.66  \n",
       "26914                     1          10.80  \n",
       "46828                     1          30.00  "
      ]
     },
     "execution_count": 23,
     "metadata": {},
     "output_type": "execute_result"
    }
   ],
   "source": [
    "print(\"Séquences existantes dans le jeu de données:\")\n",
    "print(np.sort(payments_data[\"payment_sequential\"].unique()))\n",
    "print(\"\")\n",
    "print(\"-\"*20)\n",
    "print(\"Informations générales à propos des séquences:\")\n",
    "print(payments_data.payment_sequential.describe())\n",
    "print(\"\")\n",
    "print(\"-\"*20)\n",
    "print(\"Quelques exemples pour lesquels la séquence contient au moins deux moyens de paiement différents:\")\n",
    "sequential_orders = payments_data.loc[payments_data.payment_sequential!=1, 'order_id']\n",
    "payments_data[payments_data.order_id.isin(sequential_orders)].sort_values(by=[\"order_id\", \"payment_sequential\"],\n",
    "                                                                 ascending=[False, False]\n",
    "                                                                ).head(10)"
   ]
  },
  {
   "cell_type": "markdown",
   "metadata": {},
   "source": [
    "On peut se demander si le montant de la transaction (payments_data) correspond bien au montant de la commande (items_data) comme on s'y attendrait. Pour cela, il faut commencer par sommer sur toutes les valeurs correspondant à un order_id donné: sommer sur ces valeurs lorsque payment_sequential vaut 1 revient à récupérér la valeur du paiement, en revanche lorsque payment_sequential est différent de 1, cette opération permet de récupérer le montant total de la commande."
   ]
  },
  {
   "cell_type": "code",
   "execution_count": 24,
   "metadata": {},
   "outputs": [],
   "source": [
    "# On groupe dans payments data selon order_id également\n",
    "order_payment_values = payments_data.groupby(\"order_id\")[[\"order_id\", \"payment_value\"]].aggregate(np.sum)\n",
    "\n",
    "# On arrondit à l'unité pour la même raison que précédemment\n",
    "order_payment_values = np.round(order_payment_values, 0)\n",
    "\n",
    "# On fusionne les deux tables\n",
    "order_values_item_payment = pd.merge(total_order_values, order_payment_values, on=\"order_id\")"
   ]
  },
  {
   "cell_type": "markdown",
   "metadata": {},
   "source": [
    "On fait une vérification de la correspondance des valeurs de payment_value et total_order_value: on crée une nouvelle colonne qui contient \"match\" si les deux valeurs correspondent l'une à l'autre, \"no-match\" dans le cas contraire."
   ]
  },
  {
   "cell_type": "code",
   "execution_count": 25,
   "metadata": {},
   "outputs": [
    {
     "name": "stdout",
     "output_type": "stream",
     "text": [
      "Valeurs prises par la variables 'values_match':\n",
      "['match' 'no_match']\n",
      "\n",
      "Lignes de montants incohérents:\n",
      "                                   price  freight_value  total_order_value  \\\n",
      "order_id                                                                     \n",
      "00789ce015e7e5791c7914f32bb4fad4  154.00          14.83              169.0   \n",
      "016726239765c18f66826453f39c64e3  219.99          15.14              235.0   \n",
      "01e51b7c3025655646143d09b911e1d7   19.00          14.10               33.0   \n",
      "028aa7c930356788f861ed1b7f984819   39.90          17.63               58.0   \n",
      "02f4dd90ba0feb8ec394cac05862d2b5   79.90          51.06              131.0   \n",
      "...                                  ...            ...                ...   \n",
      "fa87437f971fce498b2184cd2401e23e   49.90          13.37               63.0   \n",
      "faf132fb35b3b3b533a67efbd6e7c02d   89.90          25.12              115.0   \n",
      "fbf352b18a26c6a86a53cca922facd25  109.80          41.74              152.0   \n",
      "fd33085945f15975375cd8ec85440511  217.99          16.63              235.0   \n",
      "fdb034f444a32838124d8907e443d249   18.90          12.48               31.0   \n",
      "\n",
      "                                  payment_value values_match  \n",
      "order_id                                                      \n",
      "00789ce015e7e5791c7914f32bb4fad4          191.0     no_match  \n",
      "016726239765c18f66826453f39c64e3          266.0     no_match  \n",
      "01e51b7c3025655646143d09b911e1d7           35.0     no_match  \n",
      "028aa7c930356788f861ed1b7f984819           63.0     no_match  \n",
      "02f4dd90ba0feb8ec394cac05862d2b5          142.0     no_match  \n",
      "...                                         ...          ...  \n",
      "fa87437f971fce498b2184cd2401e23e           67.0     no_match  \n",
      "faf132fb35b3b3b533a67efbd6e7c02d          130.0     no_match  \n",
      "fbf352b18a26c6a86a53cca922facd25          161.0     no_match  \n",
      "fd33085945f15975375cd8ec85440511          213.0     no_match  \n",
      "fdb034f444a32838124d8907e443d249           34.0     no_match  \n",
      "\n",
      "[259 rows x 5 columns]\n"
     ]
    }
   ],
   "source": [
    "# Crée le \"masque\" match/no_match\n",
    "order_values_item_payment[\"values_match\"] = order_values_item_payment[[\"total_order_value\", \"payment_value\"]].apply(lambda x: \"match\" \n",
    "                                                                    if x[0]==x[1] \n",
    "                                                                    else \"no_match\", axis=1)\n",
    "\n",
    "# Y'a-t-il des lignes pour lesquelles les valeurs ne correspondent pas?\n",
    "print(\"Valeurs prises par la variables 'values_match':\")\n",
    "print(order_values_item_payment[\"values_match\"].unique())\n",
    "\n",
    "# Quelles sont ces lignes?\n",
    "bb = order_values_item_payment[order_values_item_payment.values_match==\"no_match\"]\n",
    "print(\"\")\n",
    "print(\"Lignes de montants incohérents:\")\n",
    "print(bb)"
   ]
  },
  {
   "cell_type": "code",
   "execution_count": 26,
   "metadata": {},
   "outputs": [
    {
     "name": "stdout",
     "output_type": "stream",
     "text": [
      "On a donc 0.26% de lignes contenant des valeurs incohérentes.\n"
     ]
    }
   ],
   "source": [
    "print(f\"On a donc {round(100*bb.shape[0]/order_values_item_payment.shape[0], 2)}% de lignes contenant des valeurs incohérentes.\")"
   ]
  },
  {
   "cell_type": "markdown",
   "metadata": {},
   "source": [
    "1. On supprime les lignes associées aux montants incohérents dans la table aa\n",
    "2. On supprime ces même ordres dans les tables items_data et payments_data"
   ]
  },
  {
   "cell_type": "code",
   "execution_count": 27,
   "metadata": {},
   "outputs": [],
   "source": [
    "incoherent_orders = bb.index\n",
    "\n",
    "matching_order_values_item_payment = order_values_item_payment.drop(index=incoherent_orders)\n",
    "items_data = items_data[~items_data.order_id.isin(incoherent_orders)]\n",
    "payments_data = payments_data[~payments_data.order_id.isin(incoherent_orders)]\n",
    "orders_data = orders_data[~orders_data.order_id.isin(incoherent_orders)]\n",
    "reviews_data = reviews_data[~reviews_data.order_id.isin(incoherent_orders)]"
   ]
  },
  {
   "cell_type": "markdown",
   "metadata": {},
   "source": [
    "Maintenant on peut explorer un peu ces jeux de données.\\\n",
    "Distribution des montants des commandes?"
   ]
  },
  {
   "cell_type": "code",
   "execution_count": 28,
   "metadata": {},
   "outputs": [
    {
     "name": "stdout",
     "output_type": "stream",
     "text": [
      "Les outliers on été rétirés de la visualisation suivante:\n"
     ]
    },
    {
     "data": {
      "image/png": "[encoded data removed]",
      "text/plain": [
       "<Figure size 360x360 with 2 Axes>"
      ]
     },
     "metadata": {
      "needs_background": "light"
     },
     "output_type": "display_data"
    }
   ],
   "source": [
    "# On retire les outliers\n",
    "df = matching_order_values_item_payment[matching_order_values_item_payment.total_order_value<400]\n",
    "\n",
    "# Nombre de bâtons pour le diagramme\n",
    "nb_bins = round(5*np.log2(df.shape[0]))\n",
    "\n",
    "print(\"Les outliers on été rétirés de la visualisation suivante:\")\n",
    "fig, (ax1, ax2) = plt.subplots(nrows=2, figsize=(5, 5), sharex=True)\n",
    "df['total_order_value'].plot(kind='hist', bins=nb_bins, ax=ax1)\n",
    "df['total_order_value'].plot(kind='box', vert=False, showfliers=False, showmeans=True, ax=ax2)\n",
    "ax1.set_xlim([0, 350])\n",
    "plt.tight_layout()\n",
    "plt.show()"
   ]
  },
  {
   "cell_type": "markdown",
   "metadata": {},
   "source": [
    "### payment_installments vs total_order_value"
   ]
  },
  {
   "cell_type": "markdown",
   "metadata": {},
   "source": [
    "On cherche maintenant a voir s'il existe une relation entre les payment_installments et les total_order_value."
   ]
  },
  {
   "cell_type": "code",
   "execution_count": 29,
   "metadata": {},
   "outputs": [
    {
     "data": {
      "text/html": [
       "<div>\n",
       "<style scoped>\n",
       "    .dataframe tbody tr th:only-of-type {\n",
       "        vertical-align: middle;\n",
       "    }\n",
       "\n",
       "    .dataframe tbody tr th {\n",
       "        vertical-align: top;\n",
       "    }\n",
       "\n",
       "    .dataframe thead th {\n",
       "        text-align: right;\n",
       "    }\n",
       "</style>\n",
       "<table border=\"1\" class=\"dataframe\">\n",
       "  <thead>\n",
       "    <tr style=\"text-align: right;\">\n",
       "      <th></th>\n",
       "      <th>order_id</th>\n",
       "      <th>payment_sequential</th>\n",
       "      <th>payment_type</th>\n",
       "      <th>payment_installments</th>\n",
       "      <th>payment_value</th>\n",
       "    </tr>\n",
       "  </thead>\n",
       "  <tbody>\n",
       "    <tr>\n",
       "      <th>0</th>\n",
       "      <td>b81ef226f3fe1789b1e8b2acac839d17</td>\n",
       "      <td>1</td>\n",
       "      <td>credit_card</td>\n",
       "      <td>8</td>\n",
       "      <td>99.33</td>\n",
       "    </tr>\n",
       "    <tr>\n",
       "      <th>1</th>\n",
       "      <td>a9810da82917af2d9aefd1278f1dcfa0</td>\n",
       "      <td>1</td>\n",
       "      <td>credit_card</td>\n",
       "      <td>1</td>\n",
       "      <td>24.39</td>\n",
       "    </tr>\n",
       "    <tr>\n",
       "      <th>2</th>\n",
       "      <td>25e8ea4e93396b6fa0d3dd708e76c1bd</td>\n",
       "      <td>1</td>\n",
       "      <td>credit_card</td>\n",
       "      <td>1</td>\n",
       "      <td>65.71</td>\n",
       "    </tr>\n",
       "    <tr>\n",
       "      <th>3</th>\n",
       "      <td>ba78997921bbcdc1373bb41e913ab953</td>\n",
       "      <td>1</td>\n",
       "      <td>credit_card</td>\n",
       "      <td>8</td>\n",
       "      <td>107.78</td>\n",
       "    </tr>\n",
       "    <tr>\n",
       "      <th>4</th>\n",
       "      <td>42fdf880ba16b47b59251dd489d4441a</td>\n",
       "      <td>1</td>\n",
       "      <td>credit_card</td>\n",
       "      <td>2</td>\n",
       "      <td>128.45</td>\n",
       "    </tr>\n",
       "    <tr>\n",
       "      <th>...</th>\n",
       "      <td>...</td>\n",
       "      <td>...</td>\n",
       "      <td>...</td>\n",
       "      <td>...</td>\n",
       "      <td>...</td>\n",
       "    </tr>\n",
       "    <tr>\n",
       "      <th>103881</th>\n",
       "      <td>0406037ad97740d563a178ecc7a2075c</td>\n",
       "      <td>1</td>\n",
       "      <td>boleto</td>\n",
       "      <td>1</td>\n",
       "      <td>363.31</td>\n",
       "    </tr>\n",
       "    <tr>\n",
       "      <th>103882</th>\n",
       "      <td>7b905861d7c825891d6347454ea7863f</td>\n",
       "      <td>1</td>\n",
       "      <td>credit_card</td>\n",
       "      <td>2</td>\n",
       "      <td>96.80</td>\n",
       "    </tr>\n",
       "    <tr>\n",
       "      <th>103883</th>\n",
       "      <td>32609bbb3dd69b3c066a6860554a77bf</td>\n",
       "      <td>1</td>\n",
       "      <td>credit_card</td>\n",
       "      <td>1</td>\n",
       "      <td>47.77</td>\n",
       "    </tr>\n",
       "    <tr>\n",
       "      <th>103884</th>\n",
       "      <td>b8b61059626efa996a60be9bb9320e10</td>\n",
       "      <td>1</td>\n",
       "      <td>credit_card</td>\n",
       "      <td>5</td>\n",
       "      <td>369.54</td>\n",
       "    </tr>\n",
       "    <tr>\n",
       "      <th>103885</th>\n",
       "      <td>28bbae6599b09d39ca406b747b6632b1</td>\n",
       "      <td>1</td>\n",
       "      <td>boleto</td>\n",
       "      <td>1</td>\n",
       "      <td>191.58</td>\n",
       "    </tr>\n",
       "  </tbody>\n",
       "</table>\n",
       "<p>103613 rows × 5 columns</p>\n",
       "</div>"
      ],
      "text/plain": [
       "                                order_id  payment_sequential payment_type  \\\n",
       "0       b81ef226f3fe1789b1e8b2acac839d17                   1  credit_card   \n",
       "1       a9810da82917af2d9aefd1278f1dcfa0                   1  credit_card   \n",
       "2       25e8ea4e93396b6fa0d3dd708e76c1bd                   1  credit_card   \n",
       "3       ba78997921bbcdc1373bb41e913ab953                   1  credit_card   \n",
       "4       42fdf880ba16b47b59251dd489d4441a                   1  credit_card   \n",
       "...                                  ...                 ...          ...   \n",
       "103881  0406037ad97740d563a178ecc7a2075c                   1       boleto   \n",
       "103882  7b905861d7c825891d6347454ea7863f                   1  credit_card   \n",
       "103883  32609bbb3dd69b3c066a6860554a77bf                   1  credit_card   \n",
       "103884  b8b61059626efa996a60be9bb9320e10                   1  credit_card   \n",
       "103885  28bbae6599b09d39ca406b747b6632b1                   1       boleto   \n",
       "\n",
       "        payment_installments  payment_value  \n",
       "0                          8          99.33  \n",
       "1                          1          24.39  \n",
       "2                          1          65.71  \n",
       "3                          8         107.78  \n",
       "4                          2         128.45  \n",
       "...                      ...            ...  \n",
       "103881                     1         363.31  \n",
       "103882                     2          96.80  \n",
       "103883                     1          47.77  \n",
       "103884                     5         369.54  \n",
       "103885                     1         191.58  \n",
       "\n",
       "[103613 rows x 5 columns]"
      ]
     },
     "execution_count": 29,
     "metadata": {},
     "output_type": "execute_result"
    }
   ],
   "source": [
    "payments_data"
   ]
  },
  {
   "cell_type": "code",
   "execution_count": 30,
   "metadata": {},
   "outputs": [
    {
     "data": {
      "text/html": [
       "<div>\n",
       "<style scoped>\n",
       "    .dataframe tbody tr th:only-of-type {\n",
       "        vertical-align: middle;\n",
       "    }\n",
       "\n",
       "    .dataframe tbody tr th {\n",
       "        vertical-align: top;\n",
       "    }\n",
       "\n",
       "    .dataframe thead th {\n",
       "        text-align: right;\n",
       "    }\n",
       "</style>\n",
       "<table border=\"1\" class=\"dataframe\">\n",
       "  <thead>\n",
       "    <tr style=\"text-align: right;\">\n",
       "      <th></th>\n",
       "      <th>order_id</th>\n",
       "      <th>payment_sequential</th>\n",
       "      <th>payment_type</th>\n",
       "      <th>payment_installments</th>\n",
       "      <th>payment_value</th>\n",
       "    </tr>\n",
       "  </thead>\n",
       "  <tbody>\n",
       "    <tr>\n",
       "      <th>1235</th>\n",
       "      <td>fffe41c64501cc87c801fd61db3f6244</td>\n",
       "      <td>1</td>\n",
       "      <td>credit_card</td>\n",
       "      <td>1</td>\n",
       "      <td>55.79</td>\n",
       "    </tr>\n",
       "    <tr>\n",
       "      <th>37089</th>\n",
       "      <td>fffe18544ffabc95dfada21779c9644f</td>\n",
       "      <td>1</td>\n",
       "      <td>credit_card</td>\n",
       "      <td>3</td>\n",
       "      <td>64.71</td>\n",
       "    </tr>\n",
       "    <tr>\n",
       "      <th>58888</th>\n",
       "      <td>fffce4705a9662cd70adb13d4a31832d</td>\n",
       "      <td>1</td>\n",
       "      <td>credit_card</td>\n",
       "      <td>3</td>\n",
       "      <td>116.85</td>\n",
       "    </tr>\n",
       "    <tr>\n",
       "      <th>2776</th>\n",
       "      <td>fffcd46ef2263f404302a634eb57f7eb</td>\n",
       "      <td>1</td>\n",
       "      <td>boleto</td>\n",
       "      <td>1</td>\n",
       "      <td>386.53</td>\n",
       "    </tr>\n",
       "    <tr>\n",
       "      <th>69123</th>\n",
       "      <td>fffc94f6ce00a00581880bf54a75a037</td>\n",
       "      <td>1</td>\n",
       "      <td>boleto</td>\n",
       "      <td>1</td>\n",
       "      <td>343.40</td>\n",
       "    </tr>\n",
       "    <tr>\n",
       "      <th>87381</th>\n",
       "      <td>fffbee3b5462987e66fb49b1c5411df2</td>\n",
       "      <td>1</td>\n",
       "      <td>credit_card</td>\n",
       "      <td>3</td>\n",
       "      <td>139.88</td>\n",
       "    </tr>\n",
       "    <tr>\n",
       "      <th>91871</th>\n",
       "      <td>fffb9224b6fc7c43ebb0904318b10b5f</td>\n",
       "      <td>1</td>\n",
       "      <td>boleto</td>\n",
       "      <td>1</td>\n",
       "      <td>356.76</td>\n",
       "    </tr>\n",
       "    <tr>\n",
       "      <th>33623</th>\n",
       "      <td>fffb2ef8874127f75b52b643880fd7e0</td>\n",
       "      <td>1</td>\n",
       "      <td>boleto</td>\n",
       "      <td>1</td>\n",
       "      <td>39.96</td>\n",
       "    </tr>\n",
       "    <tr>\n",
       "      <th>99694</th>\n",
       "      <td>fffb0b1a50e65c449020434fa835e078</td>\n",
       "      <td>1</td>\n",
       "      <td>credit_card</td>\n",
       "      <td>1</td>\n",
       "      <td>15.86</td>\n",
       "    </tr>\n",
       "    <tr>\n",
       "      <th>48651</th>\n",
       "      <td>fffa82886406ccf10c7b4e35c4ff2788</td>\n",
       "      <td>1</td>\n",
       "      <td>credit_card</td>\n",
       "      <td>7</td>\n",
       "      <td>273.92</td>\n",
       "    </tr>\n",
       "  </tbody>\n",
       "</table>\n",
       "</div>"
      ],
      "text/plain": [
       "                               order_id  payment_sequential payment_type  \\\n",
       "1235   fffe41c64501cc87c801fd61db3f6244                   1  credit_card   \n",
       "37089  fffe18544ffabc95dfada21779c9644f                   1  credit_card   \n",
       "58888  fffce4705a9662cd70adb13d4a31832d                   1  credit_card   \n",
       "2776   fffcd46ef2263f404302a634eb57f7eb                   1       boleto   \n",
       "69123  fffc94f6ce00a00581880bf54a75a037                   1       boleto   \n",
       "87381  fffbee3b5462987e66fb49b1c5411df2                   1  credit_card   \n",
       "91871  fffb9224b6fc7c43ebb0904318b10b5f                   1       boleto   \n",
       "33623  fffb2ef8874127f75b52b643880fd7e0                   1       boleto   \n",
       "99694  fffb0b1a50e65c449020434fa835e078                   1  credit_card   \n",
       "48651  fffa82886406ccf10c7b4e35c4ff2788                   1  credit_card   \n",
       "\n",
       "       payment_installments  payment_value  \n",
       "1235                      1          55.79  \n",
       "37089                     3          64.71  \n",
       "58888                     3         116.85  \n",
       "2776                      1         386.53  \n",
       "69123                     1         343.40  \n",
       "87381                     3         139.88  \n",
       "91871                     1         356.76  \n",
       "33623                     1          39.96  \n",
       "99694                     1          15.86  \n",
       "48651                     7         273.92  "
      ]
     },
     "execution_count": 30,
     "metadata": {},
     "output_type": "execute_result"
    }
   ],
   "source": [
    "multiple_payments = payments_data.loc[(payments_data.payment_sequential>1)&(payments_data.payment_installments>1), 'order_id']\n",
    "payments_data.sort_values(by=['order_id', 'payment_installments'],ascending=[False, False]).head(10)"
   ]
  },
  {
   "cell_type": "code",
   "execution_count": 31,
   "metadata": {},
   "outputs": [
    {
     "data": {
      "text/html": [
       "<div>\n",
       "<style scoped>\n",
       "    .dataframe tbody tr th:only-of-type {\n",
       "        vertical-align: middle;\n",
       "    }\n",
       "\n",
       "    .dataframe tbody tr th {\n",
       "        vertical-align: top;\n",
       "    }\n",
       "\n",
       "    .dataframe thead th {\n",
       "        text-align: right;\n",
       "    }\n",
       "</style>\n",
       "<table border=\"1\" class=\"dataframe\">\n",
       "  <thead>\n",
       "    <tr style=\"text-align: right;\">\n",
       "      <th></th>\n",
       "      <th>order_id</th>\n",
       "      <th>payment_sequential</th>\n",
       "      <th>payment_type</th>\n",
       "      <th>payment_installments</th>\n",
       "      <th>payment_value</th>\n",
       "    </tr>\n",
       "  </thead>\n",
       "  <tbody>\n",
       "    <tr>\n",
       "      <th>37089</th>\n",
       "      <td>fffe18544ffabc95dfada21779c9644f</td>\n",
       "      <td>1</td>\n",
       "      <td>credit_card</td>\n",
       "      <td>3</td>\n",
       "      <td>64.71</td>\n",
       "    </tr>\n",
       "  </tbody>\n",
       "</table>\n",
       "</div>"
      ],
      "text/plain": [
       "                               order_id  payment_sequential payment_type  \\\n",
       "37089  fffe18544ffabc95dfada21779c9644f                   1  credit_card   \n",
       "\n",
       "       payment_installments  payment_value  \n",
       "37089                     3          64.71  "
      ]
     },
     "execution_count": 31,
     "metadata": {},
     "output_type": "execute_result"
    }
   ],
   "source": [
    "payments_data[payments_data.order_id=='fffe18544ffabc95dfada21779c9644f']"
   ]
  },
  {
   "cell_type": "markdown",
   "metadata": {},
   "source": [
    "Pour récupérer le nombre d'acomptes (installments) pour chaque commande (order_id), on groupe par numéro de commande et on récupère uniquement la valeur max de payment_installments, ainsi que la valeur max de payment_value"
   ]
  },
  {
   "cell_type": "code",
   "execution_count": 32,
   "metadata": {},
   "outputs": [
    {
     "data": {
      "text/html": [
       "<div>\n",
       "<style scoped>\n",
       "    .dataframe tbody tr th:only-of-type {\n",
       "        vertical-align: middle;\n",
       "    }\n",
       "\n",
       "    .dataframe tbody tr th {\n",
       "        vertical-align: top;\n",
       "    }\n",
       "\n",
       "    .dataframe thead th {\n",
       "        text-align: right;\n",
       "    }\n",
       "</style>\n",
       "<table border=\"1\" class=\"dataframe\">\n",
       "  <thead>\n",
       "    <tr style=\"text-align: right;\">\n",
       "      <th></th>\n",
       "      <th>payment_sequential</th>\n",
       "      <th>payment_type</th>\n",
       "      <th>payment_installments</th>\n",
       "      <th>payment_value</th>\n",
       "    </tr>\n",
       "    <tr>\n",
       "      <th>order_id</th>\n",
       "      <th></th>\n",
       "      <th></th>\n",
       "      <th></th>\n",
       "      <th></th>\n",
       "    </tr>\n",
       "  </thead>\n",
       "  <tbody>\n",
       "    <tr>\n",
       "      <th>00010242fe8c5a6d1ba2dd792cb16214</th>\n",
       "      <td>1</td>\n",
       "      <td>credit_card</td>\n",
       "      <td>2</td>\n",
       "      <td>72.19</td>\n",
       "    </tr>\n",
       "    <tr>\n",
       "      <th>00018f77f2f0320c557190d7a144bdd3</th>\n",
       "      <td>1</td>\n",
       "      <td>credit_card</td>\n",
       "      <td>3</td>\n",
       "      <td>259.83</td>\n",
       "    </tr>\n",
       "    <tr>\n",
       "      <th>000229ec398224ef6ca0657da4fc703e</th>\n",
       "      <td>1</td>\n",
       "      <td>credit_card</td>\n",
       "      <td>5</td>\n",
       "      <td>216.87</td>\n",
       "    </tr>\n",
       "    <tr>\n",
       "      <th>00024acbcdf0a6daa1e931b038114c75</th>\n",
       "      <td>1</td>\n",
       "      <td>credit_card</td>\n",
       "      <td>2</td>\n",
       "      <td>25.78</td>\n",
       "    </tr>\n",
       "    <tr>\n",
       "      <th>00042b26cf59d7ce69dfabb4e55b4fd9</th>\n",
       "      <td>1</td>\n",
       "      <td>credit_card</td>\n",
       "      <td>3</td>\n",
       "      <td>218.04</td>\n",
       "    </tr>\n",
       "    <tr>\n",
       "      <th>...</th>\n",
       "      <td>...</td>\n",
       "      <td>...</td>\n",
       "      <td>...</td>\n",
       "      <td>...</td>\n",
       "    </tr>\n",
       "    <tr>\n",
       "      <th>fffc94f6ce00a00581880bf54a75a037</th>\n",
       "      <td>1</td>\n",
       "      <td>boleto</td>\n",
       "      <td>1</td>\n",
       "      <td>343.40</td>\n",
       "    </tr>\n",
       "    <tr>\n",
       "      <th>fffcd46ef2263f404302a634eb57f7eb</th>\n",
       "      <td>1</td>\n",
       "      <td>boleto</td>\n",
       "      <td>1</td>\n",
       "      <td>386.53</td>\n",
       "    </tr>\n",
       "    <tr>\n",
       "      <th>fffce4705a9662cd70adb13d4a31832d</th>\n",
       "      <td>1</td>\n",
       "      <td>credit_card</td>\n",
       "      <td>3</td>\n",
       "      <td>116.85</td>\n",
       "    </tr>\n",
       "    <tr>\n",
       "      <th>fffe18544ffabc95dfada21779c9644f</th>\n",
       "      <td>1</td>\n",
       "      <td>credit_card</td>\n",
       "      <td>3</td>\n",
       "      <td>64.71</td>\n",
       "    </tr>\n",
       "    <tr>\n",
       "      <th>fffe41c64501cc87c801fd61db3f6244</th>\n",
       "      <td>1</td>\n",
       "      <td>credit_card</td>\n",
       "      <td>1</td>\n",
       "      <td>55.79</td>\n",
       "    </tr>\n",
       "  </tbody>\n",
       "</table>\n",
       "<p>99181 rows × 4 columns</p>\n",
       "</div>"
      ],
      "text/plain": [
       "                                  payment_sequential payment_type  \\\n",
       "order_id                                                            \n",
       "00010242fe8c5a6d1ba2dd792cb16214                   1  credit_card   \n",
       "00018f77f2f0320c557190d7a144bdd3                   1  credit_card   \n",
       "000229ec398224ef6ca0657da4fc703e                   1  credit_card   \n",
       "00024acbcdf0a6daa1e931b038114c75                   1  credit_card   \n",
       "00042b26cf59d7ce69dfabb4e55b4fd9                   1  credit_card   \n",
       "...                                              ...          ...   \n",
       "fffc94f6ce00a00581880bf54a75a037                   1       boleto   \n",
       "fffcd46ef2263f404302a634eb57f7eb                   1       boleto   \n",
       "fffce4705a9662cd70adb13d4a31832d                   1  credit_card   \n",
       "fffe18544ffabc95dfada21779c9644f                   1  credit_card   \n",
       "fffe41c64501cc87c801fd61db3f6244                   1  credit_card   \n",
       "\n",
       "                                  payment_installments  payment_value  \n",
       "order_id                                                               \n",
       "00010242fe8c5a6d1ba2dd792cb16214                     2          72.19  \n",
       "00018f77f2f0320c557190d7a144bdd3                     3         259.83  \n",
       "000229ec398224ef6ca0657da4fc703e                     5         216.87  \n",
       "00024acbcdf0a6daa1e931b038114c75                     2          25.78  \n",
       "00042b26cf59d7ce69dfabb4e55b4fd9                     3         218.04  \n",
       "...                                                ...            ...  \n",
       "fffc94f6ce00a00581880bf54a75a037                     1         343.40  \n",
       "fffcd46ef2263f404302a634eb57f7eb                     1         386.53  \n",
       "fffce4705a9662cd70adb13d4a31832d                     3         116.85  \n",
       "fffe18544ffabc95dfada21779c9644f                     3          64.71  \n",
       "fffe41c64501cc87c801fd61db3f6244                     1          55.79  \n",
       "\n",
       "[99181 rows x 4 columns]"
      ]
     },
     "execution_count": 32,
     "metadata": {},
     "output_type": "execute_result"
    }
   ],
   "source": [
    "installments = payments_data.groupby(\"order_id\").aggregate(np.max)\n",
    "installments"
   ]
  },
  {
   "cell_type": "markdown",
   "metadata": {},
   "source": [
    "On peut maintenant afficher la relation qui existe entre les acomptes versés (payment_installments) et le prix total de la commande (total_order_value)"
   ]
  },
  {
   "cell_type": "code",
   "execution_count": 33,
   "metadata": {},
   "outputs": [
    {
     "data": {
      "image/png": "[encoded data removed]",
      "text/plain": [
       "<Figure size 432x288 with 1 Axes>"
      ]
     },
     "metadata": {
      "needs_background": "light"
     },
     "output_type": "display_data"
    }
   ],
   "source": [
    "# Création d'un dataframe par jointure des dataframe installments (commande <--> nb d'acomptes) et\n",
    "# dd (commande <--> prix total de la commande)\n",
    "df = pd.merge(installments.reset_index(), total_order_values.reset_index(), on=\"order_id\")[[\"order_id\", \n",
    "                                                                            \"payment_installments\",\n",
    "                                                                            \"total_order_value\"\n",
    "                                                                           ]]\n",
    "\n",
    "# fonction qui permet de récupérer les paramètres par défaut de matplotlib pour l'affichage des boxplots\n",
    "def mpl_defaultstyle():\n",
    "    \"\"\"Applique le style par défaut de Matplotlib pour les boxplot\n",
    "    \n",
    "    Returns\n",
    "    -------\n",
    "    boxprops, capprops, medianprops\n",
    "    \"\"\"\n",
    "    import matplotlib as mpl\n",
    "    boxprops = {'facecolor': 'white',\n",
    "                'edgecolor': 'black',\n",
    "                'linestyle': mpl.rc_params()['boxplot.boxprops.linestyle'],\n",
    "                'linewidth': mpl.rc_params()['boxplot.flierprops.linewidth']}\n",
    "    capprops = {'color': 'black', 'linestyle': '-','linewidth': 1.0}\n",
    "    medianprops = {'color': 'C1', 'linestyle': '-', 'linewidth': 1.0}\n",
    "    \n",
    "    return boxprops, capprops, medianprops\n",
    "\n",
    "# Affichage de la relation nb d'acomptes vs prix de la commande\n",
    "boxprops, capprops, medianprops = mpl_defaultstyle()\n",
    "sns.regplot(data=df, x=\"payment_installments\", y=\"total_order_value\", x_estimator=np.mean)\n",
    "sns.boxplot(data=df, \n",
    "            x=\"payment_installments\",\n",
    "            y=\"total_order_value\",\n",
    "            showfliers=False,\n",
    "            showmeans=True, \n",
    "            medianprops=medianprops,\n",
    "            capprops=capprops,\n",
    "            boxprops=boxprops)\n",
    "plt.show()"
   ]
  },
  {
   "cell_type": "markdown",
   "metadata": {},
   "source": [
    "Jolie relation linéaire entre ces deux variables. "
   ]
  },
  {
   "cell_type": "markdown",
   "metadata": {},
   "source": [
    "### Reviews dataset\n",
    "This dataset includes data about the reviews made by the customers.\n",
    "\n",
    "After a customer purchases the product from Olist Store a seller gets notified to fulfill that order. Once the customer receives the product, or the estimated delivery date is due, the customer gets a satisfaction survey by email where he can give a note for the purchase experience and write down some comments."
   ]
  },
  {
   "cell_type": "code",
   "execution_count": 34,
   "metadata": {},
   "outputs": [
    {
     "data": {
      "text/html": [
       "<div>\n",
       "<style scoped>\n",
       "    .dataframe tbody tr th:only-of-type {\n",
       "        vertical-align: middle;\n",
       "    }\n",
       "\n",
       "    .dataframe tbody tr th {\n",
       "        vertical-align: top;\n",
       "    }\n",
       "\n",
       "    .dataframe thead th {\n",
       "        text-align: right;\n",
       "    }\n",
       "</style>\n",
       "<table border=\"1\" class=\"dataframe\">\n",
       "  <thead>\n",
       "    <tr style=\"text-align: right;\">\n",
       "      <th></th>\n",
       "      <th>review_id</th>\n",
       "      <th>order_id</th>\n",
       "      <th>review_score</th>\n",
       "      <th>review_comment_title</th>\n",
       "      <th>review_comment_message</th>\n",
       "      <th>review_creation_date</th>\n",
       "      <th>review_answer_timestamp</th>\n",
       "    </tr>\n",
       "  </thead>\n",
       "  <tbody>\n",
       "    <tr>\n",
       "      <th>0</th>\n",
       "      <td>7bc2406110b926393aa56f80a40eba40</td>\n",
       "      <td>73fc7af87114b39712e6da79b0a377eb</td>\n",
       "      <td>4</td>\n",
       "      <td>NaN</td>\n",
       "      <td>NaN</td>\n",
       "      <td>2018-01-18</td>\n",
       "      <td>2018-01-18 21:46:59</td>\n",
       "    </tr>\n",
       "    <tr>\n",
       "      <th>1</th>\n",
       "      <td>80e641a11e56f04c1ad469d5645fdfde</td>\n",
       "      <td>a548910a1c6147796b98fdf73dbeba33</td>\n",
       "      <td>5</td>\n",
       "      <td>NaN</td>\n",
       "      <td>NaN</td>\n",
       "      <td>2018-03-10</td>\n",
       "      <td>2018-03-11 03:05:13</td>\n",
       "    </tr>\n",
       "    <tr>\n",
       "      <th>2</th>\n",
       "      <td>228ce5500dc1d8e020d8d1322874b6f0</td>\n",
       "      <td>f9e4b658b201a9f2ecdecbb34bed034b</td>\n",
       "      <td>5</td>\n",
       "      <td>NaN</td>\n",
       "      <td>NaN</td>\n",
       "      <td>2018-02-17</td>\n",
       "      <td>2018-02-18 14:36:24</td>\n",
       "    </tr>\n",
       "    <tr>\n",
       "      <th>3</th>\n",
       "      <td>e64fb393e7b32834bb789ff8bb30750e</td>\n",
       "      <td>658677c97b385a9be170737859d3511b</td>\n",
       "      <td>5</td>\n",
       "      <td>NaN</td>\n",
       "      <td>Recebi bem antes do prazo estipulado.</td>\n",
       "      <td>2017-04-21</td>\n",
       "      <td>2017-04-21 22:02:06</td>\n",
       "    </tr>\n",
       "    <tr>\n",
       "      <th>4</th>\n",
       "      <td>f7c4243c7fe1938f181bec41a392bdeb</td>\n",
       "      <td>8e6bfb81e283fa7e4f11123a3fb894f1</td>\n",
       "      <td>5</td>\n",
       "      <td>NaN</td>\n",
       "      <td>Parabéns lojas lannister adorei comprar pela I...</td>\n",
       "      <td>2018-03-01</td>\n",
       "      <td>2018-03-02 10:26:53</td>\n",
       "    </tr>\n",
       "  </tbody>\n",
       "</table>\n",
       "</div>"
      ],
      "text/plain": [
       "                          review_id                          order_id  \\\n",
       "0  7bc2406110b926393aa56f80a40eba40  73fc7af87114b39712e6da79b0a377eb   \n",
       "1  80e641a11e56f04c1ad469d5645fdfde  a548910a1c6147796b98fdf73dbeba33   \n",
       "2  228ce5500dc1d8e020d8d1322874b6f0  f9e4b658b201a9f2ecdecbb34bed034b   \n",
       "3  e64fb393e7b32834bb789ff8bb30750e  658677c97b385a9be170737859d3511b   \n",
       "4  f7c4243c7fe1938f181bec41a392bdeb  8e6bfb81e283fa7e4f11123a3fb894f1   \n",
       "\n",
       "   review_score review_comment_title  \\\n",
       "0             4                  NaN   \n",
       "1             5                  NaN   \n",
       "2             5                  NaN   \n",
       "3             5                  NaN   \n",
       "4             5                  NaN   \n",
       "\n",
       "                              review_comment_message review_creation_date  \\\n",
       "0                                                NaN           2018-01-18   \n",
       "1                                                NaN           2018-03-10   \n",
       "2                                                NaN           2018-02-17   \n",
       "3              Recebi bem antes do prazo estipulado.           2017-04-21   \n",
       "4  Parabéns lojas lannister adorei comprar pela I...           2018-03-01   \n",
       "\n",
       "  review_answer_timestamp  \n",
       "0     2018-01-18 21:46:59  \n",
       "1     2018-03-11 03:05:13  \n",
       "2     2018-02-18 14:36:24  \n",
       "3     2017-04-21 22:02:06  \n",
       "4     2018-03-02 10:26:53  "
      ]
     },
     "execution_count": 34,
     "metadata": {},
     "output_type": "execute_result"
    }
   ],
   "source": [
    "reviews_data.head()"
   ]
  },
  {
   "cell_type": "code",
   "execution_count": 35,
   "metadata": {},
   "outputs": [
    {
     "data": {
      "text/plain": [
       "<AxesSubplot:>"
      ]
     },
     "execution_count": 35,
     "metadata": {},
     "output_type": "execute_result"
    },
    {
     "data": {
      "image/png": "[encoded data removed]",
      "text/plain": [
       "<Figure size 1728x720 with 3 Axes>"
      ]
     },
     "metadata": {
      "needs_background": "light"
     },
     "output_type": "display_data"
    }
   ],
   "source": [
    "msno.bar(reviews_data)"
   ]
  },
  {
   "cell_type": "markdown",
   "metadata": {},
   "source": [
    "Les messages de commentaires sont-ils plutôt laissés lorsque la notation est bonne ou dans le cas contraire?"
   ]
  },
  {
   "cell_type": "code",
   "execution_count": 36,
   "metadata": {},
   "outputs": [
    {
     "data": {
      "image/png": "[encoded data removed]",
      "text/plain": [
       "<Figure size 720x273.6 with 2 Axes>"
      ]
     },
     "metadata": {
      "needs_background": "light"
     },
     "output_type": "display_data"
    }
   ],
   "source": [
    "from matplotlib import ticker\n",
    "\n",
    "fig, (ax1, ax2) = plt.subplots(ncols=2, figsize=(10, 3.8))\n",
    "\n",
    "# On affiche la distribution générale des scores\n",
    "sns.histplot(data=reviews_data, x=\"review_score\", discrete=True, label=\"avec ou sans commentaire\", ax=ax1)\n",
    "ax1.xaxis.set_major_locator(ticker.FixedLocator(range(7)))\n",
    "\n",
    "# On affiche maintenant la distribution des scores uniquement lorsqu'un commentaire a été déposé.\n",
    "df = reviews_data.loc[reviews_data.review_comment_message.notna()]\n",
    "sns.histplot(data=df, x=\"review_score\", discrete=True, color='r', label=\"avec commentaire\", ax=ax1)\n",
    "ax1.legend()\n",
    "ax1.set_title(\"\")\n",
    "\n",
    "# On affiche le ratio entre le nombre de scores laissés avec commentaire et le nombre de scores laissés \n",
    "# avec commentaire - pour chaque score {1, 2, 3, 4, 5}\n",
    "# Nombre d'individus de score donné\n",
    "d = reviews_data.groupby(\"review_score\").size()\n",
    "\n",
    "# Nombre d'individus de score donné, lorsqu'un commentaire a été déposé\n",
    "e = df.groupby(\"review_score\").size()\n",
    "f = e/d\n",
    "\n",
    "sns.scatterplot(data=f, marker='X', s=100, color='y', ax=ax2)\n",
    "ax2.set_title(\"Proportion du nombre de commandes commentées \\nsur le nombre total de commandes, par score\")\n",
    "\n",
    "plt.tight_layout()\n",
    "plt.show()"
   ]
  },
  {
   "cell_type": "markdown",
   "metadata": {},
   "source": [
    "Il semble que plue le score est bas, plus la probabilité est grande que le/la client(e) laisse un commentaire. On peut regarder s'il y a un lien entre le score (et donc la présence de commentaire), et la durée qui sépare la date limite d'envoi (shipping_limit_date) de la date à laquelle le commentaire a été sollicité (review_creation_date) ou écrit (review_answer_timestamp)"
   ]
  },
  {
   "cell_type": "markdown",
   "metadata": {},
   "source": [
    "__review_creation_date__\\\n",
    "Shows the date in which the satisfaction survey was sent to the customer.\n",
    "\n",
    "__review_answer_timestamp__\\\n",
    "Shows satisfaction survey answer timestamp."
   ]
  },
  {
   "cell_type": "code",
   "execution_count": 37,
   "metadata": {},
   "outputs": [
    {
     "data": {
      "image/png": "[encoded data removed]",
      "text/plain": [
       "<Figure size 432x288 with 1 Axes>"
      ]
     },
     "metadata": {
      "needs_background": "light"
     },
     "output_type": "display_data"
    }
   ],
   "source": [
    "sns.scatterplot(data=reviews_data, \n",
    "                x='review_creation_date', \n",
    "                y='review_answer_timestamp', \n",
    "                hue='review_score',\n",
    "                palette='viridis')\n",
    "\n",
    "plt.show()"
   ]
  },
  {
   "cell_type": "markdown",
   "metadata": {},
   "source": [
    "Regardons plutôt le temps qui s'est écoulé en moyenne entre la réponse et la sollicitation, pour voir s'il existe une relation avec le score."
   ]
  },
  {
   "cell_type": "code",
   "execution_count": 38,
   "metadata": {},
   "outputs": [
    {
     "name": "stderr",
     "output_type": "stream",
     "text": [
      "/anaconda3/lib/python3.7/site-packages/ipykernel_launcher.py:2: SettingWithCopyWarning: \n",
      "A value is trying to be set on a copy of a slice from a DataFrame.\n",
      "Try using .loc[row_indexer,col_indexer] = value instead\n",
      "\n",
      "See the caveats in the documentation: https://pandas.pydata.org/pandas-docs/stable/user_guide/indexing.html#returning-a-view-versus-a-copy\n",
      "  \n",
      "/anaconda3/lib/python3.7/site-packages/pandas/core/generic.py:5165: SettingWithCopyWarning: \n",
      "A value is trying to be set on a copy of a slice from a DataFrame.\n",
      "Try using .loc[row_indexer,col_indexer] = value instead\n",
      "\n",
      "See the caveats in the documentation: https://pandas.pydata.org/pandas-docs/stable/user_guide/indexing.html#returning-a-view-versus-a-copy\n",
      "  self[name] = value\n"
     ]
    }
   ],
   "source": [
    "# calcul du temps écoulé entre la sollicitation de commentaire et sa réception, arrondi au jour près\n",
    "reviews_data['elapsed_time'] = reviews_data[\"review_answer_timestamp\"] - reviews_data[\"review_creation_date\"]\n",
    "reviews_data.elapsed_time = reviews_data.elapsed_time.dt.days"
   ]
  },
  {
   "cell_type": "markdown",
   "metadata": {},
   "source": [
    "Distribution du temps écoulé entre la sollicitation de commentaire, et sa réception "
   ]
  },
  {
   "cell_type": "code",
   "execution_count": 39,
   "metadata": {},
   "outputs": [
    {
     "data": {
      "image/png": "[encoded data removed]",
      "text/plain": [
       "<Figure size 432x288 with 1 Axes>"
      ]
     },
     "metadata": {
      "needs_background": "light"
     },
     "output_type": "display_data"
    }
   ],
   "source": [
    "boxprops, capprops, medianprops = mpl_defaultstyle()\n",
    "sns.boxplot(data=reviews_data, \n",
    "            y=\"elapsed_time\", \n",
    "            x=\"review_score\",\n",
    "            showfliers=False,\n",
    "            showmeans=True,\n",
    "            boxprops=boxprops, capprops=capprops, medianprops=medianprops\n",
    "           )\n",
    "plt.show()"
   ]
  },
  {
   "cell_type": "markdown",
   "metadata": {},
   "source": [
    "Il semble qu'il n'y ait pas relation entre les deux..."
   ]
  },
  {
   "cell_type": "markdown",
   "metadata": {},
   "source": [
    "### Orders dataset\n",
    "This is the core dataset. From each order you might find all other information.\n",
    "\n",
    "__customer_id__\\\n",
    "key to the customer dataset. Each order has a unique customer_id.\n",
    "\n",
    "__order_status__\\\n",
    "Reference to the order status (delivered, shipped, etc).\n",
    "\n",
    "__order_purchase_timestamp__\\\n",
    "Shows the purchase timestamp.\n",
    "\n",
    "__order_approved_at__\\\n",
    "Shows the payment approval timestamp.\n",
    "\n",
    "__order_delivered_customer_date__\\\n",
    "Shows the actual order delivery date to the customer."
   ]
  },
  {
   "cell_type": "code",
   "execution_count": 40,
   "metadata": {},
   "outputs": [
    {
     "data": {
      "text/html": [
       "<div>\n",
       "<style scoped>\n",
       "    .dataframe tbody tr th:only-of-type {\n",
       "        vertical-align: middle;\n",
       "    }\n",
       "\n",
       "    .dataframe tbody tr th {\n",
       "        vertical-align: top;\n",
       "    }\n",
       "\n",
       "    .dataframe thead th {\n",
       "        text-align: right;\n",
       "    }\n",
       "</style>\n",
       "<table border=\"1\" class=\"dataframe\">\n",
       "  <thead>\n",
       "    <tr style=\"text-align: right;\">\n",
       "      <th></th>\n",
       "      <th>order_id</th>\n",
       "      <th>customer_id</th>\n",
       "      <th>order_status</th>\n",
       "      <th>order_purchase_timestamp</th>\n",
       "      <th>order_approved_at</th>\n",
       "      <th>order_delivered_carrier_date</th>\n",
       "      <th>order_delivered_customer_date</th>\n",
       "      <th>order_estimated_delivery_date</th>\n",
       "    </tr>\n",
       "  </thead>\n",
       "  <tbody>\n",
       "    <tr>\n",
       "      <th>0</th>\n",
       "      <td>e481f51cbdc54678b7cc49136f2d6af7</td>\n",
       "      <td>9ef432eb6251297304e76186b10a928d</td>\n",
       "      <td>delivered</td>\n",
       "      <td>2017-10-02 10:56:33</td>\n",
       "      <td>2017-10-02 11:07:15</td>\n",
       "      <td>2017-10-04 19:55:00</td>\n",
       "      <td>2017-10-10 21:25:13</td>\n",
       "      <td>2017-10-18</td>\n",
       "    </tr>\n",
       "    <tr>\n",
       "      <th>1</th>\n",
       "      <td>53cdb2fc8bc7dce0b6741e2150273451</td>\n",
       "      <td>b0830fb4747a6c6d20dea0b8c802d7ef</td>\n",
       "      <td>delivered</td>\n",
       "      <td>2018-07-24 20:41:37</td>\n",
       "      <td>2018-07-26 03:24:27</td>\n",
       "      <td>2018-07-26 14:31:00</td>\n",
       "      <td>2018-08-07 15:27:45</td>\n",
       "      <td>2018-08-13</td>\n",
       "    </tr>\n",
       "    <tr>\n",
       "      <th>2</th>\n",
       "      <td>47770eb9100c2d0c44946d9cf07ec65d</td>\n",
       "      <td>41ce2a54c0b03bf3443c3d931a367089</td>\n",
       "      <td>delivered</td>\n",
       "      <td>2018-08-08 08:38:49</td>\n",
       "      <td>2018-08-08 08:55:23</td>\n",
       "      <td>2018-08-08 13:50:00</td>\n",
       "      <td>2018-08-17 18:06:29</td>\n",
       "      <td>2018-09-04</td>\n",
       "    </tr>\n",
       "    <tr>\n",
       "      <th>3</th>\n",
       "      <td>949d5b44dbf5de918fe9c16f97b45f8a</td>\n",
       "      <td>f88197465ea7920adcdbec7375364d82</td>\n",
       "      <td>delivered</td>\n",
       "      <td>2017-11-18 19:28:06</td>\n",
       "      <td>2017-11-18 19:45:59</td>\n",
       "      <td>2017-11-22 13:39:59</td>\n",
       "      <td>2017-12-02 00:28:42</td>\n",
       "      <td>2017-12-15</td>\n",
       "    </tr>\n",
       "    <tr>\n",
       "      <th>4</th>\n",
       "      <td>ad21c59c0840e6cb83a9ceb5573f8159</td>\n",
       "      <td>8ab97904e6daea8866dbdbc4fb7aad2c</td>\n",
       "      <td>delivered</td>\n",
       "      <td>2018-02-13 21:18:39</td>\n",
       "      <td>2018-02-13 22:20:29</td>\n",
       "      <td>2018-02-14 19:46:34</td>\n",
       "      <td>2018-02-16 18:17:02</td>\n",
       "      <td>2018-02-26</td>\n",
       "    </tr>\n",
       "  </tbody>\n",
       "</table>\n",
       "</div>"
      ],
      "text/plain": [
       "                           order_id                       customer_id  \\\n",
       "0  e481f51cbdc54678b7cc49136f2d6af7  9ef432eb6251297304e76186b10a928d   \n",
       "1  53cdb2fc8bc7dce0b6741e2150273451  b0830fb4747a6c6d20dea0b8c802d7ef   \n",
       "2  47770eb9100c2d0c44946d9cf07ec65d  41ce2a54c0b03bf3443c3d931a367089   \n",
       "3  949d5b44dbf5de918fe9c16f97b45f8a  f88197465ea7920adcdbec7375364d82   \n",
       "4  ad21c59c0840e6cb83a9ceb5573f8159  8ab97904e6daea8866dbdbc4fb7aad2c   \n",
       "\n",
       "  order_status order_purchase_timestamp   order_approved_at  \\\n",
       "0    delivered      2017-10-02 10:56:33 2017-10-02 11:07:15   \n",
       "1    delivered      2018-07-24 20:41:37 2018-07-26 03:24:27   \n",
       "2    delivered      2018-08-08 08:38:49 2018-08-08 08:55:23   \n",
       "3    delivered      2017-11-18 19:28:06 2017-11-18 19:45:59   \n",
       "4    delivered      2018-02-13 21:18:39 2018-02-13 22:20:29   \n",
       "\n",
       "  order_delivered_carrier_date order_delivered_customer_date  \\\n",
       "0          2017-10-04 19:55:00           2017-10-10 21:25:13   \n",
       "1          2018-07-26 14:31:00           2018-08-07 15:27:45   \n",
       "2          2018-08-08 13:50:00           2018-08-17 18:06:29   \n",
       "3          2017-11-22 13:39:59           2017-12-02 00:28:42   \n",
       "4          2018-02-14 19:46:34           2018-02-16 18:17:02   \n",
       "\n",
       "  order_estimated_delivery_date  \n",
       "0                    2017-10-18  \n",
       "1                    2018-08-13  \n",
       "2                    2018-09-04  \n",
       "3                    2017-12-15  \n",
       "4                    2018-02-26  "
      ]
     },
     "execution_count": 40,
     "metadata": {},
     "output_type": "execute_result"
    }
   ],
   "source": [
    "orders_data.head()"
   ]
  },
  {
   "cell_type": "code",
   "execution_count": 41,
   "metadata": {},
   "outputs": [
    {
     "name": "stdout",
     "output_type": "stream",
     "text": [
      "<class 'pandas.core.frame.DataFrame'>\n",
      "Int64Index: 99182 entries, 0 to 99440\n",
      "Data columns (total 8 columns):\n",
      " #   Column                         Non-Null Count  Dtype         \n",
      "---  ------                         --------------  -----         \n",
      " 0   order_id                       99182 non-null  object        \n",
      " 1   customer_id                    99182 non-null  object        \n",
      " 2   order_status                   99182 non-null  object        \n",
      " 3   order_purchase_timestamp       99182 non-null  datetime64[ns]\n",
      " 4   order_approved_at              99022 non-null  datetime64[ns]\n",
      " 5   order_delivered_carrier_date   97401 non-null  datetime64[ns]\n",
      " 6   order_delivered_customer_date  96221 non-null  datetime64[ns]\n",
      " 7   order_estimated_delivery_date  99182 non-null  datetime64[ns]\n",
      "dtypes: datetime64[ns](5), object(3)\n",
      "memory usage: 6.8+ MB\n"
     ]
    }
   ],
   "source": [
    "orders_data.info()"
   ]
  },
  {
   "cell_type": "code",
   "execution_count": 42,
   "metadata": {},
   "outputs": [
    {
     "data": {
      "text/plain": [
       "<AxesSubplot:>"
      ]
     },
     "execution_count": 42,
     "metadata": {},
     "output_type": "execute_result"
    },
    {
     "data": {
      "image/png": "[encoded data removed]",
      "text/plain": [
       "<Figure size 1728x720 with 3 Axes>"
      ]
     },
     "metadata": {
      "needs_background": "light"
     },
     "output_type": "display_data"
    }
   ],
   "source": [
    "msno.bar(orders_data)"
   ]
  },
  {
   "cell_type": "markdown",
   "metadata": {},
   "source": [
    "Quelques valeurs manquantes, dans order_delivered_carrier_date et order_delivered_customer_date"
   ]
  },
  {
   "cell_type": "code",
   "execution_count": 43,
   "metadata": {},
   "outputs": [
    {
     "data": {
      "text/html": [
       "<div>\n",
       "<style scoped>\n",
       "    .dataframe tbody tr th:only-of-type {\n",
       "        vertical-align: middle;\n",
       "    }\n",
       "\n",
       "    .dataframe tbody tr th {\n",
       "        vertical-align: top;\n",
       "    }\n",
       "\n",
       "    .dataframe thead th {\n",
       "        text-align: right;\n",
       "    }\n",
       "</style>\n",
       "<table border=\"1\" class=\"dataframe\">\n",
       "  <thead>\n",
       "    <tr style=\"text-align: right;\">\n",
       "      <th></th>\n",
       "      <th>order_id</th>\n",
       "      <th>customer_id</th>\n",
       "      <th>order_status</th>\n",
       "      <th>order_purchase_timestamp</th>\n",
       "      <th>order_approved_at</th>\n",
       "      <th>order_delivered_carrier_date</th>\n",
       "      <th>order_delivered_customer_date</th>\n",
       "      <th>order_estimated_delivery_date</th>\n",
       "    </tr>\n",
       "  </thead>\n",
       "  <tbody>\n",
       "    <tr>\n",
       "      <th>6</th>\n",
       "      <td>136cce7faa42fdb2cefd53fdc79a6098</td>\n",
       "      <td>ed0271e0b7da060a393796590e7b737a</td>\n",
       "      <td>invoiced</td>\n",
       "      <td>2017-04-11 12:22:08</td>\n",
       "      <td>2017-04-13 13:25:17</td>\n",
       "      <td>NaT</td>\n",
       "      <td>NaT</td>\n",
       "      <td>2017-05-09</td>\n",
       "    </tr>\n",
       "    <tr>\n",
       "      <th>44</th>\n",
       "      <td>ee64d42b8cf066f35eac1cf57de1aa85</td>\n",
       "      <td>caded193e8e47b8362864762a83db3c5</td>\n",
       "      <td>shipped</td>\n",
       "      <td>2018-06-04 16:44:48</td>\n",
       "      <td>2018-06-05 04:31:18</td>\n",
       "      <td>2018-06-05 14:32:00</td>\n",
       "      <td>NaT</td>\n",
       "      <td>2018-06-28</td>\n",
       "    </tr>\n",
       "    <tr>\n",
       "      <th>103</th>\n",
       "      <td>0760a852e4e9d89eb77bf631eaaf1c84</td>\n",
       "      <td>d2a79636084590b7465af8ab374a8cf5</td>\n",
       "      <td>invoiced</td>\n",
       "      <td>2018-08-03 17:44:42</td>\n",
       "      <td>2018-08-07 06:15:14</td>\n",
       "      <td>NaT</td>\n",
       "      <td>NaT</td>\n",
       "      <td>2018-08-21</td>\n",
       "    </tr>\n",
       "    <tr>\n",
       "      <th>128</th>\n",
       "      <td>15bed8e2fec7fdbadb186b57c46c92f2</td>\n",
       "      <td>f3f0e613e0bdb9c7cee75504f0f90679</td>\n",
       "      <td>processing</td>\n",
       "      <td>2017-09-03 14:22:03</td>\n",
       "      <td>2017-09-03 14:30:09</td>\n",
       "      <td>NaT</td>\n",
       "      <td>NaT</td>\n",
       "      <td>2017-10-03</td>\n",
       "    </tr>\n",
       "    <tr>\n",
       "      <th>154</th>\n",
       "      <td>6942b8da583c2f9957e990d028607019</td>\n",
       "      <td>52006a9383bf149a4fb24226b173106f</td>\n",
       "      <td>shipped</td>\n",
       "      <td>2018-01-10 11:33:07</td>\n",
       "      <td>2018-01-11 02:32:30</td>\n",
       "      <td>2018-01-11 19:39:23</td>\n",
       "      <td>NaT</td>\n",
       "      <td>2018-02-07</td>\n",
       "    </tr>\n",
       "    <tr>\n",
       "      <th>...</th>\n",
       "      <td>...</td>\n",
       "      <td>...</td>\n",
       "      <td>...</td>\n",
       "      <td>...</td>\n",
       "      <td>...</td>\n",
       "      <td>...</td>\n",
       "      <td>...</td>\n",
       "      <td>...</td>\n",
       "    </tr>\n",
       "    <tr>\n",
       "      <th>99283</th>\n",
       "      <td>3a3cddda5a7c27851bd96c3313412840</td>\n",
       "      <td>0b0d6095c5555fe083844281f6b093bb</td>\n",
       "      <td>canceled</td>\n",
       "      <td>2018-08-31 16:13:44</td>\n",
       "      <td>NaT</td>\n",
       "      <td>NaT</td>\n",
       "      <td>NaT</td>\n",
       "      <td>2018-10-01</td>\n",
       "    </tr>\n",
       "    <tr>\n",
       "      <th>99313</th>\n",
       "      <td>e9e64a17afa9653aacf2616d94c005b8</td>\n",
       "      <td>b4cd0522e632e481f8eaf766a2646e86</td>\n",
       "      <td>processing</td>\n",
       "      <td>2018-01-05 23:07:24</td>\n",
       "      <td>2018-01-09 07:18:05</td>\n",
       "      <td>NaT</td>\n",
       "      <td>NaT</td>\n",
       "      <td>2018-02-06</td>\n",
       "    </tr>\n",
       "    <tr>\n",
       "      <th>99347</th>\n",
       "      <td>a89abace0dcc01eeb267a9660b5ac126</td>\n",
       "      <td>2f0524a7b1b3845a1a57fcf3910c4333</td>\n",
       "      <td>canceled</td>\n",
       "      <td>2018-09-06 18:45:47</td>\n",
       "      <td>NaT</td>\n",
       "      <td>NaT</td>\n",
       "      <td>NaT</td>\n",
       "      <td>2018-09-27</td>\n",
       "    </tr>\n",
       "    <tr>\n",
       "      <th>99348</th>\n",
       "      <td>a69ba794cc7deb415c3e15a0a3877e69</td>\n",
       "      <td>726f0894b5becdf952ea537d5266e543</td>\n",
       "      <td>unavailable</td>\n",
       "      <td>2017-08-23 16:28:04</td>\n",
       "      <td>2017-08-28 15:44:47</td>\n",
       "      <td>NaT</td>\n",
       "      <td>NaT</td>\n",
       "      <td>2017-09-15</td>\n",
       "    </tr>\n",
       "    <tr>\n",
       "      <th>99415</th>\n",
       "      <td>5fabc81b6322c8443648e1b21a6fef21</td>\n",
       "      <td>32c9df889d41b0ee8309a5efb6855dcb</td>\n",
       "      <td>unavailable</td>\n",
       "      <td>2017-10-10 10:50:03</td>\n",
       "      <td>2017-10-14 18:35:57</td>\n",
       "      <td>NaT</td>\n",
       "      <td>NaT</td>\n",
       "      <td>2017-10-23</td>\n",
       "    </tr>\n",
       "  </tbody>\n",
       "</table>\n",
       "<p>2962 rows × 8 columns</p>\n",
       "</div>"
      ],
      "text/plain": [
       "                               order_id                       customer_id  \\\n",
       "6      136cce7faa42fdb2cefd53fdc79a6098  ed0271e0b7da060a393796590e7b737a   \n",
       "44     ee64d42b8cf066f35eac1cf57de1aa85  caded193e8e47b8362864762a83db3c5   \n",
       "103    0760a852e4e9d89eb77bf631eaaf1c84  d2a79636084590b7465af8ab374a8cf5   \n",
       "128    15bed8e2fec7fdbadb186b57c46c92f2  f3f0e613e0bdb9c7cee75504f0f90679   \n",
       "154    6942b8da583c2f9957e990d028607019  52006a9383bf149a4fb24226b173106f   \n",
       "...                                 ...                               ...   \n",
       "99283  3a3cddda5a7c27851bd96c3313412840  0b0d6095c5555fe083844281f6b093bb   \n",
       "99313  e9e64a17afa9653aacf2616d94c005b8  b4cd0522e632e481f8eaf766a2646e86   \n",
       "99347  a89abace0dcc01eeb267a9660b5ac126  2f0524a7b1b3845a1a57fcf3910c4333   \n",
       "99348  a69ba794cc7deb415c3e15a0a3877e69  726f0894b5becdf952ea537d5266e543   \n",
       "99415  5fabc81b6322c8443648e1b21a6fef21  32c9df889d41b0ee8309a5efb6855dcb   \n",
       "\n",
       "      order_status order_purchase_timestamp   order_approved_at  \\\n",
       "6         invoiced      2017-04-11 12:22:08 2017-04-13 13:25:17   \n",
       "44         shipped      2018-06-04 16:44:48 2018-06-05 04:31:18   \n",
       "103       invoiced      2018-08-03 17:44:42 2018-08-07 06:15:14   \n",
       "128     processing      2017-09-03 14:22:03 2017-09-03 14:30:09   \n",
       "154        shipped      2018-01-10 11:33:07 2018-01-11 02:32:30   \n",
       "...            ...                      ...                 ...   \n",
       "99283     canceled      2018-08-31 16:13:44                 NaT   \n",
       "99313   processing      2018-01-05 23:07:24 2018-01-09 07:18:05   \n",
       "99347     canceled      2018-09-06 18:45:47                 NaT   \n",
       "99348  unavailable      2017-08-23 16:28:04 2017-08-28 15:44:47   \n",
       "99415  unavailable      2017-10-10 10:50:03 2017-10-14 18:35:57   \n",
       "\n",
       "      order_delivered_carrier_date order_delivered_customer_date  \\\n",
       "6                              NaT                           NaT   \n",
       "44             2018-06-05 14:32:00                           NaT   \n",
       "103                            NaT                           NaT   \n",
       "128                            NaT                           NaT   \n",
       "154            2018-01-11 19:39:23                           NaT   \n",
       "...                            ...                           ...   \n",
       "99283                          NaT                           NaT   \n",
       "99313                          NaT                           NaT   \n",
       "99347                          NaT                           NaT   \n",
       "99348                          NaT                           NaT   \n",
       "99415                          NaT                           NaT   \n",
       "\n",
       "      order_estimated_delivery_date  \n",
       "6                        2017-05-09  \n",
       "44                       2018-06-28  \n",
       "103                      2018-08-21  \n",
       "128                      2017-10-03  \n",
       "154                      2018-02-07  \n",
       "...                             ...  \n",
       "99283                    2018-10-01  \n",
       "99313                    2018-02-06  \n",
       "99347                    2018-09-27  \n",
       "99348                    2017-09-15  \n",
       "99415                    2017-10-23  \n",
       "\n",
       "[2962 rows x 8 columns]"
      ]
     },
     "execution_count": 43,
     "metadata": {},
     "output_type": "execute_result"
    }
   ],
   "source": [
    "orders_data[(orders_data.order_delivered_carrier_date.isna()) | (orders_data.order_delivered_customer_date.isna())]"
   ]
  },
  {
   "cell_type": "markdown",
   "metadata": {},
   "source": [
    "Quelles sont les valeurs possibles pour order_status?"
   ]
  },
  {
   "cell_type": "code",
   "execution_count": 44,
   "metadata": {},
   "outputs": [
    {
     "data": {
      "text/plain": [
       "array(['delivered', 'invoiced', 'shipped', 'processing', 'unavailable',\n",
       "       'canceled', 'created', 'approved'], dtype=object)"
      ]
     },
     "execution_count": 44,
     "metadata": {},
     "output_type": "execute_result"
    }
   ],
   "source": [
    "orders_data.order_status.unique()"
   ]
  },
  {
   "cell_type": "code",
   "execution_count": 45,
   "metadata": {},
   "outputs": [
    {
     "data": {
      "image/png": "[encoded data removed]",
      "text/plain": [
       "<Figure size 720x288 with 1 Axes>"
      ]
     },
     "metadata": {
      "needs_background": "light"
     },
     "output_type": "display_data"
    }
   ],
   "source": [
    "plt.figure(figsize=(10, 4))\n",
    "sns.countplot(data=orders_data, x='order_status')\n",
    "plt.show()"
   ]
  },
  {
   "cell_type": "markdown",
   "metadata": {},
   "source": [
    "Très vraisemblablement, les valeurs non renseignées dans les colonnes order_delivered_customer_date et order_delivered_carrier_date correspondent à des commandes qui ne sont pas (encore? jamais?) parvenues à l'étape correspondante - il n'y a donc pas de date à afficher."
   ]
  },
  {
   "cell_type": "markdown",
   "metadata": {},
   "source": [
    "doublons?"
   ]
  },
  {
   "cell_type": "code",
   "execution_count": 46,
   "metadata": {},
   "outputs": [
    {
     "data": {
      "text/plain": [
       "0"
      ]
     },
     "execution_count": 46,
     "metadata": {},
     "output_type": "execute_result"
    }
   ],
   "source": [
    "orders_data.duplicated(keep=False).sum()"
   ]
  },
  {
   "cell_type": "markdown",
   "metadata": {},
   "source": [
    "Temps moyen entre l'achat et la réception du colis? Encore une fois, on arrondit au jour près."
   ]
  },
  {
   "cell_type": "code",
   "execution_count": 47,
   "metadata": {},
   "outputs": [
    {
     "name": "stderr",
     "output_type": "stream",
     "text": [
      "/anaconda3/lib/python3.7/site-packages/ipykernel_launcher.py:1: SettingWithCopyWarning: \n",
      "A value is trying to be set on a copy of a slice from a DataFrame.\n",
      "Try using .loc[row_indexer,col_indexer] = value instead\n",
      "\n",
      "See the caveats in the documentation: https://pandas.pydata.org/pandas-docs/stable/user_guide/indexing.html#returning-a-view-versus-a-copy\n",
      "  \"\"\"Entry point for launching an IPython kernel.\n"
     ]
    },
    {
     "data": {
      "image/png": "[encoded data removed]",
      "text/plain": [
       "<Figure size 288x432 with 2 Axes>"
      ]
     },
     "metadata": {
      "needs_background": "light"
     },
     "output_type": "display_data"
    }
   ],
   "source": [
    "orders_data['purchase_to_delivery_time'] = (orders_data['order_delivered_customer_date'] - orders_data['order_purchase_timestamp']).dt.days\n",
    "df = orders_data[orders_data['purchase_to_delivery_time'] < 60]\n",
    "fig, (ax1, ax2) = plt.subplots(nrows=2, sharex=True, figsize=(4, 6))\n",
    "sns.histplot(data=df, x='purchase_to_delivery_time', ax=ax1)\n",
    "sns.boxplot(data=df, x='purchase_to_delivery_time', showfliers=False, showmeans=True, ax=ax2)\n",
    "plt.xlabel(\"Number of days between purchase and delivrey\")\n",
    "plt.show()"
   ]
  },
  {
   "cell_type": "markdown",
   "metadata": {},
   "source": [
    "__Products dataset__\\\n",
    "This dataset includes data about the products sold by Olist."
   ]
  },
  {
   "cell_type": "code",
   "execution_count": 48,
   "metadata": {},
   "outputs": [
    {
     "data": {
      "text/html": [
       "<div>\n",
       "<style scoped>\n",
       "    .dataframe tbody tr th:only-of-type {\n",
       "        vertical-align: middle;\n",
       "    }\n",
       "\n",
       "    .dataframe tbody tr th {\n",
       "        vertical-align: top;\n",
       "    }\n",
       "\n",
       "    .dataframe thead th {\n",
       "        text-align: right;\n",
       "    }\n",
       "</style>\n",
       "<table border=\"1\" class=\"dataframe\">\n",
       "  <thead>\n",
       "    <tr style=\"text-align: right;\">\n",
       "      <th></th>\n",
       "      <th>product_id</th>\n",
       "      <th>product_category_name</th>\n",
       "      <th>product_name_lenght</th>\n",
       "      <th>product_description_lenght</th>\n",
       "      <th>product_photos_qty</th>\n",
       "      <th>product_weight_g</th>\n",
       "      <th>product_length_cm</th>\n",
       "      <th>product_height_cm</th>\n",
       "      <th>product_width_cm</th>\n",
       "    </tr>\n",
       "  </thead>\n",
       "  <tbody>\n",
       "    <tr>\n",
       "      <th>0</th>\n",
       "      <td>1e9e8ef04dbcff4541ed26657ea517e5</td>\n",
       "      <td>perfumaria</td>\n",
       "      <td>40.0</td>\n",
       "      <td>287.0</td>\n",
       "      <td>1.0</td>\n",
       "      <td>225.0</td>\n",
       "      <td>16.0</td>\n",
       "      <td>10.0</td>\n",
       "      <td>14.0</td>\n",
       "    </tr>\n",
       "    <tr>\n",
       "      <th>1</th>\n",
       "      <td>3aa071139cb16b67ca9e5dea641aaa2f</td>\n",
       "      <td>artes</td>\n",
       "      <td>44.0</td>\n",
       "      <td>276.0</td>\n",
       "      <td>1.0</td>\n",
       "      <td>1000.0</td>\n",
       "      <td>30.0</td>\n",
       "      <td>18.0</td>\n",
       "      <td>20.0</td>\n",
       "    </tr>\n",
       "    <tr>\n",
       "      <th>2</th>\n",
       "      <td>96bd76ec8810374ed1b65e291975717f</td>\n",
       "      <td>esporte_lazer</td>\n",
       "      <td>46.0</td>\n",
       "      <td>250.0</td>\n",
       "      <td>1.0</td>\n",
       "      <td>154.0</td>\n",
       "      <td>18.0</td>\n",
       "      <td>9.0</td>\n",
       "      <td>15.0</td>\n",
       "    </tr>\n",
       "    <tr>\n",
       "      <th>3</th>\n",
       "      <td>cef67bcfe19066a932b7673e239eb23d</td>\n",
       "      <td>bebes</td>\n",
       "      <td>27.0</td>\n",
       "      <td>261.0</td>\n",
       "      <td>1.0</td>\n",
       "      <td>371.0</td>\n",
       "      <td>26.0</td>\n",
       "      <td>4.0</td>\n",
       "      <td>26.0</td>\n",
       "    </tr>\n",
       "    <tr>\n",
       "      <th>4</th>\n",
       "      <td>9dc1a7de274444849c219cff195d0b71</td>\n",
       "      <td>utilidades_domesticas</td>\n",
       "      <td>37.0</td>\n",
       "      <td>402.0</td>\n",
       "      <td>4.0</td>\n",
       "      <td>625.0</td>\n",
       "      <td>20.0</td>\n",
       "      <td>17.0</td>\n",
       "      <td>13.0</td>\n",
       "    </tr>\n",
       "  </tbody>\n",
       "</table>\n",
       "</div>"
      ],
      "text/plain": [
       "                         product_id  product_category_name  \\\n",
       "0  1e9e8ef04dbcff4541ed26657ea517e5             perfumaria   \n",
       "1  3aa071139cb16b67ca9e5dea641aaa2f                  artes   \n",
       "2  96bd76ec8810374ed1b65e291975717f          esporte_lazer   \n",
       "3  cef67bcfe19066a932b7673e239eb23d                  bebes   \n",
       "4  9dc1a7de274444849c219cff195d0b71  utilidades_domesticas   \n",
       "\n",
       "   product_name_lenght  product_description_lenght  product_photos_qty  \\\n",
       "0                 40.0                       287.0                 1.0   \n",
       "1                 44.0                       276.0                 1.0   \n",
       "2                 46.0                       250.0                 1.0   \n",
       "3                 27.0                       261.0                 1.0   \n",
       "4                 37.0                       402.0                 4.0   \n",
       "\n",
       "   product_weight_g  product_length_cm  product_height_cm  product_width_cm  \n",
       "0             225.0               16.0               10.0              14.0  \n",
       "1            1000.0               30.0               18.0              20.0  \n",
       "2             154.0               18.0                9.0              15.0  \n",
       "3             371.0               26.0                4.0              26.0  \n",
       "4             625.0               20.0               17.0              13.0  "
      ]
     },
     "execution_count": 48,
     "metadata": {},
     "output_type": "execute_result"
    }
   ],
   "source": [
    "products_data.head()"
   ]
  },
  {
   "cell_type": "code",
   "execution_count": 49,
   "metadata": {},
   "outputs": [
    {
     "name": "stdout",
     "output_type": "stream",
     "text": [
      "<class 'pandas.core.frame.DataFrame'>\n",
      "RangeIndex: 32951 entries, 0 to 32950\n",
      "Data columns (total 9 columns):\n",
      " #   Column                      Non-Null Count  Dtype  \n",
      "---  ------                      --------------  -----  \n",
      " 0   product_id                  32951 non-null  object \n",
      " 1   product_category_name       32341 non-null  object \n",
      " 2   product_name_lenght         32341 non-null  float64\n",
      " 3   product_description_lenght  32341 non-null  float64\n",
      " 4   product_photos_qty          32341 non-null  float64\n",
      " 5   product_weight_g            32949 non-null  float64\n",
      " 6   product_length_cm           32949 non-null  float64\n",
      " 7   product_height_cm           32949 non-null  float64\n",
      " 8   product_width_cm            32949 non-null  float64\n",
      "dtypes: float64(7), object(2)\n",
      "memory usage: 2.3+ MB\n"
     ]
    }
   ],
   "source": [
    "products_data.info()"
   ]
  },
  {
   "cell_type": "markdown",
   "metadata": {},
   "source": [
    "certains valeurs sont manquantes. Regardons de plus près quelles sont ces \"valeurs manquantes\""
   ]
  },
  {
   "cell_type": "code",
   "execution_count": 50,
   "metadata": {},
   "outputs": [
    {
     "data": {
      "text/html": [
       "<div>\n",
       "<style scoped>\n",
       "    .dataframe tbody tr th:only-of-type {\n",
       "        vertical-align: middle;\n",
       "    }\n",
       "\n",
       "    .dataframe tbody tr th {\n",
       "        vertical-align: top;\n",
       "    }\n",
       "\n",
       "    .dataframe thead th {\n",
       "        text-align: right;\n",
       "    }\n",
       "</style>\n",
       "<table border=\"1\" class=\"dataframe\">\n",
       "  <thead>\n",
       "    <tr style=\"text-align: right;\">\n",
       "      <th></th>\n",
       "      <th>product_id</th>\n",
       "      <th>product_category_name</th>\n",
       "      <th>product_name_lenght</th>\n",
       "      <th>product_description_lenght</th>\n",
       "      <th>product_photos_qty</th>\n",
       "      <th>product_weight_g</th>\n",
       "      <th>product_length_cm</th>\n",
       "      <th>product_height_cm</th>\n",
       "      <th>product_width_cm</th>\n",
       "    </tr>\n",
       "  </thead>\n",
       "  <tbody>\n",
       "    <tr>\n",
       "      <th>8578</th>\n",
       "      <td>09ff539a621711667c43eba6a3bd8466</td>\n",
       "      <td>bebes</td>\n",
       "      <td>60.0</td>\n",
       "      <td>865.0</td>\n",
       "      <td>3.0</td>\n",
       "      <td>NaN</td>\n",
       "      <td>NaN</td>\n",
       "      <td>NaN</td>\n",
       "      <td>NaN</td>\n",
       "    </tr>\n",
       "    <tr>\n",
       "      <th>18851</th>\n",
       "      <td>5eb564652db742ff8f28759cd8d2652a</td>\n",
       "      <td>NaN</td>\n",
       "      <td>NaN</td>\n",
       "      <td>NaN</td>\n",
       "      <td>NaN</td>\n",
       "      <td>NaN</td>\n",
       "      <td>NaN</td>\n",
       "      <td>NaN</td>\n",
       "      <td>NaN</td>\n",
       "    </tr>\n",
       "  </tbody>\n",
       "</table>\n",
       "</div>"
      ],
      "text/plain": [
       "                             product_id product_category_name  \\\n",
       "8578   09ff539a621711667c43eba6a3bd8466                 bebes   \n",
       "18851  5eb564652db742ff8f28759cd8d2652a                   NaN   \n",
       "\n",
       "       product_name_lenght  product_description_lenght  product_photos_qty  \\\n",
       "8578                  60.0                       865.0                 3.0   \n",
       "18851                  NaN                         NaN                 NaN   \n",
       "\n",
       "       product_weight_g  product_length_cm  product_height_cm  \\\n",
       "8578                NaN                NaN                NaN   \n",
       "18851               NaN                NaN                NaN   \n",
       "\n",
       "       product_width_cm  \n",
       "8578                NaN  \n",
       "18851               NaN  "
      ]
     },
     "execution_count": 50,
     "metadata": {},
     "output_type": "execute_result"
    }
   ],
   "source": [
    "products_data[products_data.product_weight_g.isna()]"
   ]
  },
  {
   "cell_type": "markdown",
   "metadata": {},
   "source": [
    "Les category_name sont en portugais mais on a la table product_category_name_translation qui peut nous servir à traduire ces noms en anglais."
   ]
  },
  {
   "cell_type": "code",
   "execution_count": 51,
   "metadata": {},
   "outputs": [
    {
     "data": {
      "text/html": [
       "<div>\n",
       "<style scoped>\n",
       "    .dataframe tbody tr th:only-of-type {\n",
       "        vertical-align: middle;\n",
       "    }\n",
       "\n",
       "    .dataframe tbody tr th {\n",
       "        vertical-align: top;\n",
       "    }\n",
       "\n",
       "    .dataframe thead th {\n",
       "        text-align: right;\n",
       "    }\n",
       "</style>\n",
       "<table border=\"1\" class=\"dataframe\">\n",
       "  <thead>\n",
       "    <tr style=\"text-align: right;\">\n",
       "      <th></th>\n",
       "      <th>product_category_name</th>\n",
       "      <th>product_category_name_english</th>\n",
       "    </tr>\n",
       "  </thead>\n",
       "  <tbody>\n",
       "    <tr>\n",
       "      <th>0</th>\n",
       "      <td>beleza_saude</td>\n",
       "      <td>health_beauty</td>\n",
       "    </tr>\n",
       "    <tr>\n",
       "      <th>1</th>\n",
       "      <td>informatica_acessorios</td>\n",
       "      <td>computers_accessories</td>\n",
       "    </tr>\n",
       "    <tr>\n",
       "      <th>2</th>\n",
       "      <td>automotivo</td>\n",
       "      <td>auto</td>\n",
       "    </tr>\n",
       "    <tr>\n",
       "      <th>3</th>\n",
       "      <td>cama_mesa_banho</td>\n",
       "      <td>bed_bath_table</td>\n",
       "    </tr>\n",
       "    <tr>\n",
       "      <th>4</th>\n",
       "      <td>moveis_decoracao</td>\n",
       "      <td>furniture_decor</td>\n",
       "    </tr>\n",
       "    <tr>\n",
       "      <th>...</th>\n",
       "      <td>...</td>\n",
       "      <td>...</td>\n",
       "    </tr>\n",
       "    <tr>\n",
       "      <th>66</th>\n",
       "      <td>flores</td>\n",
       "      <td>flowers</td>\n",
       "    </tr>\n",
       "    <tr>\n",
       "      <th>67</th>\n",
       "      <td>artes_e_artesanato</td>\n",
       "      <td>arts_and_craftmanship</td>\n",
       "    </tr>\n",
       "    <tr>\n",
       "      <th>68</th>\n",
       "      <td>fraldas_higiene</td>\n",
       "      <td>diapers_and_hygiene</td>\n",
       "    </tr>\n",
       "    <tr>\n",
       "      <th>69</th>\n",
       "      <td>fashion_roupa_infanto_juvenil</td>\n",
       "      <td>fashion_childrens_clothes</td>\n",
       "    </tr>\n",
       "    <tr>\n",
       "      <th>70</th>\n",
       "      <td>seguros_e_servicos</td>\n",
       "      <td>security_and_services</td>\n",
       "    </tr>\n",
       "  </tbody>\n",
       "</table>\n",
       "<p>71 rows × 2 columns</p>\n",
       "</div>"
      ],
      "text/plain": [
       "            product_category_name product_category_name_english\n",
       "0                    beleza_saude                 health_beauty\n",
       "1          informatica_acessorios         computers_accessories\n",
       "2                      automotivo                          auto\n",
       "3                 cama_mesa_banho                bed_bath_table\n",
       "4                moveis_decoracao               furniture_decor\n",
       "..                            ...                           ...\n",
       "66                         flores                       flowers\n",
       "67             artes_e_artesanato         arts_and_craftmanship\n",
       "68                fraldas_higiene           diapers_and_hygiene\n",
       "69  fashion_roupa_infanto_juvenil     fashion_childrens_clothes\n",
       "70             seguros_e_servicos         security_and_services\n",
       "\n",
       "[71 rows x 2 columns]"
      ]
     },
     "execution_count": 51,
     "metadata": {},
     "output_type": "execute_result"
    }
   ],
   "source": [
    "category_translation"
   ]
  },
  {
   "cell_type": "markdown",
   "metadata": {},
   "source": [
    "On peut essayer de realiser une jointure entre les deux datasets products_data et category_translation."
   ]
  },
  {
   "cell_type": "code",
   "execution_count": 52,
   "metadata": {},
   "outputs": [
    {
     "data": {
      "text/html": [
       "<div>\n",
       "<style scoped>\n",
       "    .dataframe tbody tr th:only-of-type {\n",
       "        vertical-align: middle;\n",
       "    }\n",
       "\n",
       "    .dataframe tbody tr th {\n",
       "        vertical-align: top;\n",
       "    }\n",
       "\n",
       "    .dataframe thead th {\n",
       "        text-align: right;\n",
       "    }\n",
       "</style>\n",
       "<table border=\"1\" class=\"dataframe\">\n",
       "  <thead>\n",
       "    <tr style=\"text-align: right;\">\n",
       "      <th></th>\n",
       "      <th>product_id</th>\n",
       "      <th>product_category_name</th>\n",
       "      <th>product_name_lenght</th>\n",
       "      <th>product_description_lenght</th>\n",
       "      <th>product_photos_qty</th>\n",
       "      <th>product_weight_g</th>\n",
       "      <th>product_length_cm</th>\n",
       "      <th>product_height_cm</th>\n",
       "      <th>product_width_cm</th>\n",
       "      <th>product_category_name_english</th>\n",
       "    </tr>\n",
       "  </thead>\n",
       "  <tbody>\n",
       "    <tr>\n",
       "      <th>0</th>\n",
       "      <td>1e9e8ef04dbcff4541ed26657ea517e5</td>\n",
       "      <td>perfumaria</td>\n",
       "      <td>40.0</td>\n",
       "      <td>287.0</td>\n",
       "      <td>1.0</td>\n",
       "      <td>225.0</td>\n",
       "      <td>16.0</td>\n",
       "      <td>10.0</td>\n",
       "      <td>14.0</td>\n",
       "      <td>perfumery</td>\n",
       "    </tr>\n",
       "    <tr>\n",
       "      <th>1</th>\n",
       "      <td>6a2fb4dd53d2cdb88e0432f1284a004c</td>\n",
       "      <td>perfumaria</td>\n",
       "      <td>39.0</td>\n",
       "      <td>346.0</td>\n",
       "      <td>2.0</td>\n",
       "      <td>400.0</td>\n",
       "      <td>27.0</td>\n",
       "      <td>5.0</td>\n",
       "      <td>20.0</td>\n",
       "      <td>perfumery</td>\n",
       "    </tr>\n",
       "    <tr>\n",
       "      <th>2</th>\n",
       "      <td>0d009643171aee696f4733340bc2fdd0</td>\n",
       "      <td>perfumaria</td>\n",
       "      <td>52.0</td>\n",
       "      <td>150.0</td>\n",
       "      <td>1.0</td>\n",
       "      <td>422.0</td>\n",
       "      <td>21.0</td>\n",
       "      <td>16.0</td>\n",
       "      <td>18.0</td>\n",
       "      <td>perfumery</td>\n",
       "    </tr>\n",
       "    <tr>\n",
       "      <th>3</th>\n",
       "      <td>b1eae565a61935e0011ee7682fef9dc9</td>\n",
       "      <td>perfumaria</td>\n",
       "      <td>49.0</td>\n",
       "      <td>460.0</td>\n",
       "      <td>2.0</td>\n",
       "      <td>267.0</td>\n",
       "      <td>17.0</td>\n",
       "      <td>13.0</td>\n",
       "      <td>17.0</td>\n",
       "      <td>perfumery</td>\n",
       "    </tr>\n",
       "    <tr>\n",
       "      <th>4</th>\n",
       "      <td>8da90b37f0fb171b4877c124f965b1f6</td>\n",
       "      <td>perfumaria</td>\n",
       "      <td>56.0</td>\n",
       "      <td>733.0</td>\n",
       "      <td>3.0</td>\n",
       "      <td>377.0</td>\n",
       "      <td>18.0</td>\n",
       "      <td>13.0</td>\n",
       "      <td>15.0</td>\n",
       "      <td>perfumery</td>\n",
       "    </tr>\n",
       "  </tbody>\n",
       "</table>\n",
       "</div>"
      ],
      "text/plain": [
       "                         product_id product_category_name  \\\n",
       "0  1e9e8ef04dbcff4541ed26657ea517e5            perfumaria   \n",
       "1  6a2fb4dd53d2cdb88e0432f1284a004c            perfumaria   \n",
       "2  0d009643171aee696f4733340bc2fdd0            perfumaria   \n",
       "3  b1eae565a61935e0011ee7682fef9dc9            perfumaria   \n",
       "4  8da90b37f0fb171b4877c124f965b1f6            perfumaria   \n",
       "\n",
       "   product_name_lenght  product_description_lenght  product_photos_qty  \\\n",
       "0                 40.0                       287.0                 1.0   \n",
       "1                 39.0                       346.0                 2.0   \n",
       "2                 52.0                       150.0                 1.0   \n",
       "3                 49.0                       460.0                 2.0   \n",
       "4                 56.0                       733.0                 3.0   \n",
       "\n",
       "   product_weight_g  product_length_cm  product_height_cm  product_width_cm  \\\n",
       "0             225.0               16.0               10.0              14.0   \n",
       "1             400.0               27.0                5.0              20.0   \n",
       "2             422.0               21.0               16.0              18.0   \n",
       "3             267.0               17.0               13.0              17.0   \n",
       "4             377.0               18.0               13.0              15.0   \n",
       "\n",
       "  product_category_name_english  \n",
       "0                     perfumery  \n",
       "1                     perfumery  \n",
       "2                     perfumery  \n",
       "3                     perfumery  \n",
       "4                     perfumery  "
      ]
     },
     "execution_count": 52,
     "metadata": {},
     "output_type": "execute_result"
    }
   ],
   "source": [
    "products_data_english = pd.merge(products_data, category_translation, on='product_category_name')\n",
    "products_data_english.head()"
   ]
  },
  {
   "cell_type": "code",
   "execution_count": 53,
   "metadata": {},
   "outputs": [
    {
     "data": {
      "text/plain": [
       "<AxesSubplot:>"
      ]
     },
     "execution_count": 53,
     "metadata": {},
     "output_type": "execute_result"
    },
    {
     "data": {
      "image/png": "[encoded data removed]",
      "text/plain": [
       "<Figure size 1728x720 with 3 Axes>"
      ]
     },
     "metadata": {
      "needs_background": "light"
     },
     "output_type": "display_data"
    }
   ],
   "source": [
    "msno.bar(products_data_english)"
   ]
  },
  {
   "cell_type": "markdown",
   "metadata": {},
   "source": [
    "En réalisant cette jointure on a éliminé directement tous les éléments dont les product_name étaient manquants."
   ]
  },
  {
   "cell_type": "markdown",
   "metadata": {},
   "source": [
    "L'absence de product_category_name indique l'absence des autres variables."
   ]
  },
  {
   "cell_type": "markdown",
   "metadata": {},
   "source": [
    "### RFM segmentation\n",
    "We start investigating how the data at hand will allow us to perform rfm segmentation. What we look for:\n",
    "- recency: date of last purchase\n",
    "- frequency\n",
    "- monetary value (of last purchase or average over a period of time)\n",
    "\n",
    "the dataset orders_data contains several variables dealing with time-related purchase information, one of which is of particular interest to us: _order_purchase_timestamp_, because it gives us the purchase date of any specific order (_order_id_). _order_id_ is related to _customer_id_ which is in turn related to _customer_unique_id_, this last variable uniquely referring to _actual_ customers.\\\n",
    "Let us merge the _orders_data_ table with the _customers_data_ in order to link the _order_id_ with the _customer_id_"
   ]
  },
  {
   "cell_type": "markdown",
   "metadata": {},
   "source": [
    "Purchase recency (days)"
   ]
  },
  {
   "cell_type": "code",
   "execution_count": 54,
   "metadata": {},
   "outputs": [
    {
     "name": "stderr",
     "output_type": "stream",
     "text": [
      "/anaconda3/lib/python3.7/site-packages/pandas/core/indexing.py:1596: SettingWithCopyWarning: \n",
      "A value is trying to be set on a copy of a slice from a DataFrame.\n",
      "Try using .loc[row_indexer,col_indexer] = value instead\n",
      "\n",
      "See the caveats in the documentation: https://pandas.pydata.org/pandas-docs/stable/user_guide/indexing.html#returning-a-view-versus-a-copy\n",
      "  self.obj[key] = _infer_fill_value(value)\n",
      "/anaconda3/lib/python3.7/site-packages/pandas/core/indexing.py:1745: SettingWithCopyWarning: \n",
      "A value is trying to be set on a copy of a slice from a DataFrame.\n",
      "Try using .loc[row_indexer,col_indexer] = value instead\n",
      "\n",
      "See the caveats in the documentation: https://pandas.pydata.org/pandas-docs/stable/user_guide/indexing.html#returning-a-view-versus-a-copy\n",
      "  isetter(ilocs[0], value)\n"
     ]
    },
    {
     "data": {
      "image/png": "[encoded data removed]",
      "text/plain": [
       "<Figure size 432x288 with 1 Axes>"
      ]
     },
     "metadata": {
      "needs_background": "light"
     },
     "output_type": "display_data"
    }
   ],
   "source": [
    "orders_data.loc[:, 'purchase_recency'] = orders_data.order_purchase_timestamp.max() - orders_data.order_purchase_timestamp\n",
    "orders_data.loc[:, \"purchase_recency\"].dt.days.plot(kind='hist', bins=round(5*np.log2(orders_data.shape[0])))\n",
    "plt.show()"
   ]
  },
  {
   "cell_type": "code",
   "execution_count": 55,
   "metadata": {},
   "outputs": [
    {
     "data": {
      "text/plain": [
       "Index(['customer_id', 'customer_unique_id', 'customer_zip_code_prefix',\n",
       "       'customer_city', 'customer_state'],\n",
       "      dtype='object')"
      ]
     },
     "execution_count": 55,
     "metadata": {},
     "output_type": "execute_result"
    }
   ],
   "source": [
    "customers_data.columns"
   ]
  },
  {
   "cell_type": "code",
   "execution_count": 56,
   "metadata": {},
   "outputs": [
    {
     "data": {
      "text/plain": [
       "Index(['order_id', 'customer_id', 'order_status', 'order_purchase_timestamp',\n",
       "       'order_approved_at', 'order_delivered_carrier_date',\n",
       "       'order_delivered_customer_date', 'order_estimated_delivery_date',\n",
       "       'purchase_to_delivery_time', 'purchase_recency'],\n",
       "      dtype='object')"
      ]
     },
     "execution_count": 56,
     "metadata": {},
     "output_type": "execute_result"
    }
   ],
   "source": [
    "orders_data.columns"
   ]
  },
  {
   "cell_type": "code",
   "execution_count": 57,
   "metadata": {},
   "outputs": [
    {
     "data": {
      "text/html": [
       "<div>\n",
       "<style scoped>\n",
       "    .dataframe tbody tr th:only-of-type {\n",
       "        vertical-align: middle;\n",
       "    }\n",
       "\n",
       "    .dataframe tbody tr th {\n",
       "        vertical-align: top;\n",
       "    }\n",
       "\n",
       "    .dataframe thead th {\n",
       "        text-align: right;\n",
       "    }\n",
       "</style>\n",
       "<table border=\"1\" class=\"dataframe\">\n",
       "  <thead>\n",
       "    <tr style=\"text-align: right;\">\n",
       "      <th></th>\n",
       "      <th>order_id</th>\n",
       "      <th>customer_id</th>\n",
       "      <th>order_status</th>\n",
       "      <th>order_purchase_timestamp</th>\n",
       "      <th>order_approved_at</th>\n",
       "      <th>order_delivered_carrier_date</th>\n",
       "      <th>order_delivered_customer_date</th>\n",
       "      <th>order_estimated_delivery_date</th>\n",
       "      <th>purchase_to_delivery_time</th>\n",
       "      <th>purchase_recency</th>\n",
       "      <th>customer_unique_id</th>\n",
       "      <th>customer_zip_code_prefix</th>\n",
       "      <th>customer_city</th>\n",
       "      <th>customer_state</th>\n",
       "    </tr>\n",
       "  </thead>\n",
       "  <tbody>\n",
       "    <tr>\n",
       "      <th>0</th>\n",
       "      <td>e481f51cbdc54678b7cc49136f2d6af7</td>\n",
       "      <td>9ef432eb6251297304e76186b10a928d</td>\n",
       "      <td>delivered</td>\n",
       "      <td>2017-10-02 10:56:33</td>\n",
       "      <td>2017-10-02 11:07:15</td>\n",
       "      <td>2017-10-04 19:55:00</td>\n",
       "      <td>2017-10-10 21:25:13</td>\n",
       "      <td>2017-10-18</td>\n",
       "      <td>8.0</td>\n",
       "      <td>380 days 06:33:45</td>\n",
       "      <td>7c396fd4830fd04220f754e42b4e5bff</td>\n",
       "      <td>3149</td>\n",
       "      <td>sao paulo</td>\n",
       "      <td>SP</td>\n",
       "    </tr>\n",
       "    <tr>\n",
       "      <th>1</th>\n",
       "      <td>53cdb2fc8bc7dce0b6741e2150273451</td>\n",
       "      <td>b0830fb4747a6c6d20dea0b8c802d7ef</td>\n",
       "      <td>delivered</td>\n",
       "      <td>2018-07-24 20:41:37</td>\n",
       "      <td>2018-07-26 03:24:27</td>\n",
       "      <td>2018-07-26 14:31:00</td>\n",
       "      <td>2018-08-07 15:27:45</td>\n",
       "      <td>2018-08-13</td>\n",
       "      <td>13.0</td>\n",
       "      <td>84 days 20:48:41</td>\n",
       "      <td>af07308b275d755c9edb36a90c618231</td>\n",
       "      <td>47813</td>\n",
       "      <td>barreiras</td>\n",
       "      <td>BA</td>\n",
       "    </tr>\n",
       "    <tr>\n",
       "      <th>2</th>\n",
       "      <td>47770eb9100c2d0c44946d9cf07ec65d</td>\n",
       "      <td>41ce2a54c0b03bf3443c3d931a367089</td>\n",
       "      <td>delivered</td>\n",
       "      <td>2018-08-08 08:38:49</td>\n",
       "      <td>2018-08-08 08:55:23</td>\n",
       "      <td>2018-08-08 13:50:00</td>\n",
       "      <td>2018-08-17 18:06:29</td>\n",
       "      <td>2018-09-04</td>\n",
       "      <td>9.0</td>\n",
       "      <td>70 days 08:51:29</td>\n",
       "      <td>3a653a41f6f9fc3d2a113cf8398680e8</td>\n",
       "      <td>75265</td>\n",
       "      <td>vianopolis</td>\n",
       "      <td>GO</td>\n",
       "    </tr>\n",
       "    <tr>\n",
       "      <th>3</th>\n",
       "      <td>949d5b44dbf5de918fe9c16f97b45f8a</td>\n",
       "      <td>f88197465ea7920adcdbec7375364d82</td>\n",
       "      <td>delivered</td>\n",
       "      <td>2017-11-18 19:28:06</td>\n",
       "      <td>2017-11-18 19:45:59</td>\n",
       "      <td>2017-11-22 13:39:59</td>\n",
       "      <td>2017-12-02 00:28:42</td>\n",
       "      <td>2017-12-15</td>\n",
       "      <td>13.0</td>\n",
       "      <td>332 days 22:02:12</td>\n",
       "      <td>7c142cf63193a1473d2e66489a9ae977</td>\n",
       "      <td>59296</td>\n",
       "      <td>sao goncalo do amarante</td>\n",
       "      <td>RN</td>\n",
       "    </tr>\n",
       "    <tr>\n",
       "      <th>4</th>\n",
       "      <td>ad21c59c0840e6cb83a9ceb5573f8159</td>\n",
       "      <td>8ab97904e6daea8866dbdbc4fb7aad2c</td>\n",
       "      <td>delivered</td>\n",
       "      <td>2018-02-13 21:18:39</td>\n",
       "      <td>2018-02-13 22:20:29</td>\n",
       "      <td>2018-02-14 19:46:34</td>\n",
       "      <td>2018-02-16 18:17:02</td>\n",
       "      <td>2018-02-26</td>\n",
       "      <td>2.0</td>\n",
       "      <td>245 days 20:11:39</td>\n",
       "      <td>72632f0f9dd73dfee390c9b22eb56dd6</td>\n",
       "      <td>9195</td>\n",
       "      <td>santo andre</td>\n",
       "      <td>SP</td>\n",
       "    </tr>\n",
       "  </tbody>\n",
       "</table>\n",
       "</div>"
      ],
      "text/plain": [
       "                           order_id                       customer_id  \\\n",
       "0  e481f51cbdc54678b7cc49136f2d6af7  9ef432eb6251297304e76186b10a928d   \n",
       "1  53cdb2fc8bc7dce0b6741e2150273451  b0830fb4747a6c6d20dea0b8c802d7ef   \n",
       "2  47770eb9100c2d0c44946d9cf07ec65d  41ce2a54c0b03bf3443c3d931a367089   \n",
       "3  949d5b44dbf5de918fe9c16f97b45f8a  f88197465ea7920adcdbec7375364d82   \n",
       "4  ad21c59c0840e6cb83a9ceb5573f8159  8ab97904e6daea8866dbdbc4fb7aad2c   \n",
       "\n",
       "  order_status order_purchase_timestamp   order_approved_at  \\\n",
       "0    delivered      2017-10-02 10:56:33 2017-10-02 11:07:15   \n",
       "1    delivered      2018-07-24 20:41:37 2018-07-26 03:24:27   \n",
       "2    delivered      2018-08-08 08:38:49 2018-08-08 08:55:23   \n",
       "3    delivered      2017-11-18 19:28:06 2017-11-18 19:45:59   \n",
       "4    delivered      2018-02-13 21:18:39 2018-02-13 22:20:29   \n",
       "\n",
       "  order_delivered_carrier_date order_delivered_customer_date  \\\n",
       "0          2017-10-04 19:55:00           2017-10-10 21:25:13   \n",
       "1          2018-07-26 14:31:00           2018-08-07 15:27:45   \n",
       "2          2018-08-08 13:50:00           2018-08-17 18:06:29   \n",
       "3          2017-11-22 13:39:59           2017-12-02 00:28:42   \n",
       "4          2018-02-14 19:46:34           2018-02-16 18:17:02   \n",
       "\n",
       "  order_estimated_delivery_date  purchase_to_delivery_time  purchase_recency  \\\n",
       "0                    2017-10-18                        8.0 380 days 06:33:45   \n",
       "1                    2018-08-13                       13.0  84 days 20:48:41   \n",
       "2                    2018-09-04                        9.0  70 days 08:51:29   \n",
       "3                    2017-12-15                       13.0 332 days 22:02:12   \n",
       "4                    2018-02-26                        2.0 245 days 20:11:39   \n",
       "\n",
       "                 customer_unique_id  customer_zip_code_prefix  \\\n",
       "0  7c396fd4830fd04220f754e42b4e5bff                      3149   \n",
       "1  af07308b275d755c9edb36a90c618231                     47813   \n",
       "2  3a653a41f6f9fc3d2a113cf8398680e8                     75265   \n",
       "3  7c142cf63193a1473d2e66489a9ae977                     59296   \n",
       "4  72632f0f9dd73dfee390c9b22eb56dd6                      9195   \n",
       "\n",
       "             customer_city customer_state  \n",
       "0                sao paulo             SP  \n",
       "1                barreiras             BA  \n",
       "2               vianopolis             GO  \n",
       "3  sao goncalo do amarante             RN  \n",
       "4              santo andre             SP  "
      ]
     },
     "execution_count": 57,
     "metadata": {},
     "output_type": "execute_result"
    }
   ],
   "source": [
    "orders_customers = pd.merge(orders_data, customers_data, on=\"customer_id\")\n",
    "orders_customers.head()"
   ]
  },
  {
   "cell_type": "markdown",
   "metadata": {},
   "source": [
    "We shall only consider the following variables: _order_id_, _customer_id_, _order_purchase_timestamp_, _purchase_recency_, _customer_unique_id_ in this preliminary exploration. Let us now display the recency and frequency.\\\n",
    "Recency is easy: in fact, we've just done it. The only thing left to do is replace _order_id_ with _customer_unique_id_. But a customer might have purchased several items during the timespan considered. Therefore we need to get the most recent purchase. This can easily be done by grouping by customer_unique_id first, and then retain only the min() of _purchase_recency_."
   ]
  },
  {
   "cell_type": "code",
   "execution_count": 77,
   "metadata": {},
   "outputs": [
    {
     "data": {
      "text/plain": [
       "<AxesSubplot:>"
      ]
     },
     "execution_count": 77,
     "metadata": {},
     "output_type": "execute_result"
    },
    {
     "data": {
      "image/png": "[encoded data removed]",
      "text/plain": [
       "<Figure size 1728x720 with 3 Axes>"
      ]
     },
     "metadata": {
      "needs_background": "light"
     },
     "output_type": "display_data"
    }
   ],
   "source": [
    "msno.bar(orders_customers)"
   ]
  },
  {
   "cell_type": "code",
   "execution_count": 78,
   "metadata": {},
   "outputs": [
    {
     "data": {
      "text/plain": [
       "99182"
      ]
     },
     "execution_count": 78,
     "metadata": {},
     "output_type": "execute_result"
    }
   ],
   "source": [
    "orders_customers.order_id.nunique()"
   ]
  },
  {
   "cell_type": "code",
   "execution_count": 81,
   "metadata": {},
   "outputs": [
    {
     "data": {
      "text/plain": [
       "98407"
      ]
     },
     "execution_count": 81,
     "metadata": {},
     "output_type": "execute_result"
    }
   ],
   "source": [
    "items_data.order_id.nunique()"
   ]
  },
  {
   "cell_type": "code",
   "execution_count": 75,
   "metadata": {},
   "outputs": [
    {
     "data": {
      "text/plain": [
       "customer_unique_id\n",
       "0000366f3b9a7992bf8c76cfdf3221e2    160\n",
       "0000b849f77a49e4a4ce2b2a4ca5be3f    163\n",
       "0000f46a3911fa3c0805444483337064    585\n",
       "0000f6ccb0745a6a4b88665a16c9f078    369\n",
       "0004aac84e0df4da2b147fca70cf8255    336\n",
       "Name: purchase_recency, dtype: int64"
      ]
     },
     "execution_count": 75,
     "metadata": {},
     "output_type": "execute_result"
    }
   ],
   "source": [
    "# we keep only interesting columns\n",
    "orders_customers = orders_customers[['order_id', 'customer_id', 'order_purchase_timestamp',\n",
    "                                     'purchase_recency', 'customer_unique_id']]\n",
    "\n",
    "# grouping by customer_unique_id and using min() on purchase_recency\n",
    "customer_purchase_recency = orders_customers.groupby(\"customer_unique_id\")[\"purchase_recency\"].min().dt.days\n",
    "customer_purchase_recency.head()"
   ]
  },
  {
   "cell_type": "markdown",
   "metadata": {},
   "source": [
    "Now let us move on to extracting the purchase frequency. Again, we group by customer_unique_id but we shall first check that there are customers with more than one purchase since the start of the data."
   ]
  },
  {
   "cell_type": "code",
   "execution_count": 59,
   "metadata": {},
   "outputs": [
    {
     "data": {
      "text/plain": [
       "<AxesSubplot:ylabel='Frequency'>"
      ]
     },
     "execution_count": 59,
     "metadata": {},
     "output_type": "execute_result"
    },
    {
     "data": {
      "image/png": "[encoded data removed]",
      "text/plain": [
       "<Figure size 432x288 with 1 Axes>"
      ]
     },
     "metadata": {
      "needs_background": "light"
     },
     "output_type": "display_data"
    }
   ],
   "source": [
    "frequency = orders_customers.groupby(\"customer_unique_id\")[\"order_id\"].size()\n",
    "frequency.plot(kind='hist', bins=round(5*np.log2(orders_customers.shape[0])))"
   ]
  },
  {
   "cell_type": "markdown",
   "metadata": {},
   "source": [
    "There are indeed customers who have purchased more than once, but they aren't many....\\\n",
    "What we see here is the number of purchase over a given period of time. But what period of time exactly?"
   ]
  },
  {
   "cell_type": "code",
   "execution_count": 60,
   "metadata": {},
   "outputs": [
    {
     "name": "stdout",
     "output_type": "stream",
     "text": [
      "start: 2016-09-04 21:15:19, stop: 2018-10-17 17:30:18, timespan: 772 days\n"
     ]
    }
   ],
   "source": [
    "start = orders_data.order_purchase_timestamp.min()\n",
    "stop = orders_data.order_purchase_timestamp.max() \n",
    "print(f'start: {start}, stop: {stop}, timespan: {(stop - start).days} days')"
   ]
  },
  {
   "cell_type": "markdown",
   "metadata": {},
   "source": [
    "We have the number of purchases, the timespan: we can easily get the (annual, quarterly, monthly, weekly) purchase frequencies. Let us now get the monetary value by merging the _orders_value_item_payment_ dataframe on the _order_id_ key."
   ]
  },
  {
   "cell_type": "code",
   "execution_count": 61,
   "metadata": {},
   "outputs": [],
   "source": [
    "# the columns we'll need\n",
    "cols_to_keep = [\"customer_unique_id\",\n",
    "                \"purchase_recency\",\n",
    "                \"total_order_value\"]\n",
    "\n",
    "# merge total_order_values (order_id) and orders_customers (order_id, customer_id, customer_unique_id)\n",
    "rfm_order_id = pd.merge(orders_customers, total_order_values.reset_index(), on=\"order_id\")[cols_to_keep]\n",
    "\n",
    "# In the case several orders were purchased at the **exact** same time (happened at least once), we sum\n",
    "# over all orders\n",
    "monetary_value = rfm_order_id.groupby([\"customer_unique_id\",\"purchase_recency\"]).aggregate(np.sum)\n",
    "\n",
    "# Finally, grouping only by customer_unique_id, we are able to select the most recent purchase simply by \n",
    "# selecting the first element within each group because the previous groupby operation sorted \n",
    "# the customer_unique_id and purchase_recency keys in ascending order\n",
    "monetary_value_last = monetary_value.reset_index().groupby(\"customer_unique_id\").first()\n",
    "\n",
    "# In order to get the average value of all purchase made by a customer\n",
    "monetary_value_avg = monetary_value.reset_index().groupby(\"customer_unique_id\").mean()"
   ]
  },
  {
   "cell_type": "code",
   "execution_count": 62,
   "metadata": {},
   "outputs": [
    {
     "data": {
      "text/html": [
       "<div>\n",
       "<style scoped>\n",
       "    .dataframe tbody tr th:only-of-type {\n",
       "        vertical-align: middle;\n",
       "    }\n",
       "\n",
       "    .dataframe tbody tr th {\n",
       "        vertical-align: top;\n",
       "    }\n",
       "\n",
       "    .dataframe thead th {\n",
       "        text-align: right;\n",
       "    }\n",
       "</style>\n",
       "<table border=\"1\" class=\"dataframe\">\n",
       "  <thead>\n",
       "    <tr style=\"text-align: right;\">\n",
       "      <th></th>\n",
       "      <th>purchase_recency</th>\n",
       "      <th>total_order_value</th>\n",
       "    </tr>\n",
       "    <tr>\n",
       "      <th>customer_unique_id</th>\n",
       "      <th></th>\n",
       "      <th></th>\n",
       "    </tr>\n",
       "  </thead>\n",
       "  <tbody>\n",
       "    <tr>\n",
       "      <th>0000366f3b9a7992bf8c76cfdf3221e2</th>\n",
       "      <td>160 days 06:33:51</td>\n",
       "      <td>142.0</td>\n",
       "    </tr>\n",
       "    <tr>\n",
       "      <th>0000b849f77a49e4a4ce2b2a4ca5be3f</th>\n",
       "      <td>163 days 06:18:51</td>\n",
       "      <td>27.0</td>\n",
       "    </tr>\n",
       "    <tr>\n",
       "      <th>0000f46a3911fa3c0805444483337064</th>\n",
       "      <td>585 days 20:25:15</td>\n",
       "      <td>86.0</td>\n",
       "    </tr>\n",
       "    <tr>\n",
       "      <th>0000f6ccb0745a6a4b88665a16c9f078</th>\n",
       "      <td>369 days 21:00:37</td>\n",
       "      <td>44.0</td>\n",
       "    </tr>\n",
       "    <tr>\n",
       "      <th>0004aac84e0df4da2b147fca70cf8255</th>\n",
       "      <td>336 days 21:44:36</td>\n",
       "      <td>197.0</td>\n",
       "    </tr>\n",
       "    <tr>\n",
       "      <th>...</th>\n",
       "      <td>...</td>\n",
       "      <td>...</td>\n",
       "    </tr>\n",
       "    <tr>\n",
       "      <th>fffcf5a5ff07b0908bd4e2dbc735a684</th>\n",
       "      <td>495 days 20:29:42</td>\n",
       "      <td>2067.0</td>\n",
       "    </tr>\n",
       "    <tr>\n",
       "      <th>fffea47cd6d3cc0a88bd621562a9d061</th>\n",
       "      <td>310 days 21:22:22</td>\n",
       "      <td>85.0</td>\n",
       "    </tr>\n",
       "    <tr>\n",
       "      <th>ffff371b4d645b6ecea244b27531430a</th>\n",
       "      <td>617 days 01:41:02</td>\n",
       "      <td>112.0</td>\n",
       "    </tr>\n",
       "    <tr>\n",
       "      <th>ffff5962728ec6157033ef9805bacc48</th>\n",
       "      <td>168 days 02:12:37</td>\n",
       "      <td>134.0</td>\n",
       "    </tr>\n",
       "    <tr>\n",
       "      <th>ffffd2657e2aad2907e67c3e9daecbeb</th>\n",
       "      <td>532 days 21:11:33</td>\n",
       "      <td>72.0</td>\n",
       "    </tr>\n",
       "  </tbody>\n",
       "</table>\n",
       "<p>95171 rows × 2 columns</p>\n",
       "</div>"
      ],
      "text/plain": [
       "                                  purchase_recency  total_order_value\n",
       "customer_unique_id                                                   \n",
       "0000366f3b9a7992bf8c76cfdf3221e2 160 days 06:33:51              142.0\n",
       "0000b849f77a49e4a4ce2b2a4ca5be3f 163 days 06:18:51               27.0\n",
       "0000f46a3911fa3c0805444483337064 585 days 20:25:15               86.0\n",
       "0000f6ccb0745a6a4b88665a16c9f078 369 days 21:00:37               44.0\n",
       "0004aac84e0df4da2b147fca70cf8255 336 days 21:44:36              197.0\n",
       "...                                            ...                ...\n",
       "fffcf5a5ff07b0908bd4e2dbc735a684 495 days 20:29:42             2067.0\n",
       "fffea47cd6d3cc0a88bd621562a9d061 310 days 21:22:22               85.0\n",
       "ffff371b4d645b6ecea244b27531430a 617 days 01:41:02              112.0\n",
       "ffff5962728ec6157033ef9805bacc48 168 days 02:12:37              134.0\n",
       "ffffd2657e2aad2907e67c3e9daecbeb 532 days 21:11:33               72.0\n",
       "\n",
       "[95171 rows x 2 columns]"
      ]
     },
     "execution_count": 62,
     "metadata": {},
     "output_type": "execute_result"
    }
   ],
   "source": [
    "monetary_value_last"
   ]
  },
  {
   "cell_type": "code",
   "execution_count": 63,
   "metadata": {},
   "outputs": [
    {
     "data": {
      "text/html": [
       "<div>\n",
       "<style scoped>\n",
       "    .dataframe tbody tr th:only-of-type {\n",
       "        vertical-align: middle;\n",
       "    }\n",
       "\n",
       "    .dataframe tbody tr th {\n",
       "        vertical-align: top;\n",
       "    }\n",
       "\n",
       "    .dataframe thead th {\n",
       "        text-align: right;\n",
       "    }\n",
       "</style>\n",
       "<table border=\"1\" class=\"dataframe\">\n",
       "  <thead>\n",
       "    <tr style=\"text-align: right;\">\n",
       "      <th></th>\n",
       "      <th>total_order_value</th>\n",
       "    </tr>\n",
       "    <tr>\n",
       "      <th>customer_unique_id</th>\n",
       "      <th></th>\n",
       "    </tr>\n",
       "  </thead>\n",
       "  <tbody>\n",
       "    <tr>\n",
       "      <th>0000366f3b9a7992bf8c76cfdf3221e2</th>\n",
       "      <td>142.0</td>\n",
       "    </tr>\n",
       "    <tr>\n",
       "      <th>0000b849f77a49e4a4ce2b2a4ca5be3f</th>\n",
       "      <td>27.0</td>\n",
       "    </tr>\n",
       "    <tr>\n",
       "      <th>0000f46a3911fa3c0805444483337064</th>\n",
       "      <td>86.0</td>\n",
       "    </tr>\n",
       "    <tr>\n",
       "      <th>0000f6ccb0745a6a4b88665a16c9f078</th>\n",
       "      <td>44.0</td>\n",
       "    </tr>\n",
       "    <tr>\n",
       "      <th>0004aac84e0df4da2b147fca70cf8255</th>\n",
       "      <td>197.0</td>\n",
       "    </tr>\n",
       "    <tr>\n",
       "      <th>...</th>\n",
       "      <td>...</td>\n",
       "    </tr>\n",
       "    <tr>\n",
       "      <th>fffcf5a5ff07b0908bd4e2dbc735a684</th>\n",
       "      <td>2067.0</td>\n",
       "    </tr>\n",
       "    <tr>\n",
       "      <th>fffea47cd6d3cc0a88bd621562a9d061</th>\n",
       "      <td>85.0</td>\n",
       "    </tr>\n",
       "    <tr>\n",
       "      <th>ffff371b4d645b6ecea244b27531430a</th>\n",
       "      <td>112.0</td>\n",
       "    </tr>\n",
       "    <tr>\n",
       "      <th>ffff5962728ec6157033ef9805bacc48</th>\n",
       "      <td>134.0</td>\n",
       "    </tr>\n",
       "    <tr>\n",
       "      <th>ffffd2657e2aad2907e67c3e9daecbeb</th>\n",
       "      <td>72.0</td>\n",
       "    </tr>\n",
       "  </tbody>\n",
       "</table>\n",
       "<p>95171 rows × 1 columns</p>\n",
       "</div>"
      ],
      "text/plain": [
       "                                  total_order_value\n",
       "customer_unique_id                                 \n",
       "0000366f3b9a7992bf8c76cfdf3221e2              142.0\n",
       "0000b849f77a49e4a4ce2b2a4ca5be3f               27.0\n",
       "0000f46a3911fa3c0805444483337064               86.0\n",
       "0000f6ccb0745a6a4b88665a16c9f078               44.0\n",
       "0004aac84e0df4da2b147fca70cf8255              197.0\n",
       "...                                             ...\n",
       "fffcf5a5ff07b0908bd4e2dbc735a684             2067.0\n",
       "fffea47cd6d3cc0a88bd621562a9d061               85.0\n",
       "ffff371b4d645b6ecea244b27531430a              112.0\n",
       "ffff5962728ec6157033ef9805bacc48              134.0\n",
       "ffffd2657e2aad2907e67c3e9daecbeb               72.0\n",
       "\n",
       "[95171 rows x 1 columns]"
      ]
     },
     "execution_count": 63,
     "metadata": {},
     "output_type": "execute_result"
    }
   ],
   "source": [
    "monetary_value_avg"
   ]
  },
  {
   "cell_type": "code",
   "execution_count": 64,
   "metadata": {},
   "outputs": [
    {
     "data": {
      "image/png": "[encoded data removed]",
      "text/plain": [
       "<Figure size 720x288 with 2 Axes>"
      ]
     },
     "metadata": {
      "needs_background": "light"
     },
     "output_type": "display_data"
    }
   ],
   "source": [
    "fig, (ax1, ax2) = plt.subplots(ncols=2, figsize=(10, 4), sharey=True)\n",
    "\n",
    "df = monetary_value_last.copy()[\"total_order_value\"]\n",
    "df = df[df<2000]\n",
    "bins = round(5*np.log2(df.shape[0]))\n",
    "df.plot(kind=\"hist\", bins=bins, ax=ax1)\n",
    "ax1.set_title(\"monetary value as last\")\n",
    "\n",
    "df = monetary_value_avg.copy()\n",
    "df = df[df<2000]\n",
    "bins = round(5*np.log2(df.shape[0]))\n",
    "df.plot(kind=\"hist\", bins=bins, ax=ax2)\n",
    "ax2.set_title(\"monetary value as mean\")\n",
    "\n",
    "plt.tight_layout()\n",
    "plt.show()"
   ]
  },
  {
   "cell_type": "markdown",
   "metadata": {},
   "source": [
    "Is there any difference at all? it doesn't seem like it"
   ]
  },
  {
   "cell_type": "markdown",
   "metadata": {},
   "source": [
    "Let us now concatenate all three new columns (recency, frequency, monetary value), and make a 3D plot.\\\n",
    "The tables _items_data_, _payments_data_, _orders_data_ contain different numbers of unique _order_id_ values. For the sake of simplicity, we choose to concatenate all three dataframes keeping only the _order_id_ found in all tables simultaneaously. "
   ]
  },
  {
   "cell_type": "code",
   "execution_count": 85,
   "metadata": {},
   "outputs": [
    {
     "data": {
      "text/html": [
       "<div>\n",
       "<style scoped>\n",
       "    .dataframe tbody tr th:only-of-type {\n",
       "        vertical-align: middle;\n",
       "    }\n",
       "\n",
       "    .dataframe tbody tr th {\n",
       "        vertical-align: top;\n",
       "    }\n",
       "\n",
       "    .dataframe thead th {\n",
       "        text-align: right;\n",
       "    }\n",
       "</style>\n",
       "<table border=\"1\" class=\"dataframe\">\n",
       "  <thead>\n",
       "    <tr style=\"text-align: right;\">\n",
       "      <th></th>\n",
       "      <th>purchase_recency</th>\n",
       "      <th>frequency</th>\n",
       "      <th>total_order_value</th>\n",
       "    </tr>\n",
       "    <tr>\n",
       "      <th>customer_unique_id</th>\n",
       "      <th></th>\n",
       "      <th></th>\n",
       "      <th></th>\n",
       "    </tr>\n",
       "  </thead>\n",
       "  <tbody>\n",
       "    <tr>\n",
       "      <th>0000366f3b9a7992bf8c76cfdf3221e2</th>\n",
       "      <td>160</td>\n",
       "      <td>1</td>\n",
       "      <td>142.0</td>\n",
       "    </tr>\n",
       "    <tr>\n",
       "      <th>0000b849f77a49e4a4ce2b2a4ca5be3f</th>\n",
       "      <td>163</td>\n",
       "      <td>1</td>\n",
       "      <td>27.0</td>\n",
       "    </tr>\n",
       "    <tr>\n",
       "      <th>0000f46a3911fa3c0805444483337064</th>\n",
       "      <td>585</td>\n",
       "      <td>1</td>\n",
       "      <td>86.0</td>\n",
       "    </tr>\n",
       "    <tr>\n",
       "      <th>0000f6ccb0745a6a4b88665a16c9f078</th>\n",
       "      <td>369</td>\n",
       "      <td>1</td>\n",
       "      <td>44.0</td>\n",
       "    </tr>\n",
       "    <tr>\n",
       "      <th>0004aac84e0df4da2b147fca70cf8255</th>\n",
       "      <td>336</td>\n",
       "      <td>1</td>\n",
       "      <td>197.0</td>\n",
       "    </tr>\n",
       "  </tbody>\n",
       "</table>\n",
       "</div>"
      ],
      "text/plain": [
       "                                  purchase_recency  frequency  \\\n",
       "customer_unique_id                                              \n",
       "0000366f3b9a7992bf8c76cfdf3221e2               160          1   \n",
       "0000b849f77a49e4a4ce2b2a4ca5be3f               163          1   \n",
       "0000f46a3911fa3c0805444483337064               585          1   \n",
       "0000f6ccb0745a6a4b88665a16c9f078               369          1   \n",
       "0004aac84e0df4da2b147fca70cf8255               336          1   \n",
       "\n",
       "                                  total_order_value  \n",
       "customer_unique_id                                   \n",
       "0000366f3b9a7992bf8c76cfdf3221e2              142.0  \n",
       "0000b849f77a49e4a4ce2b2a4ca5be3f               27.0  \n",
       "0000f46a3911fa3c0805444483337064               86.0  \n",
       "0000f6ccb0745a6a4b88665a16c9f078               44.0  \n",
       "0004aac84e0df4da2b147fca70cf8255              197.0  "
      ]
     },
     "execution_count": 85,
     "metadata": {},
     "output_type": "execute_result"
    }
   ],
   "source": [
    "df = pd.concat([customer_purchase_recency,\n",
    "                frequency,\n",
    "                monetary_value_avg], axis=1, join='inner').rename(columns={\"order_id\": \"frequency\"})\n",
    "df.head()"
   ]
  },
  {
   "cell_type": "markdown",
   "metadata": {},
   "source": [
    "How does the total_order_value relates to the frequency (i.e. the number of purchases over the last 772 days)?"
   ]
  },
  {
   "cell_type": "code",
   "execution_count": 111,
   "metadata": {},
   "outputs": [
    {
     "data": {
      "text/plain": [
       "<AxesSubplot:xlabel='frequency', ylabel='total_order_value'>"
      ]
     },
     "execution_count": 111,
     "metadata": {},
     "output_type": "execute_result"
    },
    {
     "data": {
      "image/png": "[encoded data removed]",
      "text/plain": [
       "<Figure size 432x288 with 1 Axes>"
      ]
     },
     "metadata": {
      "needs_background": "light"
     },
     "output_type": "display_data"
    }
   ],
   "source": [
    "boxprops, capprops, medianprops = mpl_defaultstyle()\n",
    "sns.boxplot(data=df, \n",
    "            y=\"total_order_value\",\n",
    "            x=\"frequency\", \n",
    "            showfliers=False,\n",
    "            showmeans=True,\n",
    "            boxprops=boxprops,\n",
    "            capprops=capprops,\n",
    "            medianprops=medianprops\n",
    "           )"
   ]
  },
  {
   "cell_type": "markdown",
   "metadata": {},
   "source": [
    "It is basically flat - there is no clear relationship between total_order_values and frequency"
   ]
  },
  {
   "cell_type": "markdown",
   "metadata": {},
   "source": [
    "Let us move on to getting our first segmentation. One can envision for instance 6 groups: (low, high) frequency, (low, high) total_order_value and (recent, old) purchase_recency."
   ]
  },
  {
   "cell_type": "code",
   "execution_count": null,
   "metadata": {},
   "outputs": [],
   "source": []
  }
 ],
 "metadata": {
  "kernelspec": {
   "display_name": "Python 3",
   "language": "python",
   "name": "python3"
  },
  "language_info": {
   "codemirror_mode": {
    "name": "ipython",
    "version": 3
   },
   "file_extension": ".py",
   "mimetype": "text/x-python",
   "name": "python",
   "nbconvert_exporter": "python",
   "pygments_lexer": "ipython3",
   "version": "3.7.3"
  }
 },
 "nbformat": 4,
 "nbformat_minor": 4
}
