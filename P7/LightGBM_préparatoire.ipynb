{
 "cells": [
  {
   "cell_type": "code",
   "execution_count": 153,
   "id": "33c05d3f",
   "metadata": {},
   "outputs": [],
   "source": [
    "import warnings\n",
    "warnings.filterwarnings('ignore')\n",
    "import pandas as pd\n",
    "import lightgbm_with_simple_features as lgbmsf\n",
    "import json\n",
    "import seaborn as sns\n",
    "import re\n",
    "import missingno as msno\n",
    "import numpy as np\n",
    "import matplotlib.pyplot as plt\n",
    "import os\n",
    "import pickle\n",
    "\n",
    "from lightgbm import LGBMClassifier\n",
    "\n",
    "from sklearn.dummy import DummyClassifier\n",
    "from sklearn.metrics import confusion_matrix, classification_report, roc_auc_score\n",
    "from sklearn.model_selection import train_test_split, StratifiedKFold, GridSearchCV, RandomizedSearchCV, ParameterGrid\n",
    "\n",
    "with open('config.json', 'r') as f:\n",
    "    config = json.load(f)\n",
    "    \n",
    "NUM_ROWS = config[\"NUM_ROWS\"]\n",
    "PATH = config[\"PATH\"]"
   ]
  },
  {
   "cell_type": "markdown",
   "id": "bf30f50f",
   "metadata": {},
   "source": [
    "On explore dans ce notebook les prédictions obtenues avec l'algorithme LightGBM utilisé dans le kernel kaggle. On compare ces prédictions avec des méthodes de classification naïve (DummyClassifier)."
   ]
  },
  {
   "cell_type": "markdown",
   "id": "aa8bb898",
   "metadata": {},
   "source": [
    "## I. Création de la table finale"
   ]
  },
  {
   "cell_type": "code",
   "execution_count": 2,
   "id": "258c8aff",
   "metadata": {},
   "outputs": [
    {
     "data": {
      "text/plain": [
       "['application_test.csv',\n",
       " 'application_train.csv',\n",
       " 'bureau.csv',\n",
       " 'bureau_balance.csv',\n",
       " 'credit_card_balance.csv',\n",
       " 'home_credit.png',\n",
       " 'HomeCredit_columns_description.csv',\n",
       " 'imputer_selection.py',\n",
       " 'installments_payments.csv',\n",
       " 'POS_CASH_balance.csv',\n",
       " 'previous_application.csv',\n",
       " 'Projet+Mise+en+prod+-+home-credit-default-risk.zip',\n",
       " 'sample_submission.csv']"
      ]
     },
     "execution_count": 2,
     "metadata": {},
     "output_type": "execute_result"
    }
   ],
   "source": [
    "# liste des fichiers\n",
    "os.listdir(PATH)"
   ]
  },
  {
   "cell_type": "markdown",
   "id": "d751a816",
   "metadata": {},
   "source": [
    "Il y a 9 fichiers, et on sait par la description donnée sur kaggle qu'ils sont liés entre eux via le schéma suivant\n",
    "\n",
    "![home_credit](./data/home_credit.png)"
   ]
  },
  {
   "cell_type": "markdown",
   "id": "36a892ed",
   "metadata": {},
   "source": [
    "## I.1 Jointures des tables\n",
    "\n",
    "On réalise la jointure de toutes les tables en utilisant les clés correspondantes à l'exception de la table application_test.csv qui correspond aux données utilisées pour la compétition kaggle.\\\n",
    "Les jointures sont réalisées grâce au kernel kaggle dont on a modifié légèrement le code pour utiliser cette fonctionnalité indépendamment."
   ]
  },
  {
   "cell_type": "code",
   "execution_count": 154,
   "id": "129b9c19",
   "metadata": {},
   "outputs": [
    {
     "name": "stdout",
     "output_type": "stream",
     "text": [
      "Train samples: 15000\n",
      "Bureau df shape: (2984, 108)\n",
      "Process bureau and bureau_balance - done in 3s\n",
      "Previous applications df shape: (14432, 245)\n",
      "Process previous_applications - done in 3s\n",
      "Pos-cash balance df shape: (14088, 15)\n",
      "Process POS-CASH balance - done in 1s\n",
      "Installments payments df shape: (12780, 26)\n",
      "Process installments payments - done in 2s\n",
      "Credit card balance df shape: (13667, 131)\n",
      "Process credit card balance - done in 3s\n"
     ]
    }
   ],
   "source": [
    "# Jointures\n",
    "data = lgbmsf.join_df(num_rows=NUM_ROWS)"
   ]
  },
  {
   "cell_type": "markdown",
   "id": "91409d04",
   "metadata": {},
   "source": [
    "### Inspection de la table créée"
   ]
  },
  {
   "cell_type": "code",
   "execution_count": 59,
   "id": "94b22af2",
   "metadata": {},
   "outputs": [
    {
     "data": {
      "text/plain": [
       "769"
      ]
     },
     "execution_count": 59,
     "metadata": {},
     "output_type": "execute_result"
    }
   ],
   "source": [
    "len(data.columns)"
   ]
  },
  {
   "cell_type": "code",
   "execution_count": 155,
   "id": "02f1be08",
   "metadata": {},
   "outputs": [],
   "source": [
    "nna = data.notna().sum()/data.shape[0]"
   ]
  },
  {
   "cell_type": "code",
   "execution_count": 29,
   "id": "e31e6794",
   "metadata": {},
   "outputs": [
    {
     "data": {
      "image/png": "[encoded data removed]",
      "text/plain": [
       "<Figure size 432x288 with 1 Axes>"
      ]
     },
     "metadata": {
      "needs_background": "light"
     },
     "output_type": "display_data"
    }
   ],
   "source": [
    "fig, ax = plt.subplots()\n",
    "ax.bar(x=np.arange(len(data.columns)), height=nna)\n",
    "ax.set_xticklabels('')\n",
    "plt.show()"
   ]
  },
  {
   "cell_type": "markdown",
   "id": "74b38955",
   "metadata": {},
   "source": [
    "## I.2 Nettoyage et imputations\n",
    "\n",
    "Retirons les colonnes remplies à moins de 70%"
   ]
  },
  {
   "cell_type": "code",
   "execution_count": 156,
   "id": "b9aa5bcf",
   "metadata": {},
   "outputs": [
    {
     "data": {
      "text/plain": [
       "Index(['OWN_CAR_AGE', 'EXT_SOURCE_1', 'APARTMENTS_AVG', 'BASEMENTAREA_AVG',\n",
       "       'YEARS_BEGINEXPLUATATION_AVG', 'YEARS_BUILD_AVG', 'COMMONAREA_AVG',\n",
       "       'ELEVATORS_AVG', 'ENTRANCES_AVG', 'FLOORSMAX_AVG',\n",
       "       ...\n",
       "       'CC_NAME_CONTRACT_STATUS_Signed_MAX',\n",
       "       'CC_NAME_CONTRACT_STATUS_Signed_MEAN',\n",
       "       'CC_NAME_CONTRACT_STATUS_Signed_SUM',\n",
       "       'CC_NAME_CONTRACT_STATUS_Signed_VAR', 'CC_NAME_CONTRACT_STATUS_nan_MIN',\n",
       "       'CC_NAME_CONTRACT_STATUS_nan_MAX', 'CC_NAME_CONTRACT_STATUS_nan_MEAN',\n",
       "       'CC_NAME_CONTRACT_STATUS_nan_SUM', 'CC_NAME_CONTRACT_STATUS_nan_VAR',\n",
       "       'CC_COUNT'],\n",
       "      dtype='object', length=570)"
      ]
     },
     "execution_count": 156,
     "metadata": {},
     "output_type": "execute_result"
    }
   ],
   "source": [
    "nfilled_cols = nna[nna<0.7].index\n",
    "nfilled_cols"
   ]
  },
  {
   "cell_type": "code",
   "execution_count": 7,
   "id": "a6681d75",
   "metadata": {},
   "outputs": [
    {
     "data": {
      "image/png": "[encoded data removed]",
      "text/plain": [
       "<Figure size 432x288 with 1 Axes>"
      ]
     },
     "metadata": {
      "needs_background": "light"
     },
     "output_type": "display_data"
    }
   ],
   "source": [
    "filled_data = data.drop(columns=nfilled_cols)\n",
    "nna = filled_data.notna().sum()/filled_data.shape[0]\n",
    "fig, ax = plt.subplots()\n",
    "ax.bar(x=np.arange(len(filled_data.columns)), height=nna)\n",
    "ax.set_xticklabels('')\n",
    "plt.show()"
   ]
  },
  {
   "cell_type": "markdown",
   "id": "7399a966",
   "metadata": {},
   "source": [
    "### Imputations"
   ]
  },
  {
   "cell_type": "code",
   "execution_count": 157,
   "id": "ed0c20d2",
   "metadata": {},
   "outputs": [],
   "source": [
    "filled_data.fillna(filled_data.mean(), inplace=True)"
   ]
  },
  {
   "cell_type": "code",
   "execution_count": 9,
   "id": "3c3f373b",
   "metadata": {},
   "outputs": [
    {
     "data": {
      "image/png": "[encoded data removed]",
      "text/plain": [
       "<Figure size 432x288 with 1 Axes>"
      ]
     },
     "metadata": {
      "needs_background": "light"
     },
     "output_type": "display_data"
    }
   ],
   "source": [
    "nna = filled_data.notna().sum()/filled_data.shape[0]\n",
    "fig, ax = plt.subplots()\n",
    "ax.bar(x=np.arange(len(filled_data.columns)), height=nna)\n",
    "ax.set_xticklabels('')\n",
    "plt.show()"
   ]
  },
  {
   "cell_type": "markdown",
   "id": "cfbf6335",
   "metadata": {},
   "source": [
    "## I.3 Prédictions"
   ]
  },
  {
   "cell_type": "code",
   "execution_count": 158,
   "id": "a518aedf",
   "metadata": {},
   "outputs": [],
   "source": [
    "feats = filled_data.drop(columns=['SK_ID_CURR', 'TARGET']).columns\n",
    "X = filled_data.drop(columns=['SK_ID_CURR', 'TARGET']).to_numpy()\n",
    "y = filled_data.TARGET.to_numpy()\n",
    "\n",
    "# Séparation en jeux d'entraînement/test\n",
    "X_train, X_test, y_train, y_test = train_test_split(X, y, test_size=0.3, stratify=y)"
   ]
  },
  {
   "cell_type": "markdown",
   "id": "375a908c",
   "metadata": {},
   "source": [
    "### I.3.1 Baselines"
   ]
  },
  {
   "cell_type": "markdown",
   "id": "8f128ce6",
   "metadata": {},
   "source": [
    "**1. La classe majoritaire est prédite systématiquement**"
   ]
  },
  {
   "cell_type": "code",
   "execution_count": 13,
   "id": "427daa4e",
   "metadata": {},
   "outputs": [
    {
     "name": "stdout",
     "output_type": "stream",
     "text": [
      "AUROC Score : 0.50\n"
     ]
    }
   ],
   "source": [
    "dummyclf = DummyClassifier(strategy='most_frequent',)\n",
    "dummyclf.fit(X_train, y_train)\n",
    "y_pred = dummyclf.predict(X_test)\n",
    "print(\"AUROC Score : {:.2f}\".format(roc_auc_score(y_test, y_pred)))"
   ]
  },
  {
   "cell_type": "markdown",
   "id": "a554f299",
   "metadata": {},
   "source": [
    "**2. Les étiquettes sont prédites aléatoirement parmi {0, 1}**"
   ]
  },
  {
   "cell_type": "code",
   "execution_count": 14,
   "id": "fe566b12",
   "metadata": {},
   "outputs": [
    {
     "name": "stdout",
     "output_type": "stream",
     "text": [
      "AUROC Score : 0.49\n"
     ]
    }
   ],
   "source": [
    "dummyclf = DummyClassifier(strategy='uniform')\n",
    "dummyclf.fit(X_train, y_train)\n",
    "y_pred = dummyclf.predict(X_test)\n",
    "print(\"AUROC Score : {:.2f}\".format(roc_auc_score(y_test, y_pred)))"
   ]
  },
  {
   "cell_type": "markdown",
   "id": "69ae573a",
   "metadata": {},
   "source": [
    "### I.3.2 Prédictions avec LightGBM"
   ]
  },
  {
   "cell_type": "code",
   "execution_count": 31,
   "id": "4c7b2884",
   "metadata": {},
   "outputs": [
    {
     "name": "stdout",
     "output_type": "stream",
     "text": [
      "\n",
      "Meilleur(s) hyperparamètre(s) sur le jeu d'entraînement:\n",
      "{'colsample_bytree': 0.5, 'max_depth': -1, 'n_estimators': 100, 'num_leaves': 10}\n"
     ]
    }
   ],
   "source": [
    "# Séparation en jeu d'entraînement/validation pour la recherche sur grille\n",
    "#X_val_train, X_val_val, y_val_train, y_val_val = \\\n",
    "#train_test_split(X_train, y_train, test_size=0.3, stratify=y_train)\n",
    "\n",
    "# Nested cross-validation pour la validation du (des) hyperparamètre(s) par GridSearch\n",
    "inner_cv = StratifiedKFold(n_splits=5).split(X_train, y_train)\n",
    "\n",
    "# Hyperparamètre(s) à optimiser\n",
    "param_grid = {\"n_estimators\" : [100, 1000, 10000],\n",
    "              \"max_depth\" : [-1, 5, 10], \n",
    "              \"colsample_bytree\" : [0.5, 0.8, 1],\n",
    "              \"num_leaves\" : [10, 30, 50],\n",
    "             }    \n",
    "\n",
    "#for params in ParameterGrid(param_grid):\n",
    "model = LGBMClassifier(#early_stopping_round=200,\n",
    "                               objective='binary',\n",
    "                               metric='AUC',\n",
    "                               is_unbalance=True,\n",
    "                               silent=False,\n",
    "                               verbosity=-1,\n",
    "                              )\n",
    "\n",
    "# Régression avec sélection d'(des)hyperparamètre(s) par validation croisée\n",
    "regr = GridSearchCV(\n",
    "estimator=model,            # modèle\n",
    "param_grid=param_grid,     # hyperparamètres à tester\n",
    "cv=inner_cv,    # nombre de folds de validation croisée\n",
    "scoring='roc_auc',   # score à optimiser\n",
    "return_train_score=True,\n",
    ")\n",
    "\n",
    "# Optimisation de l'estimateur sur le jeu d'entraînement\n",
    "regr.fit(X=X_train, y=y_train)\n",
    "\n",
    "# Afficher le(s) hyperparamètre(s) optimaux\n",
    "print(\"\\nMeilleur(s) hyperparamètre(s) sur le jeu d'entraînement:\")\n",
    "print(regr.best_params_)"
   ]
  },
  {
   "cell_type": "code",
   "execution_count": 36,
   "id": "1641d54d",
   "metadata": {},
   "outputs": [],
   "source": [
    "bestmodel = LGBMClassifier(early_stopping_round=200,\n",
    "                               objective='binary',\n",
    "                               metric='AUC',\n",
    "                               is_unbalance=True,\n",
    "                               silent=False,\n",
    "                               verbosity=-1,\n",
    "                           **regr.best_params_)\n",
    "\n",
    "bestmodel.fit(X_train, y_train, eval_set=(X_test, y_test), verbose=-1)\n",
    "y_pred = bestmodel.predict(X_test)\n",
    "\n",
    "# Performance sur le jeu d'entraînement\n",
    "print(\"\\nPerformance sur le jeu d'entraînement' : {:.3f}\".format(regr.best_score_))\n",
    "\n",
    "# Performance en généralisation du meilleur modèle sur le jeu de test\n",
    "y_pred = regr.predict(X_test)\n",
    "print(\"Performance en généralisation sur le jeu de test : {:.3f}\".format(roc_auc_score(y_test, y_pred)))"
   ]
  },
  {
   "cell_type": "code",
   "execution_count": 37,
   "id": "413cfd37",
   "metadata": {},
   "outputs": [],
   "source": [
    "with open('fitted_lgbm.pickle', 'wb') as f:\n",
    "    pickle.dump(bestmodel, f)"
   ]
  },
  {
   "cell_type": "code",
   "execution_count": 165,
   "id": "dfc619ae",
   "metadata": {},
   "outputs": [],
   "source": [
    "with open('./FastAPI/fitted_lgbm.pickle', 'rb') as f:\n",
    "    bestmodel = pickle.load(f)"
   ]
  },
  {
   "cell_type": "markdown",
   "id": "7d458a61",
   "metadata": {},
   "source": [
    "**1. Prédiction de la classe la plus fréquente**"
   ]
  },
  {
   "cell_type": "code",
   "execution_count": null,
   "id": "f848fe9e",
   "metadata": {},
   "outputs": [],
   "source": [
    "dummyclf = DummyClassifier(strategy='most_frequent', random_state=0)\n",
    "dummyclf.fit(X_train, y_train)"
   ]
  },
  {
   "cell_type": "code",
   "execution_count": 37,
   "id": "895ce02b",
   "metadata": {},
   "outputs": [
    {
     "data": {
      "image/png": "[encoded data removed]",
      "text/plain": [
       "<Figure size 432x288 with 1 Axes>"
      ]
     },
     "metadata": {
      "needs_background": "light"
     },
     "output_type": "display_data"
    }
   ],
   "source": [
    "fig, ax = plt.subplots()\n",
    "sns.countplot(data=filled_data, x='TARGET')\n",
    "plt.show()"
   ]
  },
  {
   "cell_type": "code",
   "execution_count": 38,
   "id": "99ecc7c7",
   "metadata": {},
   "outputs": [
    {
     "data": {
      "text/plain": [
       "array([0., 0., 0., ..., 0., 0., 0.])"
      ]
     },
     "execution_count": 38,
     "metadata": {},
     "output_type": "execute_result"
    }
   ],
   "source": [
    "y_test = np.zeros(filled_data.shape[0])\n",
    "y_test"
   ]
  },
  {
   "cell_type": "code",
   "execution_count": 161,
   "id": "13ebf23a",
   "metadata": {},
   "outputs": [
    {
     "data": {
      "text/plain": [
       "array([0])"
      ]
     },
     "execution_count": 161,
     "metadata": {},
     "output_type": "execute_result"
    }
   ],
   "source": [
    "bestmodel.predict([X_test[0]])"
   ]
  },
  {
   "cell_type": "code",
   "execution_count": 162,
   "id": "3f202930",
   "metadata": {},
   "outputs": [
    {
     "data": {
      "text/plain": [
       "(4500, 197)"
      ]
     },
     "execution_count": 162,
     "metadata": {},
     "output_type": "execute_result"
    }
   ],
   "source": [
    "X_test.shape"
   ]
  },
  {
   "cell_type": "markdown",
   "id": "45eeb002",
   "metadata": {},
   "source": [
    "# FastAPI"
   ]
  },
  {
   "cell_type": "code",
   "execution_count": 168,
   "id": "5704d89c",
   "metadata": {},
   "outputs": [
    {
     "name": "stdout",
     "output_type": "stream",
     "text": [
      "b'Internal Server Error'\n"
     ]
    }
   ],
   "source": [
    "import requests \n",
    "\n",
    "new_measurement = {\n",
    "    'client_id': 0,\n",
    "    'client_name': \"Smith\",\n",
    "}\n",
    "\n",
    "response = requests.post('http://127.0.0.1:8000/predict', json=new_measurement)\n",
    "print(response.content)"
   ]
  },
  {
   "cell_type": "code",
   "execution_count": null,
   "id": "77197b78",
   "metadata": {},
   "outputs": [],
   "source": []
  }
 ],
 "metadata": {
  "kernelspec": {
   "display_name": "p7_env",
   "language": "python",
   "name": "p7_env"
  },
  "language_info": {
   "codemirror_mode": {
    "name": "ipython",
    "version": 3
   },
   "file_extension": ".py",
   "mimetype": "text/x-python",
   "name": "python",
   "nbconvert_exporter": "python",
   "pygments_lexer": "ipython3",
   "version": "3.7.3"
  }
 },
 "nbformat": 4,
 "nbformat_minor": 5
}
