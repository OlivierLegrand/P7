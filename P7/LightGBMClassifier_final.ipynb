{
 "cells": [
  {
   "cell_type": "markdown",
   "id": "c1b47e58",
   "metadata": {},
   "source": [
    "# But de notebook"
   ]
  },
  {
   "cell_type": "markdown",
   "id": "ca98471f",
   "metadata": {},
   "source": [
    "On cherche ici à modéliser la probabilité qu'une personne rembourse ou non un emprunt contracté auprès de l'institution HomeCredit à partir d'une large base de données de ses clients.\\\n",
    "Conformément aux instructions, on ne cherchera pas ici à réaliser le _feature engineering_ de zéro, mais on se servira au contraire du kernel Lightgbm_with_simple_features. Ce kernel permet en principe de réaliser toute la chaîne de modélisation et de prédiction, mais nous ne réutiliserons ici que la partie _feature engineering_, qu'on va chercher à compléter ici de manière à appliquer d'autres modèles que celui proposé dans le kernel (LightGBM)."
   ]
  },
  {
   "cell_type": "code",
   "execution_count": 2,
   "id": "502a6666",
   "metadata": {},
   "outputs": [],
   "source": [
    "import warnings\n",
    "warnings.filterwarnings('ignore')\n",
    "import pandas as pd\n",
    "import lightgbm_with_simple_features as lgbmsf\n",
    "import json\n",
    "import seaborn as sns\n",
    "import missingno as msno\n",
    "import numpy as np\n",
    "import matplotlib.pyplot as plt\n",
    "import os\n",
    "\n",
    "from lightgbm import LGBMClassifier\n",
    "\n",
    "from sklearn.dummy import DummyClassifier\n",
    "from sklearn.metrics import roc_auc_score\n",
    "from sklearn.model_selection import train_test_split\n",
    "\n",
    "with open('config.json', 'r') as f:\n",
    "    config = json.load(f)\n",
    "    \n",
    "NUM_ROWS = config[\"NUM_ROWS\"]\n",
    "PATH = config[\"PATH\"]"
   ]
  },
  {
   "cell_type": "markdown",
   "id": "00b23bc4",
   "metadata": {},
   "source": [
    "## I. Création de la table finale"
   ]
  },
  {
   "cell_type": "code",
   "execution_count": 3,
   "id": "0ef499dd",
   "metadata": {},
   "outputs": [
    {
     "data": {
      "text/plain": [
       "['application_test.csv',\n",
       " 'application_train.csv',\n",
       " 'bureau.csv',\n",
       " 'bureau_balance.csv',\n",
       " 'credit_card_balance.csv',\n",
       " 'home_credit.png',\n",
       " 'HomeCredit_columns_description.csv',\n",
       " 'imputer_selection.py',\n",
       " 'installments_payments.csv',\n",
       " 'POS_CASH_balance.csv',\n",
       " 'previous_application.csv',\n",
       " 'Projet+Mise+en+prod+-+home-credit-default-risk.zip',\n",
       " 'sample_submission.csv']"
      ]
     },
     "execution_count": 3,
     "metadata": {},
     "output_type": "execute_result"
    }
   ],
   "source": [
    "# liste des fichiers\n",
    "os.listdir(PATH)"
   ]
  },
  {
   "cell_type": "markdown",
   "id": "541537aa",
   "metadata": {},
   "source": [
    "Il y a 9 fichiers, et on sait par la description donnée sur kaggle qu'ils sont liés entre eux via le schéma suivant\n",
    "\n",
    "![home_credit](./data/home_credit.png)"
   ]
  },
  {
   "cell_type": "markdown",
   "id": "f84fd430",
   "metadata": {},
   "source": [
    "## I.1 Jointures des tables\n",
    "\n",
    "On réalise la jointure de toutes les tables en utilisant les clés correspondantes à l'exception de la table application_test.csv qui correspond aux données utilisées pour la compétition kaggle.\\\n",
    "Les jointures sont réalisées grâce au kernel kaggle dont on a modifié légèrement le code pour utiliser cette fonctionnalité indépendamment."
   ]
  },
  {
   "cell_type": "code",
   "execution_count": 4,
   "id": "f2c3da8e",
   "metadata": {},
   "outputs": [
    {
     "name": "stdout",
     "output_type": "stream",
     "text": [
      "Train samples: 15000\n",
      "Bureau df shape: (2984, 108)\n",
      "Process bureau and bureau_balance - done in 1s\n",
      "Previous applications df shape: (14432, 245)\n",
      "Process previous_applications - done in 1s\n",
      "Pos-cash balance df shape: (14088, 15)\n",
      "Process POS-CASH balance - done in 0s\n",
      "Installments payments df shape: (12780, 26)\n",
      "Process installments payments - done in 0s\n",
      "Credit card balance df shape: (13667, 131)\n",
      "Process credit card balance - done in 1s\n"
     ]
    }
   ],
   "source": [
    "# Jointures\n",
    "data = lgbmsf.join_df(num_rows=NUM_ROWS)"
   ]
  },
  {
   "cell_type": "markdown",
   "id": "39363045",
   "metadata": {},
   "source": [
    "## I.2 Nettoyage et imputations\n",
    "\n",
    "Retirons les colonnes remplies à moins de 70%"
   ]
  },
  {
   "cell_type": "code",
   "execution_count": 7,
   "id": "ac0cb324",
   "metadata": {
    "scrolled": false
   },
   "outputs": [],
   "source": [
    "nna = data.notna().sum()/data.shape[0]\n",
    "nfilled_cols = nna[nna<0.7].index\n",
    "filled_data = data.drop(columns=nfilled_cols)"
   ]
  },
  {
   "cell_type": "markdown",
   "id": "8ecca2aa",
   "metadata": {},
   "source": [
    "### Imputations"
   ]
  },
  {
   "cell_type": "code",
   "execution_count": 8,
   "id": "cf5dd6a2",
   "metadata": {},
   "outputs": [
    {
     "data": {
      "image/png": "[encoded data removed]",
      "text/plain": [
       "<Figure size 432x288 with 1 Axes>"
      ]
     },
     "metadata": {
      "needs_background": "light"
     },
     "output_type": "display_data"
    }
   ],
   "source": [
    "filled_data.fillna(filled_data.mean(), inplace=True)\n",
    "nna = filled_data.notna().sum()/filled_data.shape[0]\n",
    "fig, ax = plt.subplots()\n",
    "ax.bar(x=np.arange(len(filled_data.columns)), height=nna)\n",
    "ax.set_xticklabels('')\n",
    "plt.show()"
   ]
  },
  {
   "cell_type": "markdown",
   "id": "e46727c0",
   "metadata": {},
   "source": [
    "## I.3 Prédictions"
   ]
  },
  {
   "cell_type": "markdown",
   "id": "eb5b5845",
   "metadata": {},
   "source": [
    "### I.3.1 Préparation des jeux de données"
   ]
  },
  {
   "cell_type": "code",
   "execution_count": 11,
   "id": "6a47f42f",
   "metadata": {},
   "outputs": [],
   "source": [
    "feats = filled_data.drop(columns=['SK_ID_CURR', 'TARGET']).columns\n",
    "X = filled_data.drop(columns=['SK_ID_CURR', 'TARGET']).to_numpy()\n",
    "y = filled_data.TARGET.to_numpy()\n",
    "\n",
    "# Séparation en jeux d'entraînement/test\n",
    "X_train, X_test, y_train, y_test = train_test_split(X, y, test_size=0.3, stratify=y)"
   ]
  },
  {
   "cell_type": "markdown",
   "id": "036da618",
   "metadata": {},
   "source": [
    "### I.3.2 Baselines - Classification naïves avec DummyClassifier"
   ]
  },
  {
   "cell_type": "markdown",
   "id": "7e4dd231",
   "metadata": {},
   "source": [
    "Pour pouvoir interpréter les résultats obtenus, on va comparer les scores de prédiction avec les scores obtenus par des approches naïves. Elles sont implémentées dans la classe  DummyClassifier  du module  dummy  de scikit-learn.\n",
    "\n",
    "1. Prédire la même classe pour tous les échantillons : la classe la plus fréquente dans le jeu d'entraînement. Cette approche naïve nous permet d’évaluer si le modèle que nous proposons a appris « plus » que simplement quelle est la classe la plus fréquente. C’est particulièrement intéressant si une des classes est beaucoup plus fréquente que les autres. Pensez que pour un problème de classification binaire sur des données contenant 90% d’échantillons positifs, un classifieur qui retourne systématiquement « positif » aura une accuracy de 90%.\n",
    "\n",
    "2. Prédire une classe aléatoirement, dans les mêmes proportions que dans le jeu d'entraînement. Cette approche naïve nous permet d’évaluer si les performances que nous observons ne seraient pas simplement dûes aux proportions relatives des classes.\n",
    "\n",
    "3. Retourner aléatoirement des scores selon une distribution uniforme, puis leur appliquer un seuil pour obtenir une prédiction binaire. Cette méthode est recommandée quand on cherche à interpréter une courbe ROC ou une AUROC, elles-mêmes construites à partir de classifieurs qui retournent des scores."
   ]
  },
  {
   "cell_type": "markdown",
   "id": "9b7de68a",
   "metadata": {},
   "source": [
    "**1. La classe majoritaire est prédite systématiquement**"
   ]
  },
  {
   "cell_type": "code",
   "execution_count": 12,
   "id": "65ead270",
   "metadata": {},
   "outputs": [
    {
     "name": "stdout",
     "output_type": "stream",
     "text": [
      "AUROC Score : 0.50\n"
     ]
    }
   ],
   "source": [
    "dummyclf = DummyClassifier(strategy='most_frequent',)\n",
    "dummyclf.fit(X_train, y_train)\n",
    "y_pred = dummyclf.predict(X_test)\n",
    "print(\"AUROC Score : {:.2f}\".format(roc_auc_score(y_test, y_pred)))"
   ]
  },
  {
   "cell_type": "markdown",
   "id": "ba53a2db",
   "metadata": {},
   "source": [
    "**2. Les étiquettes sont prédites aléatoirement parmi {0, 1}**"
   ]
  },
  {
   "cell_type": "code",
   "execution_count": 13,
   "id": "c1c89c3b",
   "metadata": {},
   "outputs": [
    {
     "name": "stdout",
     "output_type": "stream",
     "text": [
      "AUROC Score : 0.50\n"
     ]
    }
   ],
   "source": [
    "dummyclf = DummyClassifier(strategy='uniform')\n",
    "dummyclf.fit(X_train, y_train)\n",
    "y_pred = dummyclf.predict(X_test)\n",
    "print(\"AUROC Score : {:.2f}\".format(roc_auc_score(y_test, y_pred)))"
   ]
  },
  {
   "cell_type": "markdown",
   "id": "cfb60fb1",
   "metadata": {},
   "source": [
    "### I.3.2 Prédictions avec LightGBM"
   ]
  },
  {
   "cell_type": "code",
   "execution_count": 14,
   "id": "2dc67642",
   "metadata": {},
   "outputs": [
    {
     "name": "stdout",
     "output_type": "stream",
     "text": [
      "\n",
      "Performance sur le jeu d'entraînement' : 0.623\n"
     ]
    }
   ],
   "source": [
    "# Séparation en jeux d'entraînement/test\n",
    "X_train, X_test, y_train, y_test = train_test_split(X, y, test_size=0.3, stratify=y)\n",
    "\n",
    "\n",
    "# Création du pipeline\n",
    "model = LGBMClassifier(objective='binary', metric='AUC', is_unbalance=True)\n",
    "\n",
    "# Entraînement du modèle\n",
    "model.fit(X_train, y_train)\n",
    "\n",
    "# Prédictions\n",
    "y_pred = model.predict(X_test)\n",
    "\n",
    "# Evaluation du modèle\n",
    "print(\"\\nPerformance sur le jeu de test' : {:.3f}\".format(roc_auc_score(y_test, y_pred)))"
   ]
  },
  {
   "cell_type": "markdown",
   "id": "a1a318fb",
   "metadata": {},
   "source": [
    "On obtient déjà des performances en légère amélioration par rapport à une classification naïve. Pour aller plus loin, on va chercher à:\n",
    "- \"améliorer\" le jeu de données\n",
    "- optimiser les hyperparamètres"
   ]
  },
  {
   "cell_type": "code",
   "execution_count": null,
   "id": "cb69ddb6",
   "metadata": {},
   "outputs": [],
   "source": [
    "# Séparation en jeu d'entraînement/validation pour la recherche sur grille\n",
    "X_val_train, X_val_val, y_val_train, y_val_val = \\\n",
    "train_test_split(X_train, y_train, test_size=0.3, stratify=y_train)\n",
    "\n",
    "# Nested cross-validation pour la validation du (des) hyperparamètre(s) par GridSearch\n",
    "#inner_cv = StratifiedKFold(n_splits=5).split(X_train, y_train)\n",
    "\n",
    "# Hyperparamètre(s) à optimiser\n",
    "param_grid = {\"n_estimators\" : [100, 1000, 10000],\n",
    "              \"max_depth\" : [-1, 5, 10], \n",
    "              \"colsample_bytree\" : [0.5, 0.8, 1],\n",
    "              \"num_leaves\" : [10, 30, 50],\n",
    "             }    \n",
    "\n",
    "#for params in ParameterGrid(param_grid):\n",
    "model = LGBMClassifier(early_stopping_round=200,\n",
    "                               objective='binary',\n",
    "                               metric='AUC',\n",
    "                               is_unbalance=True,\n",
    "                               silent=False,\n",
    "                               verbosity=-1,\n",
    "                              )\n",
    "\n",
    "# Régression avec sélection d'(des)hyperparamètre(s) par validation croisée\n",
    "regr = GridSearchCV(\n",
    "estimator=model,            # modèle\n",
    "param_grid=param_grid,     # hyperparamètres à tester\n",
    "cv=5,    # nombre de folds de validation croisée\n",
    "scoring='roc_auc',   # score à optimiser\n",
    "return_train_score=True,\n",
    ")\n",
    "\n",
    "# Optimisation de l'estimateur sur le jeu d'entraînement\n",
    "regr.fit(X=X_train, y=y_train, eval_set=(X_val_val, y_val_val), verbose=-1)\n",
    "\n",
    "# Afficher le(s) hyperparamètre(s) optimaux\n",
    "print(\"\\nMeilleur(s) hyperparamètre(s) sur le jeu d'entraînement:\")\n",
    "print(regr.best_params_)"
   ]
  },
  {
   "cell_type": "code",
   "execution_count": null,
   "id": "68bb00a1",
   "metadata": {},
   "outputs": [],
   "source": [
    "#bestmodel = LGBMClassifier(early_stopping_round=200,\n",
    "#                               objective='binary',\n",
    "#                               metric='AUC',\n",
    "#                               is_unbalance=True,\n",
    "#                               silent=False,\n",
    "#                               verbosity=-1,\n",
    "#                           **regr.best_params_)\n",
    "#\n",
    "#bestmodel.fit(X_train, y_train, eval_set=(X_test, y_test), verbose=-1)\n",
    "#y_pred = bestmodel.predict(X_test)\n",
    "#\n",
    "# Performance sur le jeu d'entraînement\n",
    "print(\"\\nPerformance sur le jeu d'entraînement' : {:.3f}\".format(regr.best_score_))\n",
    "\n",
    "# Performance en généralisation du meilleur modèle sur le jeu de test\n",
    "y_pred = regr.predict(X_test)\n",
    "print(\"Performance en généralisation sur le jeu de test : {:.3f}\".format(roc_auc_score(y_test, y_pred)))"
   ]
  }
 ],
 "metadata": {
  "kernelspec": {
   "display_name": "p7_env",
   "language": "python",
   "name": "p7_env"
  },
  "language_info": {
   "codemirror_mode": {
    "name": "ipython",
    "version": 3
   },
   "file_extension": ".py",
   "mimetype": "text/x-python",
   "name": "python",
   "nbconvert_exporter": "python",
   "pygments_lexer": "ipython3",
   "version": "3.7.3"
  }
 },
 "nbformat": 4,
 "nbformat_minor": 5
}
