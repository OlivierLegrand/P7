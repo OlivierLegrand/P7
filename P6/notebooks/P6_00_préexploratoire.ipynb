{
 "cells": [
  {
   "cell_type": "markdown",
   "metadata": {},
   "source": [
    "# Classifiez automatiquement des biens de consommation"
   ]
  },
  {
   "cell_type": "markdown",
   "metadata": {},
   "source": [
    "Vous êtes Data Scientist au sein de l’entreprise \"**Place de marché**”, qui souhaite lancer une marketplace e-commerce.\n",
    "\n",
    "\n",
    "Sur la place de marché, des vendeurs proposent des articles à des acheteurs en postant une photo et une description.\n",
    "\n",
    "Pour l'instant, l'attribution de la catégorie d'un article est effectuée manuellement par les vendeurs et est donc peu fiable. De plus, le volume des articles est pour l’instant très petit.\n",
    "\n",
    "Pour rendre l’expérience utilisateur des vendeurs (faciliter la mise en ligne de nouveaux articles) et des acheteurs (faciliter la recherche de produits) la plus fluide possible et dans l'optique d'un passage à l'échelle, **il devient nécessaire d'automatiser cette tâche**.\n",
    "\n",
    "**Linda**, lead data scientist, vous demande donc d'étudier la faisabilité d'un **moteur de classification** des articles en différentes catégories, avec un niveau de précision suffisant.\n",
    "\n",
    "## Les données\n",
    "Linda vous a fourni un premier jeu de données d’articles avec le lien pour télécharger la photo et une description associée.\n",
    "\n",
    "## Votre mission\n",
    "Votre mission est de **réaliser une première étude de faisabilité d'un moteur de classification** d'articles basé sur une image et une description pour l'automatisation de l'attribution de la catégorie de l'article.\n",
    "\n",
    "Vous **analyserez le jeu de données** en **réalisant un prétraitement** des images et des descriptions des produits, une **réduction de dimension**, puis un **clustering**. Les résultats du clustering seront présentés sous la forme d’une représentation en deux dimensions à déterminer, qui ’illustrera le fait que les caractéristiques extraites permettent de regrouper des produits de même catégorie.\n",
    "\n",
    "La représentation graphique vous aidera à convaincre Linda que cette approche de modélisation permettra bien de regrouper des produits de même catégorie.\n",
    "\n",
    "Attention, Linda n’a pas besoin d’un moteur de classification à ce stade, mais bien d’une étude de faisabilité !\n",
    "\n",
    "__Contraintes__\n",
    "Linda vous a communiqué la contrainte suivante : afin d’extraire les features, mettre en œuvre a minima un algorithme de type SIFT / ORB / SURF.\n",
    "\n",
    "Un algorithme de type CNN Transfer Learning peut éventuellement être utilisé en complément, s’il peut apporter un éclairage supplémentaire à la démonstration.\n",
    "\n",
    "## Livrables attendus\n",
    "Un **notebook** (ou des fichiers .py) contenant les fonctions permettant le prétraitement des données textes et images ainsi que les résultats du clustering (en y incluant des représentations graphiques au besoin).\n",
    "Un support de **présentation** qui présente la démarche et les résultats du clustering."
   ]
  },
  {
   "cell_type": "code",
   "execution_count": 43,
   "metadata": {},
   "outputs": [],
   "source": [
    "import pandas as pd\n",
    "import missingno as msno\n",
    "import skimage\n",
    "from skimage import io\n",
    "import matplotlib.pyplot as plt\n",
    "import seaborn as sns"
   ]
  },
  {
   "cell_type": "code",
   "execution_count": 3,
   "metadata": {},
   "outputs": [
    {
     "data": {
      "text/html": [
       "<div>\n",
       "<style scoped>\n",
       "    .dataframe tbody tr th:only-of-type {\n",
       "        vertical-align: middle;\n",
       "    }\n",
       "\n",
       "    .dataframe tbody tr th {\n",
       "        vertical-align: top;\n",
       "    }\n",
       "\n",
       "    .dataframe thead th {\n",
       "        text-align: right;\n",
       "    }\n",
       "</style>\n",
       "<table border=\"1\" class=\"dataframe\">\n",
       "  <thead>\n",
       "    <tr style=\"text-align: right;\">\n",
       "      <th></th>\n",
       "      <th>uniq_id</th>\n",
       "      <th>crawl_timestamp</th>\n",
       "      <th>product_url</th>\n",
       "      <th>product_name</th>\n",
       "      <th>product_category_tree</th>\n",
       "      <th>pid</th>\n",
       "      <th>retail_price</th>\n",
       "      <th>discounted_price</th>\n",
       "      <th>image</th>\n",
       "      <th>is_FK_Advantage_product</th>\n",
       "      <th>description</th>\n",
       "      <th>product_rating</th>\n",
       "      <th>overall_rating</th>\n",
       "      <th>brand</th>\n",
       "      <th>product_specifications</th>\n",
       "    </tr>\n",
       "  </thead>\n",
       "  <tbody>\n",
       "    <tr>\n",
       "      <th>0</th>\n",
       "      <td>55b85ea15a1536d46b7190ad6fff8ce7</td>\n",
       "      <td>2016-04-30 03:22:56 +0000</td>\n",
       "      <td>http://www.flipkart.com/elegance-polyester-mul...</td>\n",
       "      <td>Elegance Polyester Multicolor Abstract Eyelet ...</td>\n",
       "      <td>[\"Home Furnishing &gt;&gt; Curtains &amp; Accessories &gt;&gt;...</td>\n",
       "      <td>CRNEG7BKMFFYHQ8Z</td>\n",
       "      <td>1899.0</td>\n",
       "      <td>899.0</td>\n",
       "      <td>55b85ea15a1536d46b7190ad6fff8ce7.jpg</td>\n",
       "      <td>False</td>\n",
       "      <td>Key Features of Elegance Polyester Multicolor ...</td>\n",
       "      <td>No rating available</td>\n",
       "      <td>No rating available</td>\n",
       "      <td>Elegance</td>\n",
       "      <td>{\"product_specification\"=&gt;[{\"key\"=&gt;\"Brand\", \"v...</td>\n",
       "    </tr>\n",
       "    <tr>\n",
       "      <th>1</th>\n",
       "      <td>7b72c92c2f6c40268628ec5f14c6d590</td>\n",
       "      <td>2016-04-30 03:22:56 +0000</td>\n",
       "      <td>http://www.flipkart.com/sathiyas-cotton-bath-t...</td>\n",
       "      <td>Sathiyas Cotton Bath Towel</td>\n",
       "      <td>[\"Baby Care &gt;&gt; Baby Bath &amp; Skin &gt;&gt; Baby Bath T...</td>\n",
       "      <td>BTWEGFZHGBXPHZUH</td>\n",
       "      <td>600.0</td>\n",
       "      <td>449.0</td>\n",
       "      <td>7b72c92c2f6c40268628ec5f14c6d590.jpg</td>\n",
       "      <td>False</td>\n",
       "      <td>Specifications of Sathiyas Cotton Bath Towel (...</td>\n",
       "      <td>No rating available</td>\n",
       "      <td>No rating available</td>\n",
       "      <td>Sathiyas</td>\n",
       "      <td>{\"product_specification\"=&gt;[{\"key\"=&gt;\"Machine Wa...</td>\n",
       "    </tr>\n",
       "    <tr>\n",
       "      <th>2</th>\n",
       "      <td>64d5d4a258243731dc7bbb1eef49ad74</td>\n",
       "      <td>2016-04-30 03:22:56 +0000</td>\n",
       "      <td>http://www.flipkart.com/eurospa-cotton-terry-f...</td>\n",
       "      <td>Eurospa Cotton Terry Face Towel Set</td>\n",
       "      <td>[\"Baby Care &gt;&gt; Baby Bath &amp; Skin &gt;&gt; Baby Bath T...</td>\n",
       "      <td>BTWEG6SHXTDB2A2Y</td>\n",
       "      <td>NaN</td>\n",
       "      <td>NaN</td>\n",
       "      <td>64d5d4a258243731dc7bbb1eef49ad74.jpg</td>\n",
       "      <td>False</td>\n",
       "      <td>Key Features of Eurospa Cotton Terry Face Towe...</td>\n",
       "      <td>No rating available</td>\n",
       "      <td>No rating available</td>\n",
       "      <td>Eurospa</td>\n",
       "      <td>{\"product_specification\"=&gt;[{\"key\"=&gt;\"Material\",...</td>\n",
       "    </tr>\n",
       "    <tr>\n",
       "      <th>3</th>\n",
       "      <td>d4684dcdc759dd9cdf41504698d737d8</td>\n",
       "      <td>2016-06-20 08:49:52 +0000</td>\n",
       "      <td>http://www.flipkart.com/santosh-royal-fashion-...</td>\n",
       "      <td>SANTOSH ROYAL FASHION Cotton Printed King size...</td>\n",
       "      <td>[\"Home Furnishing &gt;&gt; Bed Linen &gt;&gt; Bedsheets &gt;&gt;...</td>\n",
       "      <td>BDSEJT9UQWHDUBH4</td>\n",
       "      <td>2699.0</td>\n",
       "      <td>1299.0</td>\n",
       "      <td>d4684dcdc759dd9cdf41504698d737d8.jpg</td>\n",
       "      <td>False</td>\n",
       "      <td>Key Features of SANTOSH ROYAL FASHION Cotton P...</td>\n",
       "      <td>No rating available</td>\n",
       "      <td>No rating available</td>\n",
       "      <td>SANTOSH ROYAL FASHION</td>\n",
       "      <td>{\"product_specification\"=&gt;[{\"key\"=&gt;\"Brand\", \"v...</td>\n",
       "    </tr>\n",
       "    <tr>\n",
       "      <th>4</th>\n",
       "      <td>6325b6870c54cd47be6ebfbffa620ec7</td>\n",
       "      <td>2016-06-20 08:49:52 +0000</td>\n",
       "      <td>http://www.flipkart.com/jaipur-print-cotton-fl...</td>\n",
       "      <td>Jaipur Print Cotton Floral King sized Double B...</td>\n",
       "      <td>[\"Home Furnishing &gt;&gt; Bed Linen &gt;&gt; Bedsheets &gt;&gt;...</td>\n",
       "      <td>BDSEJTHNGWVGWWQU</td>\n",
       "      <td>2599.0</td>\n",
       "      <td>698.0</td>\n",
       "      <td>6325b6870c54cd47be6ebfbffa620ec7.jpg</td>\n",
       "      <td>False</td>\n",
       "      <td>Key Features of Jaipur Print Cotton Floral Kin...</td>\n",
       "      <td>No rating available</td>\n",
       "      <td>No rating available</td>\n",
       "      <td>Jaipur Print</td>\n",
       "      <td>{\"product_specification\"=&gt;[{\"key\"=&gt;\"Machine Wa...</td>\n",
       "    </tr>\n",
       "  </tbody>\n",
       "</table>\n",
       "</div>"
      ],
      "text/plain": [
       "                            uniq_id            crawl_timestamp  \\\n",
       "0  55b85ea15a1536d46b7190ad6fff8ce7  2016-04-30 03:22:56 +0000   \n",
       "1  7b72c92c2f6c40268628ec5f14c6d590  2016-04-30 03:22:56 +0000   \n",
       "2  64d5d4a258243731dc7bbb1eef49ad74  2016-04-30 03:22:56 +0000   \n",
       "3  d4684dcdc759dd9cdf41504698d737d8  2016-06-20 08:49:52 +0000   \n",
       "4  6325b6870c54cd47be6ebfbffa620ec7  2016-06-20 08:49:52 +0000   \n",
       "\n",
       "                                         product_url  \\\n",
       "0  http://www.flipkart.com/elegance-polyester-mul...   \n",
       "1  http://www.flipkart.com/sathiyas-cotton-bath-t...   \n",
       "2  http://www.flipkart.com/eurospa-cotton-terry-f...   \n",
       "3  http://www.flipkart.com/santosh-royal-fashion-...   \n",
       "4  http://www.flipkart.com/jaipur-print-cotton-fl...   \n",
       "\n",
       "                                        product_name  \\\n",
       "0  Elegance Polyester Multicolor Abstract Eyelet ...   \n",
       "1                         Sathiyas Cotton Bath Towel   \n",
       "2                Eurospa Cotton Terry Face Towel Set   \n",
       "3  SANTOSH ROYAL FASHION Cotton Printed King size...   \n",
       "4  Jaipur Print Cotton Floral King sized Double B...   \n",
       "\n",
       "                               product_category_tree               pid  \\\n",
       "0  [\"Home Furnishing >> Curtains & Accessories >>...  CRNEG7BKMFFYHQ8Z   \n",
       "1  [\"Baby Care >> Baby Bath & Skin >> Baby Bath T...  BTWEGFZHGBXPHZUH   \n",
       "2  [\"Baby Care >> Baby Bath & Skin >> Baby Bath T...  BTWEG6SHXTDB2A2Y   \n",
       "3  [\"Home Furnishing >> Bed Linen >> Bedsheets >>...  BDSEJT9UQWHDUBH4   \n",
       "4  [\"Home Furnishing >> Bed Linen >> Bedsheets >>...  BDSEJTHNGWVGWWQU   \n",
       "\n",
       "   retail_price  discounted_price                                 image  \\\n",
       "0        1899.0             899.0  55b85ea15a1536d46b7190ad6fff8ce7.jpg   \n",
       "1         600.0             449.0  7b72c92c2f6c40268628ec5f14c6d590.jpg   \n",
       "2           NaN               NaN  64d5d4a258243731dc7bbb1eef49ad74.jpg   \n",
       "3        2699.0            1299.0  d4684dcdc759dd9cdf41504698d737d8.jpg   \n",
       "4        2599.0             698.0  6325b6870c54cd47be6ebfbffa620ec7.jpg   \n",
       "\n",
       "   is_FK_Advantage_product                                        description  \\\n",
       "0                    False  Key Features of Elegance Polyester Multicolor ...   \n",
       "1                    False  Specifications of Sathiyas Cotton Bath Towel (...   \n",
       "2                    False  Key Features of Eurospa Cotton Terry Face Towe...   \n",
       "3                    False  Key Features of SANTOSH ROYAL FASHION Cotton P...   \n",
       "4                    False  Key Features of Jaipur Print Cotton Floral Kin...   \n",
       "\n",
       "        product_rating       overall_rating                  brand  \\\n",
       "0  No rating available  No rating available               Elegance   \n",
       "1  No rating available  No rating available               Sathiyas   \n",
       "2  No rating available  No rating available                Eurospa   \n",
       "3  No rating available  No rating available  SANTOSH ROYAL FASHION   \n",
       "4  No rating available  No rating available           Jaipur Print   \n",
       "\n",
       "                              product_specifications  \n",
       "0  {\"product_specification\"=>[{\"key\"=>\"Brand\", \"v...  \n",
       "1  {\"product_specification\"=>[{\"key\"=>\"Machine Wa...  \n",
       "2  {\"product_specification\"=>[{\"key\"=>\"Material\",...  \n",
       "3  {\"product_specification\"=>[{\"key\"=>\"Brand\", \"v...  \n",
       "4  {\"product_specification\"=>[{\"key\"=>\"Machine Wa...  "
      ]
     },
     "execution_count": 3,
     "metadata": {},
     "output_type": "execute_result"
    }
   ],
   "source": [
    "rootpath = \"../data/Flipkart/\"\n",
    "data = pd.read_csv(rootpath+\"flipkart_com-ecommerce_sample_1050.csv\")\n",
    "data.head()"
   ]
  },
  {
   "cell_type": "code",
   "execution_count": 5,
   "metadata": {},
   "outputs": [
    {
     "name": "stdout",
     "output_type": "stream",
     "text": [
      "<class 'pandas.core.frame.DataFrame'>\n",
      "RangeIndex: 1050 entries, 0 to 1049\n",
      "Data columns (total 15 columns):\n",
      " #   Column                   Non-Null Count  Dtype  \n",
      "---  ------                   --------------  -----  \n",
      " 0   uniq_id                  1050 non-null   object \n",
      " 1   crawl_timestamp          1050 non-null   object \n",
      " 2   product_url              1050 non-null   object \n",
      " 3   product_name             1050 non-null   object \n",
      " 4   product_category_tree    1050 non-null   object \n",
      " 5   pid                      1050 non-null   object \n",
      " 6   retail_price             1049 non-null   float64\n",
      " 7   discounted_price         1049 non-null   float64\n",
      " 8   image                    1050 non-null   object \n",
      " 9   is_FK_Advantage_product  1050 non-null   bool   \n",
      " 10  description              1050 non-null   object \n",
      " 11  product_rating           1050 non-null   object \n",
      " 12  overall_rating           1050 non-null   object \n",
      " 13  brand                    712 non-null    object \n",
      " 14  product_specifications   1049 non-null   object \n",
      "dtypes: bool(1), float64(2), object(12)\n",
      "memory usage: 116.0+ KB\n"
     ]
    }
   ],
   "source": [
    "data.info()"
   ]
  },
  {
   "cell_type": "code",
   "execution_count": 13,
   "metadata": {},
   "outputs": [
    {
     "data": {
      "text/plain": [
       "<AxesSubplot:>"
      ]
     },
     "execution_count": 13,
     "metadata": {},
     "output_type": "execute_result"
    },
    {
     "data": {
      "image/png": "[encoded data removed]",
      "text/plain": [
       "<Figure size 1728x720 with 3 Axes>"
      ]
     },
     "metadata": {
      "needs_background": "light"
     },
     "output_type": "display_data"
    }
   ],
   "source": [
    "msno.bar(data)"
   ]
  },
  {
   "cell_type": "markdown",
   "metadata": {},
   "source": [
    "## uniq_id"
   ]
  },
  {
   "cell_type": "code",
   "execution_count": 15,
   "metadata": {},
   "outputs": [
    {
     "data": {
      "text/plain": [
       "0"
      ]
     },
     "execution_count": 15,
     "metadata": {},
     "output_type": "execute_result"
    }
   ],
   "source": [
    "data.uniq_id.duplicated().sum()"
   ]
  },
  {
   "cell_type": "code",
   "execution_count": 16,
   "metadata": {},
   "outputs": [
    {
     "data": {
      "text/plain": [
       "0"
      ]
     },
     "execution_count": 16,
     "metadata": {},
     "output_type": "execute_result"
    }
   ],
   "source": [
    "data.uniq_id.isna().sum()"
   ]
  },
  {
   "cell_type": "code",
   "execution_count": 17,
   "metadata": {},
   "outputs": [
    {
     "data": {
      "text/plain": [
       "dtype('O')"
      ]
     },
     "execution_count": 17,
     "metadata": {},
     "output_type": "execute_result"
    }
   ],
   "source": [
    "data.uniq_id.dtypes"
   ]
  },
  {
   "cell_type": "code",
   "execution_count": 19,
   "metadata": {},
   "outputs": [
    {
     "data": {
      "text/plain": [
       "count                                 1050\n",
       "unique                                1050\n",
       "top       719677b02bfccafb86e9be78f36f938b\n",
       "freq                                     1\n",
       "Name: uniq_id, dtype: object"
      ]
     },
     "execution_count": 19,
     "metadata": {},
     "output_type": "execute_result"
    }
   ],
   "source": [
    "data.uniq_id.describe()"
   ]
  },
  {
   "cell_type": "code",
   "execution_count": 22,
   "metadata": {},
   "outputs": [
    {
     "data": {
      "text/plain": [
       "'55b85ea15a1536d46b7190ad6fff8ce7'"
      ]
     },
     "execution_count": 22,
     "metadata": {},
     "output_type": "execute_result"
    }
   ],
   "source": [
    "data.uniq_id.iloc[0]"
   ]
  },
  {
   "cell_type": "markdown",
   "metadata": {},
   "source": [
    "## crawl_timestamp"
   ]
  },
  {
   "cell_type": "code",
   "execution_count": 23,
   "metadata": {},
   "outputs": [
    {
     "data": {
      "text/plain": [
       "0       2016-04-30 03:22:56 +0000\n",
       "1       2016-04-30 03:22:56 +0000\n",
       "2       2016-04-30 03:22:56 +0000\n",
       "3       2016-06-20 08:49:52 +0000\n",
       "4       2016-06-20 08:49:52 +0000\n",
       "                  ...            \n",
       "1045    2015-12-01 10:15:43 +0000\n",
       "1046    2015-12-01 10:15:43 +0000\n",
       "1047    2015-12-01 10:15:43 +0000\n",
       "1048    2015-12-01 10:15:43 +0000\n",
       "1049    2015-12-01 10:15:43 +0000\n",
       "Name: crawl_timestamp, Length: 1050, dtype: object"
      ]
     },
     "execution_count": 23,
     "metadata": {},
     "output_type": "execute_result"
    }
   ],
   "source": [
    "data.crawl_timestamp"
   ]
  },
  {
   "cell_type": "markdown",
   "metadata": {},
   "source": [
    "Il faut charger les données de cette colonne en type datetime"
   ]
  },
  {
   "cell_type": "code",
   "execution_count": 36,
   "metadata": {},
   "outputs": [
    {
     "data": {
      "text/plain": [
       "0      2016-04-30 03:22:56+00:00\n",
       "1      2016-04-30 03:22:56+00:00\n",
       "2      2016-04-30 03:22:56+00:00\n",
       "3      2016-06-20 08:49:52+00:00\n",
       "4      2016-06-20 08:49:52+00:00\n",
       "                  ...           \n",
       "1045   2015-12-01 10:15:43+00:00\n",
       "1046   2015-12-01 10:15:43+00:00\n",
       "1047   2015-12-01 10:15:43+00:00\n",
       "1048   2015-12-01 10:15:43+00:00\n",
       "1049   2015-12-01 10:15:43+00:00\n",
       "Name: crawl_timestamp, Length: 1050, dtype: datetime64[ns, UTC]"
      ]
     },
     "execution_count": 36,
     "metadata": {},
     "output_type": "execute_result"
    }
   ],
   "source": [
    "data.crawl_timestamp = pd.to_datetime(data.crawl_timestamp)\n",
    "data.crawl_timestamp"
   ]
  },
  {
   "cell_type": "code",
   "execution_count": 39,
   "metadata": {},
   "outputs": [
    {
     "data": {
      "text/plain": [
       "count                                   1050\n",
       "mean     2016-01-22 20:35:46.106679296+00:00\n",
       "min                2015-12-01 06:13:00+00:00\n",
       "25%                2015-12-01 12:40:44+00:00\n",
       "50%                2016-01-01 10:55:30+00:00\n",
       "75%         2016-03-03 10:08:31.500000+00:00\n",
       "max                2016-06-26 14:21:24+00:00\n",
       "Name: crawl_timestamp, dtype: object"
      ]
     },
     "execution_count": 39,
     "metadata": {},
     "output_type": "execute_result"
    }
   ],
   "source": [
    "data.crawl_timestamp.describe(datetime_is_numeric=True)"
   ]
  },
  {
   "cell_type": "code",
   "execution_count": 44,
   "metadata": {},
   "outputs": [
    {
     "data": {
      "text/plain": [
       "<AxesSubplot:xlabel='crawl_timestamp', ylabel='Count'>"
      ]
     },
     "execution_count": 44,
     "metadata": {},
     "output_type": "execute_result"
    },
    {
     "data": {
      "image/png": "[encoded data removed]",
      "text/plain": [
       "<Figure size 432x288 with 1 Axes>"
      ]
     },
     "metadata": {
      "needs_background": "light"
     },
     "output_type": "display_data"
    }
   ],
   "source": [
    "sns.histplot(data.crawl_timestamp.dt.date)"
   ]
  },
  {
   "cell_type": "code",
   "execution_count": 45,
   "metadata": {},
   "outputs": [
    {
     "data": {
      "text/plain": [
       "0"
      ]
     },
     "execution_count": 45,
     "metadata": {},
     "output_type": "execute_result"
    }
   ],
   "source": [
    "data.crawl_timestamp.isna().sum()"
   ]
  },
  {
   "cell_type": "markdown",
   "metadata": {},
   "source": [
    "## Product url"
   ]
  },
  {
   "cell_type": "code",
   "execution_count": 46,
   "metadata": {},
   "outputs": [
    {
     "data": {
      "text/plain": [
       "'http://www.flipkart.com/elegance-polyester-multicolor-abstract-eyelet-door-curtain/p/itmeg7bkzdgthcts?pid=CRNEG7BKMFFYHQ8Z'"
      ]
     },
     "execution_count": 46,
     "metadata": {},
     "output_type": "execute_result"
    }
   ],
   "source": [
    "data.product_url.iloc[0]"
   ]
  },
  {
   "cell_type": "markdown",
   "metadata": {},
   "source": [
    "(http://www.flipkart.com/elegance-polyester-multicolor-abstract-eyelet-door-curtain/p/itmeg7bkzdgthcts?pid=CRNEG7BKMFFYHQ8Z)"
   ]
  },
  {
   "cell_type": "code",
   "execution_count": 47,
   "metadata": {},
   "outputs": [
    {
     "data": {
      "text/plain": [
       "'55b85ea15a1536d46b7190ad6fff8ce7'"
      ]
     },
     "execution_count": 47,
     "metadata": {},
     "output_type": "execute_result"
    }
   ],
   "source": [
    "data.uniq_id.iloc[0]"
   ]
  },
  {
   "cell_type": "markdown",
   "metadata": {},
   "source": [
    "## Product name"
   ]
  },
  {
   "cell_type": "code",
   "execution_count": 48,
   "metadata": {},
   "outputs": [
    {
     "data": {
      "text/plain": [
       "0    Elegance Polyester Multicolor Abstract Eyelet ...\n",
       "1                           Sathiyas Cotton Bath Towel\n",
       "2                  Eurospa Cotton Terry Face Towel Set\n",
       "3    SANTOSH ROYAL FASHION Cotton Printed King size...\n",
       "4    Jaipur Print Cotton Floral King sized Double B...\n",
       "Name: product_name, dtype: object"
      ]
     },
     "execution_count": 48,
     "metadata": {},
     "output_type": "execute_result"
    }
   ],
   "source": [
    "data.product_name.head()"
   ]
  },
  {
   "cell_type": "code",
   "execution_count": 49,
   "metadata": {},
   "outputs": [
    {
     "data": {
      "text/plain": [
       "'Elegance Polyester Multicolor Abstract Eyelet Door Curtain'"
      ]
     },
     "execution_count": 49,
     "metadata": {},
     "output_type": "execute_result"
    }
   ],
   "source": [
    "data.product_name.iloc[0]"
   ]
  },
  {
   "cell_type": "markdown",
   "metadata": {},
   "source": [
    "## Product category tree"
   ]
  },
  {
   "cell_type": "code",
   "execution_count": 50,
   "metadata": {},
   "outputs": [
    {
     "data": {
      "text/plain": [
       "0    [\"Home Furnishing >> Curtains & Accessories >>...\n",
       "1    [\"Baby Care >> Baby Bath & Skin >> Baby Bath T...\n",
       "2    [\"Baby Care >> Baby Bath & Skin >> Baby Bath T...\n",
       "3    [\"Home Furnishing >> Bed Linen >> Bedsheets >>...\n",
       "4    [\"Home Furnishing >> Bed Linen >> Bedsheets >>...\n",
       "Name: product_category_tree, dtype: object"
      ]
     },
     "execution_count": 50,
     "metadata": {},
     "output_type": "execute_result"
    }
   ],
   "source": [
    "data.product_category_tree.head()"
   ]
  },
  {
   "cell_type": "code",
   "execution_count": 55,
   "metadata": {},
   "outputs": [
    {
     "data": {
      "text/plain": [
       "'[\"Home Furnishing >> Curtains & Accessories >> Curtains >> Elegance Polyester Multicolor Abstract Eyelet Do...\"]'"
      ]
     },
     "execution_count": 55,
     "metadata": {},
     "output_type": "execute_result"
    }
   ],
   "source": [
    "data.product_category_tree.iloc[0]"
   ]
  },
  {
   "cell_type": "markdown",
   "metadata": {},
   "source": [
    "product_category_tree and product_name?"
   ]
  },
  {
   "cell_type": "code",
   "execution_count": 56,
   "metadata": {},
   "outputs": [
    {
     "data": {
      "text/plain": [
       "0        Elegance Polyester Multicolor Abstract Eyelet...\n",
       "1        Sathiyas Cotton Bath Towel (3 Bath Towel, Red...\n",
       "2        Eurospa Cotton Terry Face Towel Set (20 PIECE...\n",
       "3        SANTOSH ROYAL FASHION Cotton Printed King siz...\n",
       "4        Jaipur Print Cotton Floral King sized Double ...\n",
       "                              ...                        \n",
       "1045                              Oren Empower Stickers\"]\n",
       "1046                                Wallmantra Stickers\"]\n",
       "1047                                  Uberlyfe Stickers\"]\n",
       "1048                                Wallmantra Stickers\"]\n",
       "1049                                  Uberlyfe Stickers\"]\n",
       "Name: product_category_tree, Length: 1050, dtype: object"
      ]
     },
     "execution_count": 56,
     "metadata": {},
     "output_type": "execute_result"
    }
   ],
   "source": [
    "data.product_category_tree.apply(lambda x: x.split('>>')[-1])"
   ]
  },
  {
   "cell_type": "code",
   "execution_count": 57,
   "metadata": {},
   "outputs": [
    {
     "data": {
      "text/plain": [
       "'Sathiyas Cotton Bath Towel'"
      ]
     },
     "execution_count": 57,
     "metadata": {},
     "output_type": "execute_result"
    }
   ],
   "source": [
    "data.product_name.iloc[1]"
   ]
  },
  {
   "cell_type": "code",
   "execution_count": 103,
   "metadata": {},
   "outputs": [
    {
     "data": {
      "text/plain": [
       "0       [[\"Home Furnishing ,  Curtains & Accessories ,...\n",
       "1       [[\"Baby Care ,  Baby Bath & Skin ,  Baby Bath ...\n",
       "2       [[\"Baby Care ,  Baby Bath & Skin ,  Baby Bath ...\n",
       "3       [[\"Home Furnishing ,  Bed Linen ,  Bedsheets ,...\n",
       "4       [[\"Home Furnishing ,  Bed Linen ,  Bedsheets ,...\n",
       "                              ...                        \n",
       "1045    [[\"Baby Care ,  Baby & Kids Gifts ,  Stickers ...\n",
       "1046    [[\"Baby Care ,  Baby & Kids Gifts ,  Stickers ...\n",
       "1047    [[\"Baby Care ,  Baby & Kids Gifts ,  Stickers ...\n",
       "1048    [[\"Baby Care ,  Baby & Kids Gifts ,  Stickers ...\n",
       "1049    [[\"Baby Care ,  Baby & Kids Gifts ,  Stickers ...\n",
       "Name: product_category_tree, Length: 1050, dtype: object"
      ]
     },
     "execution_count": 103,
     "metadata": {},
     "output_type": "execute_result"
    }
   ],
   "source": [
    "data.product_category_tree.apply(lambda x: x.split('>>'))"
   ]
  },
  {
   "cell_type": "code",
   "execution_count": 112,
   "metadata": {},
   "outputs": [
    {
     "data": {
      "text/plain": [
       "['[\"Home Furnishing ',\n",
       " ' Curtains & Accessories ',\n",
       " ' Curtains ',\n",
       " ' Elegance Polyester Multicolor Abstract Eyelet Do...\"]']"
      ]
     },
     "execution_count": 112,
     "metadata": {},
     "output_type": "execute_result"
    }
   ],
   "source": [
    "prod_cats = data.product_category_tree.apply(lambda x: x.split('>>'))\n",
    "prod_cats[0]"
   ]
  },
  {
   "cell_type": "markdown",
   "metadata": {},
   "source": [
    "Il va falloir transformer ces chaînes de caractères en listes..."
   ]
  },
  {
   "cell_type": "code",
   "execution_count": 121,
   "metadata": {},
   "outputs": [
    {
     "data": {
      "text/plain": [
       "['Home Furnishing , Curtains & Accessories , Curtains , Elegance Polyester Multicolor Abstract Eyelet Do...']"
      ]
     },
     "execution_count": 121,
     "metadata": {},
     "output_type": "execute_result"
    }
   ],
   "source": [
    "literal_eval(','.join(prod_cats[0]))"
   ]
  },
  {
   "cell_type": "code",
   "execution_count": 122,
   "metadata": {},
   "outputs": [
    {
     "data": {
      "text/plain": [
       "'Home Furnishing , Curtains & Accessories , Curtains , Elegance Polyester Multicolor Abstract Eyelet Do...'"
      ]
     },
     "execution_count": 122,
     "metadata": {},
     "output_type": "execute_result"
    }
   ],
   "source": [
    "literal_eval(','.join(prod_cats[0]))[0]"
   ]
  },
  {
   "cell_type": "markdown",
   "metadata": {},
   "source": [
    "C'est presque ça..."
   ]
  },
  {
   "cell_type": "code",
   "execution_count": 125,
   "metadata": {},
   "outputs": [
    {
     "data": {
      "text/plain": [
       "'Home Furnishing '"
      ]
     },
     "execution_count": 125,
     "metadata": {},
     "output_type": "execute_result"
    }
   ],
   "source": [
    "literal_eval(','.join(prod_cats[0]))[0].split(',')[0]"
   ]
  },
  {
   "cell_type": "markdown",
   "metadata": {},
   "source": [
    "On y est!\n",
    "\n",
    "On applique cette transformation à toutes les lignes de prod_cats"
   ]
  },
  {
   "cell_type": "code",
   "execution_count": 139,
   "metadata": {},
   "outputs": [
    {
     "data": {
      "text/html": [
       "<div>\n",
       "<style scoped>\n",
       "    .dataframe tbody tr th:only-of-type {\n",
       "        vertical-align: middle;\n",
       "    }\n",
       "\n",
       "    .dataframe tbody tr th {\n",
       "        vertical-align: top;\n",
       "    }\n",
       "\n",
       "    .dataframe thead th {\n",
       "        text-align: right;\n",
       "    }\n",
       "</style>\n",
       "<table border=\"1\" class=\"dataframe\">\n",
       "  <thead>\n",
       "    <tr style=\"text-align: right;\">\n",
       "      <th></th>\n",
       "      <th>0</th>\n",
       "      <th>1</th>\n",
       "      <th>2</th>\n",
       "      <th>3</th>\n",
       "      <th>4</th>\n",
       "      <th>5</th>\n",
       "      <th>6</th>\n",
       "      <th>7</th>\n",
       "      <th>8</th>\n",
       "      <th>9</th>\n",
       "    </tr>\n",
       "  </thead>\n",
       "  <tbody>\n",
       "    <tr>\n",
       "      <th>0</th>\n",
       "      <td>Home Furnishing</td>\n",
       "      <td>Curtains &amp; Accessories</td>\n",
       "      <td>Curtains</td>\n",
       "      <td>Elegance Polyester Multicolor Abstract Eyelet...</td>\n",
       "      <td>None</td>\n",
       "      <td>None</td>\n",
       "      <td>None</td>\n",
       "      <td>None</td>\n",
       "      <td>None</td>\n",
       "      <td>None</td>\n",
       "    </tr>\n",
       "    <tr>\n",
       "      <th>1</th>\n",
       "      <td>Baby Care</td>\n",
       "      <td>Baby Bath &amp; Skin</td>\n",
       "      <td>Baby Bath Towels</td>\n",
       "      <td>Sathiyas Baby Bath Towels</td>\n",
       "      <td>Sathiyas Cotton Bath Towel (3 Bath Towel</td>\n",
       "      <td>Red</td>\n",
       "      <td>Y...</td>\n",
       "      <td>None</td>\n",
       "      <td>None</td>\n",
       "      <td>None</td>\n",
       "    </tr>\n",
       "    <tr>\n",
       "      <th>2</th>\n",
       "      <td>Baby Care</td>\n",
       "      <td>Baby Bath &amp; Skin</td>\n",
       "      <td>Baby Bath Towels</td>\n",
       "      <td>Eurospa Baby Bath Towels</td>\n",
       "      <td>Eurospa Cotton Terry Face Towel Set (20 PIECE...</td>\n",
       "      <td>None</td>\n",
       "      <td>None</td>\n",
       "      <td>None</td>\n",
       "      <td>None</td>\n",
       "      <td>None</td>\n",
       "    </tr>\n",
       "    <tr>\n",
       "      <th>3</th>\n",
       "      <td>Home Furnishing</td>\n",
       "      <td>Bed Linen</td>\n",
       "      <td>Bedsheets</td>\n",
       "      <td>SANTOSH ROYAL FASHION Bedsheets</td>\n",
       "      <td>SANTOSH ROYAL FASHION Cotton Printed King siz...</td>\n",
       "      <td>None</td>\n",
       "      <td>None</td>\n",
       "      <td>None</td>\n",
       "      <td>None</td>\n",
       "      <td>None</td>\n",
       "    </tr>\n",
       "    <tr>\n",
       "      <th>4</th>\n",
       "      <td>Home Furnishing</td>\n",
       "      <td>Bed Linen</td>\n",
       "      <td>Bedsheets</td>\n",
       "      <td>Jaipur Print Bedsheets</td>\n",
       "      <td>Jaipur Print Cotton Floral King sized Double ...</td>\n",
       "      <td>None</td>\n",
       "      <td>None</td>\n",
       "      <td>None</td>\n",
       "      <td>None</td>\n",
       "      <td>None</td>\n",
       "    </tr>\n",
       "  </tbody>\n",
       "</table>\n",
       "</div>"
      ],
      "text/plain": [
       "                  0                         1                   2  \\\n",
       "0  Home Furnishing    Curtains & Accessories            Curtains    \n",
       "1        Baby Care          Baby Bath & Skin    Baby Bath Towels    \n",
       "2        Baby Care          Baby Bath & Skin    Baby Bath Towels    \n",
       "3  Home Furnishing                 Bed Linen           Bedsheets    \n",
       "4  Home Furnishing                 Bed Linen           Bedsheets    \n",
       "\n",
       "                                                   3  \\\n",
       "0   Elegance Polyester Multicolor Abstract Eyelet...   \n",
       "1                         Sathiyas Baby Bath Towels    \n",
       "2                          Eurospa Baby Bath Towels    \n",
       "3                   SANTOSH ROYAL FASHION Bedsheets    \n",
       "4                            Jaipur Print Bedsheets    \n",
       "\n",
       "                                                   4     5      6     7     8  \\\n",
       "0                                               None  None   None  None  None   \n",
       "1           Sathiyas Cotton Bath Towel (3 Bath Towel   Red   Y...  None  None   \n",
       "2   Eurospa Cotton Terry Face Towel Set (20 PIECE...  None   None  None  None   \n",
       "3   SANTOSH ROYAL FASHION Cotton Printed King siz...  None   None  None  None   \n",
       "4   Jaipur Print Cotton Floral King sized Double ...  None   None  None  None   \n",
       "\n",
       "      9  \n",
       "0  None  \n",
       "1  None  \n",
       "2  None  \n",
       "3  None  \n",
       "4  None  "
      ]
     },
     "execution_count": 139,
     "metadata": {},
     "output_type": "execute_result"
    }
   ],
   "source": [
    "prod_cat_lists = []\n",
    "for i in range(prod_cats.shape[0]):\n",
    "    cat_list = literal_eval(','.join(prod_cats[i]))[0].split(',')\n",
    "    prod_cat_lists.append(cat_list)\n",
    "prod_cat_lists = pd.DataFrame(prod_cat_lists)\n",
    "prod_cat_lists.head()"
   ]
  },
  {
   "cell_type": "markdown",
   "metadata": {},
   "source": [
    "Il y a jusqu'à 9 catégories dans l'arbre des catégories de produit (product_category_tree). Combien de catégories uniques à chaque niveau?"
   ]
  },
  {
   "cell_type": "code",
   "execution_count": 140,
   "metadata": {},
   "outputs": [
    {
     "data": {
      "text/plain": [
       "0      7\n",
       "1     63\n",
       "2    242\n",
       "3    352\n",
       "4    310\n",
       "5    141\n",
       "6     72\n",
       "7     11\n",
       "8      3\n",
       "9      1\n",
       "dtype: int64"
      ]
     },
     "execution_count": 140,
     "metadata": {},
     "output_type": "execute_result"
    }
   ],
   "source": [
    "prod_cat_lists.nunique()"
   ]
  },
  {
   "cell_type": "code",
   "execution_count": 141,
   "metadata": {},
   "outputs": [
    {
     "data": {
      "text/plain": [
       "array([None, '...'], dtype=object)"
      ]
     },
     "execution_count": 141,
     "metadata": {},
     "output_type": "execute_result"
    }
   ],
   "source": [
    "prod_cat_lists[9].unique()"
   ]
  },
  {
   "cell_type": "code",
   "execution_count": 142,
   "metadata": {},
   "outputs": [
    {
     "data": {
      "text/plain": [
       "array([None, ' Black Tra...', ' Palm', ' Contender Deodoran...'],\n",
       "      dtype=object)"
      ]
     },
     "execution_count": 142,
     "metadata": {},
     "output_type": "execute_result"
    }
   ],
   "source": [
    "prod_cat_lists[8].unique()"
   ]
  },
  {
   "cell_type": "markdown",
   "metadata": {},
   "source": [
    "En fait 8 catégories au maximum"
   ]
  },
  {
   "cell_type": "code",
   "execution_count": 143,
   "metadata": {},
   "outputs": [
    {
     "data": {
      "text/html": [
       "<div>\n",
       "<style scoped>\n",
       "    .dataframe tbody tr th:only-of-type {\n",
       "        vertical-align: middle;\n",
       "    }\n",
       "\n",
       "    .dataframe tbody tr th {\n",
       "        vertical-align: top;\n",
       "    }\n",
       "\n",
       "    .dataframe thead th {\n",
       "        text-align: right;\n",
       "    }\n",
       "</style>\n",
       "<table border=\"1\" class=\"dataframe\">\n",
       "  <thead>\n",
       "    <tr style=\"text-align: right;\">\n",
       "      <th></th>\n",
       "      <th>0</th>\n",
       "      <th>1</th>\n",
       "      <th>2</th>\n",
       "      <th>3</th>\n",
       "      <th>4</th>\n",
       "      <th>5</th>\n",
       "      <th>6</th>\n",
       "      <th>7</th>\n",
       "      <th>8</th>\n",
       "    </tr>\n",
       "  </thead>\n",
       "  <tbody>\n",
       "    <tr>\n",
       "      <th>0</th>\n",
       "      <td>Home Furnishing</td>\n",
       "      <td>Curtains &amp; Accessories</td>\n",
       "      <td>Curtains</td>\n",
       "      <td>Elegance Polyester Multicolor Abstract Eyelet...</td>\n",
       "      <td>None</td>\n",
       "      <td>None</td>\n",
       "      <td>None</td>\n",
       "      <td>None</td>\n",
       "      <td>None</td>\n",
       "    </tr>\n",
       "    <tr>\n",
       "      <th>1</th>\n",
       "      <td>Baby Care</td>\n",
       "      <td>Baby Bath &amp; Skin</td>\n",
       "      <td>Baby Bath Towels</td>\n",
       "      <td>Sathiyas Baby Bath Towels</td>\n",
       "      <td>Sathiyas Cotton Bath Towel (3 Bath Towel</td>\n",
       "      <td>Red</td>\n",
       "      <td>Y...</td>\n",
       "      <td>None</td>\n",
       "      <td>None</td>\n",
       "    </tr>\n",
       "    <tr>\n",
       "      <th>2</th>\n",
       "      <td>Baby Care</td>\n",
       "      <td>Baby Bath &amp; Skin</td>\n",
       "      <td>Baby Bath Towels</td>\n",
       "      <td>Eurospa Baby Bath Towels</td>\n",
       "      <td>Eurospa Cotton Terry Face Towel Set (20 PIECE...</td>\n",
       "      <td>None</td>\n",
       "      <td>None</td>\n",
       "      <td>None</td>\n",
       "      <td>None</td>\n",
       "    </tr>\n",
       "    <tr>\n",
       "      <th>3</th>\n",
       "      <td>Home Furnishing</td>\n",
       "      <td>Bed Linen</td>\n",
       "      <td>Bedsheets</td>\n",
       "      <td>SANTOSH ROYAL FASHION Bedsheets</td>\n",
       "      <td>SANTOSH ROYAL FASHION Cotton Printed King siz...</td>\n",
       "      <td>None</td>\n",
       "      <td>None</td>\n",
       "      <td>None</td>\n",
       "      <td>None</td>\n",
       "    </tr>\n",
       "    <tr>\n",
       "      <th>4</th>\n",
       "      <td>Home Furnishing</td>\n",
       "      <td>Bed Linen</td>\n",
       "      <td>Bedsheets</td>\n",
       "      <td>Jaipur Print Bedsheets</td>\n",
       "      <td>Jaipur Print Cotton Floral King sized Double ...</td>\n",
       "      <td>None</td>\n",
       "      <td>None</td>\n",
       "      <td>None</td>\n",
       "      <td>None</td>\n",
       "    </tr>\n",
       "  </tbody>\n",
       "</table>\n",
       "</div>"
      ],
      "text/plain": [
       "                  0                         1                   2  \\\n",
       "0  Home Furnishing    Curtains & Accessories            Curtains    \n",
       "1        Baby Care          Baby Bath & Skin    Baby Bath Towels    \n",
       "2        Baby Care          Baby Bath & Skin    Baby Bath Towels    \n",
       "3  Home Furnishing                 Bed Linen           Bedsheets    \n",
       "4  Home Furnishing                 Bed Linen           Bedsheets    \n",
       "\n",
       "                                                   3  \\\n",
       "0   Elegance Polyester Multicolor Abstract Eyelet...   \n",
       "1                         Sathiyas Baby Bath Towels    \n",
       "2                          Eurospa Baby Bath Towels    \n",
       "3                   SANTOSH ROYAL FASHION Bedsheets    \n",
       "4                            Jaipur Print Bedsheets    \n",
       "\n",
       "                                                   4     5      6     7     8  \n",
       "0                                               None  None   None  None  None  \n",
       "1           Sathiyas Cotton Bath Towel (3 Bath Towel   Red   Y...  None  None  \n",
       "2   Eurospa Cotton Terry Face Towel Set (20 PIECE...  None   None  None  None  \n",
       "3   SANTOSH ROYAL FASHION Cotton Printed King siz...  None   None  None  None  \n",
       "4   Jaipur Print Cotton Floral King sized Double ...  None   None  None  None  "
      ]
     },
     "execution_count": 143,
     "metadata": {},
     "output_type": "execute_result"
    }
   ],
   "source": [
    "prod_cat_lists.drop(columns=9, inplace=True)\n",
    "prod_cat_lists.head()"
   ]
  },
  {
   "cell_type": "code",
   "execution_count": 144,
   "metadata": {},
   "outputs": [
    {
     "data": {
      "text/plain": [
       "set()"
      ]
     },
     "execution_count": 144,
     "metadata": {},
     "output_type": "execute_result"
    }
   ],
   "source": [
    "first_level_cat = set(prod_cat_lists[0].unique())\n",
    "second_level_cat = set(prod_cat_lists[1].unique())\n",
    "\n",
    "first_level_cat.intersection(second_level_cat)"
   ]
  },
  {
   "cell_type": "markdown",
   "metadata": {},
   "source": [
    "Les premières et deuxièmes catégories semblent ne pas être redondantes du tout (bonne nouvelle)"
   ]
  },
  {
   "cell_type": "code",
   "execution_count": 145,
   "metadata": {},
   "outputs": [
    {
     "data": {
      "text/plain": [
       "{'Baby Care ',\n",
       " 'Beauty and Personal Care ',\n",
       " 'Computers ',\n",
       " 'Home Decor & Festive Needs ',\n",
       " 'Home Furnishing ',\n",
       " 'Kitchen & Dining ',\n",
       " 'Watches '}"
      ]
     },
     "execution_count": 145,
     "metadata": {},
     "output_type": "execute_result"
    }
   ],
   "source": [
    "first_level_cat"
   ]
  },
  {
   "cell_type": "code",
   "execution_count": 146,
   "metadata": {},
   "outputs": [
    {
     "data": {
      "text/plain": [
       "{' Baby & Kids Gifts ',\n",
       " ' Baby Bath & Skin ',\n",
       " ' Baby Bedding ',\n",
       " ' Baby Grooming ',\n",
       " ' Bar & Glassware ',\n",
       " ' Bath Linen ',\n",
       " ' Bath and Spa ',\n",
       " ' Beauty Accessories ',\n",
       " ' Bed Linen ',\n",
       " ' Body and Skin Care ',\n",
       " ' Candles & Fragrances ',\n",
       " ' Clocks ',\n",
       " ' Coffee Mugs ',\n",
       " ' Combos and Kits ',\n",
       " ' Computer Components ',\n",
       " ' Computer Peripherals ',\n",
       " ' Consumables & Disposables ',\n",
       " ' Containers & Bottles ',\n",
       " ' Cookware ',\n",
       " ' Curtains & Accessories ',\n",
       " ' Cushions',\n",
       " ' Decorative Lighting & Lamps ',\n",
       " ' Diapering & Potty Training ',\n",
       " ' Dinnerware & Crockery ',\n",
       " ' Eye Care ',\n",
       " ' Feeding & Nursing ',\n",
       " ' Floor Coverings ',\n",
       " ' Flowers',\n",
       " ' Fragrances ',\n",
       " ' Furniture & Furnishings ',\n",
       " ' Garden & Leisure ',\n",
       " ' Hair Care ',\n",
       " ' Health Care ',\n",
       " ' Housekeeping & Laundry ',\n",
       " ' Infant Wear ',\n",
       " ' JMD Home Furnishing ',\n",
       " ' Kitchen & Dining Linen ',\n",
       " ' Kitchen Tools ',\n",
       " \" Kripa's Home Furnishing \",\n",
       " ' Laptop Accessories ',\n",
       " ' Laptops ',\n",
       " ' Lighting ',\n",
       " ' Living',\n",
       " ' Living ',\n",
       " ' Living Room Furnishing ',\n",
       " ' Makeup ',\n",
       " \" Men's Grooming \",\n",
       " ' Network Components ',\n",
       " ' Pressure Cookers & Pans ',\n",
       " ' Religion & Devotion ',\n",
       " ' Showpiece ',\n",
       " ' Showpieces ',\n",
       " ' Software ',\n",
       " ' Storage ',\n",
       " ' Strollers & Activity Gear ',\n",
       " ' TRUE Home Decor & Festive Needs',\n",
       " ' Table Decor & Handicrafts ',\n",
       " ' Tablet Accessories ',\n",
       " ' Tableware & Cutlery ',\n",
       " ' Tidy Home Furnishing ',\n",
       " ' Wall Decor & Clocks ',\n",
       " \" Women's Hygiene \",\n",
       " ' Wrist Watches '}"
      ]
     },
     "execution_count": 146,
     "metadata": {},
     "output_type": "execute_result"
    }
   ],
   "source": [
    "second_level_cat"
   ]
  },
  {
   "cell_type": "markdown",
   "metadata": {},
   "source": [
    "La variable _product_tree_category_ va sans doute être utile."
   ]
  },
  {
   "cell_type": "markdown",
   "metadata": {},
   "source": [
    "Vu que le jeu de données contient cette variable de catégories de produits, il sera peut-être plus judicieux de réaliser une classification plutôt qu'un clustering à partir des descriptions (voir aussi les posts sur discord)"
   ]
  },
  {
   "cell_type": "markdown",
   "metadata": {},
   "source": [
    "## pid"
   ]
  },
  {
   "cell_type": "code",
   "execution_count": 58,
   "metadata": {},
   "outputs": [
    {
     "data": {
      "text/plain": [
       "0    CRNEG7BKMFFYHQ8Z\n",
       "1    BTWEGFZHGBXPHZUH\n",
       "2    BTWEG6SHXTDB2A2Y\n",
       "3    BDSEJT9UQWHDUBH4\n",
       "4    BDSEJTHNGWVGWWQU\n",
       "Name: pid, dtype: object"
      ]
     },
     "execution_count": 58,
     "metadata": {},
     "output_type": "execute_result"
    }
   ],
   "source": [
    "data.pid.head()"
   ]
  },
  {
   "cell_type": "markdown",
   "metadata": {},
   "source": [
    "pid and product_url?"
   ]
  },
  {
   "cell_type": "code",
   "execution_count": 62,
   "metadata": {},
   "outputs": [
    {
     "data": {
      "text/plain": [
       "1050"
      ]
     },
     "execution_count": 62,
     "metadata": {},
     "output_type": "execute_result"
    }
   ],
   "source": [
    "(data.product_url.apply(lambda x: x.split('pid=')[-1]) == data.pid).sum()"
   ]
  },
  {
   "cell_type": "markdown",
   "metadata": {},
   "source": [
    "## retail price et discounted price"
   ]
  },
  {
   "cell_type": "code",
   "execution_count": 63,
   "metadata": {},
   "outputs": [
    {
     "data": {
      "text/plain": [
       "0    1899.0\n",
       "1     600.0\n",
       "2       NaN\n",
       "3    2699.0\n",
       "4    2599.0\n",
       "Name: retail_price, dtype: float64"
      ]
     },
     "execution_count": 63,
     "metadata": {},
     "output_type": "execute_result"
    }
   ],
   "source": [
    "data.retail_price.head()"
   ]
  },
  {
   "cell_type": "markdown",
   "metadata": {},
   "source": [
    "\"image et description\" --> le prix de vente n'est a priori pas utile pour ce projet. idem pour \"discounted price\""
   ]
  },
  {
   "cell_type": "code",
   "execution_count": 64,
   "metadata": {},
   "outputs": [
    {
     "data": {
      "text/plain": [
       "0     899.0\n",
       "1     449.0\n",
       "2       NaN\n",
       "3    1299.0\n",
       "4     698.0\n",
       "Name: discounted_price, dtype: float64"
      ]
     },
     "execution_count": 64,
     "metadata": {},
     "output_type": "execute_result"
    }
   ],
   "source": [
    "data.discounted_price.head()"
   ]
  },
  {
   "cell_type": "markdown",
   "metadata": {},
   "source": [
    "## images"
   ]
  },
  {
   "cell_type": "markdown",
   "metadata": {},
   "source": [
    "Le coeur du projet est le traitement et la classification d'images. Essayons d'afficher les images en utilisant le nom de fichier présent dans la table (les images se trouvent dans le dossier data/Flipkart/images/):"
   ]
  },
  {
   "cell_type": "code",
   "execution_count": 11,
   "metadata": {},
   "outputs": [
    {
     "data": {
      "text/plain": [
       "<matplotlib.image.AxesImage at 0x1a3e9a0a58>"
      ]
     },
     "execution_count": 11,
     "metadata": {},
     "output_type": "execute_result"
    },
    {
     "data": {
      "image/png": "[encoded data removed]",
      "text/plain": [
       "<Figure size 432x288 with 1 Axes>"
      ]
     },
     "metadata": {
      "needs_background": "light"
     },
     "output_type": "display_data"
    }
   ],
   "source": [
    "imdir = rootpath+\"images/\"\n",
    "filename = imdir + data.iloc[0][\"image\"]\n",
    "image = skimage.io.imread(filename)\n",
    "plt.imshow(image)"
   ]
  },
  {
   "cell_type": "markdown",
   "metadata": {},
   "source": [
    "Ok pour les images."
   ]
  },
  {
   "cell_type": "markdown",
   "metadata": {},
   "source": [
    "# is_FK_Advantage_product"
   ]
  },
  {
   "cell_type": "code",
   "execution_count": 65,
   "metadata": {},
   "outputs": [
    {
     "data": {
      "text/plain": [
       "0    False\n",
       "1    False\n",
       "2    False\n",
       "3    False\n",
       "4    False\n",
       "Name: is_FK_Advantage_product, dtype: bool"
      ]
     },
     "execution_count": 65,
     "metadata": {},
     "output_type": "execute_result"
    }
   ],
   "source": [
    "data.is_FK_Advantage_product.head()"
   ]
  },
  {
   "cell_type": "code",
   "execution_count": 70,
   "metadata": {},
   "outputs": [
    {
     "data": {
      "text/plain": [
       "<AxesSubplot:xlabel='is_FK_Advantage_product', ylabel='count'>"
      ]
     },
     "execution_count": 70,
     "metadata": {},
     "output_type": "execute_result"
    },
    {
     "data": {
      "image/png": "[encoded data removed]",
      "text/plain": [
       "<Figure size 432x288 with 1 Axes>"
      ]
     },
     "metadata": {
      "needs_background": "light"
     },
     "output_type": "display_data"
    }
   ],
   "source": [
    "sns.countplot(x=data.is_FK_Advantage_product)"
   ]
  },
  {
   "cell_type": "code",
   "execution_count": 71,
   "metadata": {},
   "outputs": [
    {
     "data": {
      "text/html": [
       "<div>\n",
       "<style scoped>\n",
       "    .dataframe tbody tr th:only-of-type {\n",
       "        vertical-align: middle;\n",
       "    }\n",
       "\n",
       "    .dataframe tbody tr th {\n",
       "        vertical-align: top;\n",
       "    }\n",
       "\n",
       "    .dataframe thead th {\n",
       "        text-align: right;\n",
       "    }\n",
       "</style>\n",
       "<table border=\"1\" class=\"dataframe\">\n",
       "  <thead>\n",
       "    <tr style=\"text-align: right;\">\n",
       "      <th></th>\n",
       "      <th>uniq_id</th>\n",
       "      <th>crawl_timestamp</th>\n",
       "      <th>product_url</th>\n",
       "      <th>product_name</th>\n",
       "      <th>product_category_tree</th>\n",
       "      <th>pid</th>\n",
       "      <th>retail_price</th>\n",
       "      <th>discounted_price</th>\n",
       "      <th>image</th>\n",
       "      <th>is_FK_Advantage_product</th>\n",
       "      <th>description</th>\n",
       "      <th>product_rating</th>\n",
       "      <th>overall_rating</th>\n",
       "      <th>brand</th>\n",
       "      <th>product_specifications</th>\n",
       "    </tr>\n",
       "  </thead>\n",
       "  <tbody>\n",
       "    <tr>\n",
       "      <th>114</th>\n",
       "      <td>bc784846bd59a16832454416ac708003</td>\n",
       "      <td>2016-01-03 09:39:44+00:00</td>\n",
       "      <td>http://www.flipkart.com/lollipop-lane-tiddly-w...</td>\n",
       "      <td>Lollipop Lane Tiddly Wink Safari Bath Set</td>\n",
       "      <td>[\"Baby Care &gt;&gt; Baby Grooming &gt;&gt; Baby Grooming ...</td>\n",
       "      <td>BBCDPFZM6V585ZZE</td>\n",
       "      <td>2950.0</td>\n",
       "      <td>2950.0</td>\n",
       "      <td>bc784846bd59a16832454416ac708003.jpg</td>\n",
       "      <td>True</td>\n",
       "      <td>Flipkart.com is offering Lollipop Lane Tiddly ...</td>\n",
       "      <td>No rating available</td>\n",
       "      <td>No rating available</td>\n",
       "      <td>NaN</td>\n",
       "      <td>{\"product_specification\"=&gt;[{\"key\"=&gt;\"Age Group\"...</td>\n",
       "    </tr>\n",
       "    <tr>\n",
       "      <th>248</th>\n",
       "      <td>45d0af2c709de47268c80c35a117de44</td>\n",
       "      <td>2015-12-01 12:40:44+00:00</td>\n",
       "      <td>http://www.flipkart.com/malhar-niko-male-doll-...</td>\n",
       "      <td>Malhar Niko Male Doll Showpiece  -  25 cm</td>\n",
       "      <td>[\"Home Decor &amp; Festive Needs &gt;&gt; Showpieces &gt;&gt; ...</td>\n",
       "      <td>SHIEY382SR75SXEY</td>\n",
       "      <td>6395.0</td>\n",
       "      <td>5436.0</td>\n",
       "      <td>45d0af2c709de47268c80c35a117de44.jpg</td>\n",
       "      <td>True</td>\n",
       "      <td>Buy Malhar Niko Male Doll Showpiece  -  25 cm ...</td>\n",
       "      <td>No rating available</td>\n",
       "      <td>No rating available</td>\n",
       "      <td>Malhar</td>\n",
       "      <td>{\"product_specification\"=&gt;[{\"key\"=&gt;\"Brand\", \"v...</td>\n",
       "    </tr>\n",
       "    <tr>\n",
       "      <th>310</th>\n",
       "      <td>64b463dc0b75ae40a848498c657041e6</td>\n",
       "      <td>2015-12-01 06:13:00+00:00</td>\n",
       "      <td>http://www.flipkart.com/linksys-smart-wi-fi-ro...</td>\n",
       "      <td>Linksys Smart Wi-Fi Router</td>\n",
       "      <td>[\"Computers &gt;&gt; Network Components &gt;&gt; Routers &gt;...</td>\n",
       "      <td>RTRDZTF9DBT4CW8U</td>\n",
       "      <td>14999.0</td>\n",
       "      <td>13500.0</td>\n",
       "      <td>64b463dc0b75ae40a848498c657041e6.jpg</td>\n",
       "      <td>True</td>\n",
       "      <td>Buy Linksys Smart Wi-Fi Router only for Rs. 0....</td>\n",
       "      <td>No rating available</td>\n",
       "      <td>No rating available</td>\n",
       "      <td>Linksys</td>\n",
       "      <td>{\"product_specification\"=&gt;[{\"key\"=&gt;\"Encryption...</td>\n",
       "    </tr>\n",
       "    <tr>\n",
       "      <th>324</th>\n",
       "      <td>a43fbae655e5d13215b9dd65339fa9d4</td>\n",
       "      <td>2015-12-01 06:13:00+00:00</td>\n",
       "      <td>http://www.flipkart.com/huawei-ws331c-300-mbps...</td>\n",
       "      <td>Huawei WS331c -300 Mbps Wireless Range Extender</td>\n",
       "      <td>[\"Computers &gt;&gt; Network Components &gt;&gt; Routers &gt;...</td>\n",
       "      <td>RTREFWYNH9RGDCQK</td>\n",
       "      <td>2250.0</td>\n",
       "      <td>1635.0</td>\n",
       "      <td>a43fbae655e5d13215b9dd65339fa9d4.jpg</td>\n",
       "      <td>True</td>\n",
       "      <td>Buy Huawei WS331c -300 Mbps Wireless Range Ext...</td>\n",
       "      <td>3.5</td>\n",
       "      <td>3.5</td>\n",
       "      <td>Huawei</td>\n",
       "      <td>{\"product_specification\"=&gt;[{\"key\"=&gt;\"In The Box...</td>\n",
       "    </tr>\n",
       "    <tr>\n",
       "      <th>336</th>\n",
       "      <td>6634de7b39a5b0658c74ab098450096d</td>\n",
       "      <td>2015-12-01 06:13:00+00:00</td>\n",
       "      <td>http://www.flipkart.com/d-link-dir-816-wireles...</td>\n",
       "      <td>D-Link DIR-816 Wireless AC750 Dual Band Router</td>\n",
       "      <td>[\"Computers &gt;&gt; Network Components &gt;&gt; Routers &gt;...</td>\n",
       "      <td>RTRE3XW7JS6YJHG5</td>\n",
       "      <td>4200.0</td>\n",
       "      <td>2059.0</td>\n",
       "      <td>6634de7b39a5b0658c74ab098450096d.jpg</td>\n",
       "      <td>True</td>\n",
       "      <td>Buy D-Link DIR-816 Wireless AC750 Dual Band Ro...</td>\n",
       "      <td>4</td>\n",
       "      <td>4</td>\n",
       "      <td>D-Link</td>\n",
       "      <td>{\"product_specification\"=&gt;[{\"key\"=&gt;\"Other Secu...</td>\n",
       "    </tr>\n",
       "    <tr>\n",
       "      <th>341</th>\n",
       "      <td>fce2bd96b35d531a4784bc57e19aca4f</td>\n",
       "      <td>2015-12-01 06:13:00+00:00</td>\n",
       "      <td>http://www.flipkart.com/belkin-share-modem-n-r...</td>\n",
       "      <td>Belkin Share Modem (N) Router</td>\n",
       "      <td>[\"Computers &gt;&gt; Network Components &gt;&gt; Routers &gt;...</td>\n",
       "      <td>RTRDFFYGM2TEWVCC</td>\n",
       "      <td>6249.0</td>\n",
       "      <td>6249.0</td>\n",
       "      <td>fce2bd96b35d531a4784bc57e19aca4f.jpg</td>\n",
       "      <td>True</td>\n",
       "      <td>Buy Belkin Share Modem (N) Router only for Rs....</td>\n",
       "      <td>3.7</td>\n",
       "      <td>3.7</td>\n",
       "      <td>Belkin</td>\n",
       "      <td>{\"product_specification\"=&gt;[{\"key\"=&gt;\"Firewall\",...</td>\n",
       "    </tr>\n",
       "    <tr>\n",
       "      <th>343</th>\n",
       "      <td>9743e6d1c9f3180483825fe4d2e97836</td>\n",
       "      <td>2015-12-01 06:13:00+00:00</td>\n",
       "      <td>http://www.flipkart.com/apple-airport-express-...</td>\n",
       "      <td>Apple AirPort Express Base Station Wireless Ro...</td>\n",
       "      <td>[\"Computers &gt;&gt; Network Components &gt;&gt; Routers &gt;...</td>\n",
       "      <td>RTRDQSSHGP7UGRFC</td>\n",
       "      <td>6800.0</td>\n",
       "      <td>6399.0</td>\n",
       "      <td>9743e6d1c9f3180483825fe4d2e97836.jpg</td>\n",
       "      <td>True</td>\n",
       "      <td>Buy Apple AirPort Express Base Station Wireles...</td>\n",
       "      <td>4.9</td>\n",
       "      <td>4.9</td>\n",
       "      <td>Apple</td>\n",
       "      <td>{\"product_specification\"=&gt;[{\"key\"=&gt;\"Firewall\",...</td>\n",
       "    </tr>\n",
       "    <tr>\n",
       "      <th>367</th>\n",
       "      <td>884ff6050ff3d6b2c8f681c300a21b2a</td>\n",
       "      <td>2015-12-01 06:13:00+00:00</td>\n",
       "      <td>http://www.flipkart.com/tp-link-archer-c20-ac7...</td>\n",
       "      <td>TP-Link Archer C20 AC750 Dual Band Router</td>\n",
       "      <td>[\"Computers &gt;&gt; Network Components &gt;&gt; Routers &gt;...</td>\n",
       "      <td>RTRE8GKF2CUJ2GNN</td>\n",
       "      <td>5399.0</td>\n",
       "      <td>2150.0</td>\n",
       "      <td>884ff6050ff3d6b2c8f681c300a21b2a.jpg</td>\n",
       "      <td>True</td>\n",
       "      <td>Buy TP-Link Archer C20 AC750 Dual Band Router ...</td>\n",
       "      <td>4.4</td>\n",
       "      <td>4.4</td>\n",
       "      <td>TP-LINK</td>\n",
       "      <td>{\"product_specification\"=&gt;[{\"key\"=&gt;\"Firewall\",...</td>\n",
       "    </tr>\n",
       "    <tr>\n",
       "      <th>371</th>\n",
       "      <td>2a20862f02555a44b0ab301bed987a0b</td>\n",
       "      <td>2015-12-01 06:13:00+00:00</td>\n",
       "      <td>http://www.flipkart.com/netgear-jwnr2010-n300-...</td>\n",
       "      <td>Netgear JWNR2010 N300 Wireless Router</td>\n",
       "      <td>[\"Computers &gt;&gt; Network Components &gt;&gt; Routers &gt;...</td>\n",
       "      <td>RTRDPXKCBHEECZQE</td>\n",
       "      <td>2500.0</td>\n",
       "      <td>1367.0</td>\n",
       "      <td>2a20862f02555a44b0ab301bed987a0b.jpg</td>\n",
       "      <td>True</td>\n",
       "      <td>Buy Netgear JWNR2010 N300 Wireless Router only...</td>\n",
       "      <td>3.9</td>\n",
       "      <td>3.9</td>\n",
       "      <td>Netgear</td>\n",
       "      <td>{\"product_specification\"=&gt;[{\"key\"=&gt;\"Firewall\",...</td>\n",
       "    </tr>\n",
       "    <tr>\n",
       "      <th>390</th>\n",
       "      <td>ae19a81b730b48b87ca72521af8fb902</td>\n",
       "      <td>2015-12-01 06:13:00+00:00</td>\n",
       "      <td>http://www.flipkart.com/tp-link-4-port-cable-d...</td>\n",
       "      <td>TP-LINK 4-Port Cable/DSL/TL-R460</td>\n",
       "      <td>[\"Computers &gt;&gt; Network Components &gt;&gt; Routers &gt;...</td>\n",
       "      <td>RTRDPA9FNCRGS8UZ</td>\n",
       "      <td>1199.0</td>\n",
       "      <td>1199.0</td>\n",
       "      <td>ae19a81b730b48b87ca72521af8fb902.jpg</td>\n",
       "      <td>True</td>\n",
       "      <td>Buy TP-LINK 4-Port Cable/DSL/TL-R460 only for ...</td>\n",
       "      <td>3</td>\n",
       "      <td>3</td>\n",
       "      <td>TP-LINK</td>\n",
       "      <td>{\"product_specification\"=&gt;[{\"key\"=&gt;\"Firewall\",...</td>\n",
       "    </tr>\n",
       "    <tr>\n",
       "      <th>398</th>\n",
       "      <td>215decf6f993d7b45d75520d9174493f</td>\n",
       "      <td>2015-12-01 06:13:00+00:00</td>\n",
       "      <td>http://www.flipkart.com/netgear-d3600-n600-dua...</td>\n",
       "      <td>Netgear D3600 N600 Dual Band Gigabit Wi-Fi Mod...</td>\n",
       "      <td>[\"Computers &gt;&gt; Network Components &gt;&gt; Routers &gt;...</td>\n",
       "      <td>RTRE8GJTHFTTDZWA</td>\n",
       "      <td>9600.0</td>\n",
       "      <td>6190.0</td>\n",
       "      <td>215decf6f993d7b45d75520d9174493f.jpg</td>\n",
       "      <td>True</td>\n",
       "      <td>Buy Netgear D3600 N600 Dual Band Gigabit Wi-Fi...</td>\n",
       "      <td>5</td>\n",
       "      <td>5</td>\n",
       "      <td>Netgear</td>\n",
       "      <td>{\"product_specification\"=&gt;[{\"key\"=&gt;\"Firewall\",...</td>\n",
       "    </tr>\n",
       "    <tr>\n",
       "      <th>400</th>\n",
       "      <td>4fe24e100a5fcc33cf6054ef101067ed</td>\n",
       "      <td>2015-12-01 06:13:00+00:00</td>\n",
       "      <td>http://www.flipkart.com/tp-link-td-w8970/p/itm...</td>\n",
       "      <td>TP-LINK TD-W8970</td>\n",
       "      <td>[\"Computers &gt;&gt; Network Components &gt;&gt; Routers &gt;...</td>\n",
       "      <td>RTRDXV6BA5PZAEPH</td>\n",
       "      <td>6700.0</td>\n",
       "      <td>4850.0</td>\n",
       "      <td>4fe24e100a5fcc33cf6054ef101067ed.jpg</td>\n",
       "      <td>True</td>\n",
       "      <td>Buy TP-LINK TD-W8970 only for Rs. 5050 from Fl...</td>\n",
       "      <td>3</td>\n",
       "      <td>3</td>\n",
       "      <td>TP-LINK</td>\n",
       "      <td>{\"product_specification\"=&gt;[{\"key\"=&gt;\"Wireless S...</td>\n",
       "    </tr>\n",
       "    <tr>\n",
       "      <th>401</th>\n",
       "      <td>50be4cd92fda2755e1e884421a52e345</td>\n",
       "      <td>2015-12-01 06:13:00+00:00</td>\n",
       "      <td>http://www.flipkart.com/denim-deo-combo-set/p/...</td>\n",
       "      <td>Denim Deo Combo Set</td>\n",
       "      <td>[\"Beauty and Personal Care &gt;&gt; Fragrances &gt;&gt; De...</td>\n",
       "      <td>CAGDTFSHTF6TRBFZ</td>\n",
       "      <td>250.0</td>\n",
       "      <td>250.0</td>\n",
       "      <td>50be4cd92fda2755e1e884421a52e345.jpg</td>\n",
       "      <td>True</td>\n",
       "      <td>Flipkart.com: Buy Denim Deo Combo Set online o...</td>\n",
       "      <td>3.3</td>\n",
       "      <td>3.3</td>\n",
       "      <td>NaN</td>\n",
       "      <td>{\"product_specification\"=&gt;[{\"key\"=&gt;\"Number of ...</td>\n",
       "    </tr>\n",
       "    <tr>\n",
       "      <th>421</th>\n",
       "      <td>f25d2701ff23f6749e8e69ca17987993</td>\n",
       "      <td>2015-12-01 06:13:00+00:00</td>\n",
       "      <td>http://www.flipkart.com/netgear-wn3000rp-unive...</td>\n",
       "      <td>Netgear WN3000RP Universal Wi-Fi Range Extender</td>\n",
       "      <td>[\"Computers &gt;&gt; Network Components &gt;&gt; Routers &gt;...</td>\n",
       "      <td>RTRD6FYYZCZGPCVH</td>\n",
       "      <td>3499.0</td>\n",
       "      <td>2140.0</td>\n",
       "      <td>f25d2701ff23f6749e8e69ca17987993.jpg</td>\n",
       "      <td>True</td>\n",
       "      <td>Buy Netgear WN3000RP Universal Wi-Fi Range Ext...</td>\n",
       "      <td>4.4</td>\n",
       "      <td>4.4</td>\n",
       "      <td>Netgear</td>\n",
       "      <td>{\"product_specification\"=&gt;[{\"key\"=&gt;\"Encryption...</td>\n",
       "    </tr>\n",
       "    <tr>\n",
       "      <th>428</th>\n",
       "      <td>dd5d6f0649f40d49791bbd5c00758e2f</td>\n",
       "      <td>2016-03-11 06:55:07+00:00</td>\n",
       "      <td>http://www.flipkart.com/graco-literider-click-...</td>\n",
       "      <td>Graco LiteRider Click Connect � Marco</td>\n",
       "      <td>[\"Baby Care &gt;&gt; Strollers &amp; Activity Gear &gt;&gt; St...</td>\n",
       "      <td>STREDF58JH3GQZF9</td>\n",
       "      <td>12500.0</td>\n",
       "      <td>9375.0</td>\n",
       "      <td>dd5d6f0649f40d49791bbd5c00758e2f.jpg</td>\n",
       "      <td>True</td>\n",
       "      <td>Specifications of Graco LiteRider Click Connec...</td>\n",
       "      <td>No rating available</td>\n",
       "      <td>No rating available</td>\n",
       "      <td>Graco</td>\n",
       "      <td>{\"product_specification\"=&gt;[{\"key\"=&gt;\"Foldable\",...</td>\n",
       "    </tr>\n",
       "    <tr>\n",
       "      <th>499</th>\n",
       "      <td>d5d6c94b78fb0875b2894d44e7c46312</td>\n",
       "      <td>2016-01-07 05:50:25+00:00</td>\n",
       "      <td>http://www.flipkart.com/maxima-03918cmly-analo...</td>\n",
       "      <td>Maxima 03918CMLY Analog Watch  - For Women</td>\n",
       "      <td>[\"Watches &gt;&gt; Wrist Watches &gt;&gt; Maxima Wrist Wat...</td>\n",
       "      <td>WATE26J7Z9MEZZKH</td>\n",
       "      <td>795.0</td>\n",
       "      <td>795.0</td>\n",
       "      <td>d5d6c94b78fb0875b2894d44e7c46312.jpg</td>\n",
       "      <td>True</td>\n",
       "      <td>Maxima 03918CMLY Analog Watch  - For Women - B...</td>\n",
       "      <td>1</td>\n",
       "      <td>1</td>\n",
       "      <td>NaN</td>\n",
       "      <td>{\"product_specification\"=&gt;[{\"key\"=&gt;\"Type\", \"va...</td>\n",
       "    </tr>\n",
       "    <tr>\n",
       "      <th>500</th>\n",
       "      <td>6776795cc4521a0cb0d54059649f7d72</td>\n",
       "      <td>2016-01-07 05:50:25+00:00</td>\n",
       "      <td>http://www.flipkart.com/nexus-nx-7668-analog-w...</td>\n",
       "      <td>Nexus NX_7668 Analog Watch  - For Men</td>\n",
       "      <td>[\"Watches &gt;&gt; Wrist Watches &gt;&gt; Nexus Wrist Watc...</td>\n",
       "      <td>WATDXFGTFHHKPBNV</td>\n",
       "      <td>999.0</td>\n",
       "      <td>999.0</td>\n",
       "      <td>6776795cc4521a0cb0d54059649f7d72.jpg</td>\n",
       "      <td>True</td>\n",
       "      <td>Nexus NX_7668 Analog Watch  - For Men - Buy Ne...</td>\n",
       "      <td>No rating available</td>\n",
       "      <td>No rating available</td>\n",
       "      <td>NaN</td>\n",
       "      <td>{\"product_specification\"=&gt;[{\"key\"=&gt;\"Type\", \"va...</td>\n",
       "    </tr>\n",
       "    <tr>\n",
       "      <th>502</th>\n",
       "      <td>71ff6abd7764f2a42fcbefc11429be2d</td>\n",
       "      <td>2016-01-07 05:50:25+00:00</td>\n",
       "      <td>http://www.flipkart.com/maxima-01433cmgy-gold-...</td>\n",
       "      <td>Maxima 01433CMGY Gold Analog Watch  - For Men</td>\n",
       "      <td>[\"Watches &gt;&gt; Wrist Watches &gt;&gt; Maxima Wrist Wat...</td>\n",
       "      <td>WATDZ5HGFJCH2FGY</td>\n",
       "      <td>795.0</td>\n",
       "      <td>795.0</td>\n",
       "      <td>71ff6abd7764f2a42fcbefc11429be2d.jpg</td>\n",
       "      <td>True</td>\n",
       "      <td>Maxima 01433CMGY Gold Analog Watch  - For Men ...</td>\n",
       "      <td>No rating available</td>\n",
       "      <td>No rating available</td>\n",
       "      <td>NaN</td>\n",
       "      <td>{\"product_specification\"=&gt;[{\"key\"=&gt;\"Diameter\",...</td>\n",
       "    </tr>\n",
       "    <tr>\n",
       "      <th>503</th>\n",
       "      <td>c36ea960a14f164ee0f39ad6beb3796a</td>\n",
       "      <td>2016-01-07 05:50:25+00:00</td>\n",
       "      <td>http://www.flipkart.com/sonata-77036sm02j-watc...</td>\n",
       "      <td>Sonata 77036SM02J Watch</td>\n",
       "      <td>[\"Watches &gt;&gt; Wrist Watches &gt;&gt; Sonata Wrist Wat...</td>\n",
       "      <td>WATE6S3AZNHMPTJA</td>\n",
       "      <td>999.0</td>\n",
       "      <td>999.0</td>\n",
       "      <td>c36ea960a14f164ee0f39ad6beb3796a.jpg</td>\n",
       "      <td>True</td>\n",
       "      <td>Sonata 77036SM02J Watch - Buy Sonata 77036SM02...</td>\n",
       "      <td>No rating available</td>\n",
       "      <td>No rating available</td>\n",
       "      <td>NaN</td>\n",
       "      <td>{\"product_specification\"=&gt;[{\"key\"=&gt;\"Style Code...</td>\n",
       "    </tr>\n",
       "    <tr>\n",
       "      <th>505</th>\n",
       "      <td>8284c10b2890ed53e17de5cfc33cdb96</td>\n",
       "      <td>2016-01-07 05:50:25+00:00</td>\n",
       "      <td>http://www.flipkart.com/maxima-24990lmli-swaro...</td>\n",
       "      <td>Maxima 24990LMLI Swarovski Analog Watch  - For...</td>\n",
       "      <td>[\"Watches &gt;&gt; Wrist Watches &gt;&gt; Maxima Wrist Wat...</td>\n",
       "      <td>WATDCUGXHXSUHBHX</td>\n",
       "      <td>950.0</td>\n",
       "      <td>760.0</td>\n",
       "      <td>8284c10b2890ed53e17de5cfc33cdb96.jpg</td>\n",
       "      <td>True</td>\n",
       "      <td>Maxima 24990LMLI Swarovski Analog Watch  - For...</td>\n",
       "      <td>4.2</td>\n",
       "      <td>4.2</td>\n",
       "      <td>NaN</td>\n",
       "      <td>{\"product_specification\"=&gt;[{\"key\"=&gt;\"Type\", \"va...</td>\n",
       "    </tr>\n",
       "    <tr>\n",
       "      <th>513</th>\n",
       "      <td>93f01d6cd167fa549928a9b649f87ccc</td>\n",
       "      <td>2016-01-07 05:50:25+00:00</td>\n",
       "      <td>http://www.flipkart.com/global-nomad-gnlbbl031...</td>\n",
       "      <td>Global Nomad GNLBBL0314 Analog Watch  - For Men</td>\n",
       "      <td>[\"Watches &gt;&gt; Wrist Watches &gt;&gt; Global Nomad Wri...</td>\n",
       "      <td>WATDZRZGCSSQ8RYS</td>\n",
       "      <td>725.0</td>\n",
       "      <td>725.0</td>\n",
       "      <td>93f01d6cd167fa549928a9b649f87ccc.jpg</td>\n",
       "      <td>True</td>\n",
       "      <td>Global Nomad GNLBBL0314 Analog Watch  - For Me...</td>\n",
       "      <td>4</td>\n",
       "      <td>4</td>\n",
       "      <td>NaN</td>\n",
       "      <td>{\"product_specification\"=&gt;[{\"key\"=&gt;\"Luminous\",...</td>\n",
       "    </tr>\n",
       "    <tr>\n",
       "      <th>514</th>\n",
       "      <td>c9531b92270ef77516d5b5b7ba2568e9</td>\n",
       "      <td>2016-01-07 05:50:25+00:00</td>\n",
       "      <td>http://www.flipkart.com/maxima-04615cmgy-gold-...</td>\n",
       "      <td>Maxima 04615CMGY Gold Analog Watch  - For Men</td>\n",
       "      <td>[\"Watches &gt;&gt; Wrist Watches &gt;&gt; Maxima Wrist Wat...</td>\n",
       "      <td>WATE4S5RZ8P5JZHZ</td>\n",
       "      <td>795.0</td>\n",
       "      <td>795.0</td>\n",
       "      <td>c9531b92270ef77516d5b5b7ba2568e9.jpg</td>\n",
       "      <td>True</td>\n",
       "      <td>Maxima 04615CMGY Gold Analog Watch  - For Men ...</td>\n",
       "      <td>No rating available</td>\n",
       "      <td>No rating available</td>\n",
       "      <td>NaN</td>\n",
       "      <td>{\"product_specification\"=&gt;[{\"key\"=&gt;\"Diameter\",...</td>\n",
       "    </tr>\n",
       "    <tr>\n",
       "      <th>515</th>\n",
       "      <td>9823c07cc256788556e424307f5ae9b6</td>\n",
       "      <td>2016-01-07 05:50:25+00:00</td>\n",
       "      <td>http://www.flipkart.com/noise-nosww032-m-famou...</td>\n",
       "      <td>Noise NOSWW032 I M Famous Analog Watch  - For ...</td>\n",
       "      <td>[\"Watches &gt;&gt; Wrist Watches &gt;&gt; Noise Wrist Watc...</td>\n",
       "      <td>WATDJYPXSKYGWPXF</td>\n",
       "      <td>999.0</td>\n",
       "      <td>999.0</td>\n",
       "      <td>9823c07cc256788556e424307f5ae9b6.jpg</td>\n",
       "      <td>True</td>\n",
       "      <td>Noise NOSWW032 I M Famous Analog Watch  - For ...</td>\n",
       "      <td>No rating available</td>\n",
       "      <td>No rating available</td>\n",
       "      <td>NaN</td>\n",
       "      <td>{\"product_specification\"=&gt;[{\"key\"=&gt;\"Type\", \"va...</td>\n",
       "    </tr>\n",
       "    <tr>\n",
       "      <th>519</th>\n",
       "      <td>dbcaa93cc0542079e9c88db51ec23676</td>\n",
       "      <td>2016-01-07 05:50:25+00:00</td>\n",
       "      <td>http://www.flipkart.com/maxima-21131cpgi-mac-a...</td>\n",
       "      <td>Maxima 21131CPGI Mac Attivo Analog Watch  - Fo...</td>\n",
       "      <td>[\"Watches &gt;&gt; Wrist Watches &gt;&gt; Maxima Wrist Wat...</td>\n",
       "      <td>WATE4S5RZY2TJUHP</td>\n",
       "      <td>695.0</td>\n",
       "      <td>695.0</td>\n",
       "      <td>dbcaa93cc0542079e9c88db51ec23676.jpg</td>\n",
       "      <td>True</td>\n",
       "      <td>Maxima 21131CPGI Mac Attivo Analog Watch  - Fo...</td>\n",
       "      <td>No rating available</td>\n",
       "      <td>No rating available</td>\n",
       "      <td>NaN</td>\n",
       "      <td>{\"product_specification\"=&gt;[{\"key\"=&gt;\"Other Dime...</td>\n",
       "    </tr>\n",
       "    <tr>\n",
       "      <th>522</th>\n",
       "      <td>c7d81193e868b50355412ced7a67f8f3</td>\n",
       "      <td>2016-01-07 05:50:25+00:00</td>\n",
       "      <td>http://www.flipkart.com/maxima-24742lmgy-gold-...</td>\n",
       "      <td>Maxima 24742LMGY Gold Analog Watch  - For Men</td>\n",
       "      <td>[\"Watches &gt;&gt; Wrist Watches &gt;&gt; Maxima Wrist Wat...</td>\n",
       "      <td>WATDHMQJ68MVBRFV</td>\n",
       "      <td>950.0</td>\n",
       "      <td>950.0</td>\n",
       "      <td>c7d81193e868b50355412ced7a67f8f3.jpg</td>\n",
       "      <td>True</td>\n",
       "      <td>Maxima 24742LMGY Gold Analog Watch  - For Men ...</td>\n",
       "      <td>4.5</td>\n",
       "      <td>4.5</td>\n",
       "      <td>NaN</td>\n",
       "      <td>{\"product_specification\"=&gt;[{\"key\"=&gt;\"Type\", \"va...</td>\n",
       "    </tr>\n",
       "    <tr>\n",
       "      <th>524</th>\n",
       "      <td>797d10fe966b3aa35933669c3425525b</td>\n",
       "      <td>2016-01-07 05:50:25+00:00</td>\n",
       "      <td>http://www.flipkart.com/noise-nosww001-analog-...</td>\n",
       "      <td>Noise NOSWW001 Analog Watch  - For Men, Women</td>\n",
       "      <td>[\"Watches &gt;&gt; Wrist Watches &gt;&gt; Noise Wrist Watc...</td>\n",
       "      <td>WATDFFH3KJYBTYGG</td>\n",
       "      <td>999.0</td>\n",
       "      <td>999.0</td>\n",
       "      <td>797d10fe966b3aa35933669c3425525b.jpg</td>\n",
       "      <td>True</td>\n",
       "      <td>Noise NOSWW001 Analog Watch  - For Men, Women ...</td>\n",
       "      <td>4</td>\n",
       "      <td>4</td>\n",
       "      <td>NaN</td>\n",
       "      <td>{\"product_specification\"=&gt;[{\"key\"=&gt;\"Diameter\",...</td>\n",
       "    </tr>\n",
       "    <tr>\n",
       "      <th>525</th>\n",
       "      <td>d21409978f5e404b53f89e444f7893fe</td>\n",
       "      <td>2016-01-07 05:50:25+00:00</td>\n",
       "      <td>http://www.flipkart.com/sf-sonata-7991pp02-oce...</td>\n",
       "      <td>SF by Sonata 7991PP02 Ocean Digital Watch  - F...</td>\n",
       "      <td>[\"Watches &gt;&gt; Wrist Watches &gt;&gt; SF by Sonata Wri...</td>\n",
       "      <td>WATDG9F723NCPXNU</td>\n",
       "      <td>999.0</td>\n",
       "      <td>999.0</td>\n",
       "      <td>d21409978f5e404b53f89e444f7893fe.jpg</td>\n",
       "      <td>True</td>\n",
       "      <td>SF by Sonata 7991PP02 Ocean Digital Watch  - F...</td>\n",
       "      <td>4.8</td>\n",
       "      <td>4.8</td>\n",
       "      <td>NaN</td>\n",
       "      <td>{\"product_specification\"=&gt;[{\"key\"=&gt;\"Date Displ...</td>\n",
       "    </tr>\n",
       "    <tr>\n",
       "      <th>526</th>\n",
       "      <td>9059227d71995f88a1f48ff63830f716</td>\n",
       "      <td>2016-01-07 05:50:25+00:00</td>\n",
       "      <td>http://www.flipkart.com/fluid-fu203-gr01-analo...</td>\n",
       "      <td>Fluid FU203-GR01 Analog-Digital Watch  - For Men</td>\n",
       "      <td>[\"Watches &gt;&gt; Wrist Watches &gt;&gt; Fluid Wrist Watc...</td>\n",
       "      <td>WATDUK7DV6GSTKRD</td>\n",
       "      <td>899.0</td>\n",
       "      <td>899.0</td>\n",
       "      <td>9059227d71995f88a1f48ff63830f716.jpg</td>\n",
       "      <td>True</td>\n",
       "      <td>Fluid FU203-GR01 Analog-Digital Watch  - For M...</td>\n",
       "      <td>3</td>\n",
       "      <td>3</td>\n",
       "      <td>NaN</td>\n",
       "      <td>{\"product_specification\"=&gt;[{\"key\"=&gt;\"Other Func...</td>\n",
       "    </tr>\n",
       "    <tr>\n",
       "      <th>535</th>\n",
       "      <td>b19c9174113c2b9288157e14c48a8250</td>\n",
       "      <td>2016-01-07 05:50:25+00:00</td>\n",
       "      <td>http://www.flipkart.com/maxima-24864lmgy-analo...</td>\n",
       "      <td>Maxima 24864LMGY Analog Watch  - For Men</td>\n",
       "      <td>[\"Watches &gt;&gt; Wrist Watches &gt;&gt; Maxima Wrist Wat...</td>\n",
       "      <td>WATE26J7ZMQDQGZN</td>\n",
       "      <td>950.0</td>\n",
       "      <td>950.0</td>\n",
       "      <td>b19c9174113c2b9288157e14c48a8250.jpg</td>\n",
       "      <td>True</td>\n",
       "      <td>Maxima 24864LMGY Analog Watch  - For Men - Buy...</td>\n",
       "      <td>5</td>\n",
       "      <td>5</td>\n",
       "      <td>NaN</td>\n",
       "      <td>{\"product_specification\"=&gt;[{\"key\"=&gt;\"Diameter\",...</td>\n",
       "    </tr>\n",
       "    <tr>\n",
       "      <th>537</th>\n",
       "      <td>f242a2cf1525f7700770cf1262b4b660</td>\n",
       "      <td>2016-01-07 05:50:25+00:00</td>\n",
       "      <td>http://www.flipkart.com/maxima-01784bmly-gold-...</td>\n",
       "      <td>Maxima 01784BMLY Gold Analog Watch  - For Women</td>\n",
       "      <td>[\"Watches &gt;&gt; Wrist Watches &gt;&gt; Maxima Wrist Wat...</td>\n",
       "      <td>WATDZ5HGF5UXGZVG</td>\n",
       "      <td>995.0</td>\n",
       "      <td>995.0</td>\n",
       "      <td>f242a2cf1525f7700770cf1262b4b660.jpg</td>\n",
       "      <td>True</td>\n",
       "      <td>Maxima 01784BMLY Gold Analog Watch  - For Wome...</td>\n",
       "      <td>No rating available</td>\n",
       "      <td>No rating available</td>\n",
       "      <td>NaN</td>\n",
       "      <td>{\"product_specification\"=&gt;[{\"key\"=&gt;\"Other Dime...</td>\n",
       "    </tr>\n",
       "    <tr>\n",
       "      <th>538</th>\n",
       "      <td>3864ab10ef7006452fef45513de8f868</td>\n",
       "      <td>2016-01-07 05:50:25+00:00</td>\n",
       "      <td>http://www.flipkart.com/sonata-7092sl01-yuva-a...</td>\n",
       "      <td>Sonata 7092SL01 Yuva Analog Watch  - For Men</td>\n",
       "      <td>[\"Watches &gt;&gt; Wrist Watches &gt;&gt; Sonata Wrist Wat...</td>\n",
       "      <td>WATDA5ZABPHZZV3Q</td>\n",
       "      <td>999.0</td>\n",
       "      <td>999.0</td>\n",
       "      <td>3864ab10ef7006452fef45513de8f868.jpg</td>\n",
       "      <td>True</td>\n",
       "      <td>Sonata 7092SL01 Yuva Analog Watch  - For Men -...</td>\n",
       "      <td>4.3</td>\n",
       "      <td>4.3</td>\n",
       "      <td>NaN</td>\n",
       "      <td>{\"product_specification\"=&gt;[{\"key\"=&gt;\"Type\", \"va...</td>\n",
       "    </tr>\n",
       "    <tr>\n",
       "      <th>539</th>\n",
       "      <td>052559ede419996737893eb47568ee7f</td>\n",
       "      <td>2016-01-07 05:50:25+00:00</td>\n",
       "      <td>http://www.flipkart.com/maxima-26512ppgn-fiber...</td>\n",
       "      <td>Maxima 26512PPGN FIBER COLLECTION Analog Watch...</td>\n",
       "      <td>[\"Watches &gt;&gt; Wrist Watches &gt;&gt; Maxima Wrist Wat...</td>\n",
       "      <td>WATDJTR9HKKRXKTJ</td>\n",
       "      <td>595.0</td>\n",
       "      <td>595.0</td>\n",
       "      <td>052559ede419996737893eb47568ee7f.jpg</td>\n",
       "      <td>True</td>\n",
       "      <td>Maxima 26512PPGN FIBER COLLECTION Analog Watch...</td>\n",
       "      <td>5</td>\n",
       "      <td>5</td>\n",
       "      <td>NaN</td>\n",
       "      <td>{\"product_specification\"=&gt;[{\"key\"=&gt;\"Type\", \"va...</td>\n",
       "    </tr>\n",
       "    <tr>\n",
       "      <th>541</th>\n",
       "      <td>54749618b728306f9b3dc518dec315ee</td>\n",
       "      <td>2016-01-07 05:50:25+00:00</td>\n",
       "      <td>http://www.flipkart.com/petrol-pcwbl68-analog-...</td>\n",
       "      <td>Petrol PCWBL68 Analog Watch  - For Men</td>\n",
       "      <td>[\"Watches &gt;&gt; Wrist Watches &gt;&gt; Petrol Wrist Wat...</td>\n",
       "      <td>WATDPV5TUCGZ8JCN</td>\n",
       "      <td>999.0</td>\n",
       "      <td>999.0</td>\n",
       "      <td>54749618b728306f9b3dc518dec315ee.jpg</td>\n",
       "      <td>True</td>\n",
       "      <td>Petrol PCWBL68 Analog Watch  - For Men - Buy P...</td>\n",
       "      <td>3.5</td>\n",
       "      <td>3.5</td>\n",
       "      <td>NaN</td>\n",
       "      <td>{\"product_specification\"=&gt;[{\"key\"=&gt;\"Type\", \"va...</td>\n",
       "    </tr>\n",
       "    <tr>\n",
       "      <th>542</th>\n",
       "      <td>3fa21f35257649e1513ca4ce22c6a68c</td>\n",
       "      <td>2016-01-07 05:50:25+00:00</td>\n",
       "      <td>http://www.flipkart.com/maxima-01741lpln-analo...</td>\n",
       "      <td>Maxima 01741LPLN Analog Watch  - For Women</td>\n",
       "      <td>[\"Watches &gt;&gt; Wrist Watches &gt;&gt; Maxima Wrist Wat...</td>\n",
       "      <td>WATDZ5HGJEQGGB6U</td>\n",
       "      <td>650.0</td>\n",
       "      <td>650.0</td>\n",
       "      <td>3fa21f35257649e1513ca4ce22c6a68c.jpg</td>\n",
       "      <td>True</td>\n",
       "      <td>Maxima 01741LPLN Analog Watch  - For Women - B...</td>\n",
       "      <td>No rating available</td>\n",
       "      <td>No rating available</td>\n",
       "      <td>NaN</td>\n",
       "      <td>{\"product_specification\"=&gt;[{\"key\"=&gt;\"Weight\", \"...</td>\n",
       "    </tr>\n",
       "    <tr>\n",
       "      <th>544</th>\n",
       "      <td>894904e26516d491bf1c7711fe800e78</td>\n",
       "      <td>2016-01-07 05:50:25+00:00</td>\n",
       "      <td>http://www.flipkart.com/only-kidz-20600-digita...</td>\n",
       "      <td>Only Kidz 20600 Digital Watch  - For Boys, Girls</td>\n",
       "      <td>[\"Watches &gt;&gt; Wrist Watches &gt;&gt; Only Kidz Wrist ...</td>\n",
       "      <td>WATDWABRFCWT2DD3</td>\n",
       "      <td>599.0</td>\n",
       "      <td>599.0</td>\n",
       "      <td>894904e26516d491bf1c7711fe800e78.jpg</td>\n",
       "      <td>True</td>\n",
       "      <td>Only Kidz 20600 Digital Watch  - For Boys, Gir...</td>\n",
       "      <td>1</td>\n",
       "      <td>1</td>\n",
       "      <td>NaN</td>\n",
       "      <td>{\"product_specification\"=&gt;[{\"key\"=&gt;\"Diameter\",...</td>\n",
       "    </tr>\n",
       "    <tr>\n",
       "      <th>546</th>\n",
       "      <td>797bb7813ec0bbc99e8b6f1b32c32e52</td>\n",
       "      <td>2016-01-07 05:50:25+00:00</td>\n",
       "      <td>http://www.flipkart.com/maxima-19431cmgy-gold-...</td>\n",
       "      <td>Maxima 19431CMGY Gold Analog Watch  - For Men</td>\n",
       "      <td>[\"Watches &gt;&gt; Wrist Watches &gt;&gt; Maxima Wrist Wat...</td>\n",
       "      <td>WATE4S5RZZY6ZCSA</td>\n",
       "      <td>795.0</td>\n",
       "      <td>795.0</td>\n",
       "      <td>797bb7813ec0bbc99e8b6f1b32c32e52.jpg</td>\n",
       "      <td>True</td>\n",
       "      <td>Maxima 19431CMGY Gold Analog Watch  - For Men ...</td>\n",
       "      <td>No rating available</td>\n",
       "      <td>No rating available</td>\n",
       "      <td>NaN</td>\n",
       "      <td>{\"product_specification\"=&gt;[{\"key\"=&gt;\"Diameter\",...</td>\n",
       "    </tr>\n",
       "    <tr>\n",
       "      <th>547</th>\n",
       "      <td>987e13b445c34bfedb9796d2bb78d593</td>\n",
       "      <td>2016-01-07 05:50:25+00:00</td>\n",
       "      <td>http://www.flipkart.com/maxima-01727lpln-mac-g...</td>\n",
       "      <td>Maxima 01727LPLN Mac Gold Analog Watch  - For ...</td>\n",
       "      <td>[\"Watches &gt;&gt; Wrist Watches &gt;&gt; Maxima Wrist Wat...</td>\n",
       "      <td>WATDZ5HGF7WGCFGH</td>\n",
       "      <td>650.0</td>\n",
       "      <td>650.0</td>\n",
       "      <td>987e13b445c34bfedb9796d2bb78d593.jpg</td>\n",
       "      <td>True</td>\n",
       "      <td>Maxima 01727LPLN Mac Gold Analog Watch  - For ...</td>\n",
       "      <td>5</td>\n",
       "      <td>5</td>\n",
       "      <td>NaN</td>\n",
       "      <td>{\"product_specification\"=&gt;[{\"key\"=&gt;\"Mechanism\"...</td>\n",
       "    </tr>\n",
       "    <tr>\n",
       "      <th>549</th>\n",
       "      <td>8a15fa23b8c39ac1c7eaac94cbbe6fc6</td>\n",
       "      <td>2016-01-07 05:50:25+00:00</td>\n",
       "      <td>http://www.flipkart.com/hmt-s3648-analog-watch...</td>\n",
       "      <td>HMT S3648 Analog Watch  - For Men</td>\n",
       "      <td>[\"Watches &gt;&gt; Wrist Watches &gt;&gt; HMT Wrist Watches\"]</td>\n",
       "      <td>WATDYQ93UUZYVFQX</td>\n",
       "      <td>800.0</td>\n",
       "      <td>800.0</td>\n",
       "      <td>8a15fa23b8c39ac1c7eaac94cbbe6fc6.jpg</td>\n",
       "      <td>True</td>\n",
       "      <td>HMT S3648 Analog Watch  - For Men - Buy HMT S3...</td>\n",
       "      <td>3.7</td>\n",
       "      <td>3.7</td>\n",
       "      <td>NaN</td>\n",
       "      <td>{\"product_specification\"=&gt;[{\"key\"=&gt;\"Mechanism\"...</td>\n",
       "    </tr>\n",
       "    <tr>\n",
       "      <th>555</th>\n",
       "      <td>51c9062e6538c787b14a75a6a7cb7fb3</td>\n",
       "      <td>2016-01-07 05:50:25+00:00</td>\n",
       "      <td>http://www.flipkart.com/sonata-7007sl02-analog...</td>\n",
       "      <td>Sonata 7007SL02 Analog Watch  - For Men</td>\n",
       "      <td>[\"Watches &gt;&gt; Wrist Watches &gt;&gt; Sonata Wrist Wat...</td>\n",
       "      <td>WATDWGAHRCPFYWGW</td>\n",
       "      <td>725.0</td>\n",
       "      <td>725.0</td>\n",
       "      <td>51c9062e6538c787b14a75a6a7cb7fb3.jpg</td>\n",
       "      <td>True</td>\n",
       "      <td>Sonata 7007SL02 Analog Watch  - For Men - Buy ...</td>\n",
       "      <td>3.5</td>\n",
       "      <td>3.5</td>\n",
       "      <td>NaN</td>\n",
       "      <td>{\"product_specification\"=&gt;[{\"key\"=&gt;\"Mechanism\"...</td>\n",
       "    </tr>\n",
       "    <tr>\n",
       "      <th>560</th>\n",
       "      <td>c205b200b10aab43be31df8fc1db6d86</td>\n",
       "      <td>2016-01-07 05:50:25+00:00</td>\n",
       "      <td>http://www.flipkart.com/fastrack-9913pp03-tees...</td>\n",
       "      <td>Fastrack 9913PP03 Tees Analog Watch  - For Women</td>\n",
       "      <td>[\"Watches &gt;&gt; Wrist Watches &gt;&gt; Fastrack Wrist W...</td>\n",
       "      <td>WATD9H76YMYPCMCK</td>\n",
       "      <td>649.0</td>\n",
       "      <td>649.0</td>\n",
       "      <td>c205b200b10aab43be31df8fc1db6d86.jpg</td>\n",
       "      <td>True</td>\n",
       "      <td>Fastrack 9913PP03 Tees Analog Watch  - For Wom...</td>\n",
       "      <td>2</td>\n",
       "      <td>2</td>\n",
       "      <td>NaN</td>\n",
       "      <td>{\"product_specification\"=&gt;[{\"key\"=&gt;\"Type\", \"va...</td>\n",
       "    </tr>\n",
       "    <tr>\n",
       "      <th>562</th>\n",
       "      <td>3693c4e7f7efb47edb3d9eec067ffd93</td>\n",
       "      <td>2016-01-07 05:50:25+00:00</td>\n",
       "      <td>http://www.flipkart.com/maxima-19413ppsn-fiber...</td>\n",
       "      <td>Maxima 19413PPSN FIBER COLLECTION Digital Watc...</td>\n",
       "      <td>[\"Watches &gt;&gt; Wrist Watches &gt;&gt; Maxima Wrist Wat...</td>\n",
       "      <td>WATD9H76QFGFQAHV</td>\n",
       "      <td>825.0</td>\n",
       "      <td>825.0</td>\n",
       "      <td>3693c4e7f7efb47edb3d9eec067ffd93.jpg</td>\n",
       "      <td>True</td>\n",
       "      <td>Maxima 19413PPSN FIBER COLLECTION Digital Watc...</td>\n",
       "      <td>4.7</td>\n",
       "      <td>4.7</td>\n",
       "      <td>NaN</td>\n",
       "      <td>{\"product_specification\"=&gt;[{\"key\"=&gt;\"Light\", \"v...</td>\n",
       "    </tr>\n",
       "    <tr>\n",
       "      <th>563</th>\n",
       "      <td>e15195f2a5ebaa2168ccd65324e65e8e</td>\n",
       "      <td>2016-01-07 05:50:25+00:00</td>\n",
       "      <td>http://www.flipkart.com/fluid-fs201-bl01-analo...</td>\n",
       "      <td>Fluid FS201-BL01 Analog-Digital Watch  - For W...</td>\n",
       "      <td>[\"Watches &gt;&gt; Wrist Watches &gt;&gt; Fluid Wrist Watc...</td>\n",
       "      <td>WATDUK7DKS6AJZYK</td>\n",
       "      <td>999.0</td>\n",
       "      <td>999.0</td>\n",
       "      <td>e15195f2a5ebaa2168ccd65324e65e8e.jpg</td>\n",
       "      <td>True</td>\n",
       "      <td>Fluid FS201-BL01 Analog-Digital Watch  - For W...</td>\n",
       "      <td>No rating available</td>\n",
       "      <td>No rating available</td>\n",
       "      <td>NaN</td>\n",
       "      <td>{\"product_specification\"=&gt;[{\"key\"=&gt;\"Other Func...</td>\n",
       "    </tr>\n",
       "    <tr>\n",
       "      <th>565</th>\n",
       "      <td>51eb5d22eda4be2a409a336651c50bb1</td>\n",
       "      <td>2016-01-07 05:50:25+00:00</td>\n",
       "      <td>http://www.flipkart.com/sonata-8097ym03-analog...</td>\n",
       "      <td>Sonata 8097YM03 Analog Watch  - For Women</td>\n",
       "      <td>[\"Watches &gt;&gt; Wrist Watches &gt;&gt; Sonata Wrist Wat...</td>\n",
       "      <td>WATDZ2ZQT4ZNRHPU</td>\n",
       "      <td>999.0</td>\n",
       "      <td>999.0</td>\n",
       "      <td>51eb5d22eda4be2a409a336651c50bb1.jpg</td>\n",
       "      <td>True</td>\n",
       "      <td>Sonata 8097YM03 Analog Watch  - For Women - Bu...</td>\n",
       "      <td>No rating available</td>\n",
       "      <td>No rating available</td>\n",
       "      <td>NaN</td>\n",
       "      <td>{\"product_specification\"=&gt;[{\"key\"=&gt;\"Type\", \"va...</td>\n",
       "    </tr>\n",
       "    <tr>\n",
       "      <th>566</th>\n",
       "      <td>ac209ee3c602efed4ff093854a4ade06</td>\n",
       "      <td>2016-01-07 05:50:25+00:00</td>\n",
       "      <td>http://www.flipkart.com/maxima-19883bmli-swaro...</td>\n",
       "      <td>Maxima 19883BMLI Swarovski Analog Watch  - For...</td>\n",
       "      <td>[\"Watches &gt;&gt; Wrist Watches &gt;&gt; Maxima Wrist Wat...</td>\n",
       "      <td>WATDE9NFPB9TBVSK</td>\n",
       "      <td>995.0</td>\n",
       "      <td>995.0</td>\n",
       "      <td>ac209ee3c602efed4ff093854a4ade06.jpg</td>\n",
       "      <td>True</td>\n",
       "      <td>Maxima 19883BMLI Swarovski Analog Watch  - For...</td>\n",
       "      <td>4.3</td>\n",
       "      <td>4.3</td>\n",
       "      <td>NaN</td>\n",
       "      <td>{\"product_specification\"=&gt;[{\"key\"=&gt;\"Type\", \"va...</td>\n",
       "    </tr>\n",
       "    <tr>\n",
       "      <th>568</th>\n",
       "      <td>f559fdabbcc1f4980f215f847bfdd589</td>\n",
       "      <td>2016-01-07 05:50:25+00:00</td>\n",
       "      <td>http://www.flipkart.com/flippd-fd15102-analog-...</td>\n",
       "      <td>Flippd FD15102 Analog Watch  - For Men</td>\n",
       "      <td>[\"Watches &gt;&gt; Wrist Watches &gt;&gt; Flippd Wrist Wat...</td>\n",
       "      <td>WATE3HFNNASZJQYH</td>\n",
       "      <td>750.0</td>\n",
       "      <td>750.0</td>\n",
       "      <td>f559fdabbcc1f4980f215f847bfdd589.jpg</td>\n",
       "      <td>True</td>\n",
       "      <td>Flippd FD15102 Analog Watch  - For Men - Buy F...</td>\n",
       "      <td>4</td>\n",
       "      <td>4</td>\n",
       "      <td>NaN</td>\n",
       "      <td>{\"product_specification\"=&gt;[{\"key\"=&gt;\"Weight\", \"...</td>\n",
       "    </tr>\n",
       "    <tr>\n",
       "      <th>571</th>\n",
       "      <td>d0e09eaa7fcc9e7de3349959800d2141</td>\n",
       "      <td>2016-01-07 05:50:25+00:00</td>\n",
       "      <td>http://www.flipkart.com/hmt-olss-01-analog-wat...</td>\n",
       "      <td>HMT OLSS 01 Analog Watch  - For Women</td>\n",
       "      <td>[\"Watches &gt;&gt; Wrist Watches &gt;&gt; HMT Wrist Watches\"]</td>\n",
       "      <td>WATDVGGHWZBHXYBS</td>\n",
       "      <td>550.0</td>\n",
       "      <td>550.0</td>\n",
       "      <td>d0e09eaa7fcc9e7de3349959800d2141.jpg</td>\n",
       "      <td>True</td>\n",
       "      <td>HMT OLSS 01 Analog Watch  - For Women - Buy HM...</td>\n",
       "      <td>4</td>\n",
       "      <td>4</td>\n",
       "      <td>NaN</td>\n",
       "      <td>{\"product_specification\"=&gt;[{\"key\"=&gt;\"Mechanism\"...</td>\n",
       "    </tr>\n",
       "    <tr>\n",
       "      <th>577</th>\n",
       "      <td>059bc43e03e1824a9ab6466e32e5f137</td>\n",
       "      <td>2016-01-07 05:50:25+00:00</td>\n",
       "      <td>http://www.flipkart.com/maxima-05712lmly-analo...</td>\n",
       "      <td>Maxima 05712LMLY Analog Watch  - For Women</td>\n",
       "      <td>[\"Watches &gt;&gt; Wrist Watches &gt;&gt; Maxima Wrist Wat...</td>\n",
       "      <td>WATE26J7DTHUYJN8</td>\n",
       "      <td>925.0</td>\n",
       "      <td>925.0</td>\n",
       "      <td>059bc43e03e1824a9ab6466e32e5f137.jpg</td>\n",
       "      <td>True</td>\n",
       "      <td>Maxima 05712LMLY Analog Watch  - For Women - B...</td>\n",
       "      <td>4.7</td>\n",
       "      <td>4.7</td>\n",
       "      <td>NaN</td>\n",
       "      <td>{\"product_specification\"=&gt;[{\"key\"=&gt;\"Type\", \"va...</td>\n",
       "    </tr>\n",
       "    <tr>\n",
       "      <th>580</th>\n",
       "      <td>6f9c169adda9b562a841a9cf54b16f06</td>\n",
       "      <td>2016-01-07 05:50:25+00:00</td>\n",
       "      <td>http://www.flipkart.com/sonata-7085yl01-analog...</td>\n",
       "      <td>Sonata 7085YL01 Analog Watch  - For Men</td>\n",
       "      <td>[\"Watches &gt;&gt; Wrist Watches &gt;&gt; Sonata Wrist Wat...</td>\n",
       "      <td>WATDT6GFNJN4WGYD</td>\n",
       "      <td>750.0</td>\n",
       "      <td>750.0</td>\n",
       "      <td>6f9c169adda9b562a841a9cf54b16f06.jpg</td>\n",
       "      <td>True</td>\n",
       "      <td>Sonata 7085YL01 Analog Watch  - For Men - Buy ...</td>\n",
       "      <td>No rating available</td>\n",
       "      <td>No rating available</td>\n",
       "      <td>NaN</td>\n",
       "      <td>{\"product_specification\"=&gt;[{\"key\"=&gt;\"Type\", \"va...</td>\n",
       "    </tr>\n",
       "    <tr>\n",
       "      <th>582</th>\n",
       "      <td>a7bd63ef1d3b345d7f9a162865bb7c0d</td>\n",
       "      <td>2016-01-07 05:50:25+00:00</td>\n",
       "      <td>http://www.flipkart.com/flippd-fd040149-casual...</td>\n",
       "      <td>Flippd FD040149 Casual Analog Watch  - For Wom...</td>\n",
       "      <td>[\"Watches &gt;&gt; Wrist Watches &gt;&gt; Flippd Wrist Wat...</td>\n",
       "      <td>WATE8E8PGC6SARZG</td>\n",
       "      <td>999.0</td>\n",
       "      <td>999.0</td>\n",
       "      <td>a7bd63ef1d3b345d7f9a162865bb7c0d.jpg</td>\n",
       "      <td>True</td>\n",
       "      <td>Flippd FD040149 Casual Analog Watch  - For Wom...</td>\n",
       "      <td>No rating available</td>\n",
       "      <td>No rating available</td>\n",
       "      <td>NaN</td>\n",
       "      <td>{\"product_specification\"=&gt;[{\"key\"=&gt;\"Chronograp...</td>\n",
       "    </tr>\n",
       "    <tr>\n",
       "      <th>584</th>\n",
       "      <td>8748b6cd9f03afc539f246c55e230502</td>\n",
       "      <td>2016-01-07 05:50:25+00:00</td>\n",
       "      <td>http://www.flipkart.com/fastrack-9912pp09-tees...</td>\n",
       "      <td>Fastrack 9912PP09 Tees Analog Watch  - For Men...</td>\n",
       "      <td>[\"Watches &gt;&gt; Wrist Watches &gt;&gt; Fastrack Wrist W...</td>\n",
       "      <td>WATD9H76H9EHPBUF</td>\n",
       "      <td>750.0</td>\n",
       "      <td>750.0</td>\n",
       "      <td>8748b6cd9f03afc539f246c55e230502.jpg</td>\n",
       "      <td>True</td>\n",
       "      <td>Fastrack 9912PP09 Tees Analog Watch  - For Men...</td>\n",
       "      <td>No rating available</td>\n",
       "      <td>No rating available</td>\n",
       "      <td>NaN</td>\n",
       "      <td>{\"product_specification\"=&gt;[{\"key\"=&gt;\"Diameter\",...</td>\n",
       "    </tr>\n",
       "    <tr>\n",
       "      <th>585</th>\n",
       "      <td>a70ea60f971825b2eb57261029f317ec</td>\n",
       "      <td>2016-01-07 05:50:25+00:00</td>\n",
       "      <td>http://www.flipkart.com/flippd-fdrbb1614-fibre...</td>\n",
       "      <td>Flippd FDRBB1614 Fibre Analog Watch  - For Men</td>\n",
       "      <td>[\"Watches &gt;&gt; Wrist Watches &gt;&gt; Flippd Wrist Wat...</td>\n",
       "      <td>WATEYUZXWKUESAYZ</td>\n",
       "      <td>750.0</td>\n",
       "      <td>750.0</td>\n",
       "      <td>a70ea60f971825b2eb57261029f317ec.jpg</td>\n",
       "      <td>True</td>\n",
       "      <td>Flippd FDRBB1614 Fibre Analog Watch  - For Men...</td>\n",
       "      <td>3.6</td>\n",
       "      <td>3.6</td>\n",
       "      <td>NaN</td>\n",
       "      <td>{\"product_specification\"=&gt;[{\"key\"=&gt;\"Mechanism\"...</td>\n",
       "    </tr>\n",
       "    <tr>\n",
       "      <th>586</th>\n",
       "      <td>87e0ba259a84a10580bd659466e73e23</td>\n",
       "      <td>2016-01-07 05:50:25+00:00</td>\n",
       "      <td>http://www.flipkart.com/sf-sonata-7963pp02-dea...</td>\n",
       "      <td>SF by Sonata 7963PP02 Dean Analog Watch  - For...</td>\n",
       "      <td>[\"Watches &gt;&gt; Wrist Watches &gt;&gt; SF by Sonata Wri...</td>\n",
       "      <td>WATDA5ZA3Z3UJJJQ</td>\n",
       "      <td>749.0</td>\n",
       "      <td>749.0</td>\n",
       "      <td>87e0ba259a84a10580bd659466e73e23.jpg</td>\n",
       "      <td>True</td>\n",
       "      <td>SF by Sonata 7963PP02 Dean Analog Watch  - For...</td>\n",
       "      <td>4.7</td>\n",
       "      <td>4.7</td>\n",
       "      <td>NaN</td>\n",
       "      <td>{\"product_specification\"=&gt;[{\"key\"=&gt;\"Mechanism\"...</td>\n",
       "    </tr>\n",
       "    <tr>\n",
       "      <th>604</th>\n",
       "      <td>85aec4bf3185da7ebcc45003429cbfe2</td>\n",
       "      <td>2016-01-07 04:32:43+00:00</td>\n",
       "      <td>http://www.flipkart.com/hp-15-ac116tx-notebook...</td>\n",
       "      <td>HP 15-ac116TX (Notebook) (Core i3 (5th Gen)/ 4...</td>\n",
       "      <td>[\"Computers &gt;&gt; Laptops &gt;&gt; HP Laptops\"]</td>\n",
       "      <td>COMEAZ945RHFFGUS</td>\n",
       "      <td>38890.0</td>\n",
       "      <td>38890.0</td>\n",
       "      <td>85aec4bf3185da7ebcc45003429cbfe2.jpg</td>\n",
       "      <td>True</td>\n",
       "      <td>Buy HP 15-ac116TX (Notebook) (Core i3 (5th Gen...</td>\n",
       "      <td>5</td>\n",
       "      <td>5</td>\n",
       "      <td>HP</td>\n",
       "      <td>{\"product_specification\"=&gt;[{\"key\"=&gt;\"Included S...</td>\n",
       "    </tr>\n",
       "    <tr>\n",
       "      <th>605</th>\n",
       "      <td>bcb8e456728013a90ba66ab3b1b783ad</td>\n",
       "      <td>2016-01-07 04:32:43+00:00</td>\n",
       "      <td>http://www.flipkart.com/hp-15-ac121tu-notebook...</td>\n",
       "      <td>HP 15-ac121tu (Notebook) (Core i3 (5th Gen)/ 4...</td>\n",
       "      <td>[\"Computers &gt;&gt; Laptops &gt;&gt; HP Laptops\"]</td>\n",
       "      <td>COMEAZ94HWYQTZHZ</td>\n",
       "      <td>35390.0</td>\n",
       "      <td>35390.0</td>\n",
       "      <td>bcb8e456728013a90ba66ab3b1b783ad.jpg</td>\n",
       "      <td>True</td>\n",
       "      <td>Buy HP 15-ac121tu (Notebook) (Core i3 (5th Gen...</td>\n",
       "      <td>4.5</td>\n",
       "      <td>4.5</td>\n",
       "      <td>HP</td>\n",
       "      <td>{\"product_specification\"=&gt;[{\"key\"=&gt;\"Included S...</td>\n",
       "    </tr>\n",
       "    <tr>\n",
       "      <th>888</th>\n",
       "      <td>f0bc8dff0e2ef0b75f1c78b4f67bcd63</td>\n",
       "      <td>2015-12-20 08:26:17+00:00</td>\n",
       "      <td>http://www.flipkart.com/trident-cotton-face-to...</td>\n",
       "      <td>Trident Cotton Face Towel</td>\n",
       "      <td>[\"Home Furnishing &gt;&gt; Bath Linen &gt;&gt; Towels\"]</td>\n",
       "      <td>BTWE6N5SXYEJHZPB</td>\n",
       "      <td>999.0</td>\n",
       "      <td>583.0</td>\n",
       "      <td>f0bc8dff0e2ef0b75f1c78b4f67bcd63.jpg</td>\n",
       "      <td>True</td>\n",
       "      <td>Trident Cotton Face Towel (1 Hand Towel, 3 Fac...</td>\n",
       "      <td>3</td>\n",
       "      <td>3</td>\n",
       "      <td>Trident</td>\n",
       "      <td>{\"product_specification\"=&gt;[{\"key\"=&gt;\"Machine Wa...</td>\n",
       "    </tr>\n",
       "    <tr>\n",
       "      <th>914</th>\n",
       "      <td>762b6b22cccf91935e92446efe298fe3</td>\n",
       "      <td>2016-04-02 19:26:28+00:00</td>\n",
       "      <td>http://www.flipkart.com/612-league-baby-boy-s-...</td>\n",
       "      <td>612 League Baby Boy's Checkered Casual Shirt</td>\n",
       "      <td>[\"Baby Care &gt;&gt; Infant Wear &gt;&gt; Baby Boys' Cloth...</td>\n",
       "      <td>SHTEFGCEGSYJT3MN</td>\n",
       "      <td>545.0</td>\n",
       "      <td>381.0</td>\n",
       "      <td>762b6b22cccf91935e92446efe298fe3.jpg</td>\n",
       "      <td>True</td>\n",
       "      <td>Specifications of 612 League Baby Boy's Checke...</td>\n",
       "      <td>No rating available</td>\n",
       "      <td>No rating available</td>\n",
       "      <td>612 League</td>\n",
       "      <td>{\"product_specification\"=&gt;[{\"key\"=&gt;\"Pattern\", ...</td>\n",
       "    </tr>\n",
       "    <tr>\n",
       "      <th>938</th>\n",
       "      <td>9e07a3eeee6aa9e656106281cdd30d67</td>\n",
       "      <td>2016-01-01 13:15:34+00:00</td>\n",
       "      <td>http://www.flipkart.com/ecraftindia-lord-ganes...</td>\n",
       "      <td>eCraftIndia Lord Ganesha on Elephant Showpiece...</td>\n",
       "      <td>[\"Home Decor &amp; Festive Needs &gt;&gt; Showpieces &gt;&gt; ...</td>\n",
       "      <td>SHIE5CEEJF5VWZFH</td>\n",
       "      <td>999.0</td>\n",
       "      <td>699.0</td>\n",
       "      <td>9e07a3eeee6aa9e656106281cdd30d67.jpg</td>\n",
       "      <td>True</td>\n",
       "      <td>Buy eCraftIndia Lord Ganesha on Elephant Showp...</td>\n",
       "      <td>No rating available</td>\n",
       "      <td>No rating available</td>\n",
       "      <td>eCraftIndia</td>\n",
       "      <td>{\"product_specification\"=&gt;[{\"key\"=&gt;\"Brand\", \"v...</td>\n",
       "    </tr>\n",
       "  </tbody>\n",
       "</table>\n",
       "</div>"
      ],
      "text/plain": [
       "                              uniq_id           crawl_timestamp  \\\n",
       "114  bc784846bd59a16832454416ac708003 2016-01-03 09:39:44+00:00   \n",
       "248  45d0af2c709de47268c80c35a117de44 2015-12-01 12:40:44+00:00   \n",
       "310  64b463dc0b75ae40a848498c657041e6 2015-12-01 06:13:00+00:00   \n",
       "324  a43fbae655e5d13215b9dd65339fa9d4 2015-12-01 06:13:00+00:00   \n",
       "336  6634de7b39a5b0658c74ab098450096d 2015-12-01 06:13:00+00:00   \n",
       "341  fce2bd96b35d531a4784bc57e19aca4f 2015-12-01 06:13:00+00:00   \n",
       "343  9743e6d1c9f3180483825fe4d2e97836 2015-12-01 06:13:00+00:00   \n",
       "367  884ff6050ff3d6b2c8f681c300a21b2a 2015-12-01 06:13:00+00:00   \n",
       "371  2a20862f02555a44b0ab301bed987a0b 2015-12-01 06:13:00+00:00   \n",
       "390  ae19a81b730b48b87ca72521af8fb902 2015-12-01 06:13:00+00:00   \n",
       "398  215decf6f993d7b45d75520d9174493f 2015-12-01 06:13:00+00:00   \n",
       "400  4fe24e100a5fcc33cf6054ef101067ed 2015-12-01 06:13:00+00:00   \n",
       "401  50be4cd92fda2755e1e884421a52e345 2015-12-01 06:13:00+00:00   \n",
       "421  f25d2701ff23f6749e8e69ca17987993 2015-12-01 06:13:00+00:00   \n",
       "428  dd5d6f0649f40d49791bbd5c00758e2f 2016-03-11 06:55:07+00:00   \n",
       "499  d5d6c94b78fb0875b2894d44e7c46312 2016-01-07 05:50:25+00:00   \n",
       "500  6776795cc4521a0cb0d54059649f7d72 2016-01-07 05:50:25+00:00   \n",
       "502  71ff6abd7764f2a42fcbefc11429be2d 2016-01-07 05:50:25+00:00   \n",
       "503  c36ea960a14f164ee0f39ad6beb3796a 2016-01-07 05:50:25+00:00   \n",
       "505  8284c10b2890ed53e17de5cfc33cdb96 2016-01-07 05:50:25+00:00   \n",
       "513  93f01d6cd167fa549928a9b649f87ccc 2016-01-07 05:50:25+00:00   \n",
       "514  c9531b92270ef77516d5b5b7ba2568e9 2016-01-07 05:50:25+00:00   \n",
       "515  9823c07cc256788556e424307f5ae9b6 2016-01-07 05:50:25+00:00   \n",
       "519  dbcaa93cc0542079e9c88db51ec23676 2016-01-07 05:50:25+00:00   \n",
       "522  c7d81193e868b50355412ced7a67f8f3 2016-01-07 05:50:25+00:00   \n",
       "524  797d10fe966b3aa35933669c3425525b 2016-01-07 05:50:25+00:00   \n",
       "525  d21409978f5e404b53f89e444f7893fe 2016-01-07 05:50:25+00:00   \n",
       "526  9059227d71995f88a1f48ff63830f716 2016-01-07 05:50:25+00:00   \n",
       "535  b19c9174113c2b9288157e14c48a8250 2016-01-07 05:50:25+00:00   \n",
       "537  f242a2cf1525f7700770cf1262b4b660 2016-01-07 05:50:25+00:00   \n",
       "538  3864ab10ef7006452fef45513de8f868 2016-01-07 05:50:25+00:00   \n",
       "539  052559ede419996737893eb47568ee7f 2016-01-07 05:50:25+00:00   \n",
       "541  54749618b728306f9b3dc518dec315ee 2016-01-07 05:50:25+00:00   \n",
       "542  3fa21f35257649e1513ca4ce22c6a68c 2016-01-07 05:50:25+00:00   \n",
       "544  894904e26516d491bf1c7711fe800e78 2016-01-07 05:50:25+00:00   \n",
       "546  797bb7813ec0bbc99e8b6f1b32c32e52 2016-01-07 05:50:25+00:00   \n",
       "547  987e13b445c34bfedb9796d2bb78d593 2016-01-07 05:50:25+00:00   \n",
       "549  8a15fa23b8c39ac1c7eaac94cbbe6fc6 2016-01-07 05:50:25+00:00   \n",
       "555  51c9062e6538c787b14a75a6a7cb7fb3 2016-01-07 05:50:25+00:00   \n",
       "560  c205b200b10aab43be31df8fc1db6d86 2016-01-07 05:50:25+00:00   \n",
       "562  3693c4e7f7efb47edb3d9eec067ffd93 2016-01-07 05:50:25+00:00   \n",
       "563  e15195f2a5ebaa2168ccd65324e65e8e 2016-01-07 05:50:25+00:00   \n",
       "565  51eb5d22eda4be2a409a336651c50bb1 2016-01-07 05:50:25+00:00   \n",
       "566  ac209ee3c602efed4ff093854a4ade06 2016-01-07 05:50:25+00:00   \n",
       "568  f559fdabbcc1f4980f215f847bfdd589 2016-01-07 05:50:25+00:00   \n",
       "571  d0e09eaa7fcc9e7de3349959800d2141 2016-01-07 05:50:25+00:00   \n",
       "577  059bc43e03e1824a9ab6466e32e5f137 2016-01-07 05:50:25+00:00   \n",
       "580  6f9c169adda9b562a841a9cf54b16f06 2016-01-07 05:50:25+00:00   \n",
       "582  a7bd63ef1d3b345d7f9a162865bb7c0d 2016-01-07 05:50:25+00:00   \n",
       "584  8748b6cd9f03afc539f246c55e230502 2016-01-07 05:50:25+00:00   \n",
       "585  a70ea60f971825b2eb57261029f317ec 2016-01-07 05:50:25+00:00   \n",
       "586  87e0ba259a84a10580bd659466e73e23 2016-01-07 05:50:25+00:00   \n",
       "604  85aec4bf3185da7ebcc45003429cbfe2 2016-01-07 04:32:43+00:00   \n",
       "605  bcb8e456728013a90ba66ab3b1b783ad 2016-01-07 04:32:43+00:00   \n",
       "888  f0bc8dff0e2ef0b75f1c78b4f67bcd63 2015-12-20 08:26:17+00:00   \n",
       "914  762b6b22cccf91935e92446efe298fe3 2016-04-02 19:26:28+00:00   \n",
       "938  9e07a3eeee6aa9e656106281cdd30d67 2016-01-01 13:15:34+00:00   \n",
       "\n",
       "                                           product_url  \\\n",
       "114  http://www.flipkart.com/lollipop-lane-tiddly-w...   \n",
       "248  http://www.flipkart.com/malhar-niko-male-doll-...   \n",
       "310  http://www.flipkart.com/linksys-smart-wi-fi-ro...   \n",
       "324  http://www.flipkart.com/huawei-ws331c-300-mbps...   \n",
       "336  http://www.flipkart.com/d-link-dir-816-wireles...   \n",
       "341  http://www.flipkart.com/belkin-share-modem-n-r...   \n",
       "343  http://www.flipkart.com/apple-airport-express-...   \n",
       "367  http://www.flipkart.com/tp-link-archer-c20-ac7...   \n",
       "371  http://www.flipkart.com/netgear-jwnr2010-n300-...   \n",
       "390  http://www.flipkart.com/tp-link-4-port-cable-d...   \n",
       "398  http://www.flipkart.com/netgear-d3600-n600-dua...   \n",
       "400  http://www.flipkart.com/tp-link-td-w8970/p/itm...   \n",
       "401  http://www.flipkart.com/denim-deo-combo-set/p/...   \n",
       "421  http://www.flipkart.com/netgear-wn3000rp-unive...   \n",
       "428  http://www.flipkart.com/graco-literider-click-...   \n",
       "499  http://www.flipkart.com/maxima-03918cmly-analo...   \n",
       "500  http://www.flipkart.com/nexus-nx-7668-analog-w...   \n",
       "502  http://www.flipkart.com/maxima-01433cmgy-gold-...   \n",
       "503  http://www.flipkart.com/sonata-77036sm02j-watc...   \n",
       "505  http://www.flipkart.com/maxima-24990lmli-swaro...   \n",
       "513  http://www.flipkart.com/global-nomad-gnlbbl031...   \n",
       "514  http://www.flipkart.com/maxima-04615cmgy-gold-...   \n",
       "515  http://www.flipkart.com/noise-nosww032-m-famou...   \n",
       "519  http://www.flipkart.com/maxima-21131cpgi-mac-a...   \n",
       "522  http://www.flipkart.com/maxima-24742lmgy-gold-...   \n",
       "524  http://www.flipkart.com/noise-nosww001-analog-...   \n",
       "525  http://www.flipkart.com/sf-sonata-7991pp02-oce...   \n",
       "526  http://www.flipkart.com/fluid-fu203-gr01-analo...   \n",
       "535  http://www.flipkart.com/maxima-24864lmgy-analo...   \n",
       "537  http://www.flipkart.com/maxima-01784bmly-gold-...   \n",
       "538  http://www.flipkart.com/sonata-7092sl01-yuva-a...   \n",
       "539  http://www.flipkart.com/maxima-26512ppgn-fiber...   \n",
       "541  http://www.flipkart.com/petrol-pcwbl68-analog-...   \n",
       "542  http://www.flipkart.com/maxima-01741lpln-analo...   \n",
       "544  http://www.flipkart.com/only-kidz-20600-digita...   \n",
       "546  http://www.flipkart.com/maxima-19431cmgy-gold-...   \n",
       "547  http://www.flipkart.com/maxima-01727lpln-mac-g...   \n",
       "549  http://www.flipkart.com/hmt-s3648-analog-watch...   \n",
       "555  http://www.flipkart.com/sonata-7007sl02-analog...   \n",
       "560  http://www.flipkart.com/fastrack-9913pp03-tees...   \n",
       "562  http://www.flipkart.com/maxima-19413ppsn-fiber...   \n",
       "563  http://www.flipkart.com/fluid-fs201-bl01-analo...   \n",
       "565  http://www.flipkart.com/sonata-8097ym03-analog...   \n",
       "566  http://www.flipkart.com/maxima-19883bmli-swaro...   \n",
       "568  http://www.flipkart.com/flippd-fd15102-analog-...   \n",
       "571  http://www.flipkart.com/hmt-olss-01-analog-wat...   \n",
       "577  http://www.flipkart.com/maxima-05712lmly-analo...   \n",
       "580  http://www.flipkart.com/sonata-7085yl01-analog...   \n",
       "582  http://www.flipkart.com/flippd-fd040149-casual...   \n",
       "584  http://www.flipkart.com/fastrack-9912pp09-tees...   \n",
       "585  http://www.flipkart.com/flippd-fdrbb1614-fibre...   \n",
       "586  http://www.flipkart.com/sf-sonata-7963pp02-dea...   \n",
       "604  http://www.flipkart.com/hp-15-ac116tx-notebook...   \n",
       "605  http://www.flipkart.com/hp-15-ac121tu-notebook...   \n",
       "888  http://www.flipkart.com/trident-cotton-face-to...   \n",
       "914  http://www.flipkart.com/612-league-baby-boy-s-...   \n",
       "938  http://www.flipkart.com/ecraftindia-lord-ganes...   \n",
       "\n",
       "                                          product_name  \\\n",
       "114          Lollipop Lane Tiddly Wink Safari Bath Set   \n",
       "248          Malhar Niko Male Doll Showpiece  -  25 cm   \n",
       "310                         Linksys Smart Wi-Fi Router   \n",
       "324    Huawei WS331c -300 Mbps Wireless Range Extender   \n",
       "336     D-Link DIR-816 Wireless AC750 Dual Band Router   \n",
       "341                      Belkin Share Modem (N) Router   \n",
       "343  Apple AirPort Express Base Station Wireless Ro...   \n",
       "367          TP-Link Archer C20 AC750 Dual Band Router   \n",
       "371              Netgear JWNR2010 N300 Wireless Router   \n",
       "390                   TP-LINK 4-Port Cable/DSL/TL-R460   \n",
       "398  Netgear D3600 N600 Dual Band Gigabit Wi-Fi Mod...   \n",
       "400                                   TP-LINK TD-W8970   \n",
       "401                                Denim Deo Combo Set   \n",
       "421    Netgear WN3000RP Universal Wi-Fi Range Extender   \n",
       "428              Graco LiteRider Click Connect � Marco   \n",
       "499         Maxima 03918CMLY Analog Watch  - For Women   \n",
       "500              Nexus NX_7668 Analog Watch  - For Men   \n",
       "502      Maxima 01433CMGY Gold Analog Watch  - For Men   \n",
       "503                            Sonata 77036SM02J Watch   \n",
       "505  Maxima 24990LMLI Swarovski Analog Watch  - For...   \n",
       "513    Global Nomad GNLBBL0314 Analog Watch  - For Men   \n",
       "514      Maxima 04615CMGY Gold Analog Watch  - For Men   \n",
       "515  Noise NOSWW032 I M Famous Analog Watch  - For ...   \n",
       "519  Maxima 21131CPGI Mac Attivo Analog Watch  - Fo...   \n",
       "522      Maxima 24742LMGY Gold Analog Watch  - For Men   \n",
       "524      Noise NOSWW001 Analog Watch  - For Men, Women   \n",
       "525  SF by Sonata 7991PP02 Ocean Digital Watch  - F...   \n",
       "526   Fluid FU203-GR01 Analog-Digital Watch  - For Men   \n",
       "535           Maxima 24864LMGY Analog Watch  - For Men   \n",
       "537    Maxima 01784BMLY Gold Analog Watch  - For Women   \n",
       "538       Sonata 7092SL01 Yuva Analog Watch  - For Men   \n",
       "539  Maxima 26512PPGN FIBER COLLECTION Analog Watch...   \n",
       "541             Petrol PCWBL68 Analog Watch  - For Men   \n",
       "542         Maxima 01741LPLN Analog Watch  - For Women   \n",
       "544   Only Kidz 20600 Digital Watch  - For Boys, Girls   \n",
       "546      Maxima 19431CMGY Gold Analog Watch  - For Men   \n",
       "547  Maxima 01727LPLN Mac Gold Analog Watch  - For ...   \n",
       "549                  HMT S3648 Analog Watch  - For Men   \n",
       "555            Sonata 7007SL02 Analog Watch  - For Men   \n",
       "560   Fastrack 9913PP03 Tees Analog Watch  - For Women   \n",
       "562  Maxima 19413PPSN FIBER COLLECTION Digital Watc...   \n",
       "563  Fluid FS201-BL01 Analog-Digital Watch  - For W...   \n",
       "565          Sonata 8097YM03 Analog Watch  - For Women   \n",
       "566  Maxima 19883BMLI Swarovski Analog Watch  - For...   \n",
       "568             Flippd FD15102 Analog Watch  - For Men   \n",
       "571              HMT OLSS 01 Analog Watch  - For Women   \n",
       "577         Maxima 05712LMLY Analog Watch  - For Women   \n",
       "580            Sonata 7085YL01 Analog Watch  - For Men   \n",
       "582  Flippd FD040149 Casual Analog Watch  - For Wom...   \n",
       "584  Fastrack 9912PP09 Tees Analog Watch  - For Men...   \n",
       "585     Flippd FDRBB1614 Fibre Analog Watch  - For Men   \n",
       "586  SF by Sonata 7963PP02 Dean Analog Watch  - For...   \n",
       "604  HP 15-ac116TX (Notebook) (Core i3 (5th Gen)/ 4...   \n",
       "605  HP 15-ac121tu (Notebook) (Core i3 (5th Gen)/ 4...   \n",
       "888                          Trident Cotton Face Towel   \n",
       "914       612 League Baby Boy's Checkered Casual Shirt   \n",
       "938  eCraftIndia Lord Ganesha on Elephant Showpiece...   \n",
       "\n",
       "                                 product_category_tree               pid  \\\n",
       "114  [\"Baby Care >> Baby Grooming >> Baby Grooming ...  BBCDPFZM6V585ZZE   \n",
       "248  [\"Home Decor & Festive Needs >> Showpieces >> ...  SHIEY382SR75SXEY   \n",
       "310  [\"Computers >> Network Components >> Routers >...  RTRDZTF9DBT4CW8U   \n",
       "324  [\"Computers >> Network Components >> Routers >...  RTREFWYNH9RGDCQK   \n",
       "336  [\"Computers >> Network Components >> Routers >...  RTRE3XW7JS6YJHG5   \n",
       "341  [\"Computers >> Network Components >> Routers >...  RTRDFFYGM2TEWVCC   \n",
       "343  [\"Computers >> Network Components >> Routers >...  RTRDQSSHGP7UGRFC   \n",
       "367  [\"Computers >> Network Components >> Routers >...  RTRE8GKF2CUJ2GNN   \n",
       "371  [\"Computers >> Network Components >> Routers >...  RTRDPXKCBHEECZQE   \n",
       "390  [\"Computers >> Network Components >> Routers >...  RTRDPA9FNCRGS8UZ   \n",
       "398  [\"Computers >> Network Components >> Routers >...  RTRE8GJTHFTTDZWA   \n",
       "400  [\"Computers >> Network Components >> Routers >...  RTRDXV6BA5PZAEPH   \n",
       "401  [\"Beauty and Personal Care >> Fragrances >> De...  CAGDTFSHTF6TRBFZ   \n",
       "421  [\"Computers >> Network Components >> Routers >...  RTRD6FYYZCZGPCVH   \n",
       "428  [\"Baby Care >> Strollers & Activity Gear >> St...  STREDF58JH3GQZF9   \n",
       "499  [\"Watches >> Wrist Watches >> Maxima Wrist Wat...  WATE26J7Z9MEZZKH   \n",
       "500  [\"Watches >> Wrist Watches >> Nexus Wrist Watc...  WATDXFGTFHHKPBNV   \n",
       "502  [\"Watches >> Wrist Watches >> Maxima Wrist Wat...  WATDZ5HGFJCH2FGY   \n",
       "503  [\"Watches >> Wrist Watches >> Sonata Wrist Wat...  WATE6S3AZNHMPTJA   \n",
       "505  [\"Watches >> Wrist Watches >> Maxima Wrist Wat...  WATDCUGXHXSUHBHX   \n",
       "513  [\"Watches >> Wrist Watches >> Global Nomad Wri...  WATDZRZGCSSQ8RYS   \n",
       "514  [\"Watches >> Wrist Watches >> Maxima Wrist Wat...  WATE4S5RZ8P5JZHZ   \n",
       "515  [\"Watches >> Wrist Watches >> Noise Wrist Watc...  WATDJYPXSKYGWPXF   \n",
       "519  [\"Watches >> Wrist Watches >> Maxima Wrist Wat...  WATE4S5RZY2TJUHP   \n",
       "522  [\"Watches >> Wrist Watches >> Maxima Wrist Wat...  WATDHMQJ68MVBRFV   \n",
       "524  [\"Watches >> Wrist Watches >> Noise Wrist Watc...  WATDFFH3KJYBTYGG   \n",
       "525  [\"Watches >> Wrist Watches >> SF by Sonata Wri...  WATDG9F723NCPXNU   \n",
       "526  [\"Watches >> Wrist Watches >> Fluid Wrist Watc...  WATDUK7DV6GSTKRD   \n",
       "535  [\"Watches >> Wrist Watches >> Maxima Wrist Wat...  WATE26J7ZMQDQGZN   \n",
       "537  [\"Watches >> Wrist Watches >> Maxima Wrist Wat...  WATDZ5HGF5UXGZVG   \n",
       "538  [\"Watches >> Wrist Watches >> Sonata Wrist Wat...  WATDA5ZABPHZZV3Q   \n",
       "539  [\"Watches >> Wrist Watches >> Maxima Wrist Wat...  WATDJTR9HKKRXKTJ   \n",
       "541  [\"Watches >> Wrist Watches >> Petrol Wrist Wat...  WATDPV5TUCGZ8JCN   \n",
       "542  [\"Watches >> Wrist Watches >> Maxima Wrist Wat...  WATDZ5HGJEQGGB6U   \n",
       "544  [\"Watches >> Wrist Watches >> Only Kidz Wrist ...  WATDWABRFCWT2DD3   \n",
       "546  [\"Watches >> Wrist Watches >> Maxima Wrist Wat...  WATE4S5RZZY6ZCSA   \n",
       "547  [\"Watches >> Wrist Watches >> Maxima Wrist Wat...  WATDZ5HGF7WGCFGH   \n",
       "549  [\"Watches >> Wrist Watches >> HMT Wrist Watches\"]  WATDYQ93UUZYVFQX   \n",
       "555  [\"Watches >> Wrist Watches >> Sonata Wrist Wat...  WATDWGAHRCPFYWGW   \n",
       "560  [\"Watches >> Wrist Watches >> Fastrack Wrist W...  WATD9H76YMYPCMCK   \n",
       "562  [\"Watches >> Wrist Watches >> Maxima Wrist Wat...  WATD9H76QFGFQAHV   \n",
       "563  [\"Watches >> Wrist Watches >> Fluid Wrist Watc...  WATDUK7DKS6AJZYK   \n",
       "565  [\"Watches >> Wrist Watches >> Sonata Wrist Wat...  WATDZ2ZQT4ZNRHPU   \n",
       "566  [\"Watches >> Wrist Watches >> Maxima Wrist Wat...  WATDE9NFPB9TBVSK   \n",
       "568  [\"Watches >> Wrist Watches >> Flippd Wrist Wat...  WATE3HFNNASZJQYH   \n",
       "571  [\"Watches >> Wrist Watches >> HMT Wrist Watches\"]  WATDVGGHWZBHXYBS   \n",
       "577  [\"Watches >> Wrist Watches >> Maxima Wrist Wat...  WATE26J7DTHUYJN8   \n",
       "580  [\"Watches >> Wrist Watches >> Sonata Wrist Wat...  WATDT6GFNJN4WGYD   \n",
       "582  [\"Watches >> Wrist Watches >> Flippd Wrist Wat...  WATE8E8PGC6SARZG   \n",
       "584  [\"Watches >> Wrist Watches >> Fastrack Wrist W...  WATD9H76H9EHPBUF   \n",
       "585  [\"Watches >> Wrist Watches >> Flippd Wrist Wat...  WATEYUZXWKUESAYZ   \n",
       "586  [\"Watches >> Wrist Watches >> SF by Sonata Wri...  WATDA5ZA3Z3UJJJQ   \n",
       "604             [\"Computers >> Laptops >> HP Laptops\"]  COMEAZ945RHFFGUS   \n",
       "605             [\"Computers >> Laptops >> HP Laptops\"]  COMEAZ94HWYQTZHZ   \n",
       "888        [\"Home Furnishing >> Bath Linen >> Towels\"]  BTWE6N5SXYEJHZPB   \n",
       "914  [\"Baby Care >> Infant Wear >> Baby Boys' Cloth...  SHTEFGCEGSYJT3MN   \n",
       "938  [\"Home Decor & Festive Needs >> Showpieces >> ...  SHIE5CEEJF5VWZFH   \n",
       "\n",
       "     retail_price  discounted_price                                 image  \\\n",
       "114        2950.0            2950.0  bc784846bd59a16832454416ac708003.jpg   \n",
       "248        6395.0            5436.0  45d0af2c709de47268c80c35a117de44.jpg   \n",
       "310       14999.0           13500.0  64b463dc0b75ae40a848498c657041e6.jpg   \n",
       "324        2250.0            1635.0  a43fbae655e5d13215b9dd65339fa9d4.jpg   \n",
       "336        4200.0            2059.0  6634de7b39a5b0658c74ab098450096d.jpg   \n",
       "341        6249.0            6249.0  fce2bd96b35d531a4784bc57e19aca4f.jpg   \n",
       "343        6800.0            6399.0  9743e6d1c9f3180483825fe4d2e97836.jpg   \n",
       "367        5399.0            2150.0  884ff6050ff3d6b2c8f681c300a21b2a.jpg   \n",
       "371        2500.0            1367.0  2a20862f02555a44b0ab301bed987a0b.jpg   \n",
       "390        1199.0            1199.0  ae19a81b730b48b87ca72521af8fb902.jpg   \n",
       "398        9600.0            6190.0  215decf6f993d7b45d75520d9174493f.jpg   \n",
       "400        6700.0            4850.0  4fe24e100a5fcc33cf6054ef101067ed.jpg   \n",
       "401         250.0             250.0  50be4cd92fda2755e1e884421a52e345.jpg   \n",
       "421        3499.0            2140.0  f25d2701ff23f6749e8e69ca17987993.jpg   \n",
       "428       12500.0            9375.0  dd5d6f0649f40d49791bbd5c00758e2f.jpg   \n",
       "499         795.0             795.0  d5d6c94b78fb0875b2894d44e7c46312.jpg   \n",
       "500         999.0             999.0  6776795cc4521a0cb0d54059649f7d72.jpg   \n",
       "502         795.0             795.0  71ff6abd7764f2a42fcbefc11429be2d.jpg   \n",
       "503         999.0             999.0  c36ea960a14f164ee0f39ad6beb3796a.jpg   \n",
       "505         950.0             760.0  8284c10b2890ed53e17de5cfc33cdb96.jpg   \n",
       "513         725.0             725.0  93f01d6cd167fa549928a9b649f87ccc.jpg   \n",
       "514         795.0             795.0  c9531b92270ef77516d5b5b7ba2568e9.jpg   \n",
       "515         999.0             999.0  9823c07cc256788556e424307f5ae9b6.jpg   \n",
       "519         695.0             695.0  dbcaa93cc0542079e9c88db51ec23676.jpg   \n",
       "522         950.0             950.0  c7d81193e868b50355412ced7a67f8f3.jpg   \n",
       "524         999.0             999.0  797d10fe966b3aa35933669c3425525b.jpg   \n",
       "525         999.0             999.0  d21409978f5e404b53f89e444f7893fe.jpg   \n",
       "526         899.0             899.0  9059227d71995f88a1f48ff63830f716.jpg   \n",
       "535         950.0             950.0  b19c9174113c2b9288157e14c48a8250.jpg   \n",
       "537         995.0             995.0  f242a2cf1525f7700770cf1262b4b660.jpg   \n",
       "538         999.0             999.0  3864ab10ef7006452fef45513de8f868.jpg   \n",
       "539         595.0             595.0  052559ede419996737893eb47568ee7f.jpg   \n",
       "541         999.0             999.0  54749618b728306f9b3dc518dec315ee.jpg   \n",
       "542         650.0             650.0  3fa21f35257649e1513ca4ce22c6a68c.jpg   \n",
       "544         599.0             599.0  894904e26516d491bf1c7711fe800e78.jpg   \n",
       "546         795.0             795.0  797bb7813ec0bbc99e8b6f1b32c32e52.jpg   \n",
       "547         650.0             650.0  987e13b445c34bfedb9796d2bb78d593.jpg   \n",
       "549         800.0             800.0  8a15fa23b8c39ac1c7eaac94cbbe6fc6.jpg   \n",
       "555         725.0             725.0  51c9062e6538c787b14a75a6a7cb7fb3.jpg   \n",
       "560         649.0             649.0  c205b200b10aab43be31df8fc1db6d86.jpg   \n",
       "562         825.0             825.0  3693c4e7f7efb47edb3d9eec067ffd93.jpg   \n",
       "563         999.0             999.0  e15195f2a5ebaa2168ccd65324e65e8e.jpg   \n",
       "565         999.0             999.0  51eb5d22eda4be2a409a336651c50bb1.jpg   \n",
       "566         995.0             995.0  ac209ee3c602efed4ff093854a4ade06.jpg   \n",
       "568         750.0             750.0  f559fdabbcc1f4980f215f847bfdd589.jpg   \n",
       "571         550.0             550.0  d0e09eaa7fcc9e7de3349959800d2141.jpg   \n",
       "577         925.0             925.0  059bc43e03e1824a9ab6466e32e5f137.jpg   \n",
       "580         750.0             750.0  6f9c169adda9b562a841a9cf54b16f06.jpg   \n",
       "582         999.0             999.0  a7bd63ef1d3b345d7f9a162865bb7c0d.jpg   \n",
       "584         750.0             750.0  8748b6cd9f03afc539f246c55e230502.jpg   \n",
       "585         750.0             750.0  a70ea60f971825b2eb57261029f317ec.jpg   \n",
       "586         749.0             749.0  87e0ba259a84a10580bd659466e73e23.jpg   \n",
       "604       38890.0           38890.0  85aec4bf3185da7ebcc45003429cbfe2.jpg   \n",
       "605       35390.0           35390.0  bcb8e456728013a90ba66ab3b1b783ad.jpg   \n",
       "888         999.0             583.0  f0bc8dff0e2ef0b75f1c78b4f67bcd63.jpg   \n",
       "914         545.0             381.0  762b6b22cccf91935e92446efe298fe3.jpg   \n",
       "938         999.0             699.0  9e07a3eeee6aa9e656106281cdd30d67.jpg   \n",
       "\n",
       "     is_FK_Advantage_product  \\\n",
       "114                     True   \n",
       "248                     True   \n",
       "310                     True   \n",
       "324                     True   \n",
       "336                     True   \n",
       "341                     True   \n",
       "343                     True   \n",
       "367                     True   \n",
       "371                     True   \n",
       "390                     True   \n",
       "398                     True   \n",
       "400                     True   \n",
       "401                     True   \n",
       "421                     True   \n",
       "428                     True   \n",
       "499                     True   \n",
       "500                     True   \n",
       "502                     True   \n",
       "503                     True   \n",
       "505                     True   \n",
       "513                     True   \n",
       "514                     True   \n",
       "515                     True   \n",
       "519                     True   \n",
       "522                     True   \n",
       "524                     True   \n",
       "525                     True   \n",
       "526                     True   \n",
       "535                     True   \n",
       "537                     True   \n",
       "538                     True   \n",
       "539                     True   \n",
       "541                     True   \n",
       "542                     True   \n",
       "544                     True   \n",
       "546                     True   \n",
       "547                     True   \n",
       "549                     True   \n",
       "555                     True   \n",
       "560                     True   \n",
       "562                     True   \n",
       "563                     True   \n",
       "565                     True   \n",
       "566                     True   \n",
       "568                     True   \n",
       "571                     True   \n",
       "577                     True   \n",
       "580                     True   \n",
       "582                     True   \n",
       "584                     True   \n",
       "585                     True   \n",
       "586                     True   \n",
       "604                     True   \n",
       "605                     True   \n",
       "888                     True   \n",
       "914                     True   \n",
       "938                     True   \n",
       "\n",
       "                                           description       product_rating  \\\n",
       "114  Flipkart.com is offering Lollipop Lane Tiddly ...  No rating available   \n",
       "248  Buy Malhar Niko Male Doll Showpiece  -  25 cm ...  No rating available   \n",
       "310  Buy Linksys Smart Wi-Fi Router only for Rs. 0....  No rating available   \n",
       "324  Buy Huawei WS331c -300 Mbps Wireless Range Ext...                  3.5   \n",
       "336  Buy D-Link DIR-816 Wireless AC750 Dual Band Ro...                    4   \n",
       "341  Buy Belkin Share Modem (N) Router only for Rs....                  3.7   \n",
       "343  Buy Apple AirPort Express Base Station Wireles...                  4.9   \n",
       "367  Buy TP-Link Archer C20 AC750 Dual Band Router ...                  4.4   \n",
       "371  Buy Netgear JWNR2010 N300 Wireless Router only...                  3.9   \n",
       "390  Buy TP-LINK 4-Port Cable/DSL/TL-R460 only for ...                    3   \n",
       "398  Buy Netgear D3600 N600 Dual Band Gigabit Wi-Fi...                    5   \n",
       "400  Buy TP-LINK TD-W8970 only for Rs. 5050 from Fl...                    3   \n",
       "401  Flipkart.com: Buy Denim Deo Combo Set online o...                  3.3   \n",
       "421  Buy Netgear WN3000RP Universal Wi-Fi Range Ext...                  4.4   \n",
       "428  Specifications of Graco LiteRider Click Connec...  No rating available   \n",
       "499  Maxima 03918CMLY Analog Watch  - For Women - B...                    1   \n",
       "500  Nexus NX_7668 Analog Watch  - For Men - Buy Ne...  No rating available   \n",
       "502  Maxima 01433CMGY Gold Analog Watch  - For Men ...  No rating available   \n",
       "503  Sonata 77036SM02J Watch - Buy Sonata 77036SM02...  No rating available   \n",
       "505  Maxima 24990LMLI Swarovski Analog Watch  - For...                  4.2   \n",
       "513  Global Nomad GNLBBL0314 Analog Watch  - For Me...                    4   \n",
       "514  Maxima 04615CMGY Gold Analog Watch  - For Men ...  No rating available   \n",
       "515  Noise NOSWW032 I M Famous Analog Watch  - For ...  No rating available   \n",
       "519  Maxima 21131CPGI Mac Attivo Analog Watch  - Fo...  No rating available   \n",
       "522  Maxima 24742LMGY Gold Analog Watch  - For Men ...                  4.5   \n",
       "524  Noise NOSWW001 Analog Watch  - For Men, Women ...                    4   \n",
       "525  SF by Sonata 7991PP02 Ocean Digital Watch  - F...                  4.8   \n",
       "526  Fluid FU203-GR01 Analog-Digital Watch  - For M...                    3   \n",
       "535  Maxima 24864LMGY Analog Watch  - For Men - Buy...                    5   \n",
       "537  Maxima 01784BMLY Gold Analog Watch  - For Wome...  No rating available   \n",
       "538  Sonata 7092SL01 Yuva Analog Watch  - For Men -...                  4.3   \n",
       "539  Maxima 26512PPGN FIBER COLLECTION Analog Watch...                    5   \n",
       "541  Petrol PCWBL68 Analog Watch  - For Men - Buy P...                  3.5   \n",
       "542  Maxima 01741LPLN Analog Watch  - For Women - B...  No rating available   \n",
       "544  Only Kidz 20600 Digital Watch  - For Boys, Gir...                    1   \n",
       "546  Maxima 19431CMGY Gold Analog Watch  - For Men ...  No rating available   \n",
       "547  Maxima 01727LPLN Mac Gold Analog Watch  - For ...                    5   \n",
       "549  HMT S3648 Analog Watch  - For Men - Buy HMT S3...                  3.7   \n",
       "555  Sonata 7007SL02 Analog Watch  - For Men - Buy ...                  3.5   \n",
       "560  Fastrack 9913PP03 Tees Analog Watch  - For Wom...                    2   \n",
       "562  Maxima 19413PPSN FIBER COLLECTION Digital Watc...                  4.7   \n",
       "563  Fluid FS201-BL01 Analog-Digital Watch  - For W...  No rating available   \n",
       "565  Sonata 8097YM03 Analog Watch  - For Women - Bu...  No rating available   \n",
       "566  Maxima 19883BMLI Swarovski Analog Watch  - For...                  4.3   \n",
       "568  Flippd FD15102 Analog Watch  - For Men - Buy F...                    4   \n",
       "571  HMT OLSS 01 Analog Watch  - For Women - Buy HM...                    4   \n",
       "577  Maxima 05712LMLY Analog Watch  - For Women - B...                  4.7   \n",
       "580  Sonata 7085YL01 Analog Watch  - For Men - Buy ...  No rating available   \n",
       "582  Flippd FD040149 Casual Analog Watch  - For Wom...  No rating available   \n",
       "584  Fastrack 9912PP09 Tees Analog Watch  - For Men...  No rating available   \n",
       "585  Flippd FDRBB1614 Fibre Analog Watch  - For Men...                  3.6   \n",
       "586  SF by Sonata 7963PP02 Dean Analog Watch  - For...                  4.7   \n",
       "604  Buy HP 15-ac116TX (Notebook) (Core i3 (5th Gen...                    5   \n",
       "605  Buy HP 15-ac121tu (Notebook) (Core i3 (5th Gen...                  4.5   \n",
       "888  Trident Cotton Face Towel (1 Hand Towel, 3 Fac...                    3   \n",
       "914  Specifications of 612 League Baby Boy's Checke...  No rating available   \n",
       "938  Buy eCraftIndia Lord Ganesha on Elephant Showp...  No rating available   \n",
       "\n",
       "          overall_rating        brand  \\\n",
       "114  No rating available          NaN   \n",
       "248  No rating available       Malhar   \n",
       "310  No rating available      Linksys   \n",
       "324                  3.5       Huawei   \n",
       "336                    4       D-Link   \n",
       "341                  3.7       Belkin   \n",
       "343                  4.9        Apple   \n",
       "367                  4.4      TP-LINK   \n",
       "371                  3.9      Netgear   \n",
       "390                    3      TP-LINK   \n",
       "398                    5      Netgear   \n",
       "400                    3      TP-LINK   \n",
       "401                  3.3          NaN   \n",
       "421                  4.4      Netgear   \n",
       "428  No rating available        Graco   \n",
       "499                    1          NaN   \n",
       "500  No rating available          NaN   \n",
       "502  No rating available          NaN   \n",
       "503  No rating available          NaN   \n",
       "505                  4.2          NaN   \n",
       "513                    4          NaN   \n",
       "514  No rating available          NaN   \n",
       "515  No rating available          NaN   \n",
       "519  No rating available          NaN   \n",
       "522                  4.5          NaN   \n",
       "524                    4          NaN   \n",
       "525                  4.8          NaN   \n",
       "526                    3          NaN   \n",
       "535                    5          NaN   \n",
       "537  No rating available          NaN   \n",
       "538                  4.3          NaN   \n",
       "539                    5          NaN   \n",
       "541                  3.5          NaN   \n",
       "542  No rating available          NaN   \n",
       "544                    1          NaN   \n",
       "546  No rating available          NaN   \n",
       "547                    5          NaN   \n",
       "549                  3.7          NaN   \n",
       "555                  3.5          NaN   \n",
       "560                    2          NaN   \n",
       "562                  4.7          NaN   \n",
       "563  No rating available          NaN   \n",
       "565  No rating available          NaN   \n",
       "566                  4.3          NaN   \n",
       "568                    4          NaN   \n",
       "571                    4          NaN   \n",
       "577                  4.7          NaN   \n",
       "580  No rating available          NaN   \n",
       "582  No rating available          NaN   \n",
       "584  No rating available          NaN   \n",
       "585                  3.6          NaN   \n",
       "586                  4.7          NaN   \n",
       "604                    5           HP   \n",
       "605                  4.5           HP   \n",
       "888                    3      Trident   \n",
       "914  No rating available   612 League   \n",
       "938  No rating available  eCraftIndia   \n",
       "\n",
       "                                product_specifications  \n",
       "114  {\"product_specification\"=>[{\"key\"=>\"Age Group\"...  \n",
       "248  {\"product_specification\"=>[{\"key\"=>\"Brand\", \"v...  \n",
       "310  {\"product_specification\"=>[{\"key\"=>\"Encryption...  \n",
       "324  {\"product_specification\"=>[{\"key\"=>\"In The Box...  \n",
       "336  {\"product_specification\"=>[{\"key\"=>\"Other Secu...  \n",
       "341  {\"product_specification\"=>[{\"key\"=>\"Firewall\",...  \n",
       "343  {\"product_specification\"=>[{\"key\"=>\"Firewall\",...  \n",
       "367  {\"product_specification\"=>[{\"key\"=>\"Firewall\",...  \n",
       "371  {\"product_specification\"=>[{\"key\"=>\"Firewall\",...  \n",
       "390  {\"product_specification\"=>[{\"key\"=>\"Firewall\",...  \n",
       "398  {\"product_specification\"=>[{\"key\"=>\"Firewall\",...  \n",
       "400  {\"product_specification\"=>[{\"key\"=>\"Wireless S...  \n",
       "401  {\"product_specification\"=>[{\"key\"=>\"Number of ...  \n",
       "421  {\"product_specification\"=>[{\"key\"=>\"Encryption...  \n",
       "428  {\"product_specification\"=>[{\"key\"=>\"Foldable\",...  \n",
       "499  {\"product_specification\"=>[{\"key\"=>\"Type\", \"va...  \n",
       "500  {\"product_specification\"=>[{\"key\"=>\"Type\", \"va...  \n",
       "502  {\"product_specification\"=>[{\"key\"=>\"Diameter\",...  \n",
       "503  {\"product_specification\"=>[{\"key\"=>\"Style Code...  \n",
       "505  {\"product_specification\"=>[{\"key\"=>\"Type\", \"va...  \n",
       "513  {\"product_specification\"=>[{\"key\"=>\"Luminous\",...  \n",
       "514  {\"product_specification\"=>[{\"key\"=>\"Diameter\",...  \n",
       "515  {\"product_specification\"=>[{\"key\"=>\"Type\", \"va...  \n",
       "519  {\"product_specification\"=>[{\"key\"=>\"Other Dime...  \n",
       "522  {\"product_specification\"=>[{\"key\"=>\"Type\", \"va...  \n",
       "524  {\"product_specification\"=>[{\"key\"=>\"Diameter\",...  \n",
       "525  {\"product_specification\"=>[{\"key\"=>\"Date Displ...  \n",
       "526  {\"product_specification\"=>[{\"key\"=>\"Other Func...  \n",
       "535  {\"product_specification\"=>[{\"key\"=>\"Diameter\",...  \n",
       "537  {\"product_specification\"=>[{\"key\"=>\"Other Dime...  \n",
       "538  {\"product_specification\"=>[{\"key\"=>\"Type\", \"va...  \n",
       "539  {\"product_specification\"=>[{\"key\"=>\"Type\", \"va...  \n",
       "541  {\"product_specification\"=>[{\"key\"=>\"Type\", \"va...  \n",
       "542  {\"product_specification\"=>[{\"key\"=>\"Weight\", \"...  \n",
       "544  {\"product_specification\"=>[{\"key\"=>\"Diameter\",...  \n",
       "546  {\"product_specification\"=>[{\"key\"=>\"Diameter\",...  \n",
       "547  {\"product_specification\"=>[{\"key\"=>\"Mechanism\"...  \n",
       "549  {\"product_specification\"=>[{\"key\"=>\"Mechanism\"...  \n",
       "555  {\"product_specification\"=>[{\"key\"=>\"Mechanism\"...  \n",
       "560  {\"product_specification\"=>[{\"key\"=>\"Type\", \"va...  \n",
       "562  {\"product_specification\"=>[{\"key\"=>\"Light\", \"v...  \n",
       "563  {\"product_specification\"=>[{\"key\"=>\"Other Func...  \n",
       "565  {\"product_specification\"=>[{\"key\"=>\"Type\", \"va...  \n",
       "566  {\"product_specification\"=>[{\"key\"=>\"Type\", \"va...  \n",
       "568  {\"product_specification\"=>[{\"key\"=>\"Weight\", \"...  \n",
       "571  {\"product_specification\"=>[{\"key\"=>\"Mechanism\"...  \n",
       "577  {\"product_specification\"=>[{\"key\"=>\"Type\", \"va...  \n",
       "580  {\"product_specification\"=>[{\"key\"=>\"Type\", \"va...  \n",
       "582  {\"product_specification\"=>[{\"key\"=>\"Chronograp...  \n",
       "584  {\"product_specification\"=>[{\"key\"=>\"Diameter\",...  \n",
       "585  {\"product_specification\"=>[{\"key\"=>\"Mechanism\"...  \n",
       "586  {\"product_specification\"=>[{\"key\"=>\"Mechanism\"...  \n",
       "604  {\"product_specification\"=>[{\"key\"=>\"Included S...  \n",
       "605  {\"product_specification\"=>[{\"key\"=>\"Included S...  \n",
       "888  {\"product_specification\"=>[{\"key\"=>\"Machine Wa...  \n",
       "914  {\"product_specification\"=>[{\"key\"=>\"Pattern\", ...  \n",
       "938  {\"product_specification\"=>[{\"key\"=>\"Brand\", \"v...  "
      ]
     },
     "execution_count": 71,
     "metadata": {},
     "output_type": "execute_result"
    }
   ],
   "source": [
    "data[data.is_FK_Advantage_product==True]"
   ]
  },
  {
   "cell_type": "markdown",
   "metadata": {},
   "source": [
    "## description"
   ]
  },
  {
   "cell_type": "code",
   "execution_count": 72,
   "metadata": {},
   "outputs": [
    {
     "data": {
      "text/plain": [
       "0    Key Features of Elegance Polyester Multicolor ...\n",
       "1    Specifications of Sathiyas Cotton Bath Towel (...\n",
       "2    Key Features of Eurospa Cotton Terry Face Towe...\n",
       "3    Key Features of SANTOSH ROYAL FASHION Cotton P...\n",
       "4    Key Features of Jaipur Print Cotton Floral Kin...\n",
       "Name: description, dtype: object"
      ]
     },
     "execution_count": 72,
     "metadata": {},
     "output_type": "execute_result"
    }
   ],
   "source": [
    "data.description.head()"
   ]
  },
  {
   "cell_type": "code",
   "execution_count": 73,
   "metadata": {},
   "outputs": [
    {
     "data": {
      "text/plain": [
       "'Key Features of Elegance Polyester Multicolor Abstract Eyelet Door Curtain Floral Curtain,Elegance Polyester Multicolor Abstract Eyelet Door Curtain (213 cm in Height, Pack of 2) Price: Rs. 899 This curtain enhances the look of the interiors.This curtain is made from 100% high quality polyester fabric.It features an eyelet style stitch with Metal Ring.It makes the room environment romantic and loving.This curtain is ant- wrinkle and anti shrinkage and have elegant apparance.Give your home a bright and modernistic appeal with these designs. The surreal attention is sure to steal hearts. These contemporary eyelet and valance curtains slide smoothly so when you draw them apart first thing in the morning to welcome the bright sun rays you want to wish good morning to the whole world and when you draw them close in the evening, you create the most special moments of joyous beauty given by the soothing prints. Bring home the elegant curtain that softly filters light in your room so that you get the right amount of sunlight.,Specifications of Elegance Polyester Multicolor Abstract Eyelet Door Curtain (213 cm in Height, Pack of 2) General Brand Elegance Designed For Door Type Eyelet Model Name Abstract Polyester Door Curtain Set Of 2 Model ID Duster25 Color Multicolor Dimensions Length 213 cm In the Box Number of Contents in Sales Package Pack of 2 Sales Package 2 Curtains Body & Design Material Polyester'"
      ]
     },
     "execution_count": 73,
     "metadata": {},
     "output_type": "execute_result"
    }
   ],
   "source": [
    "data.description.iloc[0]"
   ]
  },
  {
   "cell_type": "code",
   "execution_count": 74,
   "metadata": {},
   "outputs": [
    {
     "data": {
      "text/plain": [
       "'http://www.flipkart.com/elegance-polyester-multicolor-abstract-eyelet-door-curtain/p/itmeg7bkzdgthcts?pid=CRNEG7BKMFFYHQ8Z'"
      ]
     },
     "execution_count": 74,
     "metadata": {},
     "output_type": "execute_result"
    }
   ],
   "source": [
    "data.product_url.iloc[0]"
   ]
  },
  {
   "cell_type": "markdown",
   "metadata": {},
   "source": [
    "## brand"
   ]
  },
  {
   "cell_type": "code",
   "execution_count": 75,
   "metadata": {},
   "outputs": [
    {
     "data": {
      "text/plain": [
       "0                 Elegance\n",
       "1                 Sathiyas\n",
       "2                  Eurospa\n",
       "3    SANTOSH ROYAL FASHION\n",
       "4             Jaipur Print\n",
       "Name: brand, dtype: object"
      ]
     },
     "execution_count": 75,
     "metadata": {},
     "output_type": "execute_result"
    }
   ],
   "source": [
    "data.brand.head()"
   ]
  },
  {
   "cell_type": "markdown",
   "metadata": {},
   "source": [
    "## product specifications"
   ]
  },
  {
   "cell_type": "code",
   "execution_count": 76,
   "metadata": {},
   "outputs": [
    {
     "data": {
      "text/plain": [
       "0    {\"product_specification\"=>[{\"key\"=>\"Brand\", \"v...\n",
       "1    {\"product_specification\"=>[{\"key\"=>\"Machine Wa...\n",
       "2    {\"product_specification\"=>[{\"key\"=>\"Material\",...\n",
       "3    {\"product_specification\"=>[{\"key\"=>\"Brand\", \"v...\n",
       "4    {\"product_specification\"=>[{\"key\"=>\"Machine Wa...\n",
       "Name: product_specifications, dtype: object"
      ]
     },
     "execution_count": 76,
     "metadata": {},
     "output_type": "execute_result"
    }
   ],
   "source": [
    "data.product_specifications.head()"
   ]
  },
  {
   "cell_type": "code",
   "execution_count": 77,
   "metadata": {},
   "outputs": [
    {
     "data": {
      "text/plain": [
       "'{\"product_specification\"=>[{\"key\"=>\"Brand\", \"value\"=>\"Elegance\"}, {\"key\"=>\"Designed For\", \"value\"=>\"Door\"}, {\"key\"=>\"Type\", \"value\"=>\"Eyelet\"}, {\"key\"=>\"Model Name\", \"value\"=>\"Abstract Polyester Door Curtain Set Of 2\"}, {\"key\"=>\"Model ID\", \"value\"=>\"Duster25\"}, {\"key\"=>\"Color\", \"value\"=>\"Multicolor\"}, {\"key\"=>\"Length\", \"value\"=>\"213 cm\"}, {\"key\"=>\"Number of Contents in Sales Package\", \"value\"=>\"Pack of 2\"}, {\"key\"=>\"Sales Package\", \"value\"=>\"2 Curtains\"}, {\"key\"=>\"Material\", \"value\"=>\"Polyester\"}]}'"
      ]
     },
     "execution_count": 77,
     "metadata": {},
     "output_type": "execute_result"
    }
   ],
   "source": [
    "data.product_specifications.iloc[0]"
   ]
  },
  {
   "cell_type": "code",
   "execution_count": 88,
   "metadata": {},
   "outputs": [
    {
     "data": {
      "text/plain": [
       "{'product_specification': [{'key': 'Brand', 'value': 'Elegance'},\n",
       "  {'key': 'Designed For', 'value': 'Door'},\n",
       "  {'key': 'Type', 'value': 'Eyelet'},\n",
       "  {'key': 'Model Name', 'value': 'Abstract Polyester Door Curtain Set Of 2'},\n",
       "  {'key': 'Model ID', 'value': 'Duster25'},\n",
       "  {'key': 'Color', 'value': 'Multicolor'},\n",
       "  {'key': 'Length', 'value': '213 cm'},\n",
       "  {'key': 'Number of Contents in Sales Package', 'value': 'Pack of 2'},\n",
       "  {'key': 'Sales Package', 'value': '2 Curtains'},\n",
       "  {'key': 'Material', 'value': 'Polyester'}]}"
      ]
     },
     "execution_count": 88,
     "metadata": {},
     "output_type": "execute_result"
    }
   ],
   "source": [
    "literal_eval(data.loc[data.product_specifications.notna(), \"product_specifications\"].apply(lambda x: x.replace(\"=>\", \":\")).iloc[0])"
   ]
  },
  {
   "cell_type": "code",
   "execution_count": 100,
   "metadata": {},
   "outputs": [
    {
     "ename": "AttributeError",
     "evalue": "'str' object has no attribute 'values'",
     "output_type": "error",
     "traceback": [
      "\u001b[0;31m---------------------------------------------------------------------------\u001b[0m",
      "\u001b[0;31mAttributeError\u001b[0m                            Traceback (most recent call last)",
      "\u001b[0;32m<ipython-input-100-72e65ed28fa2>\u001b[0m in \u001b[0;36m<module>\u001b[0;34m\u001b[0m\n\u001b[1;32m     12\u001b[0m \u001b[0;34m\u001b[0m\u001b[0m\n\u001b[1;32m     13\u001b[0m \u001b[0;34m\u001b[0m\u001b[0m\n\u001b[0;32m---> 14\u001b[0;31m \u001b[0mdf\u001b[0m \u001b[0;34m=\u001b[0m \u001b[0mpd\u001b[0m\u001b[0;34m.\u001b[0m\u001b[0mjson_normalize\u001b[0m\u001b[0;34m(\u001b[0m\u001b[0mX\u001b[0m\u001b[0;34m[\u001b[0m\u001b[0;34m\"product_specifications\"\u001b[0m\u001b[0;34m]\u001b[0m\u001b[0;34m)\u001b[0m \u001b[0;31m# Normalize semi-structured JSON data into a flat table.\u001b[0m\u001b[0;34m\u001b[0m\u001b[0;34m\u001b[0m\u001b[0m\n\u001b[0m\u001b[1;32m     15\u001b[0m \u001b[0mdf\u001b[0m\u001b[0;34m.\u001b[0m\u001b[0mhead\u001b[0m\u001b[0;34m(\u001b[0m\u001b[0;34m)\u001b[0m\u001b[0;34m\u001b[0m\u001b[0;34m\u001b[0m\u001b[0m\n",
      "\u001b[0;32m/anaconda3/lib/python3.7/site-packages/pandas/io/json/_normalize.py\u001b[0m in \u001b[0;36m_json_normalize\u001b[0;34m(data, record_path, meta, meta_prefix, record_prefix, errors, sep, max_level)\u001b[0m\n\u001b[1;32m    268\u001b[0m \u001b[0;34m\u001b[0m\u001b[0m\n\u001b[1;32m    269\u001b[0m     \u001b[0;32mif\u001b[0m \u001b[0mrecord_path\u001b[0m \u001b[0;32mis\u001b[0m \u001b[0;32mNone\u001b[0m\u001b[0;34m:\u001b[0m\u001b[0;34m\u001b[0m\u001b[0;34m\u001b[0m\u001b[0m\n\u001b[0;32m--> 270\u001b[0;31m         \u001b[0;32mif\u001b[0m \u001b[0many\u001b[0m\u001b[0;34m(\u001b[0m\u001b[0;34m[\u001b[0m\u001b[0misinstance\u001b[0m\u001b[0;34m(\u001b[0m\u001b[0mx\u001b[0m\u001b[0;34m,\u001b[0m \u001b[0mdict\u001b[0m\u001b[0;34m)\u001b[0m \u001b[0;32mfor\u001b[0m \u001b[0mx\u001b[0m \u001b[0;32min\u001b[0m \u001b[0my\u001b[0m\u001b[0;34m.\u001b[0m\u001b[0mvalues\u001b[0m\u001b[0;34m(\u001b[0m\u001b[0;34m)\u001b[0m\u001b[0;34m]\u001b[0m \u001b[0;32mfor\u001b[0m \u001b[0my\u001b[0m \u001b[0;32min\u001b[0m \u001b[0mdata\u001b[0m\u001b[0;34m)\u001b[0m\u001b[0;34m:\u001b[0m\u001b[0;34m\u001b[0m\u001b[0;34m\u001b[0m\u001b[0m\n\u001b[0m\u001b[1;32m    271\u001b[0m             \u001b[0;31m# naive normalization, this is idempotent for flat records\u001b[0m\u001b[0;34m\u001b[0m\u001b[0;34m\u001b[0m\u001b[0;34m\u001b[0m\u001b[0m\n\u001b[1;32m    272\u001b[0m             \u001b[0;31m# and potentially will inflate the data considerably for\u001b[0m\u001b[0;34m\u001b[0m\u001b[0;34m\u001b[0m\u001b[0;34m\u001b[0m\u001b[0m\n",
      "\u001b[0;32m/anaconda3/lib/python3.7/site-packages/pandas/io/json/_normalize.py\u001b[0m in \u001b[0;36m<genexpr>\u001b[0;34m(.0)\u001b[0m\n\u001b[1;32m    268\u001b[0m \u001b[0;34m\u001b[0m\u001b[0m\n\u001b[1;32m    269\u001b[0m     \u001b[0;32mif\u001b[0m \u001b[0mrecord_path\u001b[0m \u001b[0;32mis\u001b[0m \u001b[0;32mNone\u001b[0m\u001b[0;34m:\u001b[0m\u001b[0;34m\u001b[0m\u001b[0;34m\u001b[0m\u001b[0m\n\u001b[0;32m--> 270\u001b[0;31m         \u001b[0;32mif\u001b[0m \u001b[0many\u001b[0m\u001b[0;34m(\u001b[0m\u001b[0;34m[\u001b[0m\u001b[0misinstance\u001b[0m\u001b[0;34m(\u001b[0m\u001b[0mx\u001b[0m\u001b[0;34m,\u001b[0m \u001b[0mdict\u001b[0m\u001b[0;34m)\u001b[0m \u001b[0;32mfor\u001b[0m \u001b[0mx\u001b[0m \u001b[0;32min\u001b[0m \u001b[0my\u001b[0m\u001b[0;34m.\u001b[0m\u001b[0mvalues\u001b[0m\u001b[0;34m(\u001b[0m\u001b[0;34m)\u001b[0m\u001b[0;34m]\u001b[0m \u001b[0;32mfor\u001b[0m \u001b[0my\u001b[0m \u001b[0;32min\u001b[0m \u001b[0mdata\u001b[0m\u001b[0;34m)\u001b[0m\u001b[0;34m:\u001b[0m\u001b[0;34m\u001b[0m\u001b[0;34m\u001b[0m\u001b[0m\n\u001b[0m\u001b[1;32m    271\u001b[0m             \u001b[0;31m# naive normalization, this is idempotent for flat records\u001b[0m\u001b[0;34m\u001b[0m\u001b[0;34m\u001b[0m\u001b[0;34m\u001b[0m\u001b[0m\n\u001b[1;32m    272\u001b[0m             \u001b[0;31m# and potentially will inflate the data considerably for\u001b[0m\u001b[0;34m\u001b[0m\u001b[0;34m\u001b[0m\u001b[0;34m\u001b[0m\u001b[0m\n",
      "\u001b[0;31mAttributeError\u001b[0m: 'str' object has no attribute 'values'"
     ]
    }
   ],
   "source": [
    "from ast import literal_eval # module pour évaluer une expression et renvoyer l'objet correspondant\n",
    "X = data[data.product_specifications.notna()].copy()\n",
    "X[\"product_specifications\"] = (X[\"product_specifications\"]\n",
    "                               .apply(lambda x: x.replace(\"=>\", \":\"))\n",
    "                              )\n",
    "\n",
    "try:\n",
    "    X.product_specifications.apply(literal_eval)\n",
    "except:\n",
    "    pass\n",
    "\n",
    "\n",
    "df = pd.json_normalize(X[\"product_specifications\"]) # Normalize semi-structured JSON data into a flat table.\n",
    "df.head()"
   ]
  },
  {
   "cell_type": "markdown",
   "metadata": {},
   "source": [
    "Il faudra envisager un traitement un peu plus spécifique si cette colonne est utile"
   ]
  },
  {
   "cell_type": "code",
   "execution_count": null,
   "metadata": {},
   "outputs": [],
   "source": []
  }
 ],
 "metadata": {
  "kernelspec": {
   "display_name": "Python 3",
   "language": "python",
   "name": "python3"
  },
  "language_info": {
   "codemirror_mode": {
    "name": "ipython",
    "version": 3
   },
   "file_extension": ".py",
   "mimetype": "text/x-python",
   "name": "python",
   "nbconvert_exporter": "python",
   "pygments_lexer": "ipython3",
   "version": "3.7.3"
  }
 },
 "nbformat": 4,
 "nbformat_minor": 4
}
